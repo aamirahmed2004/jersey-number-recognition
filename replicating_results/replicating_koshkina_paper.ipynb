{
  "cells": [
    {
      "cell_type": "markdown",
      "metadata": {
        "id": "kSoInbEv6fQ1"
      },
      "source": [
        "# Replicating Jersey Recognition results from [General Framework paper](https://github.com/mkoshkina/jersey-number-pipeline)"
      ]
    },
    {
      "cell_type": "markdown",
      "metadata": {
        "id": "-1J5iDRt7Qs1"
      },
      "source": [
        "This notebook was created in Google Colab, so it might be best to run it in Colab. The same steps apply if you want to run it locally, but you need to have Git and Conda installed, and make sure they are in your system Path."
      ]
    },
    {
      "cell_type": "markdown",
      "metadata": {
        "id": "fy-Lh0S0F9Mw"
      },
      "source": [
        "## Install conda"
      ]
    },
    {
      "cell_type": "code",
      "execution_count": null,
      "metadata": {
        "colab": {
          "base_uri": "https://localhost:8080/"
        },
        "id": "x_lFhEL0Flz0",
        "outputId": "6badad11-9433-46a5-ff19-76f4302e62ed"
      },
      "outputs": [
        {
          "name": "stdout",
          "output_type": "stream",
          "text": [
            "✨🍰✨ Everything looks OK!\n"
          ]
        }
      ],
      "source": [
        "%pip install -q condacolab\n",
        "import condacolab\n",
        "condacolab.install()"
      ]
    },
    {
      "cell_type": "code",
      "execution_count": null,
      "metadata": {
        "colab": {
          "base_uri": "https://localhost:8080/"
        },
        "id": "Dxq1mEjqGR3a",
        "outputId": "a6a7e74a-cd33-40c5-f5db-661595472724"
      },
      "outputs": [
        {
          "name": "stdout",
          "output_type": "stream",
          "text": [
            "conda 24.11.2\n"
          ]
        }
      ],
      "source": [
        "!conda --version"
      ]
    },
    {
      "cell_type": "markdown",
      "metadata": {
        "id": "CXY56H7AH1C3"
      },
      "source": [
        "## Clone repo and setup their models"
      ]
    },
    {
      "cell_type": "code",
      "execution_count": null,
      "metadata": {
        "collapsed": true,
        "id": "tyk0YG-wDHRZ"
      },
      "outputs": [],
      "source": [
        "!git clone https://github.com/mkoshkina/jersey-number-pipeline.git"
      ]
    },
    {
      "cell_type": "code",
      "execution_count": null,
      "metadata": {
        "id": "NRE-W2kDHZeB"
      },
      "outputs": [],
      "source": [
        "# setup.py requires this to download model weights from Google Drive links\n",
        "%pip install gdown"
      ]
    },
    {
      "cell_type": "code",
      "execution_count": null,
      "metadata": {
        "colab": {
          "base_uri": "https://localhost:8080/"
        },
        "id": "Y76jNRHkE8lx",
        "outputId": "8649c712-81e7-4ea8-9ddb-735219cce95d"
      },
      "outputs": [
        {
          "name": "stdout",
          "output_type": "stream",
          "text": [
            "/content/jersey-number-pipeline\n"
          ]
        }
      ],
      "source": [
        "%cd jersey-number-pipeline"
      ]
    },
    {
      "cell_type": "code",
      "execution_count": null,
      "metadata": {
        "id": "LTZxe27zKDxe"
      },
      "outputs": [],
      "source": [
        "# This removes line 28 which causes an error (reason: running \"conda env list\" no longer prints '*' to the console, so trying to remove it causes an error)\n",
        "!sed -i '28d' setup.py"
      ]
    },
    {
      "cell_type": "code",
      "execution_count": null,
      "metadata": {
        "colab": {
          "base_uri": "https://localhost:8080/"
        },
        "id": "8HmFvjHDECVT",
        "outputId": "565302c1-4d5c-4e28-8203-eb2a8c6e77ff"
      },
      "outputs": [
        {
          "name": "stdout",
          "output_type": "stream",
          "text": [
            "Channels:\n",
            " - conda-forge\n",
            "Platform: linux-64\n",
            "Collecting package metadata (repodata.json): - \b\b\\ \b\b| \b\b/ \b\b- \b\b\\ \b\bdone\n",
            "Solving environment: / \b\b- \b\bdone\n",
            "\n",
            "\n",
            "==> WARNING: A newer version of conda exists. <==\n",
            "    current version: 24.11.2\n",
            "    latest version: 24.11.3\n",
            "\n",
            "Please update conda by running\n",
            "\n",
            "    $ conda update -n base -c conda-forge conda\n",
            "\n",
            "\n",
            "\n",
            "## Package Plan ##\n",
            "\n",
            "  environment location: /usr/local/envs/vitpose\n",
            "\n",
            "  added / updated specs:\n",
            "    - python=3.8\n",
            "\n",
            "\n",
            "The following NEW packages will be INSTALLED:\n",
            "\n",
            "  _libgcc_mutex      conda-forge/linux-64::_libgcc_mutex-0.1-conda_forge \n",
            "  _openmp_mutex      conda-forge/linux-64::_openmp_mutex-4.5-2_gnu \n",
            "  bzip2              conda-forge/linux-64::bzip2-1.0.8-h4bc722e_7 \n",
            "  ca-certificates    conda-forge/linux-64::ca-certificates-2024.12.14-hbcca054_0 \n",
            "  ld_impl_linux-64   conda-forge/linux-64::ld_impl_linux-64-2.43-h712a8e2_2 \n",
            "  libffi             conda-forge/linux-64::libffi-3.4.2-h7f98852_5 \n",
            "  libgcc             conda-forge/linux-64::libgcc-14.2.0-h77fa898_1 \n",
            "  libgcc-ng          conda-forge/linux-64::libgcc-ng-14.2.0-h69a702a_1 \n",
            "  libgomp            conda-forge/linux-64::libgomp-14.2.0-h77fa898_1 \n",
            "  liblzma            conda-forge/linux-64::liblzma-5.6.3-hb9d3cd8_1 \n",
            "  liblzma-devel      conda-forge/linux-64::liblzma-devel-5.6.3-hb9d3cd8_1 \n",
            "  libnsl             conda-forge/linux-64::libnsl-2.0.1-hd590300_0 \n",
            "  libsqlite          conda-forge/linux-64::libsqlite-3.48.0-hee588c1_0 \n",
            "  libuuid            conda-forge/linux-64::libuuid-2.38.1-h0b41bf4_0 \n",
            "  libxcrypt          conda-forge/linux-64::libxcrypt-4.4.36-hd590300_1 \n",
            "  libzlib            conda-forge/linux-64::libzlib-1.3.1-hb9d3cd8_2 \n",
            "  ncurses            conda-forge/linux-64::ncurses-6.5-h2d0b736_2 \n",
            "  openssl            conda-forge/linux-64::openssl-3.4.0-h7b32b05_1 \n",
            "  pip                conda-forge/noarch::pip-24.3.1-pyh8b19718_0 \n",
            "  python             conda-forge/linux-64::python-3.8.20-h4a871b0_2_cpython \n",
            "  readline           conda-forge/linux-64::readline-8.2-h8228510_1 \n",
            "  setuptools         conda-forge/noarch::setuptools-75.3.0-pyhd8ed1ab_0 \n",
            "  tk                 conda-forge/linux-64::tk-8.6.13-noxft_h4845f30_101 \n",
            "  wheel              conda-forge/noarch::wheel-0.45.1-pyhd8ed1ab_0 \n",
            "  xz                 conda-forge/linux-64::xz-5.6.3-hbcc6ac9_1 \n",
            "  xz-gpl-tools       conda-forge/linux-64::xz-gpl-tools-5.6.3-hbcc6ac9_1 \n",
            "  xz-tools           conda-forge/linux-64::xz-tools-5.6.3-hb9d3cd8_1 \n",
            "\n",
            "\n",
            "\n",
            "Downloading and Extracting Packages:\n",
            "\n",
            "Preparing transaction: - \b\b\\ \b\bdone\n",
            "Verifying transaction: / \b\b- \b\b\\ \b\b| \b\b/ \b\b- \b\b\\ \b\b| \b\b/ \b\b- \b\b\\ \b\bdone\n",
            "Executing transaction: / \b\b- \b\b\\ \b\b| \b\b/ \b\b- \b\b\\ \b\b| \b\b/ \b\b- \b\b\\ \b\b| \b\b/ \b\b- \b\b\\ \b\b| \b\b/ \b\b- \b\b\\ \b\b| \b\b/ \b\b- \b\b\\ \b\b| \b\b/ \b\b- \b\bdone\n",
            "#\n",
            "# To activate this environment, use\n",
            "#\n",
            "#     $ conda activate vitpose\n",
            "#\n",
            "# To deactivate an active environment, use\n",
            "#\n",
            "#     $ conda deactivate\n",
            "\n",
            "Channels:\n",
            " - conda-forge\n",
            "Platform: linux-64\n",
            "Collecting package metadata (repodata.json): - \b\b\\ \b\b| \b\b/ \b\b- \b\b\\ \b\b| \b\bdone\n",
            "Solving environment: - \b\b\\ \b\b| \b\bdone\n",
            "\n",
            "\n",
            "==> WARNING: A newer version of conda exists. <==\n",
            "    current version: 24.11.2\n",
            "    latest version: 24.11.3\n",
            "\n",
            "Please update conda by running\n",
            "\n",
            "    $ conda update -n base -c conda-forge conda\n",
            "\n",
            "\n",
            "\n",
            "# All requested packages already installed.\n",
            "\n",
            "Looking in links: https://download.openmmlab.com/mmcv/dist/cu111/torch1.9.0/index.html\n",
            "Collecting mmcv-full==1.4.8\n",
            "  Downloading https://download.openmmlab.com/mmcv/dist/cu111/torch1.9.0/mmcv_full-1.4.8-cp38-cp38-manylinux1_x86_64.whl (44.9 MB)\n",
            "\u001b[2K     \u001b[90m━━━━━━━━━━━━━━━━━━━━━━━━━━━━━━━━━━━━━━━━\u001b[0m \u001b[32m44.9/44.9 MB\u001b[0m \u001b[31m10.6 MB/s\u001b[0m eta \u001b[36m0:00:00\u001b[0m\n",
            "\u001b[?25hCollecting addict (from mmcv-full==1.4.8)\n",
            "  Downloading addict-2.4.0-py3-none-any.whl.metadata (1.0 kB)\n",
            "Collecting numpy (from mmcv-full==1.4.8)\n",
            "  Downloading numpy-1.24.4-cp38-cp38-manylinux_2_17_x86_64.manylinux2014_x86_64.whl.metadata (5.6 kB)\n",
            "Collecting packaging (from mmcv-full==1.4.8)\n",
            "  Downloading packaging-24.2-py3-none-any.whl.metadata (3.2 kB)\n",
            "Collecting Pillow (from mmcv-full==1.4.8)\n",
            "  Downloading pillow-10.4.0-cp38-cp38-manylinux_2_28_x86_64.whl.metadata (9.2 kB)\n",
            "Collecting pyyaml (from mmcv-full==1.4.8)\n",
            "  Downloading PyYAML-6.0.2-cp38-cp38-manylinux_2_17_x86_64.manylinux2014_x86_64.whl.metadata (2.1 kB)\n",
            "Collecting yapf (from mmcv-full==1.4.8)\n",
            "  Downloading yapf-0.43.0-py3-none-any.whl.metadata (46 kB)\n",
            "Collecting opencv-python>=3 (from mmcv-full==1.4.8)\n",
            "  Downloading opencv_python-4.11.0.86-cp37-abi3-manylinux_2_17_x86_64.manylinux2014_x86_64.whl.metadata (20 kB)\n",
            "Collecting platformdirs>=3.5.1 (from yapf->mmcv-full==1.4.8)\n",
            "  Downloading platformdirs-4.3.6-py3-none-any.whl.metadata (11 kB)\n",
            "Collecting tomli>=2.0.1 (from yapf->mmcv-full==1.4.8)\n",
            "  Downloading tomli-2.2.1-py3-none-any.whl.metadata (10 kB)\n",
            "Downloading opencv_python-4.11.0.86-cp37-abi3-manylinux_2_17_x86_64.manylinux2014_x86_64.whl (63.0 MB)\n",
            "\u001b[2K   \u001b[90m━━━━━━━━━━━━━━━━━━━━━━━━━━━━━━━━━━━━━━━━\u001b[0m \u001b[32m63.0/63.0 MB\u001b[0m \u001b[31m70.6 MB/s\u001b[0m eta \u001b[36m0:00:00\u001b[0m\n",
            "\u001b[?25hDownloading numpy-1.24.4-cp38-cp38-manylinux_2_17_x86_64.manylinux2014_x86_64.whl (17.3 MB)\n",
            "\u001b[2K   \u001b[90m━━━━━━━━━━━━━━━━━━━━━━━━━━━━━━━━━━━━━━━━\u001b[0m \u001b[32m17.3/17.3 MB\u001b[0m \u001b[31m134.4 MB/s\u001b[0m eta \u001b[36m0:00:00\u001b[0m\n",
            "\u001b[?25hDownloading addict-2.4.0-py3-none-any.whl (3.8 kB)\n",
            "Downloading packaging-24.2-py3-none-any.whl (65 kB)\n",
            "Downloading pillow-10.4.0-cp38-cp38-manylinux_2_28_x86_64.whl (4.5 MB)\n",
            "\u001b[2K   \u001b[90m━━━━━━━━━━━━━━━━━━━━━━━━━━━━━━━━━━━━━━━━\u001b[0m \u001b[32m4.5/4.5 MB\u001b[0m \u001b[31m88.8 MB/s\u001b[0m eta \u001b[36m0:00:00\u001b[0m\n",
            "\u001b[?25hDownloading PyYAML-6.0.2-cp38-cp38-manylinux_2_17_x86_64.manylinux2014_x86_64.whl (746 kB)\n",
            "\u001b[2K   \u001b[90m━━━━━━━━━━━━━━━━━━━━━━━━━━━━━━━━━━━━━━━━\u001b[0m \u001b[32m746.5/746.5 kB\u001b[0m \u001b[31m41.7 MB/s\u001b[0m eta \u001b[36m0:00:00\u001b[0m\n",
            "\u001b[?25hDownloading yapf-0.43.0-py3-none-any.whl (256 kB)\n",
            "Downloading platformdirs-4.3.6-py3-none-any.whl (18 kB)\n",
            "Downloading tomli-2.2.1-py3-none-any.whl (14 kB)\n",
            "Installing collected packages: addict, tomli, pyyaml, platformdirs, Pillow, packaging, numpy, yapf, opencv-python, mmcv-full\n",
            "Successfully installed Pillow-10.4.0 addict-2.4.0 mmcv-full-1.4.8 numpy-1.24.4 opencv-python-4.11.0.86 packaging-24.2 platformdirs-4.3.6 pyyaml-6.0.2 tomli-2.2.1 yapf-0.43.0\n",
            "Using pip 24.3.1 from /usr/local/envs/vitpose/lib/python3.8/site-packages/pip (python 3.8)\n",
            "Obtaining file:///content/jersey-number-pipeline/pose/ViTPose\n",
            "  Running command python setup.py egg_info\n",
            "  running egg_info\n",
            "  creating /tmp/pip-pip-egg-info-egd50qq4/mmpose.egg-info\n",
            "  writing /tmp/pip-pip-egg-info-egd50qq4/mmpose.egg-info/PKG-INFO\n",
            "  writing dependency_links to /tmp/pip-pip-egg-info-egd50qq4/mmpose.egg-info/dependency_links.txt\n",
            "  writing requirements to /tmp/pip-pip-egg-info-egd50qq4/mmpose.egg-info/requires.txt\n",
            "  writing top-level names to /tmp/pip-pip-egg-info-egd50qq4/mmpose.egg-info/top_level.txt\n",
            "  writing manifest file '/tmp/pip-pip-egg-info-egd50qq4/mmpose.egg-info/SOURCES.txt'\n",
            "  reading manifest file '/tmp/pip-pip-egg-info-egd50qq4/mmpose.egg-info/SOURCES.txt'\n",
            "  reading manifest template 'MANIFEST.in'\n",
            "  warning: no files found matching 'mmpose/.mim/model-index.yml'\n",
            "  warning: no files found matching '*.py' under directory 'mmpose/.mim/configs'\n",
            "  warning: no files found matching '*.yml' under directory 'mmpose/.mim/configs'\n",
            "  warning: no files found matching '*.py' under directory 'mmpose/.mim/tools'\n",
            "  warning: no files found matching '*.sh' under directory 'mmpose/.mim/tools'\n",
            "  warning: no files found matching '*.py' under directory 'mmpose/.mim/demo'\n",
            "  adding license file 'LICENSE'\n",
            "  writing manifest file '/tmp/pip-pip-egg-info-egd50qq4/mmpose.egg-info/SOURCES.txt'\n",
            "  Preparing metadata (setup.py) ... \u001b[?25l\u001b[?25hdone\n",
            "Collecting chumpy (from mmpose==0.24.0)\n",
            "  Downloading chumpy-0.70.tar.gz (50 kB)\n",
            "  Running command python setup.py egg_info\n",
            "  Preparing metadata (setup.py) ... \u001b[?25l\u001b[?25hdone\n",
            "Collecting json_tricks (from mmpose==0.24.0)\n",
            "  Obtaining dependency information for json_tricks from https://files.pythonhosted.org/packages/ae/fd/e3edcf827e7f9c17c5ea1a192841dcfb1dd575a7518c25c5cadd921625b1/json_tricks-3.17.3-py2.py3-none-any.whl.metadata\n",
            "  Downloading json_tricks-3.17.3-py2.py3-none-any.whl.metadata (16 kB)\n",
            "  Link requires a different Python (3.8.20 not in: '>=3.9'): https://files.pythonhosted.org/packages/a5/f8/eff7a5529d85f64d8190818d97203ac1de65451f3c6848036bbcac4234d3/matplotlib-3.8.0rc1.tar.gz (from https://pypi.org/simple/matplotlib/) (requires-python:>=3.9)\n",
            "  Link requires a different Python (3.8.20 not in: '>=3.9'): https://files.pythonhosted.org/packages/23/e1/77016194621fb1356aafeb2186f07b5dede62ea2043bf03f82325c4fccc5/matplotlib-3.8.0.tar.gz (from https://pypi.org/simple/matplotlib/) (requires-python:>=3.9)\n",
            "  Link requires a different Python (3.8.20 not in: '>=3.9'): https://files.pythonhosted.org/packages/b4/1b/1b80fcc6b7f33a4c7fa025e944416f8b63fa8d278fad32470c82a2edf319/matplotlib-3.8.1.tar.gz (from https://pypi.org/simple/matplotlib/) (requires-python:>=3.9)\n",
            "  Link requires a different Python (3.8.20 not in: '>=3.9'): https://files.pythonhosted.org/packages/fb/ab/38a0e94cb01dacb50f06957c2bed1c83b8f9dac6618988a37b2487862944/matplotlib-3.8.2.tar.gz (from https://pypi.org/simple/matplotlib/) (requires-python:>=3.9)\n",
            "  Link requires a different Python (3.8.20 not in: '>=3.9'): https://files.pythonhosted.org/packages/9a/aa/607a121331d5323b164f1c0696016ccc9d956a256771c4d91e311a302f13/matplotlib-3.8.3.tar.gz (from https://pypi.org/simple/matplotlib/) (requires-python:>=3.9)\n",
            "  Link requires a different Python (3.8.20 not in: '>=3.9'): https://files.pythonhosted.org/packages/38/4f/8487737a74d8be4ab5fbe6019b0fae305c1604cf7209500969b879b5f462/matplotlib-3.8.4.tar.gz (from https://pypi.org/simple/matplotlib/) (requires-python:>=3.9)\n",
            "  Link requires a different Python (3.8.20 not in: '>=3.9'): https://files.pythonhosted.org/packages/6f/3b/4e1f843d10b58daf294b7f9f3b2a764f254efdf57544646e631fa3b1c8c0/matplotlib-3.9.0rc2.tar.gz (from https://pypi.org/simple/matplotlib/) (requires-python:>=3.9)\n",
            "  Link requires a different Python (3.8.20 not in: '>=3.9'): https://files.pythonhosted.org/packages/c5/a4/a7236bf8b0137deff48737c6ccf2154ef4486e57c6a5b7c309bf515992bd/matplotlib-3.9.0.tar.gz (from https://pypi.org/simple/matplotlib/) (requires-python:>=3.9)\n",
            "  Link requires a different Python (3.8.20 not in: '>=3.9'): https://files.pythonhosted.org/packages/22/06/9e8ba6ec8b716a215404a5d1938b61f5a28001be493cf35344dda9a4072a/matplotlib-3.9.1.tar.gz (from https://pypi.org/simple/matplotlib/) (requires-python:>=3.9)\n",
            "  Link requires a different Python (3.8.20 not in: '>=3.9'): https://files.pythonhosted.org/packages/27/c3/b4dbf9ed2a024a5514fa8a2606867a3716c9adfd457d138865145a940a65/matplotlib-3.9.1.post1.tar.gz (from https://pypi.org/simple/matplotlib/) (requires-python:>=3.9)\n",
            "  Link requires a different Python (3.8.20 not in: '>=3.9'): https://files.pythonhosted.org/packages/9e/d8/3d7f706c69e024d4287c1110d74f7dabac91d9843b99eadc90de9efc8869/matplotlib-3.9.2.tar.gz (from https://pypi.org/simple/matplotlib/) (requires-python:>=3.9)\n",
            "  Link requires a different Python (3.8.20 not in: '>=3.9'): https://files.pythonhosted.org/packages/75/9f/562ed484b11ac9f4bb4f9d2d7546954ec106a8c0f06cc755d6f63e519274/matplotlib-3.9.3.tar.gz (from https://pypi.org/simple/matplotlib/) (requires-python:>=3.9)\n",
            "  Link requires a different Python (3.8.20 not in: '>=3.9'): https://files.pythonhosted.org/packages/df/17/1747b4154034befd0ed33b52538f5eb7752d05bb51c5e2a31470c3bc7d52/matplotlib-3.9.4.tar.gz (from https://pypi.org/simple/matplotlib/) (requires-python:>=3.9)\n",
            "  Link requires a different Python (3.8.20 not in: '>=3.10'): https://files.pythonhosted.org/packages/3a/e3/40af35a017737e27ff3a52c2efdd55e750fd8d881729cf3ffa9d1dd3936d/matplotlib-3.10.0rc1.tar.gz (from https://pypi.org/simple/matplotlib/) (requires-python:>=3.10)\n",
            "  Link requires a different Python (3.8.20 not in: '>=3.10'): https://files.pythonhosted.org/packages/68/dd/fa2e1a45fce2d09f4aea3cee169760e672c8262325aa5796c49d543dc7e6/matplotlib-3.10.0.tar.gz (from https://pypi.org/simple/matplotlib/) (requires-python:>=3.10)\n",
            "Collecting matplotlib (from mmpose==0.24.0)\n",
            "  Obtaining dependency information for matplotlib from https://files.pythonhosted.org/packages/30/33/cc27211d2ffeee4fd7402dca137b6e8a83f6dcae3d4be8d0ad5068555561/matplotlib-3.7.5-cp38-cp38-manylinux_2_12_x86_64.manylinux2010_x86_64.whl.metadata\n",
            "  Downloading matplotlib-3.7.5-cp38-cp38-manylinux_2_12_x86_64.manylinux2010_x86_64.whl.metadata (5.7 kB)\n",
            "Collecting munkres (from mmpose==0.24.0)\n",
            "  Obtaining dependency information for munkres from https://files.pythonhosted.org/packages/90/ab/0301c945a704218bc9435f0e3c88884f6b19ef234d8899fb47ce1ccfd0c9/munkres-1.1.4-py2.py3-none-any.whl.metadata\n",
            "  Downloading munkres-1.1.4-py2.py3-none-any.whl.metadata (980 bytes)\n",
            "Requirement already satisfied: numpy in /usr/local/envs/vitpose/lib/python3.8/site-packages (from mmpose==0.24.0) (1.24.4)\n",
            "Requirement already satisfied: opencv-python in /usr/local/envs/vitpose/lib/python3.8/site-packages (from mmpose==0.24.0) (4.11.0.86)\n",
            "Requirement already satisfied: pillow in /usr/local/envs/vitpose/lib/python3.8/site-packages (from mmpose==0.24.0) (10.4.0)\n",
            "  Link requires a different Python (3.8.20 not in: '<3.13,>=3.9'): https://files.pythonhosted.org/packages/8c/95/61cf1d8453b2de242991b5371b31d51d53dde38dc99b9b43c0d2b1933fac/scipy-1.11.0rc1.tar.gz (from https://pypi.org/simple/scipy/) (requires-python:<3.13,>=3.9)\n",
            "  Link requires a different Python (3.8.20 not in: '<3.13,>=3.9'): https://files.pythonhosted.org/packages/8a/56/d9cc5fa64b8083d495bf1db0a2b10923acda3a105eca7f28765f47564be0/scipy-1.11.0rc2.tar.gz (from https://pypi.org/simple/scipy/) (requires-python:<3.13,>=3.9)\n",
            "  Link requires a different Python (3.8.20 not in: '<3.13,>=3.9'): https://files.pythonhosted.org/packages/fa/d0/724c8204f87b6f807e3e67de32b8b4922d579154a448ce94e89129064bf1/scipy-1.11.0.tar.gz (from https://pypi.org/simple/scipy/) (requires-python:<3.13,>=3.9)\n",
            "  Link requires a different Python (3.8.20 not in: '<3.13,>=3.9'): https://files.pythonhosted.org/packages/a6/98/fceb84466a74b8fe74ce2dcc3a0a89cb7b4a689d4775e0fb4c95f335ef6a/scipy-1.11.1.tar.gz (from https://pypi.org/simple/scipy/) (requires-python:<3.13,>=3.9)\n",
            "  Link requires a different Python (3.8.20 not in: '<3.13,>=3.9'): https://files.pythonhosted.org/packages/9c/ef/87a5565907645998d7c62e76b84b0ca9f0b7c25cd433f5617a968051cec3/scipy-1.11.2.tar.gz (from https://pypi.org/simple/scipy/) (requires-python:<3.13,>=3.9)\n",
            "  Link requires a different Python (3.8.20 not in: '<3.13,>=3.9'): https://files.pythonhosted.org/packages/39/7b/9f265b7f074195392e893a5cdc66116c2f7a31fd5f3d9cceff661ec6df82/scipy-1.11.3.tar.gz (from https://pypi.org/simple/scipy/) (requires-python:<3.13,>=3.9)\n",
            "  Link requires a different Python (3.8.20 not in: '>=3.9'): https://files.pythonhosted.org/packages/6e/1f/91144ba78dccea567a6466262922786ffc97be1e9b06ed9574ef0edc11e1/scipy-1.11.4.tar.gz (from https://pypi.org/simple/scipy/) (requires-python:>=3.9)\n",
            "  Link requires a different Python (3.8.20 not in: '>=3.9'): https://files.pythonhosted.org/packages/ac/e5/412d60f68841286c7c11a3790dc83545647b618e7ed006bc3630667d2a8f/scipy-1.12.0rc1.tar.gz (from https://pypi.org/simple/scipy/) (requires-python:>=3.9)\n",
            "  Link requires a different Python (3.8.20 not in: '>=3.9'): https://files.pythonhosted.org/packages/fd/3b/69060d528565fd558442fcaf8aab745a264b3153f74d7b3f13461eefc947/scipy-1.12.0rc2.tar.gz (from https://pypi.org/simple/scipy/) (requires-python:>=3.9)\n",
            "  Link requires a different Python (3.8.20 not in: '>=3.9'): https://files.pythonhosted.org/packages/30/85/cdbf2c3c460fe5aae812917866392068a88d02f07de0fe31ce738734c477/scipy-1.12.0.tar.gz (from https://pypi.org/simple/scipy/) (requires-python:>=3.9)\n",
            "  Link requires a different Python (3.8.20 not in: '>=3.9'): https://files.pythonhosted.org/packages/dc/23/9948855f3227e8327713a103df97a32dc0109aada23e0fe3df3429ea2e55/scipy-1.13.0rc1.tar.gz (from https://pypi.org/simple/scipy/) (requires-python:>=3.9)\n",
            "  Link requires a different Python (3.8.20 not in: '>=3.9'): https://files.pythonhosted.org/packages/fb/a3/328965862f41ba67d27ddd26205962007ec87d99eec6d364a29bf00ac093/scipy-1.13.0.tar.gz (from https://pypi.org/simple/scipy/) (requires-python:>=3.9)\n",
            "  Link requires a different Python (3.8.20 not in: '>=3.9'): https://files.pythonhosted.org/packages/ae/00/48c2f661e2816ccf2ecd77982f6605b2950afe60f60a52b4cbbc2504aa8f/scipy-1.13.1.tar.gz (from https://pypi.org/simple/scipy/) (requires-python:>=3.9)\n",
            "  Link requires a different Python (3.8.20 not in: '>=3.10'): https://files.pythonhosted.org/packages/a1/ee/e1023e41c2c9f9ac7b9d2bafd445b6036d2a2226000028c8c3202eee5234/scipy-1.14.0rc1.tar.gz (from https://pypi.org/simple/scipy/) (requires-python:>=3.10)\n",
            "  Link requires a different Python (3.8.20 not in: '>=3.10'): https://files.pythonhosted.org/packages/50/91/62f158448035e9a6e6df9eb472307e5ce207d30e99eac6dc7bebefd83a48/scipy-1.14.0rc2.tar.gz (from https://pypi.org/simple/scipy/) (requires-python:>=3.10)\n",
            "  Link requires a different Python (3.8.20 not in: '>=3.10'): https://files.pythonhosted.org/packages/4e/e5/0230da034a2e1b1feb32621d7cd57c59484091d6dccc9e6b855b0d309fc9/scipy-1.14.0.tar.gz (from https://pypi.org/simple/scipy/) (requires-python:>=3.10)\n",
            "  Link requires a different Python (3.8.20 not in: '>=3.10'): https://files.pythonhosted.org/packages/62/11/4d44a1f274e002784e4dbdb81e0ea96d2de2d1045b2132d5af62cc31fd28/scipy-1.14.1.tar.gz (from https://pypi.org/simple/scipy/) (requires-python:>=3.10)\n",
            "  Link requires a different Python (3.8.20 not in: '>=3.10'): https://files.pythonhosted.org/packages/50/46/fe57b2229fda1eefe4e49384b47dd0a6a13f7246818241d0c35b44fe738f/scipy-1.15.0rc1.tar.gz (from https://pypi.org/simple/scipy/) (requires-python:>=3.10)\n",
            "  Link requires a different Python (3.8.20 not in: '>=3.10'): https://files.pythonhosted.org/packages/34/16/1f30b82795da21995dc4e38248b07162c21e4512644c981d980f79f363f4/scipy-1.15.0rc2.tar.gz (from https://pypi.org/simple/scipy/) (requires-python:>=3.10)\n",
            "  Link requires a different Python (3.8.20 not in: '>=3.10'): https://files.pythonhosted.org/packages/d9/7b/2b8ac283cf32465ed08bc20a83d559fe7b174a484781702ba8accea001d6/scipy-1.15.0.tar.gz (from https://pypi.org/simple/scipy/) (requires-python:>=3.10)\n",
            "  Link requires a different Python (3.8.20 not in: '>=3.10'): https://files.pythonhosted.org/packages/76/c6/8eb0654ba0c7d0bb1bf67bf8fbace101a8e4f250f7722371105e8b6f68fc/scipy-1.15.1.tar.gz (from https://pypi.org/simple/scipy/) (requires-python:>=3.10)\n",
            "Collecting scipy (from mmpose==0.24.0)\n",
            "  Obtaining dependency information for scipy from https://files.pythonhosted.org/packages/69/f0/fb07a9548e48b687b8bf2fa81d71aba9cfc548d365046ca1c791e24db99d/scipy-1.10.1-cp38-cp38-manylinux_2_17_x86_64.manylinux2014_x86_64.whl.metadata\n",
            "  Downloading scipy-1.10.1-cp38-cp38-manylinux_2_17_x86_64.manylinux2014_x86_64.whl.metadata (58 kB)\n",
            "Collecting torchvision (from mmpose==0.24.0)\n",
            "  Obtaining dependency information for torchvision from https://files.pythonhosted.org/packages/ed/15/74800e103ea652bef9fc572661b74a081e2194700f0f5f4f184918218af6/torchvision-0.19.1-cp38-cp38-manylinux1_x86_64.whl.metadata\n",
            "  Downloading torchvision-0.19.1-cp38-cp38-manylinux1_x86_64.whl.metadata (6.0 kB)\n",
            "Collecting xtcocotools>=1.8 (from mmpose==0.24.0)\n",
            "  Obtaining dependency information for xtcocotools>=1.8 from https://files.pythonhosted.org/packages/13/30/5c1f856c300efbdc4fd377357001007fbd72662e8cf6f428531c533e92c4/xtcocotools-1.14.3-cp38-cp38-manylinux1_x86_64.whl.metadata\n",
            "  Downloading xtcocotools-1.14.3-cp38-cp38-manylinux1_x86_64.whl.metadata (364 bytes)\n",
            "Requirement already satisfied: setuptools>=18.0 in /usr/local/envs/vitpose/lib/python3.8/site-packages (from xtcocotools>=1.8->mmpose==0.24.0) (75.3.0)\n",
            "Collecting cython>=0.27.3 (from xtcocotools>=1.8->mmpose==0.24.0)\n",
            "  Obtaining dependency information for cython>=0.27.3 from https://files.pythonhosted.org/packages/b2/52/eda119f98071ccde04a9a1c9c9a18fd6def025651c9d0cd01ad51d0dba36/Cython-3.0.11-cp38-cp38-manylinux_2_17_x86_64.manylinux2014_x86_64.whl.metadata\n",
            "  Downloading Cython-3.0.11-cp38-cp38-manylinux_2_17_x86_64.manylinux2014_x86_64.whl.metadata (3.2 kB)\n",
            "  Link requires a different Python (3.8.20 not in: '>=3.9'): https://files.pythonhosted.org/packages/11/a3/48ddc7ae832b000952cf4be64452381d150a41a2299c2eb19237168528d1/contourpy-1.2.0.tar.gz (from https://pypi.org/simple/contourpy/) (requires-python:>=3.9)\n",
            "  Link requires a different Python (3.8.20 not in: '>=3.9'): https://files.pythonhosted.org/packages/48/23/490651467c3b52051fbbf87797c0875d657387be2d03536e37f0176a7771/contourpy-1.2.1rc1.tar.gz (from https://pypi.org/simple/contourpy/) (requires-python:>=3.9)\n",
            "  Link requires a different Python (3.8.20 not in: '>=3.9'): https://files.pythonhosted.org/packages/8d/9e/e4786569b319847ffd98a8326802d5cf8a5500860dbfc2df1f0f4883ed99/contourpy-1.2.1.tar.gz (from https://pypi.org/simple/contourpy/) (requires-python:>=3.9)\n",
            "  Link requires a different Python (3.8.20 not in: '>=3.9'): https://files.pythonhosted.org/packages/f5/f6/31a8f28b4a2a4fa0e01085e542f3081ab0588eff8e589d39d775172c9792/contourpy-1.3.0.tar.gz (from https://pypi.org/simple/contourpy/) (requires-python:>=3.9)\n",
            "  Link requires a different Python (3.8.20 not in: '>=3.10'): https://files.pythonhosted.org/packages/25/c2/fc7193cc5383637ff390a712e88e4ded0452c9fbcf84abe3de5ea3df1866/contourpy-1.3.1.tar.gz (from https://pypi.org/simple/contourpy/) (requires-python:>=3.10)\n",
            "Collecting contourpy>=1.0.1 (from matplotlib->mmpose==0.24.0)\n",
            "  Obtaining dependency information for contourpy>=1.0.1 from https://files.pythonhosted.org/packages/8e/71/7f20855592cc929bc206810432b991ec4c702dc26b0567b132e52c85536f/contourpy-1.1.1-cp38-cp38-manylinux_2_17_x86_64.manylinux2014_x86_64.whl.metadata\n",
            "  Downloading contourpy-1.1.1-cp38-cp38-manylinux_2_17_x86_64.manylinux2014_x86_64.whl.metadata (5.9 kB)\n",
            "Collecting cycler>=0.10 (from matplotlib->mmpose==0.24.0)\n",
            "  Obtaining dependency information for cycler>=0.10 from https://files.pythonhosted.org/packages/e7/05/c19819d5e3d95294a6f5947fb9b9629efb316b96de511b418c53d245aae6/cycler-0.12.1-py3-none-any.whl.metadata\n",
            "  Using cached cycler-0.12.1-py3-none-any.whl.metadata (3.8 kB)\n",
            "Collecting fonttools>=4.22.0 (from matplotlib->mmpose==0.24.0)\n",
            "  Obtaining dependency information for fonttools>=4.22.0 from https://files.pythonhosted.org/packages/6f/96/9ac06f31b90c82f01b164f4eac793f740866f3afd0c7765f17bac4236732/fonttools-4.55.4-cp38-cp38-manylinux_2_17_x86_64.manylinux2014_x86_64.whl.metadata\n",
            "  Downloading fonttools-4.55.4-cp38-cp38-manylinux_2_17_x86_64.manylinux2014_x86_64.whl.metadata (165 kB)\n",
            "  Link requires a different Python (3.8.20 not in: '>=3.10'): https://files.pythonhosted.org/packages/82/59/7c91426a8ac292e1cdd53a63b6d9439abd573c875c3f92c146767dd33faf/kiwisolver-1.4.8.tar.gz (from https://pypi.org/simple/kiwisolver/) (requires-python:>=3.10)\n",
            "Collecting kiwisolver>=1.0.1 (from matplotlib->mmpose==0.24.0)\n",
            "  Obtaining dependency information for kiwisolver>=1.0.1 from https://files.pythonhosted.org/packages/76/36/ae40d7a3171e06f55ac77fe5536079e7be1d8be2a8210e08975c7f9b4d54/kiwisolver-1.4.7-cp38-cp38-manylinux_2_5_x86_64.manylinux1_x86_64.whl.metadata\n",
            "  Downloading kiwisolver-1.4.7-cp38-cp38-manylinux_2_5_x86_64.manylinux1_x86_64.whl.metadata (6.3 kB)\n",
            "Requirement already satisfied: packaging>=20.0 in /usr/local/envs/vitpose/lib/python3.8/site-packages (from matplotlib->mmpose==0.24.0) (24.2)\n",
            "  Link requires a different Python (3.8.20 not in: '>=3.9'): https://files.pythonhosted.org/packages/91/d4/d676a4c124bd8ec27800ff563996866009624ad6411a664c4043b5dd09f3/pyparsing-3.2.0b1-py3-none-any.whl (from https://pypi.org/simple/pyparsing/) (requires-python:>=3.9)\n",
            "  Link requires a different Python (3.8.20 not in: '>=3.9'): https://files.pythonhosted.org/packages/58/63/fca0e7209a31124e4679a2c78a3313490b93d7f1a030b22825ba1dd633db/pyparsing-3.2.0b1.tar.gz (from https://pypi.org/simple/pyparsing/) (requires-python:>=3.9)\n",
            "  Link requires a different Python (3.8.20 not in: '>=3.9'): https://files.pythonhosted.org/packages/0a/08/39c2a707cb30d8fd50ffdc36a998a7b1d5137c9d31ac2e6b39b5ed08dd75/pyparsing-3.2.0b2-py3-none-any.whl (from https://pypi.org/simple/pyparsing/) (requires-python:>=3.9)\n",
            "  Link requires a different Python (3.8.20 not in: '>=3.9'): https://files.pythonhosted.org/packages/a6/da/f0b8f9d6655cf9859e5bf31b0d63e5fa2722e4d8d9372245721e0d62930f/pyparsing-3.2.0b2.tar.gz (from https://pypi.org/simple/pyparsing/) (requires-python:>=3.9)\n",
            "  Link requires a different Python (3.8.20 not in: '>=3.9'): https://files.pythonhosted.org/packages/d8/67/d57ec8b23586df322a32d89194c2c05ee42cc2be9ff2b69ec7f5d7111436/pyparsing-3.2.0b3-py3-none-any.whl (from https://pypi.org/simple/pyparsing/) (requires-python:>=3.9)\n",
            "  Link requires a different Python (3.8.20 not in: '>=3.9'): https://files.pythonhosted.org/packages/e8/4a/ae3a9aafbcecdf5d1531f2477c1fea5b09edfbff2db939f736299cd782d4/pyparsing-3.2.0b3.tar.gz (from https://pypi.org/simple/pyparsing/) (requires-python:>=3.9)\n",
            "  Link requires a different Python (3.8.20 not in: '>=3.9'): https://files.pythonhosted.org/packages/5a/65/e4f1bc30f726edc940430500682623baef00cd67fdd5778c4adc727ebffa/pyparsing-3.2.0rc1-py3-none-any.whl (from https://pypi.org/simple/pyparsing/) (requires-python:>=3.9)\n",
            "  Link requires a different Python (3.8.20 not in: '>=3.9'): https://files.pythonhosted.org/packages/a4/f7/c282e48280f8818a82d2f3f465b23afdf77b7180ddaaaaa5028e2cb9011b/pyparsing-3.2.0rc1.tar.gz (from https://pypi.org/simple/pyparsing/) (requires-python:>=3.9)\n",
            "  Link requires a different Python (3.8.20 not in: '>=3.9'): https://files.pythonhosted.org/packages/be/ec/2eb3cd785efd67806c46c13a17339708ddc346cbb684eade7a6e6f79536a/pyparsing-3.2.0-py3-none-any.whl (from https://pypi.org/simple/pyparsing/) (requires-python:>=3.9)\n",
            "  Link requires a different Python (3.8.20 not in: '>=3.9'): https://files.pythonhosted.org/packages/8c/d5/e5aeee5387091148a19e1145f63606619cb5f20b83fccb63efae6474e7b2/pyparsing-3.2.0.tar.gz (from https://pypi.org/simple/pyparsing/) (requires-python:>=3.9)\n",
            "  Link requires a different Python (3.8.20 not in: '>=3.9'): https://files.pythonhosted.org/packages/1c/a7/c8a2d361bf89c0d9577c934ebb7421b25dc84bf3a8e3ac0a40aed9acc547/pyparsing-3.2.1-py3-none-any.whl (from https://pypi.org/simple/pyparsing/) (requires-python:>=3.9)\n",
            "  Link requires a different Python (3.8.20 not in: '>=3.9'): https://files.pythonhosted.org/packages/8b/1a/3544f4f299a47911c2ab3710f534e52fea62a633c96806995da5d25be4b2/pyparsing-3.2.1.tar.gz (from https://pypi.org/simple/pyparsing/) (requires-python:>=3.9)\n",
            "Collecting pyparsing>=2.3.1 (from matplotlib->mmpose==0.24.0)\n",
            "  Obtaining dependency information for pyparsing>=2.3.1 from https://files.pythonhosted.org/packages/e5/0c/0e3c05b1c87bb6a1c76d281b0f35e78d2d80ac91b5f8f524cebf77f51049/pyparsing-3.1.4-py3-none-any.whl.metadata\n",
            "  Downloading pyparsing-3.1.4-py3-none-any.whl.metadata (5.1 kB)\n",
            "Collecting python-dateutil>=2.7 (from matplotlib->mmpose==0.24.0)\n",
            "  Obtaining dependency information for python-dateutil>=2.7 from https://files.pythonhosted.org/packages/ec/57/56b9bcc3c9c6a792fcbaf139543cee77261f3651ca9da0c93f5c1221264b/python_dateutil-2.9.0.post0-py2.py3-none-any.whl.metadata\n",
            "  Using cached python_dateutil-2.9.0.post0-py2.py3-none-any.whl.metadata (8.4 kB)\n",
            "  Link requires a different Python (3.8.20 not in: '>=3.9'): https://files.pythonhosted.org/packages/13/0d/08d523ab5b9a0d6cd5d157019d8cca7c6ea40444f08be461cb959561cef6/importlib_resources-6.5.0-py3-none-any.whl (from https://pypi.org/simple/importlib-resources/) (requires-python:>=3.9)\n",
            "  Link requires a different Python (3.8.20 not in: '>=3.9'): https://files.pythonhosted.org/packages/90/17/f0adf2fda7f289c2a6c0e7d66ab01a47de8f85f91b8c13b533ce74fe7fbc/importlib_resources-6.5.0.tar.gz (from https://pypi.org/simple/importlib-resources/) (requires-python:>=3.9)\n",
            "  Link requires a different Python (3.8.20 not in: '>=3.9'): https://files.pythonhosted.org/packages/7e/11/47845fb8497ecf2c2c25766eadbd432e72a572cf5ae07062e40b0f23d3f3/importlib_resources-6.5.1-py3-none-any.whl (from https://pypi.org/simple/importlib-resources/) (requires-python:>=3.9)\n",
            "  Link requires a different Python (3.8.20 not in: '>=3.9'): https://files.pythonhosted.org/packages/d0/06/e6d5465162bbb9addbc350304156a2324b06adf949e663b16a295241285f/importlib_resources-6.5.1.tar.gz (from https://pypi.org/simple/importlib-resources/) (requires-python:>=3.9)\n",
            "  Link requires a different Python (3.8.20 not in: '>=3.9'): https://files.pythonhosted.org/packages/a4/ed/1f1afb2e9e7f38a545d628f864d562a5ae64fe6f7a10e28ffb9b185b4e89/importlib_resources-6.5.2-py3-none-any.whl (from https://pypi.org/simple/importlib-resources/) (requires-python:>=3.9)\n",
            "  Link requires a different Python (3.8.20 not in: '>=3.9'): https://files.pythonhosted.org/packages/cf/8c/f834fbf984f691b4f7ff60f50b514cc3de5cc08abfc3295564dd89c5e2e7/importlib_resources-6.5.2.tar.gz (from https://pypi.org/simple/importlib-resources/) (requires-python:>=3.9)\n",
            "Collecting importlib-resources>=3.2.0 (from matplotlib->mmpose==0.24.0)\n",
            "  Obtaining dependency information for importlib-resources>=3.2.0 from https://files.pythonhosted.org/packages/e1/6a/4604f9ae2fa62ef47b9de2fa5ad599589d28c9fd1d335f32759813dfa91e/importlib_resources-6.4.5-py3-none-any.whl.metadata\n",
            "  Downloading importlib_resources-6.4.5-py3-none-any.whl.metadata (4.0 kB)\n",
            "Collecting six>=1.11.0 (from chumpy->mmpose==0.24.0)\n",
            "  Obtaining dependency information for six>=1.11.0 from https://files.pythonhosted.org/packages/b7/ce/149a00dd41f10bc29e5921b496af8b574d8413afcd5e30dfa0ed46c2cc5e/six-1.17.0-py2.py3-none-any.whl.metadata\n",
            "  Using cached six-1.17.0-py2.py3-none-any.whl.metadata (1.7 kB)\n",
            "Collecting torch==2.4.1 (from torchvision->mmpose==0.24.0)\n",
            "  Obtaining dependency information for torch==2.4.1 from https://files.pythonhosted.org/packages/a9/71/45aac46b75742e08d2d6f9fc2b612223b5e36115b8b2ed673b23c21b5387/torch-2.4.1-cp38-cp38-manylinux1_x86_64.whl.metadata\n",
            "  Downloading torch-2.4.1-cp38-cp38-manylinux1_x86_64.whl.metadata (26 kB)\n",
            "  Link requires a different Python (3.8.20 not in: '>=3.9'): https://files.pythonhosted.org/packages/89/ec/00d68c4ddfedfe64159999e5f8a98fb8442729a63e2077eb9dcd89623d27/filelock-3.17.0-py3-none-any.whl (from https://pypi.org/simple/filelock/) (requires-python:>=3.9)\n",
            "  Link requires a different Python (3.8.20 not in: '>=3.9'): https://files.pythonhosted.org/packages/dc/9c/0b15fb47b464e1b663b1acd1253a062aa5feecb07d4e597daea542ebd2b5/filelock-3.17.0.tar.gz (from https://pypi.org/simple/filelock/) (requires-python:>=3.9)\n",
            "Collecting filelock (from torch==2.4.1->torchvision->mmpose==0.24.0)\n",
            "  Obtaining dependency information for filelock from https://files.pythonhosted.org/packages/b9/f8/feced7779d755758a52d1f6635d990b8d98dc0a29fa568bbe0625f18fdf3/filelock-3.16.1-py3-none-any.whl.metadata\n",
            "  Downloading filelock-3.16.1-py3-none-any.whl.metadata (2.9 kB)\n",
            "Collecting typing-extensions>=4.8.0 (from torch==2.4.1->torchvision->mmpose==0.24.0)\n",
            "  Obtaining dependency information for typing-extensions>=4.8.0 from https://files.pythonhosted.org/packages/26/9f/ad63fc0248c5379346306f8668cda6e2e2e9c95e01216d2b8ffd9ff037d0/typing_extensions-4.12.2-py3-none-any.whl.metadata\n",
            "  Using cached typing_extensions-4.12.2-py3-none-any.whl.metadata (3.0 kB)\n",
            "Collecting sympy (from torch==2.4.1->torchvision->mmpose==0.24.0)\n",
            "  Obtaining dependency information for sympy from https://files.pythonhosted.org/packages/99/ff/c87e0622b1dadea79d2fb0b25ade9ed98954c9033722eb707053d310d4f3/sympy-1.13.3-py3-none-any.whl.metadata\n",
            "  Downloading sympy-1.13.3-py3-none-any.whl.metadata (12 kB)\n",
            "  Link requires a different Python (3.8.20 not in: '>=3.9'): https://files.pythonhosted.org/packages/49/38/8433925423d52727d286e1e7d6a234e8f2f084cf84a1942b122231c6ef76/networkx-3.2rc0-py3-none-any.whl (from https://pypi.org/simple/networkx/) (requires-python:>=3.9)\n",
            "  Link requires a different Python (3.8.20 not in: '>=3.9'): https://files.pythonhosted.org/packages/f1/94/5e42e01e816a797801348b773f045e1d7650a104d44f89a39430188fa105/networkx-3.2rc0.tar.gz (from https://pypi.org/simple/networkx/) (requires-python:>=3.9)\n",
            "  Link requires a different Python (3.8.20 not in: '>=3.9'): https://files.pythonhosted.org/packages/f6/eb/5585c96636bbb2755865c31d83a19dd220ef88e716df4659dacb86e009cc/networkx-3.2-py3-none-any.whl (from https://pypi.org/simple/networkx/) (requires-python:>=3.9)\n",
            "  Link requires a different Python (3.8.20 not in: '>=3.9'): https://files.pythonhosted.org/packages/86/36/f9367f30c63a9e10f387783dc18b2e0454dc9debb25151b7a6d592590375/networkx-3.2.tar.gz (from https://pypi.org/simple/networkx/) (requires-python:>=3.9)\n",
            "  Link requires a different Python (3.8.20 not in: '>=3.9'): https://files.pythonhosted.org/packages/d5/f0/8fbc882ca80cf077f1b246c0e3c3465f7f415439bdea6b899f6b19f61f70/networkx-3.2.1-py3-none-any.whl (from https://pypi.org/simple/networkx/) (requires-python:>=3.9)\n",
            "  Link requires a different Python (3.8.20 not in: '>=3.9'): https://files.pythonhosted.org/packages/c4/80/a84676339aaae2f1cfdf9f418701dd634aef9cc76f708ef55c36ff39c3ca/networkx-3.2.1.tar.gz (from https://pypi.org/simple/networkx/) (requires-python:>=3.9)\n",
            "  Link requires a different Python (3.8.20 not in: '>=3.10'): https://files.pythonhosted.org/packages/35/2f/af61ca2d0a6679fda4066f8b22812aa8c6ac16abfacb59e337cf4c9abfe3/networkx-3.3rc0-py3-none-any.whl (from https://pypi.org/simple/networkx/) (requires-python:>=3.10)\n",
            "  Link requires a different Python (3.8.20 not in: '>=3.10'): https://files.pythonhosted.org/packages/d5/e1/104908a8059dd88fb7338a7fc05d3a513491384abcc188ffb507b2e53f92/networkx-3.3rc0.tar.gz (from https://pypi.org/simple/networkx/) (requires-python:>=3.10)\n",
            "  Link requires a different Python (3.8.20 not in: '>=3.10'): https://files.pythonhosted.org/packages/38/e9/5f72929373e1a0e8d142a130f3f97e6ff920070f87f91c4e13e40e0fba5a/networkx-3.3-py3-none-any.whl (from https://pypi.org/simple/networkx/) (requires-python:>=3.10)\n",
            "  Link requires a different Python (3.8.20 not in: '>=3.10'): https://files.pythonhosted.org/packages/04/e6/b164f94c869d6b2c605b5128b7b0cfe912795a87fc90e78533920001f3ec/networkx-3.3.tar.gz (from https://pypi.org/simple/networkx/) (requires-python:>=3.10)\n",
            "  Link requires a different Python (3.8.20 not in: '>=3.10'): https://files.pythonhosted.org/packages/39/d5/1b381a4413a89801866bc78cca4620e0cf8712c552ddca10feb6516c45b2/networkx-3.4rc0-py3-none-any.whl (from https://pypi.org/simple/networkx/) (requires-python:>=3.10)\n",
            "  Link requires a different Python (3.8.20 not in: '>=3.10'): https://files.pythonhosted.org/packages/e2/3b/0e2d8974b340fee65c0d64cfab53bd43a85854d471edfb2a6a821970956e/networkx-3.4rc0.tar.gz (from https://pypi.org/simple/networkx/) (requires-python:>=3.10)\n",
            "  Link requires a different Python (3.8.20 not in: '>=3.10'): https://files.pythonhosted.org/packages/fd/81/fc591ae6a55b34bcffde396fc29769095148711ae19b9932e139442c8a37/networkx-3.4-py3-none-any.whl (from https://pypi.org/simple/networkx/) (requires-python:>=3.10)\n",
            "  Link requires a different Python (3.8.20 not in: '>=3.10'): https://files.pythonhosted.org/packages/04/e7/2861289b4545178e2de30789c2ac9c260e334d3555837a959225e6909b86/networkx-3.4.tar.gz (from https://pypi.org/simple/networkx/) (requires-python:>=3.10)\n",
            "  Link requires a different Python (3.8.20 not in: '>=3.10'): https://files.pythonhosted.org/packages/8b/4e/bf7a4ccc11ded738efd0bda39296c7cee3617e800f890f919de5c0fe00c8/networkx-3.4.1-py3-none-any.whl (from https://pypi.org/simple/networkx/) (requires-python:>=3.10)\n",
            "  Link requires a different Python (3.8.20 not in: '>=3.10'): https://files.pythonhosted.org/packages/36/2b/20ad9eecdda3f1b0dc63fb8f82d2ea99163dbca08bfa392594fc2ed81869/networkx-3.4.1.tar.gz (from https://pypi.org/simple/networkx/) (requires-python:>=3.10)\n",
            "  Link requires a different Python (3.8.20 not in: '>=3.10'): https://files.pythonhosted.org/packages/b9/54/dd730b32ea14ea797530a4479b2ed46a6fb250f682a9cfb997e968bf0261/networkx-3.4.2-py3-none-any.whl (from https://pypi.org/simple/networkx/) (requires-python:>=3.10)\n",
            "  Link requires a different Python (3.8.20 not in: '>=3.10'): https://files.pythonhosted.org/packages/fd/1d/06475e1cd5264c0b870ea2cc6fdb3e37177c1e565c43f56ff17a10e3937f/networkx-3.4.2.tar.gz (from https://pypi.org/simple/networkx/) (requires-python:>=3.10)\n",
            "Collecting networkx (from torch==2.4.1->torchvision->mmpose==0.24.0)\n",
            "  Obtaining dependency information for networkx from https://files.pythonhosted.org/packages/a8/05/9d4f9b78ead6b2661d6e8ea772e111fc4a9fbd866ad0c81906c11206b55e/networkx-3.1-py3-none-any.whl.metadata\n",
            "  Downloading networkx-3.1-py3-none-any.whl.metadata (5.3 kB)\n",
            "Collecting jinja2 (from torch==2.4.1->torchvision->mmpose==0.24.0)\n",
            "  Obtaining dependency information for jinja2 from https://files.pythonhosted.org/packages/bd/0f/2ba5fbcd631e3e88689309dbe978c5769e883e4b84ebfe7da30b43275c5a/jinja2-3.1.5-py3-none-any.whl.metadata\n",
            "  Downloading jinja2-3.1.5-py3-none-any.whl.metadata (2.6 kB)\n",
            "Collecting fsspec (from torch==2.4.1->torchvision->mmpose==0.24.0)\n",
            "  Obtaining dependency information for fsspec from https://files.pythonhosted.org/packages/de/86/5486b0188d08aa643e127774a99bac51ffa6cf343e3deb0583956dca5b22/fsspec-2024.12.0-py3-none-any.whl.metadata\n",
            "  Using cached fsspec-2024.12.0-py3-none-any.whl.metadata (11 kB)\n",
            "Collecting nvidia-cuda-nvrtc-cu12==12.1.105 (from torch==2.4.1->torchvision->mmpose==0.24.0)\n",
            "  Obtaining dependency information for nvidia-cuda-nvrtc-cu12==12.1.105 from https://files.pythonhosted.org/packages/b6/9f/c64c03f49d6fbc56196664d05dba14e3a561038a81a638eeb47f4d4cfd48/nvidia_cuda_nvrtc_cu12-12.1.105-py3-none-manylinux1_x86_64.whl.metadata\n",
            "  Downloading nvidia_cuda_nvrtc_cu12-12.1.105-py3-none-manylinux1_x86_64.whl.metadata (1.5 kB)\n",
            "Collecting nvidia-cuda-runtime-cu12==12.1.105 (from torch==2.4.1->torchvision->mmpose==0.24.0)\n",
            "  Obtaining dependency information for nvidia-cuda-runtime-cu12==12.1.105 from https://files.pythonhosted.org/packages/eb/d5/c68b1d2cdfcc59e72e8a5949a37ddb22ae6cade80cd4a57a84d4c8b55472/nvidia_cuda_runtime_cu12-12.1.105-py3-none-manylinux1_x86_64.whl.metadata\n",
            "  Downloading nvidia_cuda_runtime_cu12-12.1.105-py3-none-manylinux1_x86_64.whl.metadata (1.5 kB)\n",
            "Collecting nvidia-cuda-cupti-cu12==12.1.105 (from torch==2.4.1->torchvision->mmpose==0.24.0)\n",
            "  Obtaining dependency information for nvidia-cuda-cupti-cu12==12.1.105 from https://files.pythonhosted.org/packages/7e/00/6b218edd739ecfc60524e585ba8e6b00554dd908de2c9c66c1af3e44e18d/nvidia_cuda_cupti_cu12-12.1.105-py3-none-manylinux1_x86_64.whl.metadata\n",
            "  Downloading nvidia_cuda_cupti_cu12-12.1.105-py3-none-manylinux1_x86_64.whl.metadata (1.6 kB)\n",
            "Collecting nvidia-cudnn-cu12==9.1.0.70 (from torch==2.4.1->torchvision->mmpose==0.24.0)\n",
            "  Obtaining dependency information for nvidia-cudnn-cu12==9.1.0.70 from https://files.pythonhosted.org/packages/9f/fd/713452cd72343f682b1c7b9321e23829f00b842ceaedcda96e742ea0b0b3/nvidia_cudnn_cu12-9.1.0.70-py3-none-manylinux2014_x86_64.whl.metadata\n",
            "  Downloading nvidia_cudnn_cu12-9.1.0.70-py3-none-manylinux2014_x86_64.whl.metadata (1.6 kB)\n",
            "Collecting nvidia-cublas-cu12==12.1.3.1 (from torch==2.4.1->torchvision->mmpose==0.24.0)\n",
            "  Obtaining dependency information for nvidia-cublas-cu12==12.1.3.1 from https://files.pythonhosted.org/packages/37/6d/121efd7382d5b0284239f4ab1fc1590d86d34ed4a4a2fdb13b30ca8e5740/nvidia_cublas_cu12-12.1.3.1-py3-none-manylinux1_x86_64.whl.metadata\n",
            "  Downloading nvidia_cublas_cu12-12.1.3.1-py3-none-manylinux1_x86_64.whl.metadata (1.5 kB)\n",
            "Collecting nvidia-cufft-cu12==11.0.2.54 (from torch==2.4.1->torchvision->mmpose==0.24.0)\n",
            "  Obtaining dependency information for nvidia-cufft-cu12==11.0.2.54 from https://files.pythonhosted.org/packages/86/94/eb540db023ce1d162e7bea9f8f5aa781d57c65aed513c33ee9a5123ead4d/nvidia_cufft_cu12-11.0.2.54-py3-none-manylinux1_x86_64.whl.metadata\n",
            "  Downloading nvidia_cufft_cu12-11.0.2.54-py3-none-manylinux1_x86_64.whl.metadata (1.5 kB)\n",
            "Collecting nvidia-curand-cu12==10.3.2.106 (from torch==2.4.1->torchvision->mmpose==0.24.0)\n",
            "  Obtaining dependency information for nvidia-curand-cu12==10.3.2.106 from https://files.pythonhosted.org/packages/44/31/4890b1c9abc496303412947fc7dcea3d14861720642b49e8ceed89636705/nvidia_curand_cu12-10.3.2.106-py3-none-manylinux1_x86_64.whl.metadata\n",
            "  Downloading nvidia_curand_cu12-10.3.2.106-py3-none-manylinux1_x86_64.whl.metadata (1.5 kB)\n",
            "Collecting nvidia-cusolver-cu12==11.4.5.107 (from torch==2.4.1->torchvision->mmpose==0.24.0)\n",
            "  Obtaining dependency information for nvidia-cusolver-cu12==11.4.5.107 from https://files.pythonhosted.org/packages/bc/1d/8de1e5c67099015c834315e333911273a8c6aaba78923dd1d1e25fc5f217/nvidia_cusolver_cu12-11.4.5.107-py3-none-manylinux1_x86_64.whl.metadata\n",
            "  Downloading nvidia_cusolver_cu12-11.4.5.107-py3-none-manylinux1_x86_64.whl.metadata (1.6 kB)\n",
            "Collecting nvidia-cusparse-cu12==12.1.0.106 (from torch==2.4.1->torchvision->mmpose==0.24.0)\n",
            "  Obtaining dependency information for nvidia-cusparse-cu12==12.1.0.106 from https://files.pythonhosted.org/packages/65/5b/cfaeebf25cd9fdec14338ccb16f6b2c4c7fa9163aefcf057d86b9cc248bb/nvidia_cusparse_cu12-12.1.0.106-py3-none-manylinux1_x86_64.whl.metadata\n",
            "  Downloading nvidia_cusparse_cu12-12.1.0.106-py3-none-manylinux1_x86_64.whl.metadata (1.6 kB)\n",
            "Collecting nvidia-nccl-cu12==2.20.5 (from torch==2.4.1->torchvision->mmpose==0.24.0)\n",
            "  Obtaining dependency information for nvidia-nccl-cu12==2.20.5 from https://files.pythonhosted.org/packages/4b/2a/0a131f572aa09f741c30ccd45a8e56316e8be8dfc7bc19bf0ab7cfef7b19/nvidia_nccl_cu12-2.20.5-py3-none-manylinux2014_x86_64.whl.metadata\n",
            "  Downloading nvidia_nccl_cu12-2.20.5-py3-none-manylinux2014_x86_64.whl.metadata (1.8 kB)\n",
            "Collecting nvidia-nvtx-cu12==12.1.105 (from torch==2.4.1->torchvision->mmpose==0.24.0)\n",
            "  Obtaining dependency information for nvidia-nvtx-cu12==12.1.105 from https://files.pythonhosted.org/packages/da/d3/8057f0587683ed2fcd4dbfbdfdfa807b9160b809976099d36b8f60d08f03/nvidia_nvtx_cu12-12.1.105-py3-none-manylinux1_x86_64.whl.metadata\n",
            "  Downloading nvidia_nvtx_cu12-12.1.105-py3-none-manylinux1_x86_64.whl.metadata (1.7 kB)\n",
            "Collecting triton==3.0.0 (from torch==2.4.1->torchvision->mmpose==0.24.0)\n",
            "  Obtaining dependency information for triton==3.0.0 from https://files.pythonhosted.org/packages/4d/b4/c37e2776a1390bab7e78a6d52bd525441cb3cad7260a6a00b11b0b702e7c/triton-3.0.0-1-cp38-cp38-manylinux2014_x86_64.manylinux_2_17_x86_64.whl.metadata\n",
            "  Downloading triton-3.0.0-1-cp38-cp38-manylinux2014_x86_64.manylinux_2_17_x86_64.whl.metadata (1.3 kB)\n",
            "Collecting nvidia-nvjitlink-cu12 (from nvidia-cusolver-cu12==11.4.5.107->torch==2.4.1->torchvision->mmpose==0.24.0)\n",
            "  Obtaining dependency information for nvidia-nvjitlink-cu12 from https://files.pythonhosted.org/packages/9d/d7/c5383e47c7e9bf1c99d5bd2a8c935af2b6d705ad831a7ec5c97db4d82f4f/nvidia_nvjitlink_cu12-12.6.85-py3-none-manylinux2010_x86_64.manylinux_2_12_x86_64.whl.metadata\n",
            "  Downloading nvidia_nvjitlink_cu12-12.6.85-py3-none-manylinux2010_x86_64.manylinux_2_12_x86_64.whl.metadata (1.5 kB)\n",
            "  Link requires a different Python (3.8.20 not in: '>=3.9'): https://files.pythonhosted.org/packages/b7/1a/7e4798e9339adc931158c9d69ecc34f5e6791489d469f5e50ec15e35f458/zipp-3.21.0-py3-none-any.whl (from https://pypi.org/simple/zipp/) (requires-python:>=3.9)\n",
            "  Link requires a different Python (3.8.20 not in: '>=3.9'): https://files.pythonhosted.org/packages/3f/50/bad581df71744867e9468ebd0bcd6505de3b275e06f202c2cb016e3ff56f/zipp-3.21.0.tar.gz (from https://pypi.org/simple/zipp/) (requires-python:>=3.9)\n",
            "Collecting zipp>=3.1.0 (from importlib-resources>=3.2.0->matplotlib->mmpose==0.24.0)\n",
            "  Obtaining dependency information for zipp>=3.1.0 from https://files.pythonhosted.org/packages/62/8b/5ba542fa83c90e09eac972fc9baca7a88e7e7ca4b221a89251954019308b/zipp-3.20.2-py3-none-any.whl.metadata\n",
            "  Downloading zipp-3.20.2-py3-none-any.whl.metadata (3.7 kB)\n",
            "  Link requires a different Python (3.8.20 not in: '>=3.9'): https://files.pythonhosted.org/packages/5c/84/3f683b24fcffa08c5b7ef3fb8a845661057dd39c321c1ae16fa37a3eb35b/markupsafe-3.0.0.tar.gz (from https://pypi.org/simple/markupsafe/) (requires-python:>=3.9)\n",
            "  Link requires a different Python (3.8.20 not in: '>=3.9'): https://files.pythonhosted.org/packages/b4/d2/38ff920762f2247c3af5cbbbbc40756f575d9692d381d7c520f45deb9b8f/markupsafe-3.0.1.tar.gz (from https://pypi.org/simple/markupsafe/) (requires-python:>=3.9)\n",
            "  Link requires a different Python (3.8.20 not in: '>=3.9'): https://files.pythonhosted.org/packages/b2/97/5d42485e71dfc078108a86d6de8fa46db44a1a9295e89c5d6d4a06e23a62/markupsafe-3.0.2.tar.gz (from https://pypi.org/simple/markupsafe/) (requires-python:>=3.9)\n",
            "Collecting MarkupSafe>=2.0 (from jinja2->torch==2.4.1->torchvision->mmpose==0.24.0)\n",
            "  Obtaining dependency information for MarkupSafe>=2.0 from https://files.pythonhosted.org/packages/c7/bd/50319665ce81bb10e90d1cf76f9e1aa269ea6f7fa30ab4521f14d122a3df/MarkupSafe-2.1.5-cp38-cp38-manylinux_2_17_x86_64.manylinux2014_x86_64.whl.metadata\n",
            "  Downloading MarkupSafe-2.1.5-cp38-cp38-manylinux_2_17_x86_64.manylinux2014_x86_64.whl.metadata (3.0 kB)\n",
            "Collecting mpmath<1.4,>=1.1.0 (from sympy->torch==2.4.1->torchvision->mmpose==0.24.0)\n",
            "  Obtaining dependency information for mpmath<1.4,>=1.1.0 from https://files.pythonhosted.org/packages/43/e3/7d92a15f894aa0c9c4b49b8ee9ac9850d6e63b03c9c32c0367a13ae62209/mpmath-1.3.0-py3-none-any.whl.metadata\n",
            "  Downloading mpmath-1.3.0-py3-none-any.whl.metadata (8.6 kB)\n",
            "Downloading xtcocotools-1.14.3-cp38-cp38-manylinux1_x86_64.whl (447 kB)\n",
            "Downloading matplotlib-3.7.5-cp38-cp38-manylinux_2_12_x86_64.manylinux2010_x86_64.whl (9.2 MB)\n",
            "\u001b[2K   \u001b[90m━━━━━━━━━━━━━━━━━━━━━━━━━━━━━━━━━━━━━━━━\u001b[0m \u001b[32m9.2/9.2 MB\u001b[0m \u001b[31m121.8 MB/s\u001b[0m eta \u001b[36m0:00:00\u001b[0m\n",
            "\u001b[?25hDownloading scipy-1.10.1-cp38-cp38-manylinux_2_17_x86_64.manylinux2014_x86_64.whl (34.5 MB)\n",
            "\u001b[2K   \u001b[90m━━━━━━━━━━━━━━━━━━━━━━━━━━━━━━━━━━━━━━━━\u001b[0m \u001b[32m34.5/34.5 MB\u001b[0m \u001b[31m84.9 MB/s\u001b[0m eta \u001b[36m0:00:00\u001b[0m\n",
            "\u001b[?25hDownloading json_tricks-3.17.3-py2.py3-none-any.whl (27 kB)\n",
            "Downloading munkres-1.1.4-py2.py3-none-any.whl (7.0 kB)\n",
            "Downloading torchvision-0.19.1-cp38-cp38-manylinux1_x86_64.whl (7.0 MB)\n",
            "\u001b[2K   \u001b[90m━━━━━━━━━━━━━━━━━━━━━━━━━━━━━━━━━━━━━━━━\u001b[0m \u001b[32m7.0/7.0 MB\u001b[0m \u001b[31m136.4 MB/s\u001b[0m eta \u001b[36m0:00:00\u001b[0m\n",
            "\u001b[?25hDownloading torch-2.4.1-cp38-cp38-manylinux1_x86_64.whl (797.1 MB)\n",
            "\u001b[2K   \u001b[90m━━━━━━━━━━━━━━━━━━━━━━━━━━━━━━━━━━━━━━━━\u001b[0m \u001b[32m797.1/797.1 MB\u001b[0m \u001b[31m28.4 MB/s\u001b[0m eta \u001b[36m0:00:00\u001b[0m\n",
            "\u001b[?25hDownloading nvidia_cublas_cu12-12.1.3.1-py3-none-manylinux1_x86_64.whl (410.6 MB)\n",
            "\u001b[2K   \u001b[90m━━━━━━━━━━━━━━━━━━━━━━━━━━━━━━━━━━━━━━━━\u001b[0m \u001b[32m410.6/410.6 MB\u001b[0m \u001b[31m35.1 MB/s\u001b[0m eta \u001b[36m0:00:00\u001b[0m\n",
            "\u001b[?25hDownloading nvidia_cuda_cupti_cu12-12.1.105-py3-none-manylinux1_x86_64.whl (14.1 MB)\n",
            "\u001b[2K   \u001b[90m━━━━━━━━━━━━━━━━━━━━━━━━━━━━━━━━━━━━━━━━\u001b[0m \u001b[32m14.1/14.1 MB\u001b[0m \u001b[31m121.4 MB/s\u001b[0m eta \u001b[36m0:00:00\u001b[0m\n",
            "\u001b[?25hDownloading nvidia_cuda_nvrtc_cu12-12.1.105-py3-none-manylinux1_x86_64.whl (23.7 MB)\n",
            "\u001b[2K   \u001b[90m━━━━━━━━━━━━━━━━━━━━━━━━━━━━━━━━━━━━━━━━\u001b[0m \u001b[32m23.7/23.7 MB\u001b[0m \u001b[31m54.7 MB/s\u001b[0m eta \u001b[36m0:00:00\u001b[0m\n",
            "\u001b[?25hDownloading nvidia_cuda_runtime_cu12-12.1.105-py3-none-manylinux1_x86_64.whl (823 kB)\n",
            "\u001b[2K   \u001b[90m━━━━━━━━━━━━━━━━━━━━━━━━━━━━━━━━━━━━━━━━\u001b[0m \u001b[32m823.6/823.6 kB\u001b[0m \u001b[31m40.2 MB/s\u001b[0m eta \u001b[36m0:00:00\u001b[0m\n",
            "\u001b[?25hDownloading nvidia_cudnn_cu12-9.1.0.70-py3-none-manylinux2014_x86_64.whl (664.8 MB)\n",
            "\u001b[2K   \u001b[90m━━━━━━━━━━━━━━━━━━━━━━━━━━━━━━━━━━━━━━━━\u001b[0m \u001b[32m664.8/664.8 MB\u001b[0m \u001b[31m40.9 MB/s\u001b[0m eta \u001b[36m0:00:00\u001b[0m\n",
            "\u001b[?25hDownloading nvidia_cufft_cu12-11.0.2.54-py3-none-manylinux1_x86_64.whl (121.6 MB)\n",
            "\u001b[2K   \u001b[90m━━━━━━━━━━━━━━━━━━━━━━━━━━━━━━━━━━━━━━━━\u001b[0m \u001b[32m121.6/121.6 MB\u001b[0m \u001b[31m65.7 MB/s\u001b[0m eta \u001b[36m0:00:00\u001b[0m\n",
            "\u001b[?25hDownloading nvidia_curand_cu12-10.3.2.106-py3-none-manylinux1_x86_64.whl (56.5 MB)\n",
            "\u001b[2K   \u001b[90m━━━━━━━━━━━━━━━━━━━━━━━━━━━━━━━━━━━━━━━━\u001b[0m \u001b[32m56.5/56.5 MB\u001b[0m \u001b[31m64.8 MB/s\u001b[0m eta \u001b[36m0:00:00\u001b[0m\n",
            "\u001b[?25hDownloading nvidia_cusolver_cu12-11.4.5.107-py3-none-manylinux1_x86_64.whl (124.2 MB)\n",
            "\u001b[2K   \u001b[90m━━━━━━━━━━━━━━━━━━━━━━━━━━━━━━━━━━━━━━━━\u001b[0m \u001b[32m124.2/124.2 MB\u001b[0m \u001b[31m61.9 MB/s\u001b[0m eta \u001b[36m0:00:00\u001b[0m\n",
            "\u001b[?25hDownloading nvidia_cusparse_cu12-12.1.0.106-py3-none-manylinux1_x86_64.whl (196.0 MB)\n",
            "\u001b[2K   \u001b[90m━━━━━━━━━━━━━━━━━━━━━━━━━━━━━━━━━━━━━━━━\u001b[0m \u001b[32m196.0/196.0 MB\u001b[0m \u001b[31m68.2 MB/s\u001b[0m eta \u001b[36m0:00:00\u001b[0m\n",
            "\u001b[?25hDownloading nvidia_nccl_cu12-2.20.5-py3-none-manylinux2014_x86_64.whl (176.2 MB)\n",
            "\u001b[2K   \u001b[90m━━━━━━━━━━━━━━━━━━━━━━━━━━━━━━━━━━━━━━━━\u001b[0m \u001b[32m176.2/176.2 MB\u001b[0m \u001b[31m63.6 MB/s\u001b[0m eta \u001b[36m0:00:00\u001b[0m\n",
            "\u001b[?25hDownloading nvidia_nvtx_cu12-12.1.105-py3-none-manylinux1_x86_64.whl (99 kB)\n",
            "Downloading triton-3.0.0-1-cp38-cp38-manylinux2014_x86_64.manylinux_2_17_x86_64.whl (209.4 MB)\n",
            "\u001b[2K   \u001b[90m━━━━━━━━━━━━━━━━━━━━━━━━━━━━━━━━━━━━━━━━\u001b[0m \u001b[32m209.4/209.4 MB\u001b[0m \u001b[31m69.6 MB/s\u001b[0m eta \u001b[36m0:00:00\u001b[0m\n",
            "\u001b[?25hDownloading contourpy-1.1.1-cp38-cp38-manylinux_2_17_x86_64.manylinux2014_x86_64.whl (301 kB)\n",
            "Using cached cycler-0.12.1-py3-none-any.whl (8.3 kB)\n",
            "Downloading Cython-3.0.11-cp38-cp38-manylinux_2_17_x86_64.manylinux2014_x86_64.whl (3.6 MB)\n",
            "\u001b[2K   \u001b[90m━━━━━━━━━━━━━━━━━━━━━━━━━━━━━━━━━━━━━━━━\u001b[0m \u001b[32m3.6/3.6 MB\u001b[0m \u001b[31m81.3 MB/s\u001b[0m eta \u001b[36m0:00:00\u001b[0m\n",
            "\u001b[?25hDownloading fonttools-4.55.4-cp38-cp38-manylinux_2_17_x86_64.manylinux2014_x86_64.whl (4.7 MB)\n",
            "\u001b[2K   \u001b[90m━━━━━━━━━━━━━━━━━━━━━━━━━━━━━━━━━━━━━━━━\u001b[0m \u001b[32m4.7/4.7 MB\u001b[0m \u001b[31m128.7 MB/s\u001b[0m eta \u001b[36m0:00:00\u001b[0m\n",
            "\u001b[?25hDownloading importlib_resources-6.4.5-py3-none-any.whl (36 kB)\n",
            "Downloading kiwisolver-1.4.7-cp38-cp38-manylinux_2_5_x86_64.manylinux1_x86_64.whl (1.2 MB)\n",
            "\u001b[2K   \u001b[90m━━━━━━━━━━━━━━━━━━━━━━━━━━━━━━━━━━━━━━━━\u001b[0m \u001b[32m1.2/1.2 MB\u001b[0m \u001b[31m65.1 MB/s\u001b[0m eta \u001b[36m0:00:00\u001b[0m\n",
            "\u001b[?25hDownloading pyparsing-3.1.4-py3-none-any.whl (104 kB)\n",
            "Using cached python_dateutil-2.9.0.post0-py2.py3-none-any.whl (229 kB)\n",
            "Using cached six-1.17.0-py2.py3-none-any.whl (11 kB)\n",
            "Using cached typing_extensions-4.12.2-py3-none-any.whl (37 kB)\n",
            "Downloading zipp-3.20.2-py3-none-any.whl (9.2 kB)\n",
            "Downloading filelock-3.16.1-py3-none-any.whl (16 kB)\n",
            "Using cached fsspec-2024.12.0-py3-none-any.whl (183 kB)\n",
            "Downloading jinja2-3.1.5-py3-none-any.whl (134 kB)\n",
            "Downloading networkx-3.1-py3-none-any.whl (2.1 MB)\n",
            "\u001b[2K   \u001b[90m━━━━━━━━━━━━━━━━━━━━━━━━━━━━━━━━━━━━━━━━\u001b[0m \u001b[32m2.1/2.1 MB\u001b[0m \u001b[31m93.3 MB/s\u001b[0m eta \u001b[36m0:00:00\u001b[0m\n",
            "\u001b[?25hDownloading sympy-1.13.3-py3-none-any.whl (6.2 MB)\n",
            "\u001b[2K   \u001b[90m━━━━━━━━━━━━━━━━━━━━━━━━━━━━━━━━━━━━━━━━\u001b[0m \u001b[32m6.2/6.2 MB\u001b[0m \u001b[31m145.0 MB/s\u001b[0m eta \u001b[36m0:00:00\u001b[0m\n",
            "\u001b[?25hDownloading MarkupSafe-2.1.5-cp38-cp38-manylinux_2_17_x86_64.manylinux2014_x86_64.whl (26 kB)\n",
            "Downloading mpmath-1.3.0-py3-none-any.whl (536 kB)\n",
            "\u001b[2K   \u001b[90m━━━━━━━━━━━━━━━━━━━━━━━━━━━━━━━━━━━━━━━━\u001b[0m \u001b[32m536.2/536.2 kB\u001b[0m \u001b[31m24.8 MB/s\u001b[0m eta \u001b[36m0:00:00\u001b[0m\n",
            "\u001b[?25hDownloading nvidia_nvjitlink_cu12-12.6.85-py3-none-manylinux2010_x86_64.manylinux_2_12_x86_64.whl (19.7 MB)\n",
            "\u001b[2K   \u001b[90m━━━━━━━━━━━━━━━━━━━━━━━━━━━━━━━━━━━━━━━━\u001b[0m \u001b[32m19.7/19.7 MB\u001b[0m \u001b[31m157.4 MB/s\u001b[0m eta \u001b[36m0:00:00\u001b[0m\n",
            "\u001b[?25hBuilding wheels for collected packages: chumpy\n",
            "  Running command python setup.py bdist_wheel\n",
            "  /usr/local/envs/vitpose/lib/python3.8/site-packages/setuptools/_distutils/cmd.py:66: SetuptoolsDeprecationWarning: setup.py install is deprecated.\n",
            "  !!\n",
            "\n",
            "          ********************************************************************************\n",
            "          Please avoid running ``setup.py`` directly.\n",
            "          Instead, use pypa/build, pypa/installer or other\n",
            "          standards-based tools.\n",
            "\n",
            "          See https://blog.ganssle.io/articles/2021/10/setup-py-deprecated.html for details.\n",
            "          ********************************************************************************\n",
            "\n",
            "  !!\n",
            "    self.initialize_options()\n",
            "  Building wheel for chumpy (setup.py) ... \u001b[?25l\u001b[?25hdone\n",
            "  Created wheel for chumpy: filename=chumpy-0.70-py3-none-any.whl size=58265 sha256=9e3b740eab4e286124aa84aa3fb183c9845fbebfc33298439a2080e6cc29e10e\n",
            "  Stored in directory: /root/.cache/pip/wheels/d9/a2/b8/b8aeeeaeb01b5002085156add1aed832f2fb03e79d0f22dfed\n",
            "Successfully built chumpy\n",
            "Installing collected packages: munkres, mpmath, json_tricks, zipp, typing-extensions, sympy, six, scipy, pyparsing, nvidia-nvtx-cu12, nvidia-nvjitlink-cu12, nvidia-nccl-cu12, nvidia-curand-cu12, nvidia-cufft-cu12, nvidia-cuda-runtime-cu12, nvidia-cuda-nvrtc-cu12, nvidia-cuda-cupti-cu12, nvidia-cublas-cu12, networkx, MarkupSafe, kiwisolver, fsspec, fonttools, filelock, cython, cycler, contourpy, triton, python-dateutil, nvidia-cusparse-cu12, nvidia-cudnn-cu12, jinja2, importlib-resources, chumpy, nvidia-cusolver-cu12, matplotlib, xtcocotools, torch, torchvision, mmpose\n",
            "  changing mode of /usr/local/envs/vitpose/bin/isympy to 755\n",
            "  changing mode of /usr/local/envs/vitpose/bin/fonttools to 755\n",
            "  changing mode of /usr/local/envs/vitpose/bin/pyftmerge to 755\n",
            "  changing mode of /usr/local/envs/vitpose/bin/pyftsubset to 755\n",
            "  changing mode of /usr/local/envs/vitpose/bin/ttx to 755\n",
            "  changing mode of /usr/local/envs/vitpose/bin/cygdb to 755\n",
            "  changing mode of /usr/local/envs/vitpose/bin/cython to 755\n",
            "  changing mode of /usr/local/envs/vitpose/bin/cythonize to 755\n",
            "  changing mode of /usr/local/envs/vitpose/bin/proton to 755\n",
            "  changing mode of /usr/local/envs/vitpose/bin/proton-viewer to 755\n",
            "  changing mode of /usr/local/envs/vitpose/bin/convert-caffe2-to-onnx to 755\n",
            "  changing mode of /usr/local/envs/vitpose/bin/convert-onnx-to-caffe2 to 755\n",
            "  changing mode of /usr/local/envs/vitpose/bin/torchrun to 755\n",
            "\u001b[33m  DEPRECATION: Legacy editable install of mmpose==0.24.0 from file:///content/jersey-number-pipeline/pose/ViTPose (setup.py develop) is deprecated. pip 25.0 will enforce this behaviour change. A possible replacement is to add a pyproject.toml or enable --use-pep517, and use setuptools >= 64. If the resulting installation is not behaving as expected, try using --config-settings editable_mode=compat. Please consult the setuptools documentation for more information. Discussion can be found at https://github.com/pypa/pip/issues/11457\u001b[0m\u001b[33m\n",
            "\u001b[0m  Running setup.py develop for mmpose\n",
            "    Running command python setup.py develop\n",
            "    running develop\n",
            "    running egg_info\n",
            "    creating mmpose.egg-info\n",
            "    writing mmpose.egg-info/PKG-INFO\n",
            "    writing dependency_links to mmpose.egg-info/dependency_links.txt\n",
            "    writing requirements to mmpose.egg-info/requires.txt\n",
            "    writing top-level names to mmpose.egg-info/top_level.txt\n",
            "    writing manifest file 'mmpose.egg-info/SOURCES.txt'\n",
            "    reading manifest file 'mmpose.egg-info/SOURCES.txt'\n",
            "    reading manifest template 'MANIFEST.in'\n",
            "    adding license file 'LICENSE'\n",
            "    writing manifest file 'mmpose.egg-info/SOURCES.txt'\n",
            "    running build_ext\n",
            "    Creating /usr/local/envs/vitpose/lib/python3.8/site-packages/mmpose.egg-link (link to .)\n",
            "    Adding mmpose 0.24.0 to easy-install.pth file\n",
            "\n",
            "    Installed /content/jersey-number-pipeline/pose/ViTPose\n",
            "    /usr/local/envs/vitpose/lib/python3.8/site-packages/setuptools/command/develop.py:41: EasyInstallDeprecationWarning: easy_install command is deprecated.\n",
            "    !!\n",
            "\n",
            "            ********************************************************************************\n",
            "            Please avoid running ``setup.py`` and ``easy_install``.\n",
            "            Instead, use pypa/build, pypa/installer or other\n",
            "            standards-based tools.\n",
            "\n",
            "            See https://github.com/pypa/setuptools/issues/917 for details.\n",
            "            ********************************************************************************\n",
            "\n",
            "    !!\n",
            "      easy_install.initialize_options(self)\n",
            "    /usr/local/envs/vitpose/lib/python3.8/site-packages/setuptools/_distutils/cmd.py:66: SetuptoolsDeprecationWarning: setup.py install is deprecated.\n",
            "    !!\n",
            "\n",
            "            ********************************************************************************\n",
            "            Please avoid running ``setup.py`` directly.\n",
            "            Instead, use pypa/build, pypa/installer or other\n",
            "            standards-based tools.\n",
            "\n",
            "            See https://blog.ganssle.io/articles/2021/10/setup-py-deprecated.html for details.\n",
            "            ********************************************************************************\n",
            "\n",
            "    !!\n",
            "      self.initialize_options()\n",
            "Successfully installed MarkupSafe-2.1.5 chumpy-0.70 contourpy-1.1.1 cycler-0.12.1 cython-3.0.11 filelock-3.16.1 fonttools-4.55.4 fsspec-2024.12.0 importlib-resources-6.4.5 jinja2-3.1.5 json_tricks-3.17.3 kiwisolver-1.4.7 matplotlib-3.7.5 mmpose mpmath-1.3.0 munkres-1.1.4 networkx-3.1 nvidia-cublas-cu12-12.1.3.1 nvidia-cuda-cupti-cu12-12.1.105 nvidia-cuda-nvrtc-cu12-12.1.105 nvidia-cuda-runtime-cu12-12.1.105 nvidia-cudnn-cu12-9.1.0.70 nvidia-cufft-cu12-11.0.2.54 nvidia-curand-cu12-10.3.2.106 nvidia-cusolver-cu12-11.4.5.107 nvidia-cusparse-cu12-12.1.0.106 nvidia-nccl-cu12-2.20.5 nvidia-nvjitlink-cu12-12.6.85 nvidia-nvtx-cu12-12.1.105 pyparsing-3.1.4 python-dateutil-2.9.0.post0 scipy-1.10.1 six-1.17.0 sympy-1.13.3 torch-2.4.1 torchvision-0.19.1 triton-3.0.0 typing-extensions-4.12.2 xtcocotools-1.14.3 zipp-3.20.2\n",
            "Collecting timm==0.4.9\n",
            "  Downloading timm-0.4.9-py3-none-any.whl.metadata (27 kB)\n",
            "Collecting einops\n",
            "  Downloading einops-0.8.0-py3-none-any.whl.metadata (12 kB)\n",
            "Requirement already satisfied: torch>=1.4 in /usr/local/envs/vitpose/lib/python3.8/site-packages (from timm==0.4.9) (2.4.1)\n",
            "Requirement already satisfied: torchvision in /usr/local/envs/vitpose/lib/python3.8/site-packages (from timm==0.4.9) (0.19.1)\n",
            "Requirement already satisfied: filelock in /usr/local/envs/vitpose/lib/python3.8/site-packages (from torch>=1.4->timm==0.4.9) (3.16.1)\n",
            "Requirement already satisfied: typing-extensions>=4.8.0 in /usr/local/envs/vitpose/lib/python3.8/site-packages (from torch>=1.4->timm==0.4.9) (4.12.2)\n",
            "Requirement already satisfied: sympy in /usr/local/envs/vitpose/lib/python3.8/site-packages (from torch>=1.4->timm==0.4.9) (1.13.3)\n",
            "Requirement already satisfied: networkx in /usr/local/envs/vitpose/lib/python3.8/site-packages (from torch>=1.4->timm==0.4.9) (3.1)\n",
            "Requirement already satisfied: jinja2 in /usr/local/envs/vitpose/lib/python3.8/site-packages (from torch>=1.4->timm==0.4.9) (3.1.5)\n",
            "Requirement already satisfied: fsspec in /usr/local/envs/vitpose/lib/python3.8/site-packages (from torch>=1.4->timm==0.4.9) (2024.12.0)\n",
            "Requirement already satisfied: nvidia-cuda-nvrtc-cu12==12.1.105 in /usr/local/envs/vitpose/lib/python3.8/site-packages (from torch>=1.4->timm==0.4.9) (12.1.105)\n",
            "Requirement already satisfied: nvidia-cuda-runtime-cu12==12.1.105 in /usr/local/envs/vitpose/lib/python3.8/site-packages (from torch>=1.4->timm==0.4.9) (12.1.105)\n",
            "Requirement already satisfied: nvidia-cuda-cupti-cu12==12.1.105 in /usr/local/envs/vitpose/lib/python3.8/site-packages (from torch>=1.4->timm==0.4.9) (12.1.105)\n",
            "Requirement already satisfied: nvidia-cudnn-cu12==9.1.0.70 in /usr/local/envs/vitpose/lib/python3.8/site-packages (from torch>=1.4->timm==0.4.9) (9.1.0.70)\n",
            "Requirement already satisfied: nvidia-cublas-cu12==12.1.3.1 in /usr/local/envs/vitpose/lib/python3.8/site-packages (from torch>=1.4->timm==0.4.9) (12.1.3.1)\n",
            "Requirement already satisfied: nvidia-cufft-cu12==11.0.2.54 in /usr/local/envs/vitpose/lib/python3.8/site-packages (from torch>=1.4->timm==0.4.9) (11.0.2.54)\n",
            "Requirement already satisfied: nvidia-curand-cu12==10.3.2.106 in /usr/local/envs/vitpose/lib/python3.8/site-packages (from torch>=1.4->timm==0.4.9) (10.3.2.106)\n",
            "Requirement already satisfied: nvidia-cusolver-cu12==11.4.5.107 in /usr/local/envs/vitpose/lib/python3.8/site-packages (from torch>=1.4->timm==0.4.9) (11.4.5.107)\n",
            "Requirement already satisfied: nvidia-cusparse-cu12==12.1.0.106 in /usr/local/envs/vitpose/lib/python3.8/site-packages (from torch>=1.4->timm==0.4.9) (12.1.0.106)\n",
            "Requirement already satisfied: nvidia-nccl-cu12==2.20.5 in /usr/local/envs/vitpose/lib/python3.8/site-packages (from torch>=1.4->timm==0.4.9) (2.20.5)\n",
            "Requirement already satisfied: nvidia-nvtx-cu12==12.1.105 in /usr/local/envs/vitpose/lib/python3.8/site-packages (from torch>=1.4->timm==0.4.9) (12.1.105)\n",
            "Requirement already satisfied: triton==3.0.0 in /usr/local/envs/vitpose/lib/python3.8/site-packages (from torch>=1.4->timm==0.4.9) (3.0.0)\n",
            "Requirement already satisfied: nvidia-nvjitlink-cu12 in /usr/local/envs/vitpose/lib/python3.8/site-packages (from nvidia-cusolver-cu12==11.4.5.107->torch>=1.4->timm==0.4.9) (12.6.85)\n",
            "Requirement already satisfied: numpy in /usr/local/envs/vitpose/lib/python3.8/site-packages (from torchvision->timm==0.4.9) (1.24.4)\n",
            "Requirement already satisfied: pillow!=8.3.*,>=5.3.0 in /usr/local/envs/vitpose/lib/python3.8/site-packages (from torchvision->timm==0.4.9) (10.4.0)\n",
            "Requirement already satisfied: MarkupSafe>=2.0 in /usr/local/envs/vitpose/lib/python3.8/site-packages (from jinja2->torch>=1.4->timm==0.4.9) (2.1.5)\n",
            "Requirement already satisfied: mpmath<1.4,>=1.1.0 in /usr/local/envs/vitpose/lib/python3.8/site-packages (from sympy->torch>=1.4->timm==0.4.9) (1.3.0)\n",
            "Downloading timm-0.4.9-py3-none-any.whl (346 kB)\n",
            "Downloading einops-0.8.0-py3-none-any.whl (43 kB)\n",
            "Installing collected packages: einops, timm\n",
            "Successfully installed einops-0.8.0 timm-0.4.9\n",
            "mkdir: cannot create directory ‘./pose/ViTPose/checkpoints’: No such file or directory\n",
            "Traceback (most recent call last):\n",
            "  File \"/content/jersey-number-pipeline/setup.py\", line 161, in <module>\n",
            "    download_models_common(root_dir)\n",
            "  File \"/content/jersey-number-pipeline/setup.py\", line 126, in download_models_common\n",
            "    gdown.download(url, save_path)\n",
            "  File \"/usr/local/lib/python3.11/site-packages/gdown/download.py\", line 304, in download\n",
            "    for file in os.listdir(osp.dirname(output) or \".\"):\n",
            "                ^^^^^^^^^^^^^^^^^^^^^^^^^^^^^^^^^^^^^^\n",
            "FileNotFoundError: [Errno 2] No such file or directory: './pose/ViTPose/checkpoints'\n"
          ]
        }
      ],
      "source": [
        "!python3 setup.py SoccerNet"
      ]
    },
    {
      "cell_type": "markdown",
      "metadata": {
        "id": "dAa-BAXs-vRw"
      },
      "source": [
        "## Installing the dataset"
      ]
    },
    {
      "cell_type": "code",
      "execution_count": 1,
      "metadata": {
        "colab": {
          "base_uri": "https://localhost:8080/"
        },
        "id": "tIWDwV37seQK",
        "outputId": "7a93e7c2-59a4-4be8-f9f1-759b553bafef"
      },
      "outputs": [
        {
          "name": "stdout",
          "output_type": "stream",
          "text": [
            "Collecting SoccerNet\n",
            "  Downloading SoccerNet-0.1.62-py3-none-any.whl.metadata (13 kB)\n",
            "Requirement already satisfied: tqdm in /usr/local/lib/python3.11/dist-packages (from SoccerNet) (4.67.1)\n",
            "Collecting scikit-video (from SoccerNet)\n",
            "  Downloading scikit_video-1.1.11-py2.py3-none-any.whl.metadata (1.1 kB)\n",
            "Requirement already satisfied: matplotlib in /usr/local/lib/python3.11/dist-packages (from SoccerNet) (3.10.0)\n",
            "Collecting google-measurement-protocol (from SoccerNet)\n",
            "  Downloading google_measurement_protocol-1.1.0-py2.py3-none-any.whl.metadata (845 bytes)\n",
            "Collecting pycocoevalcap (from SoccerNet)\n",
            "  Downloading pycocoevalcap-1.2-py3-none-any.whl.metadata (3.2 kB)\n",
            "Requirement already satisfied: huggingface_hub[cli] in /usr/local/lib/python3.11/dist-packages (from SoccerNet) (0.27.1)\n",
            "Collecting boto3 (from SoccerNet)\n",
            "  Downloading boto3-1.36.4-py3-none-any.whl.metadata (6.6 kB)\n",
            "Collecting botocore<1.37.0,>=1.36.4 (from boto3->SoccerNet)\n",
            "  Downloading botocore-1.36.4-py3-none-any.whl.metadata (5.7 kB)\n",
            "Collecting jmespath<2.0.0,>=0.7.1 (from boto3->SoccerNet)\n",
            "  Downloading jmespath-1.0.1-py3-none-any.whl.metadata (7.6 kB)\n",
            "Collecting s3transfer<0.12.0,>=0.11.0 (from boto3->SoccerNet)\n",
            "  Downloading s3transfer-0.11.1-py3-none-any.whl.metadata (1.7 kB)\n",
            "Requirement already satisfied: requests<3.0a0,>=2.0 in /usr/local/lib/python3.11/dist-packages (from google-measurement-protocol->SoccerNet) (2.32.3)\n",
            "Collecting prices>=1.0.0 (from google-measurement-protocol->SoccerNet)\n",
            "  Downloading prices-1.1.1-py3-none-any.whl.metadata (2.8 kB)\n",
            "Requirement already satisfied: filelock in /usr/local/lib/python3.11/dist-packages (from huggingface_hub[cli]->SoccerNet) (3.16.1)\n",
            "Requirement already satisfied: fsspec>=2023.5.0 in /usr/local/lib/python3.11/dist-packages (from huggingface_hub[cli]->SoccerNet) (2024.10.0)\n",
            "Requirement already satisfied: packaging>=20.9 in /usr/local/lib/python3.11/dist-packages (from huggingface_hub[cli]->SoccerNet) (24.2)\n",
            "Requirement already satisfied: pyyaml>=5.1 in /usr/local/lib/python3.11/dist-packages (from huggingface_hub[cli]->SoccerNet) (6.0.2)\n",
            "Requirement already satisfied: typing-extensions>=3.7.4.3 in /usr/local/lib/python3.11/dist-packages (from huggingface_hub[cli]->SoccerNet) (4.12.2)\n",
            "Collecting InquirerPy==0.3.4 (from huggingface_hub[cli]->SoccerNet)\n",
            "  Downloading InquirerPy-0.3.4-py3-none-any.whl.metadata (8.1 kB)\n",
            "Collecting pfzy<0.4.0,>=0.3.1 (from InquirerPy==0.3.4->huggingface_hub[cli]->SoccerNet)\n",
            "  Downloading pfzy-0.3.4-py3-none-any.whl.metadata (4.9 kB)\n",
            "Requirement already satisfied: prompt-toolkit<4.0.0,>=3.0.1 in /usr/local/lib/python3.11/dist-packages (from InquirerPy==0.3.4->huggingface_hub[cli]->SoccerNet) (3.0.48)\n",
            "Requirement already satisfied: contourpy>=1.0.1 in /usr/local/lib/python3.11/dist-packages (from matplotlib->SoccerNet) (1.3.1)\n",
            "Requirement already satisfied: cycler>=0.10 in /usr/local/lib/python3.11/dist-packages (from matplotlib->SoccerNet) (0.12.1)\n",
            "Requirement already satisfied: fonttools>=4.22.0 in /usr/local/lib/python3.11/dist-packages (from matplotlib->SoccerNet) (4.55.3)\n",
            "Requirement already satisfied: kiwisolver>=1.3.1 in /usr/local/lib/python3.11/dist-packages (from matplotlib->SoccerNet) (1.4.8)\n",
            "Requirement already satisfied: numpy>=1.23 in /usr/local/lib/python3.11/dist-packages (from matplotlib->SoccerNet) (1.26.4)\n",
            "Requirement already satisfied: pillow>=8 in /usr/local/lib/python3.11/dist-packages (from matplotlib->SoccerNet) (11.1.0)\n",
            "Requirement already satisfied: pyparsing>=2.3.1 in /usr/local/lib/python3.11/dist-packages (from matplotlib->SoccerNet) (3.2.1)\n",
            "Requirement already satisfied: python-dateutil>=2.7 in /usr/local/lib/python3.11/dist-packages (from matplotlib->SoccerNet) (2.8.2)\n",
            "Requirement already satisfied: pycocotools>=2.0.2 in /usr/local/lib/python3.11/dist-packages (from pycocoevalcap->SoccerNet) (2.0.8)\n",
            "Requirement already satisfied: scipy in /usr/local/lib/python3.11/dist-packages (from scikit-video->SoccerNet) (1.13.1)\n",
            "Requirement already satisfied: urllib3!=2.2.0,<3,>=1.25.4 in /usr/local/lib/python3.11/dist-packages (from botocore<1.37.0,>=1.36.4->boto3->SoccerNet) (2.3.0)\n",
            "Requirement already satisfied: babel>=2.5.0 in /usr/local/lib/python3.11/dist-packages (from prices>=1.0.0->google-measurement-protocol->SoccerNet) (2.16.0)\n",
            "Requirement already satisfied: six>=1.5 in /usr/local/lib/python3.11/dist-packages (from python-dateutil>=2.7->matplotlib->SoccerNet) (1.17.0)\n",
            "Requirement already satisfied: charset-normalizer<4,>=2 in /usr/local/lib/python3.11/dist-packages (from requests<3.0a0,>=2.0->google-measurement-protocol->SoccerNet) (3.4.1)\n",
            "Requirement already satisfied: idna<4,>=2.5 in /usr/local/lib/python3.11/dist-packages (from requests<3.0a0,>=2.0->google-measurement-protocol->SoccerNet) (3.10)\n",
            "Requirement already satisfied: certifi>=2017.4.17 in /usr/local/lib/python3.11/dist-packages (from requests<3.0a0,>=2.0->google-measurement-protocol->SoccerNet) (2024.12.14)\n",
            "Requirement already satisfied: wcwidth in /usr/local/lib/python3.11/dist-packages (from prompt-toolkit<4.0.0,>=3.0.1->InquirerPy==0.3.4->huggingface_hub[cli]->SoccerNet) (0.2.13)\n",
            "Downloading SoccerNet-0.1.62-py3-none-any.whl (86 kB)\n",
            "\u001b[2K   \u001b[90m━━━━━━━━━━━━━━━━━━━━━━━━━━━━━━━━━━━━━━━━\u001b[0m \u001b[32m86.9/86.9 kB\u001b[0m \u001b[31m2.5 MB/s\u001b[0m eta \u001b[36m0:00:00\u001b[0m\n",
            "\u001b[?25hDownloading boto3-1.36.4-py3-none-any.whl (139 kB)\n",
            "\u001b[2K   \u001b[90m━━━━━━━━━━━━━━━━━━━━━━━━━━━━━━━━━━━━━━━━\u001b[0m \u001b[32m139.2/139.2 kB\u001b[0m \u001b[31m7.5 MB/s\u001b[0m eta \u001b[36m0:00:00\u001b[0m\n",
            "\u001b[?25hDownloading google_measurement_protocol-1.1.0-py2.py3-none-any.whl (5.9 kB)\n",
            "Downloading InquirerPy-0.3.4-py3-none-any.whl (67 kB)\n",
            "\u001b[2K   \u001b[90m━━━━━━━━━━━━━━━━━━━━━━━━━━━━━━━━━━━━━━━━\u001b[0m \u001b[32m67.7/67.7 kB\u001b[0m \u001b[31m4.6 MB/s\u001b[0m eta \u001b[36m0:00:00\u001b[0m\n",
            "\u001b[?25hDownloading pycocoevalcap-1.2-py3-none-any.whl (104.3 MB)\n",
            "\u001b[2K   \u001b[90m━━━━━━━━━━━━━━━━━━━━━━━━━━━━━━━━━━━━━━━━\u001b[0m \u001b[32m104.3/104.3 MB\u001b[0m \u001b[31m6.9 MB/s\u001b[0m eta \u001b[36m0:00:00\u001b[0m\n",
            "\u001b[?25hDownloading scikit_video-1.1.11-py2.py3-none-any.whl (2.3 MB)\n",
            "\u001b[2K   \u001b[90m━━━━━━━━━━━━━━━━━━━━━━━━━━━━━━━━━━━━━━━━\u001b[0m \u001b[32m2.3/2.3 MB\u001b[0m \u001b[31m43.5 MB/s\u001b[0m eta \u001b[36m0:00:00\u001b[0m\n",
            "\u001b[?25hDownloading botocore-1.36.4-py3-none-any.whl (13.3 MB)\n",
            "\u001b[2K   \u001b[90m━━━━━━━━━━━━━━━━━━━━━━━━━━━━━━━━━━━━━━━━\u001b[0m \u001b[32m13.3/13.3 MB\u001b[0m \u001b[31m59.9 MB/s\u001b[0m eta \u001b[36m0:00:00\u001b[0m\n",
            "\u001b[?25hDownloading jmespath-1.0.1-py3-none-any.whl (20 kB)\n",
            "Downloading prices-1.1.1-py3-none-any.whl (9.5 kB)\n",
            "Downloading s3transfer-0.11.1-py3-none-any.whl (84 kB)\n",
            "\u001b[2K   \u001b[90m━━━━━━━━━━━━━━━━━━━━━━━━━━━━━━━━━━━━━━━━\u001b[0m \u001b[32m84.1/84.1 kB\u001b[0m \u001b[31m5.1 MB/s\u001b[0m eta \u001b[36m0:00:00\u001b[0m\n",
            "\u001b[?25hDownloading pfzy-0.3.4-py3-none-any.whl (8.5 kB)\n",
            "Installing collected packages: prices, pfzy, jmespath, scikit-video, InquirerPy, google-measurement-protocol, botocore, s3transfer, pycocoevalcap, boto3, SoccerNet\n",
            "Successfully installed InquirerPy-0.3.4 SoccerNet-0.1.62 boto3-1.36.4 botocore-1.36.4 google-measurement-protocol-1.1.0 jmespath-1.0.1 pfzy-0.3.4 prices-1.1.1 pycocoevalcap-1.2 s3transfer-0.11.1 scikit-video-1.1.11\n"
          ]
        }
      ],
      "source": [
        "%pip install SoccerNet"
      ]
    },
    {
      "cell_type": "markdown",
      "metadata": {
        "id": "v9KaCgpszMBi"
      },
      "source": [
        "Takes around 5-7 minutes to download on Colab, could vary if running locally depending on internet speed. Note that this will need to run every time you restart the Colab instance, so try to add the downloaded files to your Google Drive instead."
      ]
    },
    {
      "cell_type": "code",
      "execution_count": 18,
      "metadata": {
        "colab": {
          "base_uri": "https://localhost:8080/"
        },
        "id": "FUSw3sKnspVO",
        "outputId": "316947e0-629c-45e3-b91f-918e0a6b16fa"
      },
      "outputs": [
        {
          "name": "stderr",
          "output_type": "stream",
          "text": [
            "Downloading jersey-2023/train.zip...: : 1.25GiB [02:31, 8.27MiB/s]                         \n",
            "Downloading jersey-2023/test.zip...: : 1.07GiB [03:04, 5.81MiB/s]                         \n"
          ]
        }
      ],
      "source": [
        "from SoccerNet.Downloader import SoccerNetDownloader as SNdl\n",
        "mySNdl = SNdl(LocalDirectory=\"\")    # change the download location according to the instructions in main repo, when the above code works\n",
        "mySNdl.downloadDataTask(task=\"jersey-2023\", split=[\"train\",\"test\"])   # or split=[\"train\",\"test\",\"challenge\"] if you also want to download challenge set (this set has no labels)"
      ]
    },
    {
      "cell_type": "markdown",
      "metadata": {
        "id": "kAedTM2r3nF_"
      },
      "source": [
        "Unzipping each folder takes about 1 min each"
      ]
    },
    {
      "cell_type": "code",
      "execution_count": 21,
      "metadata": {
        "id": "9Z5shBMTy0dB"
      },
      "outputs": [],
      "source": [
        "!unzip -q jersey-2023/test.zip -d jersey-2023/"
      ]
    },
    {
      "cell_type": "code",
      "execution_count": 22,
      "metadata": {
        "colab": {
          "base_uri": "https://localhost:8080/"
        },
        "id": "QyPbbXwEy8vN",
        "outputId": "d1937bde-a090-4dc0-dfa3-82b82a94178f"
      },
      "outputs": [
        {
          "name": "stdout",
          "output_type": "stream",
          "text": [
            "1211\n"
          ]
        }
      ],
      "source": [
        "# This prints the number of folders (each folder contains tracklet of one player)\n",
        "!ls jersey-2023/test/images/ | wc -l"
      ]
    },
    {
      "cell_type": "code",
      "execution_count": 23,
      "metadata": {
        "id": "4V7SWN9FzaGR"
      },
      "outputs": [],
      "source": [
        "!unzip -q jersey-2023/train.zip -d jersey-2023/"
      ]
    },
    {
      "cell_type": "code",
      "execution_count": 24,
      "metadata": {
        "colab": {
          "base_uri": "https://localhost:8080/"
        },
        "id": "8obS_5-u2DRv",
        "outputId": "9cc126fb-cae6-4a66-c384-58c8d09adf3b"
      },
      "outputs": [
        {
          "name": "stdout",
          "output_type": "stream",
          "text": [
            "1427\n"
          ]
        }
      ],
      "source": [
        "!ls jersey-2023/train/images/ | wc -l"
      ]
    },
    {
      "cell_type": "markdown",
      "metadata": {
        "id": "juYoLjxn8jEg"
      },
      "source": [
        "## Format of labels"
      ]
    },
    {
      "cell_type": "markdown",
      "metadata": {
        "id": "yEJ_XqZl92Jl"
      },
      "source": [
        "Labels are listed in a dictionary format:\n",
        "`{\"tracklet-number\": jersey-number}`.\n",
        "If the tracklet does not have any recognizable digits, the jersey number output should be -1."
      ]
    },
    {
      "cell_type": "code",
      "execution_count": 26,
      "metadata": {
        "colab": {
          "base_uri": "https://localhost:8080/"
        },
        "id": "JfTKi2aY8Zt6",
        "outputId": "f308345e-47ed-4cbc-fbc6-cc6dee0e0d68"
      },
      "outputs": [
        {
          "name": "stdout",
          "output_type": "stream",
          "text": [
            "{\"0\": 4, \"1\": 93, \"2\": 25"
          ]
        }
      ],
      "source": [
        "!head -c 25 jersey-2023/test/test_gt.json"
      ]
    }
  ],
  "metadata": {
    "colab": {
      "provenance": []
    },
    "kernelspec": {
      "display_name": "Python 3",
      "name": "python3"
    },
    "language_info": {
      "name": "python"
    }
  },
  "nbformat": 4,
  "nbformat_minor": 0
}
