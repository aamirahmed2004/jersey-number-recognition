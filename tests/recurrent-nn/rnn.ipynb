{
 "cells": [
  {
   "cell_type": "markdown",
   "metadata": {},
   "source": [
    "### Trying an end-to-end approach "
   ]
  },
  {
   "cell_type": "code",
   "execution_count": 1,
   "metadata": {},
   "outputs": [
    {
     "name": "stdout",
     "output_type": "stream",
     "text": [
      "Defaulting to user installation because normal site-packages is not writeable\n",
      "Requirement already satisfied: torch in /home/user/.local/lib/python3.10/site-packages (2.6.0)\n",
      "Requirement already satisfied: torchvision in /home/user/.local/lib/python3.10/site-packages (0.21.0)\n",
      "Requirement already satisfied: pillow in /usr/lib/python3/dist-packages (9.0.1)\n",
      "Collecting tqdm\n",
      "  Downloading tqdm-4.67.1-py3-none-any.whl (78 kB)\n",
      "\u001b[2K     \u001b[90m━━━━━━━━━━━━━━━━━━━━━━━━━━━━━━━━━━━━━━━━\u001b[0m \u001b[32m78.5/78.5 KB\u001b[0m \u001b[31m1.9 MB/s\u001b[0m eta \u001b[36m0:00:00\u001b[0ma \u001b[36m0:00:01\u001b[0m\n",
      "\u001b[?25hRequirement already satisfied: nvidia-nvjitlink-cu12==12.4.127 in /home/user/.local/lib/python3.10/site-packages (from torch) (12.4.127)\n",
      "Requirement already satisfied: nvidia-cudnn-cu12==9.1.0.70 in /home/user/.local/lib/python3.10/site-packages (from torch) (9.1.0.70)\n",
      "Requirement already satisfied: nvidia-curand-cu12==10.3.5.147 in /home/user/.local/lib/python3.10/site-packages (from torch) (10.3.5.147)\n",
      "Requirement already satisfied: nvidia-cublas-cu12==12.4.5.8 in /home/user/.local/lib/python3.10/site-packages (from torch) (12.4.5.8)\n",
      "Requirement already satisfied: nvidia-nvtx-cu12==12.4.127 in /home/user/.local/lib/python3.10/site-packages (from torch) (12.4.127)\n",
      "Requirement already satisfied: nvidia-cufft-cu12==11.2.1.3 in /home/user/.local/lib/python3.10/site-packages (from torch) (11.2.1.3)\n",
      "Requirement already satisfied: sympy==1.13.1 in /home/user/.local/lib/python3.10/site-packages (from torch) (1.13.1)\n",
      "Requirement already satisfied: triton==3.2.0 in /home/user/.local/lib/python3.10/site-packages (from torch) (3.2.0)\n",
      "Requirement already satisfied: jinja2 in /usr/lib/python3/dist-packages (from torch) (3.0.3)\n",
      "Requirement already satisfied: networkx in /home/user/.local/lib/python3.10/site-packages (from torch) (3.4.2)\n",
      "Requirement already satisfied: nvidia-cuda-runtime-cu12==12.4.127 in /home/user/.local/lib/python3.10/site-packages (from torch) (12.4.127)\n",
      "Requirement already satisfied: nvidia-cusparse-cu12==12.3.1.170 in /home/user/.local/lib/python3.10/site-packages (from torch) (12.3.1.170)\n",
      "Requirement already satisfied: typing-extensions>=4.10.0 in /home/user/.local/lib/python3.10/site-packages (from torch) (4.13.0)\n",
      "Requirement already satisfied: nvidia-nccl-cu12==2.21.5 in /home/user/.local/lib/python3.10/site-packages (from torch) (2.21.5)\n",
      "Requirement already satisfied: nvidia-cuda-cupti-cu12==12.4.127 in /home/user/.local/lib/python3.10/site-packages (from torch) (12.4.127)\n",
      "Requirement already satisfied: nvidia-cusparselt-cu12==0.6.2 in /home/user/.local/lib/python3.10/site-packages (from torch) (0.6.2)\n",
      "Requirement already satisfied: filelock in /home/user/.local/lib/python3.10/site-packages (from torch) (3.18.0)\n",
      "Requirement already satisfied: fsspec in /home/user/.local/lib/python3.10/site-packages (from torch) (2025.3.0)\n",
      "Requirement already satisfied: nvidia-cuda-nvrtc-cu12==12.4.127 in /home/user/.local/lib/python3.10/site-packages (from torch) (12.4.127)\n",
      "Requirement already satisfied: nvidia-cusolver-cu12==11.6.1.9 in /home/user/.local/lib/python3.10/site-packages (from torch) (11.6.1.9)\n",
      "Requirement already satisfied: mpmath<1.4,>=1.1.0 in /home/user/.local/lib/python3.10/site-packages (from sympy==1.13.1->torch) (1.3.0)\n",
      "Requirement already satisfied: numpy in /usr/lib/python3/dist-packages (from torchvision) (1.21.5)\n",
      "Installing collected packages: tqdm\n",
      "\u001b[33m  WARNING: The script tqdm is installed in '/home/user/.local/bin' which is not on PATH.\n",
      "  Consider adding this directory to PATH or, if you prefer to suppress this warning, use --no-warn-script-location.\u001b[0m\u001b[33m\n",
      "\u001b[0mSuccessfully installed tqdm-4.67.1\n",
      "Note: you may need to restart the kernel to use updated packages.\n"
     ]
    }
   ],
   "source": [
    "# %pip install torch torchvision pillow tqdm"
   ]
  },
  {
   "cell_type": "code",
   "execution_count": 1,
   "metadata": {},
   "outputs": [
    {
     "name": "stdout",
     "output_type": "stream",
     "text": [
      "2.3.1\n"
     ]
    }
   ],
   "source": [
    "import torch\n",
    "print(torch.__version__)\n",
    "import torch.nn as nn\n",
    "import torch.optim as optim\n",
    "from torch.utils.data import DataLoader, IterableDataset\n",
    "from torch.nn.utils.rnn import pad_sequence, pack_padded_sequence, pad_packed_sequence\n",
    "from torchvision import transforms\n",
    "from torchvision.models import resnet18\n",
    "from PIL import Image\n",
    "import os\n",
    "import json\n",
    "from tqdm import tqdm\n",
    "from random import sample\n",
    "\n",
    "torch.cuda.empty_cache()"
   ]
  },
  {
   "cell_type": "markdown",
   "metadata": {},
   "source": [
    "### Image transformations "
   ]
  },
  {
   "cell_type": "code",
   "execution_count": 2,
   "metadata": {},
   "outputs": [],
   "source": [
    "class ResizeAndPadTransform:\n",
    "    def __init__(self, target_height=128, target_width=128):\n",
    "        self.target_height = target_height\n",
    "        self.target_width = target_width\n",
    "\n",
    "    def __call__(self, img):\n",
    "        w, h = img.size\n",
    "\n",
    "        # Resize based on the larger dimension:\n",
    "        if w >= h:\n",
    "            if w > self.target_width:\n",
    "                new_w = self.target_width\n",
    "                new_h = int(round(h * self.target_width / w))\n",
    "                img = transforms.Resize((new_h, new_w))(img)\n",
    "        else:\n",
    "            if h > self.target_height:\n",
    "                new_h = self.target_height\n",
    "                new_w = int(round(w * self.target_height / h))\n",
    "                img = transforms.Resize((new_h, new_w))(img)\n",
    "\n",
    "        # If it’s still larger than the target, resize it (which may slightly change the aspect ratio)\n",
    "        w, h = img.size\n",
    "        if w > self.target_width:\n",
    "            # Resize width to target_width and scale height accordingly.\n",
    "            new_w = self.target_width\n",
    "            new_h = int(round(h * self.target_width / w))\n",
    "            img = transforms.Resize((new_h, new_w))(img)\n",
    "        if h > self.target_height:\n",
    "            # Resize height to target_height and scale width accordingly.\n",
    "            new_h = self.target_height\n",
    "            new_w = int(round(w * self.target_height / h))\n",
    "            img = transforms.Resize((new_h, new_w))(img)\n",
    "\n",
    "        # After resizing, pad if any dimension is less than 128\n",
    "        w, h = img.size\n",
    "        pad_w = max(0, self.target_width - w)\n",
    "        pad_h = max(0, self.target_height - h)\n",
    "        left = pad_w // 2\n",
    "        right = pad_w - left\n",
    "        top = pad_h // 2\n",
    "        bottom = pad_h - top\n",
    "        img = transforms.functional.pad(img, (left, top, right, bottom), fill=0)\n",
    "\n",
    "        # Convert to tensor and normalize\n",
    "        img = transforms.ToTensor()(img)\n",
    "        img = transforms.Normalize((0.5, 0.5, 0.5), (0.5, 0.5, 0.5))(img)\n",
    "        \n",
    "        return img"
   ]
  },
  {
   "cell_type": "code",
   "execution_count": 3,
   "metadata": {},
   "outputs": [
    {
     "name": "stdout",
     "output_type": "stream",
     "text": [
      "torch.Size([3, 128, 128])\n"
     ]
    }
   ],
   "source": [
    "frame_transform = transforms.Compose([\n",
    "    ResizeAndPadTransform(target_height=128, target_width=128)\n",
    "])\n",
    "\n",
    "image_path = os.path.join(\"/home/user/jersey-number-recognition/replicating_results/jersey-number-pipeline/data/SoccerNet/train/images/0\", \"0_1.jpg\")\n",
    "image = Image.open(image_path).convert(\"RGB\")\n",
    "transformed_image = frame_transform(image)\n",
    "print(transformed_image.shape)"
   ]
  },
  {
   "cell_type": "code",
   "execution_count": 4,
   "metadata": {},
   "outputs": [
    {
     "data": {
      "image/png": "[encoded data removed]",
      "text/plain": [
       "<Figure size 640x480 with 1 Axes>"
      ]
     },
     "metadata": {},
     "output_type": "display_data"
    }
   ],
   "source": [
    "import matplotlib.pyplot as plt\n",
    "\n",
    "# Convert the transformed tensor back to an image for visualization\n",
    "transformed_image_np = transformed_image.permute(1, 2, 0).numpy() * 0.5 + 0.5  # Denormalize\n",
    "plt.imshow(transformed_image_np)\n",
    "plt.axis('off')\n",
    "plt.show()"
   ]
  },
  {
   "cell_type": "markdown",
   "metadata": {},
   "source": [
    "### Define Dataset and Collate function for batching variable length sequences"
   ]
  },
  {
   "cell_type": "code",
   "execution_count": 5,
   "metadata": {},
   "outputs": [],
   "source": [
    "class TrackletDataset(IterableDataset):\n",
    "    def __init__(self, img_dir, gt_file, transform=None, tracklet_ids=None):\n",
    "        super().__init__()\n",
    "        self.img_dir = img_dir\n",
    "        self.gt_file = gt_file\n",
    "        self.transform = transform\n",
    "        with open(gt_file, \"r\") as f:\n",
    "            self.gt_data = json.load(f)\n",
    "        if tracklet_ids == None:\n",
    "            self.tracklet_ids = [d for d in os.listdir(img_dir) if os.path.isdir(os.path.join(img_dir, d))]\n",
    "        else:\n",
    "            self.tracklet_ids = tracklet_ids\n",
    "\n",
    "    def __iter__(self):\n",
    "        \"\"\"\n",
    "        Generator function for streaming the dataset.\n",
    "        Yields: (tracklet_tensor, label)\n",
    "        \"\"\"\n",
    "        for tracklet_id in tqdm(self.tracklet_ids, desc=\"Streaming tracklets\"):\n",
    "            tracklet_path = os.path.join(self.img_dir, tracklet_id)\n",
    "            label = self.gt_data[tracklet_id]\n",
    "\n",
    "            # Load images one by one\n",
    "            images = []\n",
    "            for filename in sorted(os.listdir(tracklet_path)):\n",
    "                if filename.endswith(\".jpg\"):\n",
    "                    img_path = os.path.join(tracklet_path, filename)\n",
    "                    try:\n",
    "                        img = Image.open(img_path).convert(\"RGB\")\n",
    "                        if self.transform:\n",
    "                            img = self.transform(img)\n",
    "                        images.append(img)\n",
    "                    except Exception as e:\n",
    "                        print(f\"Error loading image {img_path}: {e}\")\n",
    "                        continue\n",
    "\n",
    "            if len(images) == 0:\n",
    "                continue\n",
    "\n",
    "            tracklet_tensor = torch.stack(images)\n",
    "\n",
    "            # Use 0 for the illegible class (CrossEntropyLoss requires labels starting at 0)\n",
    "            label_tensor = torch.tensor(0 if label == -1 else label)\n",
    "\n",
    "            yield tracklet_tensor, label_tensor\n",
    "\n",
    "def collate_fn(batch):\n",
    "    \"\"\"\n",
    "    Since some tracklets are longer than others, we need a custom collate function to divide them into batches.\n",
    "    Our approach pads each sequence to the length of the longest sequence so it may be passed to nn.utils.rnn.pack_padded_sequence().\n",
    "    Each element in the batch is a tuple (tracklet_tensor, label), where each tracklet_tensor has shape (max_seq_len, C, H, W).\n",
    "    \"\"\"\n",
    "    tracklets, labels = zip(*batch)\n",
    "    seq_lengths = [t.shape[0] for t in tracklets]\n",
    "\n",
    "    # Sort the batch in descending order of sequence lengths\n",
    "    sorted_indices = sorted(range(len(seq_lengths)), key=lambda i: seq_lengths[i], reverse=True)\n",
    "    sorted_tracklets = [tracklets[i] for i in sorted_indices]\n",
    "    sorted_labels = [labels[i] for i in sorted_indices]\n",
    "    sorted_seq_lengths = [seq_lengths[i] for i in sorted_indices]\n",
    "\n",
    "    # Pad the tracklet sequences to the maximum sequence length in the batch\n",
    "    padded_tracklets = pad_sequence(sorted_tracklets, batch_first=True)\n",
    "\n",
    "    return padded_tracklets, torch.tensor(sorted_seq_lengths), torch.tensor(sorted_labels)"
   ]
  },
  {
   "cell_type": "markdown",
   "metadata": {},
   "source": [
    "### Define the backbone architecture (taken from Laura's code)"
   ]
  },
  {
   "cell_type": "code",
   "execution_count": 6,
   "metadata": {},
   "outputs": [],
   "source": [
    "class JerseyNumberClassifier(nn.Module):\n",
    "    def __init__(self):\n",
    "        super(JerseyNumberClassifier, self).__init__()\n",
    "        \n",
    "        # 128x128 input\n",
    "        self.block1 = nn.Sequential(\n",
    "            nn.Conv2d(3, 64, kernel_size=3, padding=1),\n",
    "            nn.ReLU(),\n",
    "            nn.Conv2d(64, 64, kernel_size=3, padding=1),\n",
    "            nn.ReLU(),\n",
    "            nn.MaxPool2d(kernel_size=2, stride=2),\n",
    "        )\n",
    "        \n",
    "        # 64x64 input\n",
    "        self.block2 = nn.Sequential(\n",
    "            nn.Conv2d(64, 128, kernel_size=3, padding=1),\n",
    "            nn.ReLU(),\n",
    "            nn.Conv2d(128, 128, kernel_size=3, padding=1),\n",
    "            nn.ReLU(),\n",
    "            nn.MaxPool2d(kernel_size=2, stride=2),\n",
    "        )\n",
    "        \n",
    "        # 32x32 input\n",
    "        self.block3 = nn.Sequential(\n",
    "            nn.Conv2d(128, 256, kernel_size=3, padding=1),\n",
    "            nn.ReLU(),\n",
    "            nn.Conv2d(256, 256, kernel_size=3, padding=1),\n",
    "            nn.ReLU(),\n",
    "            nn.MaxPool2d(kernel_size=2, stride=2),\n",
    "        )\n",
    "        \n",
    "        # 16x16 input\n",
    "        self.block4 = nn.Sequential(\n",
    "            nn.Conv2d(256, 512, kernel_size=3, padding=1),\n",
    "            nn.ReLU(),\n",
    "            nn.Conv2d(512, 512, kernel_size=3, padding=1),\n",
    "            nn.ReLU(),\n",
    "            nn.MaxPool2d(kernel_size=2, stride=2),\n",
    "        )\n",
    "        \n",
    "        # 8x8 input\n",
    "        self.block5 = nn.Sequential(\n",
    "            nn.Conv2d(512, 512, kernel_size=3, padding=1),\n",
    "            nn.ReLU(),\n",
    "            nn.Conv2d(512, 512, kernel_size=3, padding=1),\n",
    "            nn.ReLU(),\n",
    "            nn.MaxPool2d(kernel_size=2, stride=2),\n",
    "        )\n",
    "\n",
    "        # 4x4 input\n",
    "        self.block6 = nn.Sequential(\n",
    "            nn.Conv2d(512, 1024, kernel_size=3, padding=1),\n",
    "            nn.ReLU(),\n",
    "            nn.Conv2d(1024, 1024, kernel_size=3, padding=1),\n",
    "            nn.ReLU(),\n",
    "            nn.MaxPool2d(kernel_size=2, stride=2),\n",
    "        )\n",
    "        \n",
    "        # 2x2 output instead of 1x1\n",
    "        self.fc = nn.Sequential(\n",
    "            nn.Linear(1024 * 2 * 2, 8192),  # Adjusted from 1024 * 1 * 1\n",
    "            nn.ReLU(),\n",
    "            nn.Linear(8192, 4096),\n",
    "            nn.ReLU(),\n",
    "            nn.Linear(4096, 1024),\n",
    "            nn.ReLU(),\n",
    "            nn.Linear(1024, 100)\n",
    "        )\n",
    "    \n",
    "    def forward(self, x):\n",
    "        x = self.block1(x)\n",
    "        x = self.block2(x)\n",
    "        x = self.block3(x)\n",
    "        x = self.block4(x)\n",
    "        x = self.block5(x)\n",
    "        x = self.block6(x)\n",
    "        x = torch.flatten(x, start_dim=1) \n",
    "        x = self.fc(x)\n",
    "        return x"
   ]
  },
  {
   "cell_type": "code",
   "execution_count": 7,
   "metadata": {},
   "outputs": [
    {
     "name": "stdout",
     "output_type": "stream",
     "text": [
      "Contains the full cnn_model.\n"
     ]
    }
   ],
   "source": [
    "cnn_model = torch.load(\"test_cnn.pth\", weights_only=False)\n",
    "\n",
    "# Checking whether .pth file contains model as well\n",
    "if isinstance(cnn_model, dict):  # if only state_dict, then it means weights only\n",
    "    print(\"Contains only weights.\")\n",
    "elif isinstance(cnn_model, nn.Module):  # entire model\n",
    "    print(\"Contains the full cnn_model.\")\n",
    "else:\n",
    "    print(\"Unknown format.\")"
   ]
  },
  {
   "cell_type": "code",
   "execution_count": 7,
   "metadata": {},
   "outputs": [],
   "source": [
    "class CNNFeatureExtractor(nn.Module):\n",
    "    \"\"\"Wrapper around the full model without the fc block.\"\"\"\n",
    "    def __init__(self, full_model):\n",
    "        super(CNNFeatureExtractor, self).__init__()\n",
    "        self.features = nn.Sequential(\n",
    "            full_model.block1,\n",
    "            full_model.block2,\n",
    "            full_model.block3,\n",
    "            full_model.block4,\n",
    "            full_model.block5,\n",
    "            full_model.block6       # Should be 1024 channels with 2x2 activation maps\n",
    "        )\n",
    "\n",
    "    def forward(self, x):\n",
    "        x = self.features(x)\n",
    "        return x"
   ]
  },
  {
   "cell_type": "code",
   "execution_count": 8,
   "metadata": {},
   "outputs": [],
   "source": [
    "class ImageRNN(nn.Module):\n",
    "    def __init__(self, cnn_model, hidden_dim=512, num_layers=2, rnn_output_dim=100, rnn_type=\"LSTM\", cnn_feature_dim=256):\n",
    "        super(ImageRNN, self).__init__()\n",
    "        # CNN feature extractor without the fc block\n",
    "        self.cnn = CNNFeatureExtractor(cnn_model)\n",
    "        # CNN output dimension is 1024 * 2 * 2 = 4096\n",
    "        self.cnn_out_dim = 1024 * 2 * 2  \n",
    "        # Projection layer: from 4096 to 256\n",
    "        self.cnn_project = nn.Linear(self.cnn_out_dim, cnn_feature_dim)\n",
    "        # RNN layer: input dimension is cnn_feature_dim\n",
    "        rnn_cls = nn.LSTM if rnn_type == 'LSTM' else nn.GRU\n",
    "        self.rnn = rnn_cls(input_size=cnn_feature_dim, hidden_size=hidden_dim, \n",
    "                           num_layers=num_layers, batch_first=True)\n",
    "        # Final output layer\n",
    "        self.fc = nn.Linear(hidden_dim, rnn_output_dim)\n",
    "\n",
    "    def forward(self, x, seq_lengths):\n",
    "        \"\"\"\n",
    "        x: Tensor of shape (batch_size, seq_len, C, H, W)\n",
    "        seq_lengths: Tensor or list of actual sequence lengths for each tracklet.\n",
    "        \"\"\"\n",
    "        batch_size, seq_len, C, H, W = x.shape\n",
    "        cnn_features = []\n",
    "#         print(seq_len)\n",
    "        # Process each frame in the sequence\n",
    "        for i in range(seq_len):\n",
    "            img_batch = x[:, i]  # Shape: (batch_size, C, H, W)\n",
    "            with torch.no_grad():  # Freeze CNN feature extractor if desired\n",
    "                features = self.cnn(img_batch)  # Shape: (batch_size, 1024, 2, 2)\n",
    "            features = features.view(batch_size, -1)  # Flatten to (batch_size, 4096)\n",
    "            features = self.cnn_project(features)       # Project to (batch_size, cnn_feature_dim)\n",
    "            cnn_features.append(features)\n",
    "        # Stack along the time dimension: (batch_size, seq_len, cnn_feature_dim)\n",
    "        cnn_features = torch.stack(cnn_features, dim=1)\n",
    "        # Pack the padded sequence\n",
    "        packed_seq = pack_padded_sequence(cnn_features, lengths=seq_lengths, batch_first=True, enforce_sorted=True)\n",
    "        packed_out, _ = self.rnn(packed_seq)\n",
    "        # Unpack the sequence\n",
    "        padded_out, _ = pad_packed_sequence(packed_out, batch_first=True)\n",
    "        # For each sample, select the output at the last valid time step\n",
    "        last_outputs = []\n",
    "        for i, length in enumerate(seq_lengths):\n",
    "            last_outputs.append(padded_out[i, length - 1, :])\n",
    "        last_outputs = torch.stack(last_outputs, dim=0)\n",
    "        output = self.fc(last_outputs)  # Final prediction: (batch_size, rnn_output_dim)\n",
    "        return output"
   ]
  },
  {
   "cell_type": "code",
   "execution_count": 9,
   "metadata": {},
   "outputs": [
    {
     "name": "stdout",
     "output_type": "stream",
     "text": [
      "cuda\n"
     ]
    }
   ],
   "source": [
    "IMG_DIR = r\"/home/user/jersey-number-recognition/replicating_results/jersey-number-pipeline/data/SoccerNet/train/images/\"\n",
    "GT_FILE = r\"/home/user/jersey-number-recognition/replicating_results/jersey-number-pipeline/data/SoccerNet/train/train_gt.json\"\n",
    "\n",
    "BATCH_SIZE = 4\n",
    "LEARNING_RATE = 1e-4\n",
    "EPOCHS = 5\n",
    "DEVICE = torch.device('cuda' if torch.cuda.is_available() else 'cpu')\n",
    "print(DEVICE)"
   ]
  },
  {
   "cell_type": "code",
   "execution_count": 12,
   "metadata": {},
   "outputs": [],
   "source": [
    "subset_fraction = 0.15\n",
    "\n",
    "def create_subset(subset_fraction=0.15):\n",
    "    tracklet_ids = [d for d in os.listdir(IMG_DIR) if os.path.isdir(os.path.join(IMG_DIR, d))]\n",
    "    total_samples = len(tracklet_ids)\n",
    "    num_samples = int(total_samples * subset_fraction)\n",
    "\n",
    "    # Randomly sample the indices of tracklets to keep\n",
    "    sampled_tracklet_ids = sample(tracklet_ids, num_samples)\n",
    "\n",
    "    subset_dataset = TrackletDataset(IMG_DIR, GT_FILE, frame_transform, sampled_tracklet_ids)\n",
    "    subset_dataloader = DataLoader(subset_dataset, batch_size=4, collate_fn=collate_fn)\n",
    "\n",
    "    return subset_dataloader\n",
    "\n",
    "# Create the subset dataloader (15% of the original dataset) to use for overfitting\n",
    "subset_dataloader = create_subset(subset_fraction=subset_fraction)"
   ]
  },
  {
   "cell_type": "code",
   "execution_count": 15,
   "metadata": {},
   "outputs": [],
   "source": [
    "cnn_model.eval() # freeze CNN weights \n",
    "\n",
    "# model = ImageRNN(cnn_model=cnn_model, hidden_dim=512, num_layers=2, cnn_feature_dim=512)\n",
    "# model.to(DEVICE)\n",
    "\n",
    "# criterion = nn.CrossEntropyLoss()  # or another appropriate loss\n",
    "# optimizer = optim.Adam(model.parameters(), lr=LEARNING_RATE)"
   ]
  },
  {
   "cell_type": "code",
   "execution_count": null,
   "metadata": {},
   "outputs": [
    {
     "name": "stderr",
     "output_type": "stream",
     "text": [
      "Streaming tracklets:   4%|██▎                                                           | 8/214 [00:20<10:28,  3.05s/it]"
     ]
    },
    {
     "name": "stdout",
     "output_type": "stream",
     "text": [
      "Batch 1, Loss: 4.6143\n"
     ]
    },
    {
     "name": "stderr",
     "output_type": "stream",
     "text": [
      "Streaming tracklets:   4%|██▎                                                           | 8/214 [00:24<15:20,  4.47s/it]"
     ]
    },
    {
     "name": "stdout",
     "output_type": "stream",
     "text": [
      "Batch 2, Loss: 4.5829\n"
     ]
    },
    {
     "name": "stderr",
     "output_type": "stream",
     "text": [
      "Streaming tracklets:   4%|██▎                                                           | 8/214 [00:29<20:47,  6.06s/it]"
     ]
    },
    {
     "name": "stdout",
     "output_type": "stream",
     "text": [
      "Batch 3, Loss: 4.5511\n"
     ]
    },
    {
     "name": "stderr",
     "output_type": "stream",
     "text": [
      "Streaming tracklets:   6%|███▍                                                         | 12/214 [00:32<13:53,  4.13s/it]"
     ]
    },
    {
     "name": "stdout",
     "output_type": "stream",
     "text": [
      "Batch 4, Loss: 4.5176\n"
     ]
    },
    {
     "name": "stderr",
     "output_type": "stream",
     "text": [
      "Streaming tracklets:   7%|███▉                                                         | 14/214 [00:36<09:27,  2.84s/it]"
     ]
    },
    {
     "name": "stdout",
     "output_type": "stream",
     "text": [
      "Batch 5, Loss: 4.5378\n"
     ]
    },
    {
     "name": "stderr",
     "output_type": "stream",
     "text": [
      "Streaming tracklets:   6%|███▍                                                         | 12/214 [00:40<18:20,  5.45s/it]"
     ]
    },
    {
     "name": "stdout",
     "output_type": "stream",
     "text": [
      "Batch 6, Loss: 4.5121\n"
     ]
    },
    {
     "name": "stderr",
     "output_type": "stream",
     "text": [
      "Streaming tracklets:   6%|███▍                                                         | 12/214 [00:45<20:10,  5.99s/it]"
     ]
    },
    {
     "name": "stdout",
     "output_type": "stream",
     "text": [
      "Batch 7, Loss: 4.4787\n"
     ]
    },
    {
     "name": "stderr",
     "output_type": "stream",
     "text": [
      "Streaming tracklets:   7%|████▌                                                        | 16/214 [00:50<18:08,  5.50s/it]"
     ]
    },
    {
     "name": "stdout",
     "output_type": "stream",
     "text": [
      "Batch 8, Loss: 4.4377\n"
     ]
    },
    {
     "name": "stderr",
     "output_type": "stream",
     "text": [
      "Streaming tracklets:   7%|████▌                                                        | 16/214 [00:53<19:09,  5.81s/it]"
     ]
    },
    {
     "name": "stdout",
     "output_type": "stream",
     "text": [
      "Batch 9, Loss: 4.5447\n"
     ]
    },
    {
     "name": "stderr",
     "output_type": "stream",
     "text": [
      "Streaming tracklets:   7%|████▌                                                        | 16/214 [00:57<17:46,  5.39s/it]"
     ]
    },
    {
     "name": "stdout",
     "output_type": "stream",
     "text": [
      "Batch 10, Loss: 4.5197\n"
     ]
    },
    {
     "name": "stderr",
     "output_type": "stream",
     "text": [
      "Streaming tracklets:   9%|█████▍                                                       | 19/214 [01:01<09:23,  2.89s/it]"
     ]
    },
    {
     "name": "stdout",
     "output_type": "stream",
     "text": [
      "Batch 11, Loss: 4.4858\n"
     ]
    },
    {
     "name": "stderr",
     "output_type": "stream",
     "text": [
      "Streaming tracklets:   9%|█████▍                                                       | 19/214 [01:05<09:03,  2.79s/it]"
     ]
    },
    {
     "name": "stdout",
     "output_type": "stream",
     "text": [
      "Batch 12, Loss: 4.4420\n"
     ]
    },
    {
     "name": "stderr",
     "output_type": "stream",
     "text": [
      "Streaming tracklets:  10%|██████▎                                                      | 22/214 [01:09<11:23,  3.56s/it]"
     ]
    },
    {
     "name": "stdout",
     "output_type": "stream",
     "text": [
      "Batch 13, Loss: 4.5470\n"
     ]
    },
    {
     "name": "stderr",
     "output_type": "stream",
     "text": [
      "Streaming tracklets:   9%|█████▋                                                       | 20/214 [01:13<18:20,  5.68s/it]"
     ]
    },
    {
     "name": "stdout",
     "output_type": "stream",
     "text": [
      "Batch 14, Loss: 4.5201\n"
     ]
    },
    {
     "name": "stderr",
     "output_type": "stream",
     "text": [
      "Streaming tracklets:   9%|█████▋                                                       | 20/214 [01:18<19:24,  6.00s/it]"
     ]
    },
    {
     "name": "stdout",
     "output_type": "stream",
     "text": [
      "Batch 15, Loss: 4.4791\n"
     ]
    },
    {
     "name": "stderr",
     "output_type": "stream",
     "text": [
      "Streaming tracklets:  11%|██████▊                                                      | 24/214 [01:23<18:04,  5.71s/it]"
     ]
    },
    {
     "name": "stdout",
     "output_type": "stream",
     "text": [
      "Batch 16, Loss: 4.4236\n"
     ]
    },
    {
     "name": "stderr",
     "output_type": "stream",
     "text": [
      "Streaming tracklets:  12%|███████▍                                                     | 26/214 [01:27<12:02,  3.84s/it]"
     ]
    },
    {
     "name": "stdout",
     "output_type": "stream",
     "text": [
      "Batch 17, Loss: 4.4449\n"
     ]
    },
    {
     "name": "stderr",
     "output_type": "stream",
     "text": [
      "Streaming tracklets:  11%|██████▊                                                      | 24/214 [01:31<18:18,  5.78s/it]"
     ]
    },
    {
     "name": "stdout",
     "output_type": "stream",
     "text": [
      "Batch 18, Loss: 4.3972\n"
     ]
    },
    {
     "name": "stderr",
     "output_type": "stream",
     "text": [
      "Streaming tracklets:  11%|██████▊                                                      | 24/214 [01:35<17:52,  5.65s/it]"
     ]
    },
    {
     "name": "stdout",
     "output_type": "stream",
     "text": [
      "Batch 19, Loss: 4.3268\n"
     ]
    },
    {
     "name": "stderr",
     "output_type": "stream",
     "text": [
      "Streaming tracklets:  13%|███████▉                                                     | 28/214 [01:38<16:27,  5.31s/it]"
     ]
    },
    {
     "name": "stdout",
     "output_type": "stream",
     "text": [
      "Batch 20, Loss: 4.2345\n"
     ]
    },
    {
     "name": "stderr",
     "output_type": "stream",
     "text": [
      "Streaming tracklets:  13%|███████▉                                                     | 28/214 [01:42<17:12,  5.55s/it]"
     ]
    },
    {
     "name": "stdout",
     "output_type": "stream",
     "text": [
      "Batch 21, Loss: 4.1412\n"
     ]
    },
    {
     "name": "stderr",
     "output_type": "stream",
     "text": [
      "Streaming tracklets:  13%|███████▉                                                     | 28/214 [01:46<16:52,  5.44s/it]"
     ]
    },
    {
     "name": "stdout",
     "output_type": "stream",
     "text": [
      "Batch 22, Loss: 4.0634\n"
     ]
    },
    {
     "name": "stderr",
     "output_type": "stream",
     "text": [
      "Streaming tracklets:  13%|███████▉                                                     | 28/214 [01:50<16:54,  5.46s/it]"
     ]
    },
    {
     "name": "stdout",
     "output_type": "stream",
     "text": [
      "Batch 23, Loss: 3.9647\n"
     ]
    },
    {
     "name": "stderr",
     "output_type": "stream",
     "text": [
      "Streaming tracklets:  15%|█████████                                                    | 32/214 [01:54<16:18,  5.38s/it]"
     ]
    },
    {
     "name": "stdout",
     "output_type": "stream",
     "text": [
      "Batch 24, Loss: 3.8486\n"
     ]
    },
    {
     "name": "stderr",
     "output_type": "stream",
     "text": [
      "Streaming tracklets:  15%|█████████                                                    | 32/214 [01:57<16:22,  5.40s/it]"
     ]
    },
    {
     "name": "stdout",
     "output_type": "stream",
     "text": [
      "Batch 25, Loss: 2.9159\n"
     ]
    },
    {
     "name": "stderr",
     "output_type": "stream",
     "text": [
      "Streaming tracklets:  15%|█████████                                                    | 32/214 [02:01<16:11,  5.34s/it]"
     ]
    },
    {
     "name": "stdout",
     "output_type": "stream",
     "text": [
      "Batch 26, Loss: 2.7015\n"
     ]
    },
    {
     "name": "stderr",
     "output_type": "stream",
     "text": [
      "Streaming tracklets:  15%|█████████                                                    | 32/214 [02:06<16:55,  5.58s/it]"
     ]
    },
    {
     "name": "stdout",
     "output_type": "stream",
     "text": [
      "Batch 27, Loss: 2.4625\n"
     ]
    },
    {
     "name": "stderr",
     "output_type": "stream",
     "text": [
      "Streaming tracklets:  17%|██████████▎                                                  | 36/214 [02:10<15:51,  5.35s/it]"
     ]
    },
    {
     "name": "stdout",
     "output_type": "stream",
     "text": [
      "Batch 28, Loss: 2.2165\n"
     ]
    },
    {
     "name": "stderr",
     "output_type": "stream",
     "text": [
      "Streaming tracklets:  17%|██████████▎                                                  | 36/214 [02:14<16:53,  5.69s/it]"
     ]
    },
    {
     "name": "stdout",
     "output_type": "stream",
     "text": [
      "Batch 29, Loss: 3.9695\n"
     ]
    },
    {
     "name": "stderr",
     "output_type": "stream",
     "text": [
      "Streaming tracklets:  17%|██████████▎                                                  | 36/214 [02:18<16:27,  5.55s/it]"
     ]
    },
    {
     "name": "stdout",
     "output_type": "stream",
     "text": [
      "Batch 30, Loss: 3.9739\n"
     ]
    },
    {
     "name": "stderr",
     "output_type": "stream",
     "text": [
      "Streaming tracklets:  17%|██████████▎                                                  | 36/214 [02:21<15:56,  5.37s/it]"
     ]
    },
    {
     "name": "stdout",
     "output_type": "stream",
     "text": [
      "Batch 31, Loss: 3.9249\n"
     ]
    },
    {
     "name": "stderr",
     "output_type": "stream",
     "text": [
      "Streaming tracklets:  19%|███████████▍                                                 | 40/214 [02:25<15:18,  5.28s/it]"
     ]
    },
    {
     "name": "stdout",
     "output_type": "stream",
     "text": [
      "Batch 32, Loss: 3.8315\n"
     ]
    },
    {
     "name": "stderr",
     "output_type": "stream",
     "text": [
      "Streaming tracklets:  19%|███████████▍                                                 | 40/214 [02:28<15:19,  5.29s/it]"
     ]
    },
    {
     "name": "stdout",
     "output_type": "stream",
     "text": [
      "Batch 33, Loss: 3.4434\n"
     ]
    },
    {
     "name": "stderr",
     "output_type": "stream",
     "text": [
      "Streaming tracklets:  19%|███████████▍                                                 | 40/214 [02:32<15:25,  5.32s/it]"
     ]
    },
    {
     "name": "stdout",
     "output_type": "stream",
     "text": [
      "Batch 34, Loss: 3.4038\n"
     ]
    },
    {
     "name": "stderr",
     "output_type": "stream",
     "text": [
      "Streaming tracklets:  19%|███████████▍                                                 | 40/214 [02:36<15:34,  5.37s/it]"
     ]
    },
    {
     "name": "stdout",
     "output_type": "stream",
     "text": [
      "Batch 35, Loss: 3.3355\n"
     ]
    },
    {
     "name": "stderr",
     "output_type": "stream",
     "text": [
      "Streaming tracklets:  21%|████████████▌                                                | 44/214 [02:40<14:40,  5.18s/it]"
     ]
    },
    {
     "name": "stdout",
     "output_type": "stream",
     "text": [
      "Batch 36, Loss: 3.2468\n"
     ]
    },
    {
     "name": "stderr",
     "output_type": "stream",
     "text": [
      "Streaming tracklets:  21%|█████████████                                                | 46/214 [02:44<09:56,  3.55s/it]"
     ]
    },
    {
     "name": "stdout",
     "output_type": "stream",
     "text": [
      "Batch 37, Loss: 4.3367\n"
     ]
    },
    {
     "name": "stderr",
     "output_type": "stream",
     "text": [
      "Streaming tracklets:  21%|████████████▌                                                | 44/214 [02:48<15:10,  5.36s/it]"
     ]
    },
    {
     "name": "stdout",
     "output_type": "stream",
     "text": [
      "Batch 38, Loss: 4.2660\n"
     ]
    },
    {
     "name": "stderr",
     "output_type": "stream",
     "text": [
      "Streaming tracklets:  21%|████████████▌                                                | 44/214 [02:51<14:55,  5.27s/it]"
     ]
    },
    {
     "name": "stdout",
     "output_type": "stream",
     "text": [
      "Batch 39, Loss: 4.1748\n"
     ]
    },
    {
     "name": "stderr",
     "output_type": "stream",
     "text": [
      "Streaming tracklets:  22%|█████████████▋                                               | 48/214 [02:55<14:05,  5.09s/it]"
     ]
    },
    {
     "name": "stdout",
     "output_type": "stream",
     "text": [
      "Batch 40, Loss: 4.0713\n"
     ]
    },
    {
     "name": "stderr",
     "output_type": "stream",
     "text": [
      "Streaming tracklets:  22%|█████████████▋                                               | 48/214 [02:59<14:31,  5.25s/it]"
     ]
    },
    {
     "name": "stdout",
     "output_type": "stream",
     "text": [
      "Batch 41, Loss: 4.8663\n"
     ]
    },
    {
     "name": "stderr",
     "output_type": "stream",
     "text": [
      "Streaming tracklets:  22%|█████████████▋                                               | 48/214 [03:03<14:18,  5.17s/it]"
     ]
    },
    {
     "name": "stdout",
     "output_type": "stream",
     "text": [
      "Batch 42, Loss: 4.7976\n"
     ]
    },
    {
     "name": "stderr",
     "output_type": "stream",
     "text": [
      "Streaming tracklets:  22%|█████████████▋                                               | 48/214 [03:06<14:20,  5.18s/it]"
     ]
    },
    {
     "name": "stdout",
     "output_type": "stream",
     "text": [
      "Batch 43, Loss: 4.7108\n"
     ]
    },
    {
     "name": "stderr",
     "output_type": "stream",
     "text": [
      "Streaming tracklets:  24%|██████████████▊                                              | 52/214 [03:10<13:48,  5.11s/it]"
     ]
    },
    {
     "name": "stdout",
     "output_type": "stream",
     "text": [
      "Batch 44, Loss: 4.6116\n"
     ]
    },
    {
     "name": "stderr",
     "output_type": "stream",
     "text": [
      "Streaming tracklets:  24%|██████████████▊                                              | 52/214 [03:13<14:06,  5.23s/it]"
     ]
    },
    {
     "name": "stdout",
     "output_type": "stream",
     "text": [
      "Batch 45, Loss: 3.9048\n"
     ]
    },
    {
     "name": "stderr",
     "output_type": "stream",
     "text": [
      "Streaming tracklets:  24%|██████████████▊                                              | 52/214 [03:17<13:42,  5.08s/it]"
     ]
    },
    {
     "name": "stdout",
     "output_type": "stream",
     "text": [
      "Batch 46, Loss: 3.8754\n"
     ]
    },
    {
     "name": "stderr",
     "output_type": "stream",
     "text": [
      "Streaming tracklets:  24%|██████████████▊                                              | 52/214 [03:21<13:44,  5.09s/it]"
     ]
    },
    {
     "name": "stdout",
     "output_type": "stream",
     "text": [
      "Batch 47, Loss: 3.8321\n"
     ]
    },
    {
     "name": "stderr",
     "output_type": "stream",
     "text": [
      "Streaming tracklets:  26%|███████████████▉                                             | 56/214 [03:24<13:02,  4.96s/it]"
     ]
    },
    {
     "name": "stdout",
     "output_type": "stream",
     "text": [
      "Batch 48, Loss: 3.7778\n"
     ]
    },
    {
     "name": "stderr",
     "output_type": "stream",
     "text": [
      "Streaming tracklets:  26%|███████████████▉                                             | 56/214 [03:27<13:02,  4.95s/it]"
     ]
    },
    {
     "name": "stdout",
     "output_type": "stream",
     "text": [
      "Batch 49, Loss: 3.0250\n"
     ]
    },
    {
     "name": "stderr",
     "output_type": "stream",
     "text": [
      "Streaming tracklets:  26%|███████████████▉                                             | 56/214 [03:30<12:47,  4.86s/it]"
     ]
    },
    {
     "name": "stdout",
     "output_type": "stream",
     "text": [
      "Batch 50, Loss: 3.0005\n"
     ]
    },
    {
     "name": "stderr",
     "output_type": "stream",
     "text": [
      "Streaming tracklets:  26%|███████████████▉                                             | 56/214 [03:33<12:17,  4.67s/it]"
     ]
    },
    {
     "name": "stdout",
     "output_type": "stream",
     "text": [
      "Batch 51, Loss: 2.9582\n"
     ]
    },
    {
     "name": "stderr",
     "output_type": "stream",
     "text": [
      "Streaming tracklets:  28%|█████████████████                                            | 60/214 [03:36<11:20,  4.42s/it]"
     ]
    },
    {
     "name": "stdout",
     "output_type": "stream",
     "text": [
      "Batch 52, Loss: 2.9016\n"
     ]
    },
    {
     "name": "stderr",
     "output_type": "stream",
     "text": [
      "Streaming tracklets:  28%|█████████████████                                            | 60/214 [03:39<11:11,  4.36s/it]"
     ]
    },
    {
     "name": "stdout",
     "output_type": "stream",
     "text": [
      "Batch 53, Loss: 3.6573\n"
     ]
    },
    {
     "name": "stderr",
     "output_type": "stream",
     "text": [
      "Streaming tracklets:  28%|█████████████████                                            | 60/214 [03:43<11:38,  4.54s/it]"
     ]
    },
    {
     "name": "stdout",
     "output_type": "stream",
     "text": [
      "Batch 54, Loss: 3.5811\n"
     ]
    },
    {
     "name": "stderr",
     "output_type": "stream",
     "text": [
      "Streaming tracklets:  28%|█████████████████                                            | 60/214 [03:46<11:51,  4.62s/it]"
     ]
    },
    {
     "name": "stdout",
     "output_type": "stream",
     "text": [
      "Batch 55, Loss: 3.4935\n"
     ]
    },
    {
     "name": "stderr",
     "output_type": "stream",
     "text": [
      "Streaming tracklets:  30%|██████████████████▏                                          | 64/214 [03:49<11:24,  4.56s/it]"
     ]
    },
    {
     "name": "stdout",
     "output_type": "stream",
     "text": [
      "Batch 56, Loss: 3.3978\n"
     ]
    },
    {
     "name": "stderr",
     "output_type": "stream",
     "text": [
      "Streaming tracklets:  30%|██████████████████▏                                          | 64/214 [03:52<11:13,  4.49s/it]"
     ]
    },
    {
     "name": "stdout",
     "output_type": "stream",
     "text": [
      "Batch 57, Loss: 3.7073\n"
     ]
    },
    {
     "name": "stderr",
     "output_type": "stream",
     "text": [
      "Streaming tracklets:  30%|██████████████████▏                                          | 64/214 [03:55<10:43,  4.29s/it]"
     ]
    },
    {
     "name": "stdout",
     "output_type": "stream",
     "text": [
      "Batch 58, Loss: 3.6645\n"
     ]
    },
    {
     "name": "stderr",
     "output_type": "stream",
     "text": [
      "Streaming tracklets:  30%|██████████████████▏                                          | 64/214 [03:58<10:55,  4.37s/it]"
     ]
    },
    {
     "name": "stdout",
     "output_type": "stream",
     "text": [
      "Batch 59, Loss: 3.6101\n"
     ]
    },
    {
     "name": "stderr",
     "output_type": "stream",
     "text": [
      "Streaming tracklets:  31%|███████████████████                                          | 67/214 [04:01<05:34,  2.28s/it]"
     ]
    },
    {
     "name": "stdout",
     "output_type": "stream",
     "text": [
      "Batch 60, Loss: 3.5474\n"
     ]
    },
    {
     "name": "stderr",
     "output_type": "stream",
     "text": [
      "Streaming tracklets:  32%|███████████████████▍                                         | 68/214 [04:05<11:29,  4.72s/it]"
     ]
    },
    {
     "name": "stdout",
     "output_type": "stream",
     "text": [
      "Batch 61, Loss: 4.9355\n"
     ]
    },
    {
     "name": "stderr",
     "output_type": "stream",
     "text": [
      "Streaming tracklets:  33%|████████████████████▏                                        | 71/214 [04:09<05:57,  2.50s/it]"
     ]
    },
    {
     "name": "stdout",
     "output_type": "stream",
     "text": [
      "Batch 62, Loss: 4.9137\n"
     ]
    },
    {
     "name": "stderr",
     "output_type": "stream",
     "text": [
      "Streaming tracklets:  32%|███████████████████▍                                         | 68/214 [04:14<12:58,  5.33s/it]"
     ]
    },
    {
     "name": "stdout",
     "output_type": "stream",
     "text": [
      "Batch 63, Loss: 4.8700\n"
     ]
    },
    {
     "name": "stderr",
     "output_type": "stream",
     "text": [
      "Streaming tracklets:  34%|████████████████████▌                                        | 72/214 [04:18<12:24,  5.25s/it]"
     ]
    },
    {
     "name": "stdout",
     "output_type": "stream",
     "text": [
      "Batch 64, Loss: 4.8093\n"
     ]
    },
    {
     "name": "stderr",
     "output_type": "stream",
     "text": [
      "Streaming tracklets:  34%|████████████████████▌                                        | 72/214 [04:21<12:37,  5.34s/it]"
     ]
    },
    {
     "name": "stdout",
     "output_type": "stream",
     "text": [
      "Batch 65, Loss: 2.9452\n"
     ]
    },
    {
     "name": "stderr",
     "output_type": "stream",
     "text": [
      "Streaming tracklets:  34%|████████████████████▌                                        | 72/214 [04:25<12:54,  5.45s/it]"
     ]
    },
    {
     "name": "stdout",
     "output_type": "stream",
     "text": [
      "Batch 66, Loss: 2.9349\n"
     ]
    },
    {
     "name": "stderr",
     "output_type": "stream",
     "text": [
      "Streaming tracklets:  34%|████████████████████▌                                        | 72/214 [04:29<12:37,  5.33s/it]"
     ]
    },
    {
     "name": "stdout",
     "output_type": "stream",
     "text": [
      "Batch 67, Loss: 2.9138\n"
     ]
    },
    {
     "name": "stderr",
     "output_type": "stream",
     "text": [
      "Streaming tracklets:  36%|█████████████████████▋                                       | 76/214 [04:33<12:10,  5.29s/it]"
     ]
    },
    {
     "name": "stdout",
     "output_type": "stream",
     "text": [
      "Batch 68, Loss: 2.8839\n"
     ]
    },
    {
     "name": "stderr",
     "output_type": "stream",
     "text": [
      "Streaming tracklets:  36%|█████████████████████▋                                       | 76/214 [04:36<12:16,  5.34s/it]"
     ]
    },
    {
     "name": "stdout",
     "output_type": "stream",
     "text": [
      "Batch 69, Loss: 3.8549\n"
     ]
    },
    {
     "name": "stderr",
     "output_type": "stream",
     "text": [
      "Streaming tracklets:  36%|█████████████████████▋                                       | 76/214 [04:40<12:18,  5.35s/it]"
     ]
    },
    {
     "name": "stdout",
     "output_type": "stream",
     "text": [
      "Batch 70, Loss: 3.8306\n"
     ]
    },
    {
     "name": "stderr",
     "output_type": "stream",
     "text": [
      "Streaming tracklets:  36%|█████████████████████▋                                       | 76/214 [04:44<12:08,  5.28s/it]"
     ]
    },
    {
     "name": "stdout",
     "output_type": "stream",
     "text": [
      "Batch 71, Loss: 3.7961\n"
     ]
    },
    {
     "name": "stderr",
     "output_type": "stream",
     "text": [
      "Streaming tracklets:  37%|██████████████████████▊                                      | 80/214 [04:47<11:21,  5.08s/it]"
     ]
    },
    {
     "name": "stdout",
     "output_type": "stream",
     "text": [
      "Batch 72, Loss: 3.7536\n"
     ]
    },
    {
     "name": "stderr",
     "output_type": "stream",
     "text": [
      "Streaming tracklets:  37%|██████████████████████▊                                      | 80/214 [04:51<11:43,  5.25s/it]"
     ]
    },
    {
     "name": "stdout",
     "output_type": "stream",
     "text": [
      "Batch 73, Loss: 2.2713\n"
     ]
    },
    {
     "name": "stderr",
     "output_type": "stream",
     "text": [
      "Streaming tracklets:  37%|██████████████████████▊                                      | 80/214 [04:54<11:20,  5.08s/it]"
     ]
    },
    {
     "name": "stdout",
     "output_type": "stream",
     "text": [
      "Batch 74, Loss: 2.2579\n"
     ]
    },
    {
     "name": "stderr",
     "output_type": "stream",
     "text": [
      "Streaming tracklets:  37%|██████████████████████▊                                      | 80/214 [04:57<11:05,  4.97s/it]"
     ]
    },
    {
     "name": "stdout",
     "output_type": "stream",
     "text": [
      "Batch 75, Loss: 2.2300\n"
     ]
    },
    {
     "name": "stderr",
     "output_type": "stream",
     "text": [
      "Streaming tracklets:  39%|███████████████████████▉                                     | 84/214 [05:01<10:47,  4.98s/it]"
     ]
    },
    {
     "name": "stdout",
     "output_type": "stream",
     "text": [
      "Batch 76, Loss: 2.1911\n"
     ]
    },
    {
     "name": "stderr",
     "output_type": "stream",
     "text": [
      "Streaming tracklets:  39%|███████████████████████▉                                     | 84/214 [05:04<10:32,  4.86s/it]"
     ]
    },
    {
     "name": "stdout",
     "output_type": "stream",
     "text": [
      "Batch 77, Loss: 4.3304\n"
     ]
    },
    {
     "name": "stderr",
     "output_type": "stream",
     "text": [
      "Streaming tracklets:  39%|███████████████████████▉                                     | 84/214 [05:08<11:05,  5.12s/it]"
     ]
    },
    {
     "name": "stdout",
     "output_type": "stream",
     "text": [
      "Batch 78, Loss: 4.3093\n"
     ]
    },
    {
     "name": "stderr",
     "output_type": "stream",
     "text": [
      "Streaming tracklets:  39%|███████████████████████▉                                     | 84/214 [05:12<11:23,  5.26s/it]"
     ]
    },
    {
     "name": "stdout",
     "output_type": "stream",
     "text": [
      "Batch 79, Loss: 4.2749\n"
     ]
    },
    {
     "name": "stderr",
     "output_type": "stream",
     "text": [
      "Streaming tracklets:  41%|█████████████████████████                                    | 88/214 [05:16<10:50,  5.16s/it]"
     ]
    },
    {
     "name": "stdout",
     "output_type": "stream",
     "text": [
      "Batch 80, Loss: 4.2299\n"
     ]
    },
    {
     "name": "stderr",
     "output_type": "stream",
     "text": [
      "Streaming tracklets:  41%|█████████████████████████                                    | 88/214 [05:20<11:18,  5.38s/it]"
     ]
    },
    {
     "name": "stdout",
     "output_type": "stream",
     "text": [
      "Batch 81, Loss: 1.0431\n"
     ]
    },
    {
     "name": "stderr",
     "output_type": "stream",
     "text": [
      "Streaming tracklets:  41%|█████████████████████████                                    | 88/214 [05:23<11:12,  5.34s/it]"
     ]
    },
    {
     "name": "stdout",
     "output_type": "stream",
     "text": [
      "Batch 82, Loss: 1.0191\n"
     ]
    },
    {
     "name": "stderr",
     "output_type": "stream",
     "text": [
      "Streaming tracklets:  41%|█████████████████████████                                    | 88/214 [05:27<11:08,  5.31s/it]"
     ]
    },
    {
     "name": "stdout",
     "output_type": "stream",
     "text": [
      "Batch 83, Loss: 0.9786\n"
     ]
    },
    {
     "name": "stderr",
     "output_type": "stream",
     "text": [
      "Streaming tracklets:  43%|██████████████████████████▏                                  | 92/214 [05:30<10:25,  5.13s/it]"
     ]
    },
    {
     "name": "stdout",
     "output_type": "stream",
     "text": [
      "Batch 84, Loss: 0.9255\n"
     ]
    },
    {
     "name": "stderr",
     "output_type": "stream",
     "text": [
      "Streaming tracklets:  43%|██████████████████████████▏                                  | 92/214 [05:34<10:31,  5.18s/it]"
     ]
    },
    {
     "name": "stdout",
     "output_type": "stream",
     "text": [
      "Batch 85, Loss: 2.5878\n"
     ]
    },
    {
     "name": "stderr",
     "output_type": "stream",
     "text": [
      "Streaming tracklets:  43%|██████████████████████████▏                                  | 92/214 [05:37<10:07,  4.98s/it]"
     ]
    },
    {
     "name": "stdout",
     "output_type": "stream",
     "text": [
      "Batch 86, Loss: 2.5820\n"
     ]
    },
    {
     "name": "stderr",
     "output_type": "stream",
     "text": [
      "Streaming tracklets:  43%|██████████████████████████▏                                  | 92/214 [05:40<09:56,  4.89s/it]"
     ]
    },
    {
     "name": "stdout",
     "output_type": "stream",
     "text": [
      "Batch 87, Loss: 2.5635\n"
     ]
    },
    {
     "name": "stderr",
     "output_type": "stream",
     "text": [
      "Streaming tracklets:  45%|███████████████████████████▎                                 | 96/214 [05:43<09:28,  4.82s/it]"
     ]
    },
    {
     "name": "stdout",
     "output_type": "stream",
     "text": [
      "Batch 88, Loss: 2.5337\n"
     ]
    },
    {
     "name": "stderr",
     "output_type": "stream",
     "text": [
      "Streaming tracklets:  45%|███████████████████████████▎                                 | 96/214 [05:46<09:34,  4.87s/it]"
     ]
    },
    {
     "name": "stdout",
     "output_type": "stream",
     "text": [
      "Batch 89, Loss: 1.2947\n"
     ]
    },
    {
     "name": "stderr",
     "output_type": "stream",
     "text": [
      "Streaming tracklets:  45%|███████████████████████████▎                                 | 96/214 [05:50<09:42,  4.94s/it]"
     ]
    },
    {
     "name": "stdout",
     "output_type": "stream",
     "text": [
      "Batch 90, Loss: 1.2849\n"
     ]
    },
    {
     "name": "stderr",
     "output_type": "stream",
     "text": [
      "Streaming tracklets:  45%|███████████████████████████▎                                 | 96/214 [05:53<09:57,  5.07s/it]"
     ]
    },
    {
     "name": "stdout",
     "output_type": "stream",
     "text": [
      "Batch 91, Loss: 1.2708\n"
     ]
    },
    {
     "name": "stderr",
     "output_type": "stream",
     "text": [
      "Streaming tracklets:  47%|████████████████████████████                                | 100/214 [05:57<07:59,  4.21s/it]"
     ]
    },
    {
     "name": "stdout",
     "output_type": "stream",
     "text": [
      "Batch 92, Loss: 1.2532\n"
     ]
    },
    {
     "name": "stderr",
     "output_type": "stream",
     "text": [
      "Streaming tracklets:  47%|████████████████████████████                                | 100/214 [05:59<07:38,  4.02s/it]"
     ]
    },
    {
     "name": "stdout",
     "output_type": "stream",
     "text": [
      "Batch 93, Loss: 4.0377\n"
     ]
    },
    {
     "name": "stderr",
     "output_type": "stream",
     "text": [
      "Streaming tracklets:  47%|████████████████████████████                                | 100/214 [06:01<07:07,  3.75s/it]"
     ]
    },
    {
     "name": "stdout",
     "output_type": "stream",
     "text": [
      "Batch 94, Loss: 4.0394\n"
     ]
    },
    {
     "name": "stderr",
     "output_type": "stream",
     "text": [
      "Streaming tracklets:  47%|████████████████████████████                                | 100/214 [06:05<07:02,  3.71s/it]"
     ]
    },
    {
     "name": "stdout",
     "output_type": "stream",
     "text": [
      "Batch 95, Loss: 4.0251\n"
     ]
    },
    {
     "name": "stderr",
     "output_type": "stream",
     "text": [
      "Streaming tracklets:  49%|█████████████████████████████▏                              | 104/214 [06:08<07:13,  3.94s/it]"
     ]
    },
    {
     "name": "stdout",
     "output_type": "stream",
     "text": [
      "Batch 96, Loss: 3.9975\n"
     ]
    },
    {
     "name": "stderr",
     "output_type": "stream",
     "text": [
      "Streaming tracklets:  49%|█████████████████████████████▏                              | 104/214 [06:14<08:35,  4.69s/it]"
     ]
    },
    {
     "name": "stdout",
     "output_type": "stream",
     "text": [
      "Batch 97, Loss: 2.9724\n"
     ]
    },
    {
     "name": "stderr",
     "output_type": "stream",
     "text": [
      "Streaming tracklets:  49%|█████████████████████████████▏                              | 104/214 [06:17<08:33,  4.67s/it]"
     ]
    },
    {
     "name": "stdout",
     "output_type": "stream",
     "text": [
      "Batch 98, Loss: 2.9521\n"
     ]
    },
    {
     "name": "stderr",
     "output_type": "stream",
     "text": [
      "Streaming tracklets:  49%|█████████████████████████████▏                              | 104/214 [06:21<09:00,  4.91s/it]"
     ]
    },
    {
     "name": "stdout",
     "output_type": "stream",
     "text": [
      "Batch 99, Loss: 2.9229\n"
     ]
    },
    {
     "name": "stderr",
     "output_type": "stream",
     "text": [
      "Streaming tracklets:  50%|██████████████████████████████▎                             | 108/214 [06:25<08:59,  5.09s/it]"
     ]
    },
    {
     "name": "stdout",
     "output_type": "stream",
     "text": [
      "Batch 100, Loss: 2.8862\n"
     ]
    },
    {
     "name": "stderr",
     "output_type": "stream",
     "text": [
      "Streaming tracklets:  50%|██████████████████████████████▎                             | 108/214 [06:28<08:46,  4.96s/it]"
     ]
    },
    {
     "name": "stdout",
     "output_type": "stream",
     "text": [
      "Batch 101, Loss: 3.2779\n"
     ]
    },
    {
     "name": "stderr",
     "output_type": "stream",
     "text": [
      "Streaming tracklets:  50%|██████████████████████████████▎                             | 108/214 [06:32<09:00,  5.10s/it]"
     ]
    },
    {
     "name": "stdout",
     "output_type": "stream",
     "text": [
      "Batch 102, Loss: 3.2674\n"
     ]
    },
    {
     "name": "stderr",
     "output_type": "stream",
     "text": [
      "Streaming tracklets:  50%|██████████████████████████████▎                             | 108/214 [06:36<09:16,  5.25s/it]"
     ]
    },
    {
     "name": "stdout",
     "output_type": "stream",
     "text": [
      "Batch 103, Loss: 3.2487\n"
     ]
    },
    {
     "name": "stderr",
     "output_type": "stream",
     "text": [
      "Streaming tracklets:  52%|███████████████████████████████▍                            | 112/214 [06:40<09:06,  5.36s/it]"
     ]
    },
    {
     "name": "stdout",
     "output_type": "stream",
     "text": [
      "Batch 104, Loss: 3.2237\n"
     ]
    },
    {
     "name": "stderr",
     "output_type": "stream",
     "text": [
      "Streaming tracklets:  52%|███████████████████████████████▍                            | 112/214 [06:44<09:16,  5.45s/it]"
     ]
    },
    {
     "name": "stdout",
     "output_type": "stream",
     "text": [
      "Batch 105, Loss: 3.9253\n"
     ]
    },
    {
     "name": "stderr",
     "output_type": "stream",
     "text": [
      "Streaming tracklets:  52%|███████████████████████████████▍                            | 112/214 [06:48<09:30,  5.59s/it]"
     ]
    },
    {
     "name": "stdout",
     "output_type": "stream",
     "text": [
      "Batch 106, Loss: 3.9016\n"
     ]
    },
    {
     "name": "stderr",
     "output_type": "stream",
     "text": [
      "Streaming tracklets:  52%|███████████████████████████████▍                            | 112/214 [06:53<09:58,  5.87s/it]"
     ]
    },
    {
     "name": "stdout",
     "output_type": "stream",
     "text": [
      "Batch 107, Loss: 3.8670\n"
     ]
    },
    {
     "name": "stderr",
     "output_type": "stream",
     "text": [
      "Streaming tracklets:  54%|████████████████████████████████▌                           | 116/214 [06:57<09:00,  5.51s/it]"
     ]
    },
    {
     "name": "stdout",
     "output_type": "stream",
     "text": [
      "Batch 108, Loss: 3.8240\n"
     ]
    },
    {
     "name": "stderr",
     "output_type": "stream",
     "text": [
      "Streaming tracklets:  55%|█████████████████████████████████                           | 118/214 [07:01<05:52,  3.67s/it]"
     ]
    },
    {
     "name": "stdout",
     "output_type": "stream",
     "text": [
      "Batch 109, Loss: 2.9985\n"
     ]
    },
    {
     "name": "stderr",
     "output_type": "stream",
     "text": [
      "Streaming tracklets:  54%|████████████████████████████████▌                           | 116/214 [07:05<09:23,  5.75s/it]"
     ]
    },
    {
     "name": "stdout",
     "output_type": "stream",
     "text": [
      "Batch 110, Loss: 2.9843\n"
     ]
    },
    {
     "name": "stderr",
     "output_type": "stream",
     "text": [
      "Streaming tracklets:  54%|████████████████████████████████▌                           | 116/214 [07:09<09:12,  5.64s/it]"
     ]
    },
    {
     "name": "stdout",
     "output_type": "stream",
     "text": [
      "Batch 111, Loss: 2.9639\n"
     ]
    },
    {
     "name": "stderr",
     "output_type": "stream",
     "text": [
      "Streaming tracklets:  56%|█████████████████████████████████▋                          | 120/214 [07:13<08:12,  5.24s/it]"
     ]
    },
    {
     "name": "stdout",
     "output_type": "stream",
     "text": [
      "Batch 112, Loss: 2.9383\n"
     ]
    },
    {
     "name": "stderr",
     "output_type": "stream",
     "text": [
      "Streaming tracklets:  56%|█████████████████████████████████▋                          | 120/214 [07:16<08:20,  5.33s/it]"
     ]
    },
    {
     "name": "stdout",
     "output_type": "stream",
     "text": [
      "Batch 113, Loss: 4.1985\n"
     ]
    },
    {
     "name": "stderr",
     "output_type": "stream",
     "text": [
      "Streaming tracklets:  56%|█████████████████████████████████▋                          | 120/214 [07:20<08:12,  5.24s/it]"
     ]
    },
    {
     "name": "stdout",
     "output_type": "stream",
     "text": [
      "Batch 114, Loss: 4.1589\n"
     ]
    },
    {
     "name": "stderr",
     "output_type": "stream",
     "text": [
      "Streaming tracklets:  56%|█████████████████████████████████▋                          | 120/214 [07:23<07:54,  5.05s/it]"
     ]
    },
    {
     "name": "stdout",
     "output_type": "stream",
     "text": [
      "Batch 115, Loss: 4.1014\n"
     ]
    },
    {
     "name": "stderr",
     "output_type": "stream",
     "text": [
      "Streaming tracklets:  58%|██████████████████████████████████▊                         | 124/214 [07:26<07:10,  4.79s/it]"
     ]
    },
    {
     "name": "stdout",
     "output_type": "stream",
     "text": [
      "Batch 116, Loss: 4.0305\n"
     ]
    },
    {
     "name": "stderr",
     "output_type": "stream",
     "text": [
      "Streaming tracklets:  58%|██████████████████████████████████▊                         | 124/214 [07:29<07:19,  4.89s/it]"
     ]
    },
    {
     "name": "stdout",
     "output_type": "stream",
     "text": [
      "Batch 117, Loss: 3.0634\n"
     ]
    },
    {
     "name": "stderr",
     "output_type": "stream",
     "text": [
      "Streaming tracklets:  58%|██████████████████████████████████▊                         | 124/214 [07:33<07:26,  4.97s/it]"
     ]
    },
    {
     "name": "stdout",
     "output_type": "stream",
     "text": [
      "Batch 118, Loss: 3.0598\n"
     ]
    },
    {
     "name": "stderr",
     "output_type": "stream",
     "text": [
      "Streaming tracklets:  58%|██████████████████████████████████▊                         | 124/214 [07:38<08:13,  5.48s/it]"
     ]
    },
    {
     "name": "stdout",
     "output_type": "stream",
     "text": [
      "Batch 119, Loss: 3.0484\n"
     ]
    },
    {
     "name": "stderr",
     "output_type": "stream",
     "text": [
      "Streaming tracklets:  60%|███████████████████████████████████▉                        | 128/214 [07:42<07:50,  5.47s/it]"
     ]
    },
    {
     "name": "stdout",
     "output_type": "stream",
     "text": [
      "Batch 120, Loss: 3.0303\n"
     ]
    },
    {
     "name": "stderr",
     "output_type": "stream",
     "text": [
      "Streaming tracklets:  60%|███████████████████████████████████▉                        | 128/214 [07:46<08:09,  5.69s/it]"
     ]
    },
    {
     "name": "stdout",
     "output_type": "stream",
     "text": [
      "Batch 121, Loss: 3.4209\n"
     ]
    },
    {
     "name": "stderr",
     "output_type": "stream",
     "text": [
      "Streaming tracklets:  60%|███████████████████████████████████▉                        | 128/214 [07:50<07:54,  5.52s/it]"
     ]
    },
    {
     "name": "stdout",
     "output_type": "stream",
     "text": [
      "Batch 122, Loss: 3.3975\n"
     ]
    },
    {
     "name": "stderr",
     "output_type": "stream",
     "text": [
      "Streaming tracklets:  60%|███████████████████████████████████▉                        | 128/214 [07:54<07:35,  5.30s/it]"
     ]
    },
    {
     "name": "stdout",
     "output_type": "stream",
     "text": [
      "Batch 123, Loss: 3.3669\n"
     ]
    },
    {
     "name": "stderr",
     "output_type": "stream",
     "text": [
      "Streaming tracklets:  62%|█████████████████████████████████████                       | 132/214 [07:57<07:05,  5.19s/it]"
     ]
    },
    {
     "name": "stdout",
     "output_type": "stream",
     "text": [
      "Batch 124, Loss: 3.3303\n"
     ]
    },
    {
     "name": "stderr",
     "output_type": "stream",
     "text": [
      "Streaming tracklets:  62%|█████████████████████████████████████                       | 132/214 [08:01<07:02,  5.15s/it]"
     ]
    },
    {
     "name": "stdout",
     "output_type": "stream",
     "text": [
      "Batch 125, Loss: 4.8351\n"
     ]
    },
    {
     "name": "stderr",
     "output_type": "stream",
     "text": [
      "Streaming tracklets:  63%|█████████████████████████████████████▊                      | 135/214 [08:05<03:23,  2.58s/it]"
     ]
    },
    {
     "name": "stdout",
     "output_type": "stream",
     "text": [
      "Batch 126, Loss: 4.8004\n"
     ]
    },
    {
     "name": "stderr",
     "output_type": "stream",
     "text": [
      "Streaming tracklets:  62%|█████████████████████████████████████                       | 132/214 [08:08<07:09,  5.24s/it]"
     ]
    },
    {
     "name": "stdout",
     "output_type": "stream",
     "text": [
      "Batch 127, Loss: 4.7506\n"
     ]
    },
    {
     "name": "stderr",
     "output_type": "stream",
     "text": [
      "Streaming tracklets:  64%|██████████████████████████████████████▏                     | 136/214 [08:12<06:40,  5.14s/it]"
     ]
    },
    {
     "name": "stdout",
     "output_type": "stream",
     "text": [
      "Batch 128, Loss: 4.6890\n"
     ]
    },
    {
     "name": "stderr",
     "output_type": "stream",
     "text": [
      "Streaming tracklets:  64%|██████████████████████████████████████▏                     | 136/214 [08:15<06:31,  5.02s/it]"
     ]
    },
    {
     "name": "stdout",
     "output_type": "stream",
     "text": [
      "Batch 129, Loss: 3.3793\n"
     ]
    },
    {
     "name": "stderr",
     "output_type": "stream",
     "text": [
      "Streaming tracklets:  64%|██████████████████████████████████████▏                     | 136/214 [08:19<06:43,  5.17s/it]"
     ]
    },
    {
     "name": "stdout",
     "output_type": "stream",
     "text": [
      "Batch 130, Loss: 3.3557\n"
     ]
    },
    {
     "name": "stderr",
     "output_type": "stream",
     "text": [
      "Streaming tracklets:  64%|██████████████████████████████████████▏                     | 136/214 [08:23<06:48,  5.23s/it]"
     ]
    },
    {
     "name": "stdout",
     "output_type": "stream",
     "text": [
      "Batch 131, Loss: 3.3208\n"
     ]
    },
    {
     "name": "stderr",
     "output_type": "stream",
     "text": [
      "Streaming tracklets:  65%|███████████████████████████████████████▎                    | 140/214 [08:27<06:19,  5.13s/it]"
     ]
    },
    {
     "name": "stdout",
     "output_type": "stream",
     "text": [
      "Batch 132, Loss: 3.2763\n"
     ]
    },
    {
     "name": "stderr",
     "output_type": "stream",
     "text": [
      "Streaming tracklets:  65%|███████████████████████████████████████▎                    | 140/214 [08:31<06:36,  5.36s/it]"
     ]
    },
    {
     "name": "stdout",
     "output_type": "stream",
     "text": [
      "Batch 133, Loss: 3.2430\n"
     ]
    },
    {
     "name": "stderr",
     "output_type": "stream",
     "text": [
      "Streaming tracklets:  65%|███████████████████████████████████████▎                    | 140/214 [08:34<06:31,  5.28s/it]"
     ]
    },
    {
     "name": "stdout",
     "output_type": "stream",
     "text": [
      "Batch 134, Loss: 3.2438\n"
     ]
    },
    {
     "name": "stderr",
     "output_type": "stream",
     "text": [
      "Streaming tracklets:  65%|███████████████████████████████████████▎                    | 140/214 [08:38<06:29,  5.26s/it]"
     ]
    },
    {
     "name": "stdout",
     "output_type": "stream",
     "text": [
      "Batch 135, Loss: 3.2335\n"
     ]
    },
    {
     "name": "stderr",
     "output_type": "stream",
     "text": [
      "Streaming tracklets:  67%|████████████████████████████████████████▎                   | 144/214 [08:42<06:01,  5.16s/it]"
     ]
    },
    {
     "name": "stdout",
     "output_type": "stream",
     "text": [
      "Batch 136, Loss: 3.2137\n"
     ]
    },
    {
     "name": "stderr",
     "output_type": "stream",
     "text": [
      "Streaming tracklets:  67%|████████████████████████████████████████▎                   | 144/214 [08:45<06:10,  5.29s/it]"
     ]
    },
    {
     "name": "stdout",
     "output_type": "stream",
     "text": [
      "Batch 137, Loss: 3.7846\n"
     ]
    },
    {
     "name": "stderr",
     "output_type": "stream",
     "text": [
      "Streaming tracklets:  67%|████████████████████████████████████████▎                   | 144/214 [08:49<06:07,  5.26s/it]"
     ]
    },
    {
     "name": "stdout",
     "output_type": "stream",
     "text": [
      "Batch 138, Loss: 3.7665\n"
     ]
    },
    {
     "name": "stderr",
     "output_type": "stream",
     "text": [
      "Streaming tracklets:  67%|████████████████████████████████████████▎                   | 144/214 [08:53<06:06,  5.23s/it]"
     ]
    },
    {
     "name": "stdout",
     "output_type": "stream",
     "text": [
      "Batch 139, Loss: 3.7380\n"
     ]
    },
    {
     "name": "stderr",
     "output_type": "stream",
     "text": [
      "Streaming tracklets:  69%|█████████████████████████████████████████▍                  | 148/214 [08:56<05:47,  5.26s/it]"
     ]
    },
    {
     "name": "stdout",
     "output_type": "stream",
     "text": [
      "Batch 140, Loss: 3.7007\n"
     ]
    },
    {
     "name": "stderr",
     "output_type": "stream",
     "text": [
      "Streaming tracklets:  69%|█████████████████████████████████████████▍                  | 148/214 [09:00<05:50,  5.31s/it]"
     ]
    },
    {
     "name": "stdout",
     "output_type": "stream",
     "text": [
      "Batch 141, Loss: 4.2036\n"
     ]
    },
    {
     "name": "stderr",
     "output_type": "stream",
     "text": [
      "Streaming tracklets:  69%|█████████████████████████████████████████▍                  | 148/214 [09:04<05:58,  5.44s/it]"
     ]
    },
    {
     "name": "stdout",
     "output_type": "stream",
     "text": [
      "Batch 142, Loss: 4.1872\n"
     ]
    },
    {
     "name": "stderr",
     "output_type": "stream",
     "text": [
      "Streaming tracklets:  69%|█████████████████████████████████████████▍                  | 148/214 [09:08<05:57,  5.42s/it]"
     ]
    },
    {
     "name": "stdout",
     "output_type": "stream",
     "text": [
      "Batch 143, Loss: 4.1585\n"
     ]
    },
    {
     "name": "stderr",
     "output_type": "stream",
     "text": [
      "Streaming tracklets:  71%|██████████████████████████████████████████▌                 | 152/214 [09:11<05:28,  5.29s/it]"
     ]
    },
    {
     "name": "stdout",
     "output_type": "stream",
     "text": [
      "Batch 144, Loss: 4.1195\n"
     ]
    },
    {
     "name": "stderr",
     "output_type": "stream",
     "text": [
      "Streaming tracklets:  71%|██████████████████████████████████████████▌                 | 152/214 [09:15<05:29,  5.32s/it]"
     ]
    },
    {
     "name": "stdout",
     "output_type": "stream",
     "text": [
      "Batch 145, Loss: 2.5505\n"
     ]
    },
    {
     "name": "stderr",
     "output_type": "stream",
     "text": [
      "Streaming tracklets:  71%|██████████████████████████████████████████▌                 | 152/214 [09:18<05:21,  5.18s/it]"
     ]
    },
    {
     "name": "stdout",
     "output_type": "stream",
     "text": [
      "Batch 146, Loss: 2.5246\n"
     ]
    },
    {
     "name": "stderr",
     "output_type": "stream",
     "text": [
      "Streaming tracklets:  71%|██████████████████████████████████████████▌                 | 152/214 [09:22<05:24,  5.23s/it]"
     ]
    },
    {
     "name": "stdout",
     "output_type": "stream",
     "text": [
      "Batch 147, Loss: 2.4848\n"
     ]
    },
    {
     "name": "stderr",
     "output_type": "stream",
     "text": [
      "Streaming tracklets:  73%|███████████████████████████████████████████▋                | 156/214 [09:26<04:54,  5.07s/it]"
     ]
    },
    {
     "name": "stdout",
     "output_type": "stream",
     "text": [
      "Batch 148, Loss: 2.4337\n"
     ]
    },
    {
     "name": "stderr",
     "output_type": "stream",
     "text": [
      "Streaming tracklets:  73%|███████████████████████████████████████████▋                | 156/214 [09:29<04:55,  5.10s/it]"
     ]
    },
    {
     "name": "stdout",
     "output_type": "stream",
     "text": [
      "Batch 149, Loss: 2.9274\n"
     ]
    },
    {
     "name": "stderr",
     "output_type": "stream",
     "text": [
      "Streaming tracklets:  73%|███████████████████████████████████████████▋                | 156/214 [09:33<04:58,  5.14s/it]"
     ]
    },
    {
     "name": "stdout",
     "output_type": "stream",
     "text": [
      "Batch 150, Loss: 2.8936\n"
     ]
    },
    {
     "name": "stderr",
     "output_type": "stream",
     "text": [
      "Streaming tracklets:  73%|███████████████████████████████████████████▋                | 156/214 [09:36<04:59,  5.16s/it]"
     ]
    },
    {
     "name": "stdout",
     "output_type": "stream",
     "text": [
      "Batch 151, Loss: 2.8547\n"
     ]
    },
    {
     "name": "stderr",
     "output_type": "stream",
     "text": [
      "Streaming tracklets:  75%|████████████████████████████████████████████▊               | 160/214 [09:40<04:37,  5.14s/it]"
     ]
    },
    {
     "name": "stdout",
     "output_type": "stream",
     "text": [
      "Batch 152, Loss: 2.8119\n"
     ]
    },
    {
     "name": "stderr",
     "output_type": "stream",
     "text": [
      "Streaming tracklets:  75%|████████████████████████████████████████████▊               | 160/214 [09:44<04:44,  5.26s/it]"
     ]
    },
    {
     "name": "stdout",
     "output_type": "stream",
     "text": [
      "Batch 153, Loss: 3.4394\n"
     ]
    },
    {
     "name": "stderr",
     "output_type": "stream",
     "text": [
      "Streaming tracklets:  75%|████████████████████████████████████████████▊               | 160/214 [09:47<04:45,  5.29s/it]"
     ]
    },
    {
     "name": "stdout",
     "output_type": "stream",
     "text": [
      "Batch 154, Loss: 3.4365\n"
     ]
    },
    {
     "name": "stderr",
     "output_type": "stream",
     "text": [
      "Streaming tracklets:  75%|████████████████████████████████████████████▊               | 160/214 [09:51<04:49,  5.36s/it]"
     ]
    },
    {
     "name": "stdout",
     "output_type": "stream",
     "text": [
      "Batch 155, Loss: 3.4242\n"
     ]
    },
    {
     "name": "stderr",
     "output_type": "stream",
     "text": [
      "Streaming tracklets:  77%|█████████████████████████████████████████████▉              | 164/214 [09:55<04:26,  5.32s/it]"
     ]
    },
    {
     "name": "stdout",
     "output_type": "stream",
     "text": [
      "Batch 156, Loss: 3.4040\n"
     ]
    },
    {
     "name": "stderr",
     "output_type": "stream",
     "text": [
      "Streaming tracklets:  77%|█████████████████████████████████████████████▉              | 164/214 [09:59<04:31,  5.43s/it]"
     ]
    },
    {
     "name": "stdout",
     "output_type": "stream",
     "text": [
      "Batch 157, Loss: 3.0653\n"
     ]
    },
    {
     "name": "stderr",
     "output_type": "stream",
     "text": [
      "Streaming tracklets:  77%|█████████████████████████████████████████████▉              | 164/214 [10:02<04:20,  5.20s/it]"
     ]
    },
    {
     "name": "stdout",
     "output_type": "stream",
     "text": [
      "Batch 158, Loss: 3.0464\n"
     ]
    },
    {
     "name": "stderr",
     "output_type": "stream",
     "text": [
      "Streaming tracklets:  77%|██████████████████████████████████████████████▎             | 165/214 [10:05<02:54,  3.56s/it]"
     ]
    },
    {
     "name": "stdout",
     "output_type": "stream",
     "text": [
      "Batch 159, Loss: 3.0208\n"
     ]
    },
    {
     "name": "stderr",
     "output_type": "stream",
     "text": [
      "Streaming tracklets:  79%|███████████████████████████████████████████████             | 168/214 [10:08<03:50,  5.02s/it]"
     ]
    },
    {
     "name": "stdout",
     "output_type": "stream",
     "text": [
      "Batch 160, Loss: 2.9896\n"
     ]
    },
    {
     "name": "stderr",
     "output_type": "stream",
     "text": [
      "Streaming tracklets:  79%|███████████████████████████████████████████████             | 168/214 [10:11<03:42,  4.84s/it]"
     ]
    },
    {
     "name": "stdout",
     "output_type": "stream",
     "text": [
      "Batch 161, Loss: 3.6505\n"
     ]
    },
    {
     "name": "stderr",
     "output_type": "stream",
     "text": [
      "Streaming tracklets:  79%|███████████████████████████████████████████████             | 168/214 [10:15<03:42,  4.84s/it]"
     ]
    },
    {
     "name": "stdout",
     "output_type": "stream",
     "text": [
      "Batch 162, Loss: 3.6421\n"
     ]
    },
    {
     "name": "stderr",
     "output_type": "stream",
     "text": [
      "Streaming tracklets:  79%|███████████████████████████████████████████████             | 168/214 [10:18<03:47,  4.94s/it]"
     ]
    },
    {
     "name": "stdout",
     "output_type": "stream",
     "text": [
      "Batch 163, Loss: 3.6146\n"
     ]
    },
    {
     "name": "stderr",
     "output_type": "stream",
     "text": [
      "Streaming tracklets:  80%|████████████████████████████████████████████████▏           | 172/214 [10:21<03:26,  4.91s/it]"
     ]
    },
    {
     "name": "stdout",
     "output_type": "stream",
     "text": [
      "Batch 164, Loss: 3.5708\n"
     ]
    },
    {
     "name": "stderr",
     "output_type": "stream",
     "text": [
      "Streaming tracklets:  81%|████████████████████████████████████████████████▊           | 174/214 [10:24<02:01,  3.03s/it]"
     ]
    },
    {
     "name": "stdout",
     "output_type": "stream",
     "text": [
      "Batch 165, Loss: 2.3193\n"
     ]
    },
    {
     "name": "stderr",
     "output_type": "stream",
     "text": [
      "Streaming tracklets:  80%|████████████████████████████████████████████████▏           | 172/214 [10:26<02:54,  4.15s/it]"
     ]
    },
    {
     "name": "stdout",
     "output_type": "stream",
     "text": [
      "Batch 166, Loss: 2.3184\n"
     ]
    },
    {
     "name": "stderr",
     "output_type": "stream",
     "text": [
      "Streaming tracklets:  80%|████████████████████████████████████████████████▏           | 172/214 [10:31<03:05,  4.41s/it]"
     ]
    },
    {
     "name": "stdout",
     "output_type": "stream",
     "text": [
      "Batch 167, Loss: 2.3111\n"
     ]
    },
    {
     "name": "stderr",
     "output_type": "stream",
     "text": [
      "Streaming tracklets:  82%|█████████████████████████████████████████████████▎          | 176/214 [10:34<02:51,  4.50s/it]"
     ]
    },
    {
     "name": "stdout",
     "output_type": "stream",
     "text": [
      "Batch 168, Loss: 2.2981\n"
     ]
    },
    {
     "name": "stderr",
     "output_type": "stream",
     "text": [
      "Streaming tracklets:  82%|█████████████████████████████████████████████████▎          | 176/214 [10:38<03:02,  4.80s/it]"
     ]
    },
    {
     "name": "stdout",
     "output_type": "stream",
     "text": [
      "Batch 169, Loss: 1.7064\n"
     ]
    },
    {
     "name": "stderr",
     "output_type": "stream",
     "text": [
      "Streaming tracklets:  82%|█████████████████████████████████████████████████▎          | 176/214 [10:42<03:00,  4.74s/it]"
     ]
    },
    {
     "name": "stdout",
     "output_type": "stream",
     "text": [
      "Batch 170, Loss: 1.6946\n"
     ]
    },
    {
     "name": "stderr",
     "output_type": "stream",
     "text": [
      "Streaming tracklets:  82%|█████████████████████████████████████████████████▎          | 176/214 [10:44<02:48,  4.44s/it]"
     ]
    },
    {
     "name": "stdout",
     "output_type": "stream",
     "text": [
      "Batch 171, Loss: 1.6748\n"
     ]
    },
    {
     "name": "stderr",
     "output_type": "stream",
     "text": [
      "Streaming tracklets:  84%|██████████████████████████████████████████████████▍         | 180/214 [10:47<02:32,  4.48s/it]"
     ]
    },
    {
     "name": "stdout",
     "output_type": "stream",
     "text": [
      "Batch 172, Loss: 1.6484\n"
     ]
    },
    {
     "name": "stderr",
     "output_type": "stream",
     "text": [
      "Streaming tracklets:  85%|██████████████████████████████████████████████████▋         | 181/214 [10:50<01:44,  3.16s/it]"
     ]
    },
    {
     "name": "stdout",
     "output_type": "stream",
     "text": [
      "Batch 173, Loss: 3.6639\n"
     ]
    },
    {
     "name": "stderr",
     "output_type": "stream",
     "text": [
      "Streaming tracklets:  85%|██████████████████████████████████████████████████▋         | 181/214 [10:54<01:46,  3.24s/it]"
     ]
    },
    {
     "name": "stdout",
     "output_type": "stream",
     "text": [
      "Batch 174, Loss: 3.6587\n"
     ]
    },
    {
     "name": "stderr",
     "output_type": "stream",
     "text": [
      "Streaming tracklets:  85%|██████████████████████████████████████████████████▋         | 181/214 [10:57<01:48,  3.29s/it]"
     ]
    },
    {
     "name": "stdout",
     "output_type": "stream",
     "text": [
      "Batch 175, Loss: 3.6433\n"
     ]
    },
    {
     "name": "stderr",
     "output_type": "stream",
     "text": [
      "Streaming tracklets:  86%|███████████████████████████████████████████████████▌        | 184/214 [11:00<02:21,  4.73s/it]"
     ]
    },
    {
     "name": "stdout",
     "output_type": "stream",
     "text": [
      "Batch 176, Loss: 3.6191\n"
     ]
    },
    {
     "name": "stderr",
     "output_type": "stream",
     "text": [
      "Streaming tracklets:  86%|███████████████████████████████████████████████████▌        | 184/214 [11:02<02:15,  4.52s/it]"
     ]
    },
    {
     "name": "stdout",
     "output_type": "stream",
     "text": [
      "Batch 177, Loss: 2.0438\n"
     ]
    },
    {
     "name": "stderr",
     "output_type": "stream",
     "text": [
      "Streaming tracklets:  86%|███████████████████████████████████████████████████▌        | 184/214 [11:05<02:09,  4.32s/it]"
     ]
    },
    {
     "name": "stdout",
     "output_type": "stream",
     "text": [
      "Batch 178, Loss: 2.0328\n"
     ]
    },
    {
     "name": "stderr",
     "output_type": "stream",
     "text": [
      "Streaming tracklets:  86%|███████████████████████████████████████████████████▌        | 184/214 [11:07<02:04,  4.14s/it]"
     ]
    },
    {
     "name": "stdout",
     "output_type": "stream",
     "text": [
      "Batch 179, Loss: 2.0175\n"
     ]
    },
    {
     "name": "stderr",
     "output_type": "stream",
     "text": [
      "Streaming tracklets:  88%|████████████████████████████████████████████████████▋       | 188/214 [11:10<01:29,  3.44s/it]"
     ]
    },
    {
     "name": "stdout",
     "output_type": "stream",
     "text": [
      "Batch 180, Loss: 1.9987\n"
     ]
    },
    {
     "name": "stderr",
     "output_type": "stream",
     "text": [
      "Streaming tracklets:  88%|████████████████████████████████████████████████████▋       | 188/214 [11:12<01:28,  3.40s/it]"
     ]
    },
    {
     "name": "stdout",
     "output_type": "stream",
     "text": [
      "Batch 181, Loss: 2.8807\n"
     ]
    },
    {
     "name": "stderr",
     "output_type": "stream",
     "text": [
      "Streaming tracklets:  88%|████████████████████████████████████████████████████▋       | 188/214 [11:15<01:31,  3.53s/it]"
     ]
    },
    {
     "name": "stdout",
     "output_type": "stream",
     "text": [
      "Batch 182, Loss: 2.8759\n"
     ]
    },
    {
     "name": "stderr",
     "output_type": "stream",
     "text": [
      "Streaming tracklets:  88%|████████████████████████████████████████████████████▋       | 188/214 [11:18<01:32,  3.57s/it]"
     ]
    },
    {
     "name": "stdout",
     "output_type": "stream",
     "text": [
      "Batch 183, Loss: 2.8559\n"
     ]
    },
    {
     "name": "stderr",
     "output_type": "stream",
     "text": [
      "Streaming tracklets:  90%|█████████████████████████████████████████████████████▊      | 192/214 [11:21<01:29,  4.05s/it]"
     ]
    },
    {
     "name": "stdout",
     "output_type": "stream",
     "text": [
      "Batch 184, Loss: 2.8232\n"
     ]
    },
    {
     "name": "stderr",
     "output_type": "stream",
     "text": [
      "Streaming tracklets:  90%|█████████████████████████████████████████████████████▊      | 192/214 [11:23<01:28,  4.00s/it]"
     ]
    },
    {
     "name": "stdout",
     "output_type": "stream",
     "text": [
      "Batch 185, Loss: 2.3237\n"
     ]
    },
    {
     "name": "stderr",
     "output_type": "stream",
     "text": [
      "Streaming tracklets:  91%|██████████████████████████████████████████████████████▍     | 194/214 [11:26<00:54,  2.73s/it]"
     ]
    },
    {
     "name": "stdout",
     "output_type": "stream",
     "text": [
      "Batch 186, Loss: 2.3226\n"
     ]
    },
    {
     "name": "stderr",
     "output_type": "stream",
     "text": [
      "Streaming tracklets:  90%|█████████████████████████████████████████████████████▊      | 192/214 [11:30<01:31,  4.16s/it]"
     ]
    },
    {
     "name": "stdout",
     "output_type": "stream",
     "text": [
      "Batch 187, Loss: 2.3149\n"
     ]
    },
    {
     "name": "stderr",
     "output_type": "stream",
     "text": [
      "Streaming tracklets:  92%|██████████████████████████████████████████████████████▉     | 196/214 [11:33<01:14,  4.12s/it]"
     ]
    },
    {
     "name": "stdout",
     "output_type": "stream",
     "text": [
      "Batch 188, Loss: 2.3015\n"
     ]
    },
    {
     "name": "stderr",
     "output_type": "stream",
     "text": [
      "Streaming tracklets:  92%|██████████████████████████████████████████████████████▉     | 196/214 [11:38<01:24,  4.68s/it]"
     ]
    },
    {
     "name": "stdout",
     "output_type": "stream",
     "text": [
      "Batch 189, Loss: 3.1060\n"
     ]
    },
    {
     "name": "stderr",
     "output_type": "stream",
     "text": [
      "Streaming tracklets:  92%|██████████████████████████████████████████████████████▉     | 196/214 [11:42<01:27,  4.86s/it]"
     ]
    },
    {
     "name": "stdout",
     "output_type": "stream",
     "text": [
      "Batch 190, Loss: 3.0984\n"
     ]
    },
    {
     "name": "stderr",
     "output_type": "stream",
     "text": [
      "Streaming tracklets:  92%|██████████████████████████████████████████████████████▉     | 196/214 [11:46<01:30,  5.01s/it]"
     ]
    },
    {
     "name": "stdout",
     "output_type": "stream",
     "text": [
      "Batch 191, Loss: 3.0819\n"
     ]
    },
    {
     "name": "stderr",
     "output_type": "stream",
     "text": [
      "Streaming tracklets:  93%|████████████████████████████████████████████████████████    | 200/214 [11:49<01:10,  5.05s/it]"
     ]
    },
    {
     "name": "stdout",
     "output_type": "stream",
     "text": [
      "Batch 192, Loss: 3.0581\n"
     ]
    },
    {
     "name": "stderr",
     "output_type": "stream",
     "text": [
      "Streaming tracklets:  93%|████████████████████████████████████████████████████████    | 200/214 [11:53<01:13,  5.29s/it]"
     ]
    },
    {
     "name": "stdout",
     "output_type": "stream",
     "text": [
      "Batch 193, Loss: 3.0965\n"
     ]
    },
    {
     "name": "stderr",
     "output_type": "stream",
     "text": [
      "Streaming tracklets:  93%|████████████████████████████████████████████████████████    | 200/214 [11:56<01:10,  5.06s/it]"
     ]
    },
    {
     "name": "stdout",
     "output_type": "stream",
     "text": [
      "Batch 194, Loss: 3.0813\n"
     ]
    },
    {
     "name": "stderr",
     "output_type": "stream",
     "text": [
      "Streaming tracklets:  93%|████████████████████████████████████████████████████████    | 200/214 [11:59<01:08,  4.87s/it]"
     ]
    },
    {
     "name": "stdout",
     "output_type": "stream",
     "text": [
      "Batch 195, Loss: 3.0433\n"
     ]
    },
    {
     "name": "stderr",
     "output_type": "stream",
     "text": [
      "Streaming tracklets:  95%|█████████████████████████████████████████████████████████▏  | 204/214 [12:02<00:48,  4.84s/it]"
     ]
    },
    {
     "name": "stdout",
     "output_type": "stream",
     "text": [
      "Batch 196, Loss: 2.9868\n"
     ]
    },
    {
     "name": "stderr",
     "output_type": "stream",
     "text": [
      "Streaming tracklets:  95%|█████████████████████████████████████████████████████████▏  | 204/214 [12:05<00:47,  4.74s/it]"
     ]
    },
    {
     "name": "stdout",
     "output_type": "stream",
     "text": [
      "Batch 197, Loss: 1.6014\n"
     ]
    },
    {
     "name": "stderr",
     "output_type": "stream",
     "text": [
      "Streaming tracklets:  95%|█████████████████████████████████████████████████████████▏  | 204/214 [12:09<00:47,  4.75s/it]"
     ]
    },
    {
     "name": "stdout",
     "output_type": "stream",
     "text": [
      "Batch 198, Loss: 1.6098\n"
     ]
    },
    {
     "name": "stderr",
     "output_type": "stream",
     "text": [
      "Streaming tracklets:  95%|█████████████████████████████████████████████████████████▏  | 204/214 [12:13<00:48,  4.84s/it]"
     ]
    },
    {
     "name": "stdout",
     "output_type": "stream",
     "text": [
      "Batch 199, Loss: 1.6095\n"
     ]
    },
    {
     "name": "stderr",
     "output_type": "stream",
     "text": [
      "Streaming tracklets:  97%|██████████████████████████████████████████████████████████▎ | 208/214 [12:16<00:29,  4.97s/it]"
     ]
    },
    {
     "name": "stdout",
     "output_type": "stream",
     "text": [
      "Batch 200, Loss: 1.6011\n"
     ]
    },
    {
     "name": "stderr",
     "output_type": "stream",
     "text": [
      "Streaming tracklets:  97%|██████████████████████████████████████████████████████████▎ | 208/214 [12:18<00:28,  4.69s/it]"
     ]
    },
    {
     "name": "stdout",
     "output_type": "stream",
     "text": [
      "Batch 201, Loss: 1.7867\n"
     ]
    },
    {
     "name": "stderr",
     "output_type": "stream",
     "text": [
      "Streaming tracklets:  98%|██████████████████████████████████████████████████████████▉ | 210/214 [12:21<00:11,  2.96s/it]"
     ]
    },
    {
     "name": "stdout",
     "output_type": "stream",
     "text": [
      "Batch 202, Loss: 1.7781\n"
     ]
    },
    {
     "name": "stderr",
     "output_type": "stream",
     "text": [
      "Streaming tracklets:  97%|██████████████████████████████████████████████████████████▎ | 208/214 [12:24<00:26,  4.39s/it]"
     ]
    },
    {
     "name": "stdout",
     "output_type": "stream",
     "text": [
      "Batch 203, Loss: 1.7630\n"
     ]
    },
    {
     "name": "stderr",
     "output_type": "stream",
     "text": [
      "Streaming tracklets:  98%|██████████████████████████████████████████████████████████▉ | 210/214 [12:28<00:12,  3.01s/it]"
     ]
    },
    {
     "name": "stdout",
     "output_type": "stream",
     "text": [
      "Batch 204, Loss: 1.7423\n"
     ]
    },
    {
     "name": "stderr",
     "output_type": "stream",
     "text": [
      "Streaming tracklets:  99%|███████████████████████████████████████████████████████████▍| 212/214 [12:32<00:09,  4.55s/it]"
     ]
    },
    {
     "name": "stdout",
     "output_type": "stream",
     "text": [
      "Batch 205, Loss: 3.3889\n"
     ]
    },
    {
     "name": "stderr",
     "output_type": "stream",
     "text": [
      "Streaming tracklets: 100%|████████████████████████████████████████████████████████████| 214/214 [12:32<00:00,  3.52s/it]\n",
      "Streaming tracklets: 100%|████████████████████████████████████████████████████████████| 214/214 [12:34<00:00,  3.53s/it]\n",
      "Streaming tracklets:  99%|███████████████████████████████████████████████████████████▍| 212/214 [12:35<00:08,  4.46s/it]"
     ]
    },
    {
     "name": "stdout",
     "output_type": "stream",
     "text": [
      "Batch 206, Loss: 3.3795\n"
     ]
    },
    {
     "name": "stderr",
     "output_type": "stream",
     "text": [
      "Streaming tracklets: 100%|████████████████████████████████████████████████████████████| 214/214 [12:37<00:00,  3.54s/it]\n",
      "Streaming tracklets:  99%|███████████████████████████████████████████████████████████▍| 212/214 [12:37<00:08,  4.23s/it]"
     ]
    },
    {
     "name": "stdout",
     "output_type": "stream",
     "text": [
      "Batch 207, Loss: 3.3592\n"
     ]
    },
    {
     "name": "stderr",
     "output_type": "stream",
     "text": [
      "Streaming tracklets: 100%|████████████████████████████████████████████████████████████| 214/214 [12:39<00:00,  3.55s/it]\n"
     ]
    },
    {
     "name": "stdout",
     "output_type": "stream",
     "text": [
      "Batch 208, Loss: 3.3298\n",
      "Batch 209, Loss: 3.7194\n",
      "Batch 210, Loss: 3.7083\n",
      "Batch 211, Loss: 3.6843\n",
      "Batch 212, Loss: 3.6497\n",
      "Batch 213, Loss: 5.6973\n",
      "Batch 214, Loss: 5.6249\n",
      "Batch 215, Loss: 5.5240\n",
      "Batch 216, Loss: 5.4018\n",
      "Epoch 1/30, Loss: 3.3601, Accuracy: 32.71%\n"
     ]
    },
    {
     "name": "stderr",
     "output_type": "stream",
     "text": [
      "Streaming tracklets:   4%|██▎                                                           | 8/214 [00:18<08:34,  2.50s/it]"
     ]
    },
    {
     "name": "stdout",
     "output_type": "stream",
     "text": [
      "Batch 1, Loss: 2.8186\n"
     ]
    },
    {
     "name": "stderr",
     "output_type": "stream",
     "text": [
      "Streaming tracklets:   4%|██▎                                                           | 8/214 [00:25<15:54,  4.63s/it]"
     ]
    },
    {
     "name": "stdout",
     "output_type": "stream",
     "text": [
      "Batch 2, Loss: 2.8102\n"
     ]
    },
    {
     "name": "stderr",
     "output_type": "stream",
     "text": [
      "Streaming tracklets:   4%|██▎                                                           | 8/214 [00:30<20:17,  5.91s/it]"
     ]
    },
    {
     "name": "stdout",
     "output_type": "stream",
     "text": [
      "Batch 3, Loss: 2.7960\n"
     ]
    },
    {
     "name": "stderr",
     "output_type": "stream",
     "text": [
      "Streaming tracklets:   6%|███▍                                                         | 12/214 [00:33<13:46,  4.09s/it]"
     ]
    },
    {
     "name": "stdout",
     "output_type": "stream",
     "text": [
      "Batch 4, Loss: 2.7769\n"
     ]
    },
    {
     "name": "stderr",
     "output_type": "stream",
     "text": [
      "Streaming tracklets:   6%|███▍                                                         | 12/214 [00:36<16:47,  4.99s/it]"
     ]
    },
    {
     "name": "stdout",
     "output_type": "stream",
     "text": [
      "Batch 5, Loss: 2.7443\n"
     ]
    },
    {
     "name": "stderr",
     "output_type": "stream",
     "text": [
      "Streaming tracklets:   6%|███▍                                                         | 12/214 [00:40<17:08,  5.09s/it]"
     ]
    },
    {
     "name": "stdout",
     "output_type": "stream",
     "text": [
      "Batch 6, Loss: 2.7284\n"
     ]
    },
    {
     "name": "stderr",
     "output_type": "stream",
     "text": [
      "Streaming tracklets:   6%|███▍                                                         | 12/214 [00:44<18:08,  5.39s/it]"
     ]
    },
    {
     "name": "stdout",
     "output_type": "stream",
     "text": [
      "Batch 7, Loss: 2.7079\n"
     ]
    },
    {
     "name": "stderr",
     "output_type": "stream",
     "text": [
      "Streaming tracklets:   7%|████▌                                                        | 16/214 [00:49<16:52,  5.11s/it]"
     ]
    },
    {
     "name": "stdout",
     "output_type": "stream",
     "text": [
      "Batch 8, Loss: 2.6834\n"
     ]
    },
    {
     "name": "stderr",
     "output_type": "stream",
     "text": [
      "Streaming tracklets:   7%|████▌                                                        | 16/214 [00:52<17:32,  5.31s/it]"
     ]
    },
    {
     "name": "stdout",
     "output_type": "stream",
     "text": [
      "Batch 9, Loss: 3.4022\n"
     ]
    },
    {
     "name": "stderr",
     "output_type": "stream",
     "text": [
      "Streaming tracklets:   9%|█████▍                                                       | 19/214 [00:56<08:45,  2.69s/it]"
     ]
    },
    {
     "name": "stdout",
     "output_type": "stream",
     "text": [
      "Batch 10, Loss: 3.3897\n"
     ]
    },
    {
     "name": "stderr",
     "output_type": "stream",
     "text": [
      "Streaming tracklets:   7%|████▌                                                        | 16/214 [01:00<17:04,  5.17s/it]"
     ]
    },
    {
     "name": "stdout",
     "output_type": "stream",
     "text": [
      "Batch 11, Loss: 3.3695\n"
     ]
    },
    {
     "name": "stderr",
     "output_type": "stream",
     "text": [
      "Streaming tracklets:   9%|█████▍                                                       | 19/214 [01:03<08:34,  2.64s/it]"
     ]
    },
    {
     "name": "stdout",
     "output_type": "stream",
     "text": [
      "Batch 12, Loss: 3.3430\n"
     ]
    },
    {
     "name": "stderr",
     "output_type": "stream",
     "text": [
      "Streaming tracklets:   9%|█████▋                                                       | 20/214 [01:08<17:31,  5.42s/it]"
     ]
    },
    {
     "name": "stdout",
     "output_type": "stream",
     "text": [
      "Batch 13, Loss: 3.3726\n"
     ]
    },
    {
     "name": "stderr",
     "output_type": "stream",
     "text": [
      "Streaming tracklets:   9%|█████▋                                                       | 20/214 [01:12<17:45,  5.49s/it]"
     ]
    },
    {
     "name": "stdout",
     "output_type": "stream",
     "text": [
      "Batch 14, Loss: 3.3577\n"
     ]
    },
    {
     "name": "stderr",
     "output_type": "stream",
     "text": [
      "Streaming tracklets:  11%|██████▌                                                      | 23/214 [01:17<09:02,  2.84s/it]"
     ]
    },
    {
     "name": "stdout",
     "output_type": "stream",
     "text": [
      "Batch 15, Loss: 3.3340\n"
     ]
    },
    {
     "name": "stderr",
     "output_type": "stream",
     "text": [
      "Streaming tracklets:  11%|██████▊                                                      | 24/214 [01:21<18:02,  5.70s/it]"
     ]
    },
    {
     "name": "stdout",
     "output_type": "stream",
     "text": [
      "Batch 16, Loss: 3.3029\n"
     ]
    },
    {
     "name": "stderr",
     "output_type": "stream",
     "text": [
      "Streaming tracklets:  13%|███████▋                                                     | 27/214 [01:25<09:00,  2.89s/it]"
     ]
    },
    {
     "name": "stdout",
     "output_type": "stream",
     "text": [
      "Batch 17, Loss: 3.5651\n"
     ]
    },
    {
     "name": "stderr",
     "output_type": "stream",
     "text": [
      "Streaming tracklets:  11%|██████▊                                                      | 24/214 [01:29<18:00,  5.69s/it]"
     ]
    },
    {
     "name": "stdout",
     "output_type": "stream",
     "text": [
      "Batch 18, Loss: 3.5564\n"
     ]
    },
    {
     "name": "stderr",
     "output_type": "stream",
     "text": [
      "Streaming tracklets:  11%|██████▊                                                      | 24/214 [01:33<17:33,  5.54s/it]"
     ]
    },
    {
     "name": "stdout",
     "output_type": "stream",
     "text": [
      "Batch 19, Loss: 3.5381\n"
     ]
    },
    {
     "name": "stderr",
     "output_type": "stream",
     "text": [
      "Streaming tracklets:  13%|███████▉                                                     | 28/214 [01:37<16:54,  5.45s/it]"
     ]
    },
    {
     "name": "stdout",
     "output_type": "stream",
     "text": [
      "Batch 20, Loss: 3.5119\n"
     ]
    },
    {
     "name": "stderr",
     "output_type": "stream",
     "text": [
      "Streaming tracklets:  13%|███████▉                                                     | 28/214 [01:40<16:36,  5.36s/it]"
     ]
    },
    {
     "name": "stdout",
     "output_type": "stream",
     "text": [
      "Batch 21, Loss: 3.5242\n"
     ]
    },
    {
     "name": "stderr",
     "output_type": "stream",
     "text": [
      "Streaming tracklets:  13%|███████▉                                                     | 28/214 [01:44<16:42,  5.39s/it]"
     ]
    },
    {
     "name": "stdout",
     "output_type": "stream",
     "text": [
      "Batch 22, Loss: 3.5073\n"
     ]
    },
    {
     "name": "stderr",
     "output_type": "stream",
     "text": [
      "Streaming tracklets:  13%|███████▉                                                     | 28/214 [01:48<17:00,  5.48s/it]"
     ]
    },
    {
     "name": "stdout",
     "output_type": "stream",
     "text": [
      "Batch 23, Loss: 3.4818\n"
     ]
    },
    {
     "name": "stderr",
     "output_type": "stream",
     "text": [
      "Streaming tracklets:  15%|█████████                                                    | 32/214 [01:52<16:54,  5.57s/it]"
     ]
    },
    {
     "name": "stdout",
     "output_type": "stream",
     "text": [
      "Batch 24, Loss: 3.4495\n"
     ]
    },
    {
     "name": "stderr",
     "output_type": "stream",
     "text": [
      "Streaming tracklets:  15%|█████████                                                    | 32/214 [01:56<16:40,  5.50s/it]"
     ]
    },
    {
     "name": "stdout",
     "output_type": "stream",
     "text": [
      "Batch 25, Loss: 1.9500\n"
     ]
    },
    {
     "name": "stderr",
     "output_type": "stream",
     "text": [
      "Streaming tracklets:  15%|█████████                                                    | 32/214 [02:00<16:50,  5.55s/it]"
     ]
    },
    {
     "name": "stdout",
     "output_type": "stream",
     "text": [
      "Batch 26, Loss: 1.9456\n"
     ]
    },
    {
     "name": "stderr",
     "output_type": "stream",
     "text": [
      "Streaming tracklets:  15%|█████████                                                    | 32/214 [02:04<16:54,  5.58s/it]"
     ]
    },
    {
     "name": "stdout",
     "output_type": "stream",
     "text": [
      "Batch 27, Loss: 1.9294\n"
     ]
    },
    {
     "name": "stderr",
     "output_type": "stream",
     "text": [
      "Streaming tracklets:  17%|██████████▎                                                  | 36/214 [02:08<16:32,  5.58s/it]"
     ]
    },
    {
     "name": "stdout",
     "output_type": "stream",
     "text": [
      "Batch 28, Loss: 1.9032\n"
     ]
    },
    {
     "name": "stderr",
     "output_type": "stream",
     "text": [
      "Streaming tracklets:  17%|██████████▎                                                  | 36/214 [02:12<16:33,  5.58s/it]"
     ]
    },
    {
     "name": "stdout",
     "output_type": "stream",
     "text": [
      "Batch 29, Loss: 3.4083\n"
     ]
    },
    {
     "name": "stderr",
     "output_type": "stream",
     "text": [
      "Streaming tracklets:  17%|██████████▎                                                  | 36/214 [02:16<16:45,  5.65s/it]"
     ]
    },
    {
     "name": "stdout",
     "output_type": "stream",
     "text": [
      "Batch 30, Loss: 3.4049\n"
     ]
    },
    {
     "name": "stderr",
     "output_type": "stream",
     "text": [
      "Streaming tracklets:  17%|██████████▎                                                  | 36/214 [02:20<16:09,  5.45s/it]"
     ]
    },
    {
     "name": "stdout",
     "output_type": "stream",
     "text": [
      "Batch 31, Loss: 3.3875\n"
     ]
    },
    {
     "name": "stderr",
     "output_type": "stream",
     "text": [
      "Streaming tracklets:  19%|███████████▍                                                 | 40/214 [02:24<15:47,  5.45s/it]"
     ]
    },
    {
     "name": "stdout",
     "output_type": "stream",
     "text": [
      "Batch 32, Loss: 3.3580\n"
     ]
    },
    {
     "name": "stderr",
     "output_type": "stream",
     "text": [
      "Streaming tracklets:  20%|████████████▎                                                | 43/214 [02:27<07:28,  2.63s/it]"
     ]
    },
    {
     "name": "stdout",
     "output_type": "stream",
     "text": [
      "Batch 33, Loss: 2.4951\n"
     ]
    },
    {
     "name": "stderr",
     "output_type": "stream",
     "text": [
      "Streaming tracklets:  19%|███████████▍                                                 | 40/214 [02:31<15:28,  5.34s/it]"
     ]
    },
    {
     "name": "stdout",
     "output_type": "stream",
     "text": [
      "Batch 34, Loss: 2.4931\n"
     ]
    },
    {
     "name": "stderr",
     "output_type": "stream",
     "text": [
      "Streaming tracklets:  20%|████████████▎                                                | 43/214 [02:35<07:48,  2.74s/it]"
     ]
    },
    {
     "name": "stdout",
     "output_type": "stream",
     "text": [
      "Batch 35, Loss: 2.4812\n"
     ]
    },
    {
     "name": "stderr",
     "output_type": "stream",
     "text": [
      "Streaming tracklets:  21%|████████████▌                                                | 44/214 [02:39<15:05,  5.33s/it]"
     ]
    },
    {
     "name": "stdout",
     "output_type": "stream",
     "text": [
      "Batch 36, Loss: 2.4607\n"
     ]
    },
    {
     "name": "stderr",
     "output_type": "stream",
     "text": [
      "Streaming tracklets:  21%|████████████▌                                                | 44/214 [02:43<15:05,  5.33s/it]"
     ]
    },
    {
     "name": "stdout",
     "output_type": "stream",
     "text": [
      "Batch 37, Loss: 3.5190\n"
     ]
    },
    {
     "name": "stderr",
     "output_type": "stream",
     "text": [
      "Streaming tracklets:  21%|████████████▌                                                | 44/214 [02:47<15:26,  5.45s/it]"
     ]
    },
    {
     "name": "stdout",
     "output_type": "stream",
     "text": [
      "Batch 38, Loss: 3.5120\n"
     ]
    },
    {
     "name": "stderr",
     "output_type": "stream",
     "text": [
      "Streaming tracklets:  21%|████████████▌                                                | 44/214 [02:51<15:45,  5.56s/it]"
     ]
    },
    {
     "name": "stdout",
     "output_type": "stream",
     "text": [
      "Batch 39, Loss: 3.4939\n"
     ]
    },
    {
     "name": "stderr",
     "output_type": "stream",
     "text": [
      "Streaming tracklets:  22%|█████████████▋                                               | 48/214 [02:55<15:14,  5.51s/it]"
     ]
    },
    {
     "name": "stdout",
     "output_type": "stream",
     "text": [
      "Batch 40, Loss: 3.4664\n"
     ]
    },
    {
     "name": "stderr",
     "output_type": "stream",
     "text": [
      "Streaming tracklets:  22%|█████████████▋                                               | 48/214 [02:59<15:06,  5.46s/it]"
     ]
    },
    {
     "name": "stdout",
     "output_type": "stream",
     "text": [
      "Batch 41, Loss: 3.8926\n"
     ]
    },
    {
     "name": "stderr",
     "output_type": "stream",
     "text": [
      "Streaming tracklets:  22%|█████████████▋                                               | 48/214 [03:03<14:49,  5.36s/it]"
     ]
    },
    {
     "name": "stdout",
     "output_type": "stream",
     "text": [
      "Batch 42, Loss: 3.8828\n"
     ]
    },
    {
     "name": "stderr",
     "output_type": "stream",
     "text": [
      "Streaming tracklets:  22%|█████████████▋                                               | 48/214 [03:06<14:23,  5.20s/it]"
     ]
    },
    {
     "name": "stdout",
     "output_type": "stream",
     "text": [
      "Batch 43, Loss: 3.8608\n"
     ]
    },
    {
     "name": "stderr",
     "output_type": "stream",
     "text": [
      "Streaming tracklets:  24%|██████████████▊                                              | 52/214 [03:10<14:10,  5.25s/it]"
     ]
    },
    {
     "name": "stdout",
     "output_type": "stream",
     "text": [
      "Batch 44, Loss: 3.8284\n"
     ]
    },
    {
     "name": "stderr",
     "output_type": "stream",
     "text": [
      "Streaming tracklets:  24%|██████████████▊                                              | 52/214 [03:13<14:06,  5.22s/it]"
     ]
    },
    {
     "name": "stdout",
     "output_type": "stream",
     "text": [
      "Batch 45, Loss: 3.6514\n"
     ]
    },
    {
     "name": "stderr",
     "output_type": "stream",
     "text": [
      "Streaming tracklets:  24%|██████████████▊                                              | 52/214 [03:17<13:56,  5.16s/it]"
     ]
    },
    {
     "name": "stdout",
     "output_type": "stream",
     "text": [
      "Batch 46, Loss: 3.6326\n"
     ]
    },
    {
     "name": "stderr",
     "output_type": "stream",
     "text": [
      "Streaming tracklets:  24%|██████████████▊                                              | 52/214 [03:21<13:49,  5.12s/it]"
     ]
    },
    {
     "name": "stdout",
     "output_type": "stream",
     "text": [
      "Batch 47, Loss: 3.6044\n"
     ]
    },
    {
     "name": "stderr",
     "output_type": "stream",
     "text": [
      "Streaming tracklets:  26%|███████████████▉                                             | 56/214 [03:24<13:25,  5.10s/it]"
     ]
    },
    {
     "name": "stdout",
     "output_type": "stream",
     "text": [
      "Batch 48, Loss: 3.5677\n"
     ]
    },
    {
     "name": "stderr",
     "output_type": "stream",
     "text": [
      "Streaming tracklets:  26%|███████████████▉                                             | 56/214 [03:27<13:20,  5.07s/it]"
     ]
    },
    {
     "name": "stdout",
     "output_type": "stream",
     "text": [
      "Batch 49, Loss: 2.6237\n"
     ]
    },
    {
     "name": "stderr",
     "output_type": "stream",
     "text": [
      "Streaming tracklets:  26%|███████████████▉                                             | 56/214 [03:30<12:54,  4.90s/it]"
     ]
    },
    {
     "name": "stdout",
     "output_type": "stream",
     "text": [
      "Batch 50, Loss: 2.6170\n"
     ]
    },
    {
     "name": "stderr",
     "output_type": "stream",
     "text": [
      "Streaming tracklets:  26%|███████████████▉                                             | 56/214 [03:33<12:29,  4.74s/it]"
     ]
    },
    {
     "name": "stdout",
     "output_type": "stream",
     "text": [
      "Batch 51, Loss: 2.6011\n"
     ]
    },
    {
     "name": "stderr",
     "output_type": "stream",
     "text": [
      "Streaming tracklets:  28%|█████████████████                                            | 60/214 [03:37<11:52,  4.62s/it]"
     ]
    },
    {
     "name": "stdout",
     "output_type": "stream",
     "text": [
      "Batch 52, Loss: 2.5772\n"
     ]
    },
    {
     "name": "stderr",
     "output_type": "stream",
     "text": [
      "Streaming tracklets:  28%|█████████████████                                            | 60/214 [03:40<11:40,  4.55s/it]"
     ]
    },
    {
     "name": "stdout",
     "output_type": "stream",
     "text": [
      "Batch 53, Loss: 3.1165\n"
     ]
    },
    {
     "name": "stderr",
     "output_type": "stream",
     "text": [
      "Streaming tracklets:  29%|█████████████████▉                                           | 63/214 [03:43<05:37,  2.23s/it]"
     ]
    },
    {
     "name": "stdout",
     "output_type": "stream",
     "text": [
      "Batch 54, Loss: 3.0880\n"
     ]
    },
    {
     "name": "stderr",
     "output_type": "stream",
     "text": [
      "Streaming tracklets:  28%|█████████████████                                            | 60/214 [03:47<12:22,  4.82s/it]"
     ]
    },
    {
     "name": "stdout",
     "output_type": "stream",
     "text": [
      "Batch 55, Loss: 3.0493\n"
     ]
    },
    {
     "name": "stderr",
     "output_type": "stream",
     "text": [
      "Streaming tracklets:  30%|██████████████████▏                                          | 64/214 [03:50<12:07,  4.85s/it]"
     ]
    },
    {
     "name": "stdout",
     "output_type": "stream",
     "text": [
      "Batch 56, Loss: 3.0017\n"
     ]
    },
    {
     "name": "stderr",
     "output_type": "stream",
     "text": [
      "Streaming tracklets:  30%|██████████████████▏                                          | 64/214 [03:54<11:54,  4.76s/it]"
     ]
    },
    {
     "name": "stdout",
     "output_type": "stream",
     "text": [
      "Batch 57, Loss: 2.9674\n"
     ]
    },
    {
     "name": "stderr",
     "output_type": "stream",
     "text": [
      "Streaming tracklets:  30%|██████████████████▏                                          | 64/214 [03:57<11:50,  4.74s/it]"
     ]
    },
    {
     "name": "stdout",
     "output_type": "stream",
     "text": [
      "Batch 58, Loss: 2.9501\n"
     ]
    },
    {
     "name": "stderr",
     "output_type": "stream",
     "text": [
      "Streaming tracklets:  30%|██████████████████▏                                          | 64/214 [04:00<11:15,  4.51s/it]"
     ]
    },
    {
     "name": "stdout",
     "output_type": "stream",
     "text": [
      "Batch 59, Loss: 2.9232\n"
     ]
    },
    {
     "name": "stderr",
     "output_type": "stream",
     "text": [
      "Streaming tracklets:  32%|███████████████████▍                                         | 68/214 [04:03<10:59,  4.51s/it]"
     ]
    },
    {
     "name": "stdout",
     "output_type": "stream",
     "text": [
      "Batch 60, Loss: 2.8890\n"
     ]
    },
    {
     "name": "stderr",
     "output_type": "stream",
     "text": [
      "Streaming tracklets:  32%|███████████████████▍                                         | 68/214 [04:07<11:50,  4.87s/it]"
     ]
    },
    {
     "name": "stdout",
     "output_type": "stream",
     "text": [
      "Batch 61, Loss: 4.0989\n"
     ]
    },
    {
     "name": "stderr",
     "output_type": "stream",
     "text": [
      "Streaming tracklets:  32%|███████████████████▍                                         | 68/214 [04:11<12:20,  5.07s/it]"
     ]
    },
    {
     "name": "stdout",
     "output_type": "stream",
     "text": [
      "Batch 62, Loss: 4.0963\n"
     ]
    },
    {
     "name": "stderr",
     "output_type": "stream",
     "text": [
      "Streaming tracklets:  32%|███████████████████▍                                         | 68/214 [04:15<13:08,  5.40s/it]"
     ]
    },
    {
     "name": "stdout",
     "output_type": "stream",
     "text": [
      "Batch 63, Loss: 4.0783\n"
     ]
    },
    {
     "name": "stderr",
     "output_type": "stream",
     "text": [
      "Streaming tracklets:  33%|████████████████████▏                                        | 71/214 [04:20<06:27,  2.71s/it]"
     ]
    },
    {
     "name": "stdout",
     "output_type": "stream",
     "text": [
      "Batch 64, Loss: 4.0474\n"
     ]
    },
    {
     "name": "stderr",
     "output_type": "stream",
     "text": [
      "Streaming tracklets:  34%|████████████████████▌                                        | 72/214 [04:24<13:00,  5.50s/it]"
     ]
    },
    {
     "name": "stdout",
     "output_type": "stream",
     "text": [
      "Batch 65, Loss: 2.5746\n"
     ]
    },
    {
     "name": "stderr",
     "output_type": "stream",
     "text": [
      "Streaming tracklets:  34%|████████████████████▌                                        | 72/214 [04:27<13:03,  5.52s/it]"
     ]
    },
    {
     "name": "stdout",
     "output_type": "stream",
     "text": [
      "Batch 66, Loss: 2.5737\n"
     ]
    },
    {
     "name": "stderr",
     "output_type": "stream",
     "text": [
      "Streaming tracklets:  34%|████████████████████▌                                        | 72/214 [04:31<12:39,  5.35s/it]"
     ]
    },
    {
     "name": "stdout",
     "output_type": "stream",
     "text": [
      "Batch 67, Loss: 2.5638\n"
     ]
    },
    {
     "name": "stderr",
     "output_type": "stream",
     "text": [
      "Streaming tracklets:  36%|█████████████████████▋                                       | 76/214 [04:35<12:35,  5.48s/it]"
     ]
    },
    {
     "name": "stdout",
     "output_type": "stream",
     "text": [
      "Batch 68, Loss: 2.5459\n"
     ]
    },
    {
     "name": "stderr",
     "output_type": "stream",
     "text": [
      "Streaming tracklets:  36%|█████████████████████▋                                       | 76/214 [04:39<12:26,  5.41s/it]"
     ]
    },
    {
     "name": "stdout",
     "output_type": "stream",
     "text": [
      "Batch 69, Loss: 3.3161\n"
     ]
    },
    {
     "name": "stderr",
     "output_type": "stream",
     "text": [
      "Streaming tracklets:  36%|█████████████████████▋                                       | 76/214 [04:42<12:31,  5.44s/it]"
     ]
    },
    {
     "name": "stdout",
     "output_type": "stream",
     "text": [
      "Batch 70, Loss: 3.2977\n"
     ]
    },
    {
     "name": "stderr",
     "output_type": "stream",
     "text": [
      "Streaming tracklets:  36%|█████████████████████▋                                       | 76/214 [04:46<12:25,  5.40s/it]"
     ]
    },
    {
     "name": "stdout",
     "output_type": "stream",
     "text": [
      "Batch 71, Loss: 3.2719\n"
     ]
    },
    {
     "name": "stderr",
     "output_type": "stream",
     "text": [
      "Streaming tracklets:  37%|██████████████████████▊                                      | 80/214 [04:50<11:52,  5.32s/it]"
     ]
    },
    {
     "name": "stdout",
     "output_type": "stream",
     "text": [
      "Batch 72, Loss: 3.2384\n"
     ]
    },
    {
     "name": "stderr",
     "output_type": "stream",
     "text": [
      "Streaming tracklets:  37%|██████████████████████▊                                      | 80/214 [04:53<11:43,  5.25s/it]"
     ]
    },
    {
     "name": "stdout",
     "output_type": "stream",
     "text": [
      "Batch 73, Loss: 2.1778\n"
     ]
    },
    {
     "name": "stderr",
     "output_type": "stream",
     "text": [
      "Streaming tracklets:  37%|██████████████████████▊                                      | 80/214 [04:57<11:34,  5.18s/it]"
     ]
    },
    {
     "name": "stdout",
     "output_type": "stream",
     "text": [
      "Batch 74, Loss: 2.1676\n"
     ]
    },
    {
     "name": "stderr",
     "output_type": "stream",
     "text": [
      "Streaming tracklets:  37%|██████████████████████▊                                      | 80/214 [05:00<11:19,  5.07s/it]"
     ]
    },
    {
     "name": "stdout",
     "output_type": "stream",
     "text": [
      "Batch 75, Loss: 2.1455\n"
     ]
    },
    {
     "name": "stderr",
     "output_type": "stream",
     "text": [
      "Streaming tracklets:  39%|███████████████████████▉                                     | 84/214 [05:03<11:06,  5.12s/it]"
     ]
    },
    {
     "name": "stdout",
     "output_type": "stream",
     "text": [
      "Batch 76, Loss: 2.1142\n"
     ]
    },
    {
     "name": "stderr",
     "output_type": "stream",
     "text": [
      "Streaming tracklets:  41%|████████████████████████▊                                    | 87/214 [05:06<05:10,  2.44s/it]"
     ]
    },
    {
     "name": "stdout",
     "output_type": "stream",
     "text": [
      "Batch 77, Loss: 3.7293\n"
     ]
    },
    {
     "name": "stderr",
     "output_type": "stream",
     "text": [
      "Streaming tracklets:  39%|███████████████████████▉                                     | 84/214 [05:10<10:56,  5.05s/it]"
     ]
    },
    {
     "name": "stdout",
     "output_type": "stream",
     "text": [
      "Batch 78, Loss: 3.7214\n"
     ]
    },
    {
     "name": "stderr",
     "output_type": "stream",
     "text": [
      "Streaming tracklets:  39%|███████████████████████▉                                     | 84/214 [05:13<10:46,  4.97s/it]"
     ]
    },
    {
     "name": "stdout",
     "output_type": "stream",
     "text": [
      "Batch 79, Loss: 3.7022\n"
     ]
    },
    {
     "name": "stderr",
     "output_type": "stream",
     "text": [
      "Streaming tracklets:  41%|█████████████████████████                                    | 88/214 [05:17<10:35,  5.04s/it]"
     ]
    },
    {
     "name": "stdout",
     "output_type": "stream",
     "text": [
      "Batch 80, Loss: 3.6731\n"
     ]
    },
    {
     "name": "stderr",
     "output_type": "stream",
     "text": [
      "Streaming tracklets:  41%|█████████████████████████                                    | 88/214 [05:22<11:11,  5.33s/it]"
     ]
    },
    {
     "name": "stdout",
     "output_type": "stream",
     "text": [
      "Batch 81, Loss: 1.0955\n"
     ]
    },
    {
     "name": "stderr",
     "output_type": "stream",
     "text": [
      "Streaming tracklets:  41%|█████████████████████████                                    | 88/214 [05:26<11:08,  5.30s/it]"
     ]
    },
    {
     "name": "stdout",
     "output_type": "stream",
     "text": [
      "Batch 82, Loss: 1.0723\n"
     ]
    },
    {
     "name": "stderr",
     "output_type": "stream",
     "text": [
      "Streaming tracklets:  41%|█████████████████████████                                    | 88/214 [05:29<10:58,  5.23s/it]"
     ]
    },
    {
     "name": "stdout",
     "output_type": "stream",
     "text": [
      "Batch 83, Loss: 1.0344\n"
     ]
    },
    {
     "name": "stderr",
     "output_type": "stream",
     "text": [
      "Streaming tracklets:  43%|██████████████████████████▏                                  | 92/214 [05:33<10:33,  5.19s/it]"
     ]
    },
    {
     "name": "stdout",
     "output_type": "stream",
     "text": [
      "Batch 84, Loss: 0.9852\n"
     ]
    },
    {
     "name": "stderr",
     "output_type": "stream",
     "text": [
      "Streaming tracklets:  43%|██████████████████████████▏                                  | 92/214 [05:36<10:25,  5.12s/it]"
     ]
    },
    {
     "name": "stdout",
     "output_type": "stream",
     "text": [
      "Batch 85, Loss: 2.5298\n"
     ]
    },
    {
     "name": "stderr",
     "output_type": "stream",
     "text": [
      "Streaming tracklets:  43%|██████████████████████████▏                                  | 92/214 [05:39<10:01,  4.93s/it]"
     ]
    },
    {
     "name": "stdout",
     "output_type": "stream",
     "text": [
      "Batch 86, Loss: 2.5290\n"
     ]
    },
    {
     "name": "stderr",
     "output_type": "stream",
     "text": [
      "Streaming tracklets:  43%|██████████████████████████▏                                  | 92/214 [05:42<09:47,  4.81s/it]"
     ]
    },
    {
     "name": "stdout",
     "output_type": "stream",
     "text": [
      "Batch 87, Loss: 2.5182\n"
     ]
    },
    {
     "name": "stderr",
     "output_type": "stream",
     "text": [
      "Streaming tracklets:  45%|███████████████████████████▎                                 | 96/214 [05:45<09:30,  4.83s/it]"
     ]
    },
    {
     "name": "stdout",
     "output_type": "stream",
     "text": [
      "Batch 88, Loss: 2.4982\n"
     ]
    },
    {
     "name": "stderr",
     "output_type": "stream",
     "text": [
      "Streaming tracklets:  45%|███████████████████████████▎                                 | 96/214 [05:48<09:26,  4.80s/it]"
     ]
    },
    {
     "name": "stdout",
     "output_type": "stream",
     "text": [
      "Batch 89, Loss: 1.3074\n"
     ]
    },
    {
     "name": "stderr",
     "output_type": "stream",
     "text": [
      "Streaming tracklets:  45%|███████████████████████████▎                                 | 96/214 [05:52<09:41,  4.93s/it]"
     ]
    },
    {
     "name": "stdout",
     "output_type": "stream",
     "text": [
      "Batch 90, Loss: 1.2975\n"
     ]
    },
    {
     "name": "stderr",
     "output_type": "stream",
     "text": [
      "Streaming tracklets:  45%|███████████████████████████▎                                 | 96/214 [05:56<09:51,  5.01s/it]"
     ]
    },
    {
     "name": "stdout",
     "output_type": "stream",
     "text": [
      "Batch 91, Loss: 1.2843\n"
     ]
    },
    {
     "name": "stderr",
     "output_type": "stream",
     "text": [
      "Streaming tracklets:  47%|████████████████████████████                                | 100/214 [05:59<08:10,  4.30s/it]"
     ]
    },
    {
     "name": "stdout",
     "output_type": "stream",
     "text": [
      "Batch 92, Loss: 1.2684\n"
     ]
    },
    {
     "name": "stderr",
     "output_type": "stream",
     "text": [
      "Streaming tracklets:  47%|████████████████████████████                                | 100/214 [06:01<07:41,  4.05s/it]"
     ]
    },
    {
     "name": "stdout",
     "output_type": "stream",
     "text": [
      "Batch 93, Loss: 3.4335\n"
     ]
    },
    {
     "name": "stderr",
     "output_type": "stream",
     "text": [
      "Streaming tracklets:  47%|████████████████████████████                                | 100/214 [06:04<07:14,  3.82s/it]"
     ]
    },
    {
     "name": "stdout",
     "output_type": "stream",
     "text": [
      "Batch 94, Loss: 3.4378\n"
     ]
    },
    {
     "name": "stderr",
     "output_type": "stream",
     "text": [
      "Streaming tracklets:  47%|████████████████████████████                                | 100/214 [06:07<07:12,  3.79s/it]"
     ]
    },
    {
     "name": "stdout",
     "output_type": "stream",
     "text": [
      "Batch 95, Loss: 3.4308\n"
     ]
    },
    {
     "name": "stderr",
     "output_type": "stream",
     "text": [
      "Streaming tracklets:  49%|█████████████████████████████▏                              | 104/214 [06:11<07:12,  3.93s/it]"
     ]
    },
    {
     "name": "stdout",
     "output_type": "stream",
     "text": [
      "Batch 96, Loss: 3.4140\n"
     ]
    },
    {
     "name": "stderr",
     "output_type": "stream",
     "text": [
      "Streaming tracklets:  49%|█████████████████████████████▏                              | 104/214 [06:16<08:35,  4.69s/it]"
     ]
    },
    {
     "name": "stdout",
     "output_type": "stream",
     "text": [
      "Batch 97, Loss: 2.7893\n"
     ]
    },
    {
     "name": "stderr",
     "output_type": "stream",
     "text": [
      "Streaming tracklets:  49%|█████████████████████████████▏                              | 104/214 [06:20<08:58,  4.89s/it]"
     ]
    },
    {
     "name": "stdout",
     "output_type": "stream",
     "text": [
      "Batch 98, Loss: 2.7792\n"
     ]
    },
    {
     "name": "stderr",
     "output_type": "stream",
     "text": [
      "Streaming tracklets:  49%|█████████████████████████████▏                              | 104/214 [06:24<09:06,  4.97s/it]"
     ]
    },
    {
     "name": "stdout",
     "output_type": "stream",
     "text": [
      "Batch 99, Loss: 2.7619\n"
     ]
    },
    {
     "name": "stderr",
     "output_type": "stream",
     "text": [
      "Streaming tracklets:  50%|██████████████████████████████▎                             | 108/214 [06:28<09:39,  5.47s/it]"
     ]
    },
    {
     "name": "stdout",
     "output_type": "stream",
     "text": [
      "Batch 100, Loss: 2.7383\n"
     ]
    },
    {
     "name": "stderr",
     "output_type": "stream",
     "text": [
      "Streaming tracklets:  50%|██████████████████████████████▎                             | 108/214 [06:32<09:12,  5.21s/it]"
     ]
    },
    {
     "name": "stdout",
     "output_type": "stream",
     "text": [
      "Batch 101, Loss: 2.6360\n"
     ]
    },
    {
     "name": "stderr",
     "output_type": "stream",
     "text": [
      "Streaming tracklets:  50%|██████████████████████████████▎                             | 108/214 [06:36<09:15,  5.24s/it]"
     ]
    },
    {
     "name": "stdout",
     "output_type": "stream",
     "text": [
      "Batch 102, Loss: 2.6322\n"
     ]
    },
    {
     "name": "stderr",
     "output_type": "stream",
     "text": [
      "Streaming tracklets:  50%|██████████████████████████████▎                             | 108/214 [06:40<09:45,  5.52s/it]"
     ]
    },
    {
     "name": "stdout",
     "output_type": "stream",
     "text": [
      "Batch 103, Loss: 2.6222\n"
     ]
    },
    {
     "name": "stderr",
     "output_type": "stream",
     "text": [
      "Streaming tracklets:  52%|███████████████████████████████▍                            | 112/214 [06:45<09:45,  5.74s/it]"
     ]
    },
    {
     "name": "stdout",
     "output_type": "stream",
     "text": [
      "Batch 104, Loss: 2.6078\n"
     ]
    },
    {
     "name": "stderr",
     "output_type": "stream",
     "text": [
      "Streaming tracklets:  52%|███████████████████████████████▍                            | 112/214 [06:49<09:46,  5.75s/it]"
     ]
    },
    {
     "name": "stdout",
     "output_type": "stream",
     "text": [
      "Batch 105, Loss: 3.3279\n"
     ]
    },
    {
     "name": "stderr",
     "output_type": "stream",
     "text": [
      "Streaming tracklets:  54%|████████████████████████████████▏                           | 115/214 [06:53<04:47,  2.90s/it]"
     ]
    },
    {
     "name": "stdout",
     "output_type": "stream",
     "text": [
      "Batch 106, Loss: 3.3145\n"
     ]
    },
    {
     "name": "stderr",
     "output_type": "stream",
     "text": [
      "Streaming tracklets:  52%|███████████████████████████████▍                            | 112/214 [06:57<10:02,  5.91s/it]"
     ]
    },
    {
     "name": "stdout",
     "output_type": "stream",
     "text": [
      "Batch 107, Loss: 3.2908\n"
     ]
    },
    {
     "name": "stderr",
     "output_type": "stream",
     "text": [
      "Streaming tracklets:  54%|████████████████████████████████▌                           | 116/214 [07:02<09:39,  5.91s/it]"
     ]
    },
    {
     "name": "stdout",
     "output_type": "stream",
     "text": [
      "Batch 108, Loss: 3.2587\n"
     ]
    },
    {
     "name": "stderr",
     "output_type": "stream",
     "text": [
      "Streaming tracklets:  54%|████████████████████████████████▌                           | 116/214 [07:06<09:35,  5.88s/it]"
     ]
    },
    {
     "name": "stdout",
     "output_type": "stream",
     "text": [
      "Batch 109, Loss: 2.4272\n"
     ]
    },
    {
     "name": "stderr",
     "output_type": "stream",
     "text": [
      "Streaming tracklets:  54%|████████████████████████████████▌                           | 116/214 [07:10<09:35,  5.87s/it]"
     ]
    },
    {
     "name": "stdout",
     "output_type": "stream",
     "text": [
      "Batch 110, Loss: 2.4205\n"
     ]
    },
    {
     "name": "stderr",
     "output_type": "stream",
     "text": [
      "Streaming tracklets:  54%|████████████████████████████████▌                           | 116/214 [07:14<09:19,  5.71s/it]"
     ]
    },
    {
     "name": "stdout",
     "output_type": "stream",
     "text": [
      "Batch 111, Loss: 2.4090\n"
     ]
    },
    {
     "name": "stderr",
     "output_type": "stream",
     "text": [
      "Streaming tracklets:  56%|█████████████████████████████████▋                          | 120/214 [07:18<08:57,  5.72s/it]"
     ]
    },
    {
     "name": "stdout",
     "output_type": "stream",
     "text": [
      "Batch 112, Loss: 2.3929\n"
     ]
    },
    {
     "name": "stderr",
     "output_type": "stream",
     "text": [
      "Streaming tracklets:  56%|█████████████████████████████████▋                          | 120/214 [07:22<08:43,  5.56s/it]"
     ]
    },
    {
     "name": "stdout",
     "output_type": "stream",
     "text": [
      "Batch 113, Loss: 3.7956\n"
     ]
    },
    {
     "name": "stderr",
     "output_type": "stream",
     "text": [
      "Streaming tracklets:  56%|█████████████████████████████████▋                          | 120/214 [07:25<08:37,  5.50s/it]"
     ]
    },
    {
     "name": "stdout",
     "output_type": "stream",
     "text": [
      "Batch 114, Loss: 3.7694\n"
     ]
    },
    {
     "name": "stderr",
     "output_type": "stream",
     "text": [
      "Streaming tracklets:  56%|█████████████████████████████████▋                          | 120/214 [07:28<08:17,  5.29s/it]"
     ]
    },
    {
     "name": "stdout",
     "output_type": "stream",
     "text": [
      "Batch 115, Loss: 3.7270\n"
     ]
    },
    {
     "name": "stderr",
     "output_type": "stream",
     "text": [
      "Streaming tracklets:  58%|██████████████████████████████████▊                         | 124/214 [07:32<07:41,  5.13s/it]"
     ]
    },
    {
     "name": "stdout",
     "output_type": "stream",
     "text": [
      "Batch 116, Loss: 3.6710\n"
     ]
    },
    {
     "name": "stderr",
     "output_type": "stream",
     "text": [
      "Streaming tracklets:  58%|██████████████████████████████████▊                         | 124/214 [07:35<07:35,  5.06s/it]"
     ]
    },
    {
     "name": "stdout",
     "output_type": "stream",
     "text": [
      "Batch 117, Loss: 2.9103\n"
     ]
    },
    {
     "name": "stderr",
     "output_type": "stream",
     "text": [
      "Streaming tracklets:  58%|██████████████████████████████████▊                         | 124/214 [07:39<07:47,  5.19s/it]"
     ]
    },
    {
     "name": "stdout",
     "output_type": "stream",
     "text": [
      "Batch 118, Loss: 2.9031\n"
     ]
    },
    {
     "name": "stderr",
     "output_type": "stream",
     "text": [
      "Streaming tracklets:  58%|██████████████████████████████████▊                         | 124/214 [07:43<08:04,  5.39s/it]"
     ]
    },
    {
     "name": "stdout",
     "output_type": "stream",
     "text": [
      "Batch 119, Loss: 2.8857\n"
     ]
    },
    {
     "name": "stderr",
     "output_type": "stream",
     "text": [
      "Streaming tracklets:  59%|███████████████████████████████████▌                        | 127/214 [07:48<04:14,  2.93s/it]"
     ]
    },
    {
     "name": "stdout",
     "output_type": "stream",
     "text": [
      "Batch 120, Loss: 2.8616\n"
     ]
    },
    {
     "name": "stderr",
     "output_type": "stream",
     "text": [
      "Streaming tracklets:  60%|███████████████████████████████████▉                        | 128/214 [07:52<08:03,  5.62s/it]"
     ]
    },
    {
     "name": "stdout",
     "output_type": "stream",
     "text": [
      "Batch 121, Loss: 3.1738\n"
     ]
    },
    {
     "name": "stderr",
     "output_type": "stream",
     "text": [
      "Streaming tracklets:  60%|███████████████████████████████████▉                        | 128/214 [07:56<07:56,  5.54s/it]"
     ]
    },
    {
     "name": "stdout",
     "output_type": "stream",
     "text": [
      "Batch 122, Loss: 3.1597\n"
     ]
    },
    {
     "name": "stderr",
     "output_type": "stream",
     "text": [
      "Streaming tracklets:  60%|███████████████████████████████████▉                        | 128/214 [08:00<07:42,  5.37s/it]"
     ]
    },
    {
     "name": "stdout",
     "output_type": "stream",
     "text": [
      "Batch 123, Loss: 3.1371\n"
     ]
    },
    {
     "name": "stderr",
     "output_type": "stream",
     "text": [
      "Streaming tracklets:  62%|█████████████████████████████████████                       | 132/214 [08:03<07:13,  5.29s/it]"
     ]
    },
    {
     "name": "stdout",
     "output_type": "stream",
     "text": [
      "Batch 124, Loss: 3.1070\n"
     ]
    },
    {
     "name": "stderr",
     "output_type": "stream",
     "text": [
      "Streaming tracklets:  62%|█████████████████████████████████████                       | 132/214 [08:07<07:10,  5.25s/it]"
     ]
    },
    {
     "name": "stdout",
     "output_type": "stream",
     "text": [
      "Batch 125, Loss: 4.4468\n"
     ]
    },
    {
     "name": "stderr",
     "output_type": "stream",
     "text": [
      "Streaming tracklets:  62%|█████████████████████████████████████                       | 132/214 [08:11<07:15,  5.32s/it]"
     ]
    },
    {
     "name": "stdout",
     "output_type": "stream",
     "text": [
      "Batch 126, Loss: 4.4170\n"
     ]
    },
    {
     "name": "stderr",
     "output_type": "stream",
     "text": [
      "Streaming tracklets:  62%|█████████████████████████████████████                       | 132/214 [08:15<07:23,  5.41s/it]"
     ]
    },
    {
     "name": "stdout",
     "output_type": "stream",
     "text": [
      "Batch 127, Loss: 4.3724\n"
     ]
    },
    {
     "name": "stderr",
     "output_type": "stream",
     "text": [
      "Streaming tracklets:  64%|██████████████████████████████████████▏                     | 136/214 [08:19<07:04,  5.45s/it]"
     ]
    },
    {
     "name": "stdout",
     "output_type": "stream",
     "text": [
      "Batch 128, Loss: 4.3155\n"
     ]
    },
    {
     "name": "stderr",
     "output_type": "stream",
     "text": [
      "Streaming tracklets:  64%|██████████████████████████████████████▏                     | 136/214 [08:23<06:59,  5.38s/it]"
     ]
    },
    {
     "name": "stdout",
     "output_type": "stream",
     "text": [
      "Batch 129, Loss: 3.3063\n"
     ]
    },
    {
     "name": "stderr",
     "output_type": "stream",
     "text": [
      "Streaming tracklets:  64%|██████████████████████████████████████▏                     | 136/214 [08:26<06:54,  5.32s/it]"
     ]
    },
    {
     "name": "stdout",
     "output_type": "stream",
     "text": [
      "Batch 130, Loss: 3.2848\n"
     ]
    },
    {
     "name": "stderr",
     "output_type": "stream",
     "text": [
      "Streaming tracklets:  64%|██████████████████████████████████████▏                     | 136/214 [08:30<06:54,  5.32s/it]"
     ]
    },
    {
     "name": "stdout",
     "output_type": "stream",
     "text": [
      "Batch 131, Loss: 3.2504\n"
     ]
    },
    {
     "name": "stderr",
     "output_type": "stream",
     "text": [
      "Streaming tracklets:  65%|███████████████████████████████████████▎                    | 140/214 [08:34<06:43,  5.45s/it]"
     ]
    },
    {
     "name": "stdout",
     "output_type": "stream",
     "text": [
      "Batch 132, Loss: 3.2045\n"
     ]
    },
    {
     "name": "stderr",
     "output_type": "stream",
     "text": [
      "Streaming tracklets:  65%|███████████████████████████████████████▎                    | 140/214 [08:38<06:44,  5.47s/it]"
     ]
    },
    {
     "name": "stdout",
     "output_type": "stream",
     "text": [
      "Batch 133, Loss: 2.8794\n"
     ]
    },
    {
     "name": "stderr",
     "output_type": "stream",
     "text": [
      "Streaming tracklets:  65%|███████████████████████████████████████▎                    | 140/214 [08:42<06:40,  5.41s/it]"
     ]
    },
    {
     "name": "stdout",
     "output_type": "stream",
     "text": [
      "Batch 134, Loss: 2.8866\n"
     ]
    },
    {
     "name": "stderr",
     "output_type": "stream",
     "text": [
      "Streaming tracklets:  65%|███████████████████████████████████████▎                    | 140/214 [08:45<06:31,  5.29s/it]"
     ]
    },
    {
     "name": "stdout",
     "output_type": "stream",
     "text": [
      "Batch 135, Loss: 2.8798\n"
     ]
    },
    {
     "name": "stderr",
     "output_type": "stream",
     "text": [
      "Streaming tracklets:  67%|████████████████████████████████████████▎                   | 144/214 [08:49<06:07,  5.25s/it]"
     ]
    },
    {
     "name": "stdout",
     "output_type": "stream",
     "text": [
      "Batch 136, Loss: 2.8619\n"
     ]
    },
    {
     "name": "stderr",
     "output_type": "stream",
     "text": [
      "Streaming tracklets:  67%|████████████████████████████████████████▎                   | 144/214 [08:52<06:00,  5.15s/it]"
     ]
    },
    {
     "name": "stdout",
     "output_type": "stream",
     "text": [
      "Batch 137, Loss: 3.3212\n"
     ]
    },
    {
     "name": "stderr",
     "output_type": "stream",
     "text": [
      "Streaming tracklets:  67%|████████████████████████████████████████▎                   | 144/214 [08:56<05:54,  5.06s/it]"
     ]
    },
    {
     "name": "stdout",
     "output_type": "stream",
     "text": [
      "Batch 138, Loss: 3.3041\n"
     ]
    },
    {
     "name": "stderr",
     "output_type": "stream",
     "text": [
      "Streaming tracklets:  67%|████████████████████████████████████████▎                   | 144/214 [08:59<05:54,  5.07s/it]"
     ]
    },
    {
     "name": "stdout",
     "output_type": "stream",
     "text": [
      "Batch 139, Loss: 3.2758\n"
     ]
    },
    {
     "name": "stderr",
     "output_type": "stream",
     "text": [
      "Streaming tracklets:  69%|█████████████████████████████████████████▍                  | 148/214 [09:03<05:36,  5.10s/it]"
     ]
    },
    {
     "name": "stdout",
     "output_type": "stream",
     "text": [
      "Batch 140, Loss: 3.2374\n"
     ]
    },
    {
     "name": "stderr",
     "output_type": "stream",
     "text": [
      "Streaming tracklets:  69%|█████████████████████████████████████████▍                  | 148/214 [09:06<05:36,  5.09s/it]"
     ]
    },
    {
     "name": "stdout",
     "output_type": "stream",
     "text": [
      "Batch 141, Loss: 3.7990\n"
     ]
    },
    {
     "name": "stderr",
     "output_type": "stream",
     "text": [
      "Streaming tracklets:  69%|█████████████████████████████████████████▍                  | 148/214 [09:10<05:42,  5.19s/it]"
     ]
    },
    {
     "name": "stdout",
     "output_type": "stream",
     "text": [
      "Batch 142, Loss: 3.7849\n"
     ]
    },
    {
     "name": "stderr",
     "output_type": "stream",
     "text": [
      "Streaming tracklets:  69%|█████████████████████████████████████████▍                  | 148/214 [09:14<05:49,  5.29s/it]"
     ]
    },
    {
     "name": "stdout",
     "output_type": "stream",
     "text": [
      "Batch 143, Loss: 3.7579\n"
     ]
    },
    {
     "name": "stderr",
     "output_type": "stream",
     "text": [
      "Streaming tracklets:  71%|██████████████████████████████████████████▌                 | 152/214 [09:18<05:28,  5.29s/it]"
     ]
    },
    {
     "name": "stdout",
     "output_type": "stream",
     "text": [
      "Batch 144, Loss: 3.7207\n"
     ]
    },
    {
     "name": "stderr",
     "output_type": "stream",
     "text": [
      "Streaming tracklets:  71%|██████████████████████████████████████████▌                 | 152/214 [09:21<05:30,  5.34s/it]"
     ]
    },
    {
     "name": "stdout",
     "output_type": "stream",
     "text": [
      "Batch 145, Loss: 2.2202\n"
     ]
    },
    {
     "name": "stderr",
     "output_type": "stream",
     "text": [
      "Streaming tracklets:  71%|██████████████████████████████████████████▌                 | 152/214 [09:25<05:28,  5.31s/it]"
     ]
    },
    {
     "name": "stdout",
     "output_type": "stream",
     "text": [
      "Batch 146, Loss: 2.1962\n"
     ]
    },
    {
     "name": "stderr",
     "output_type": "stream",
     "text": [
      "Streaming tracklets:  71%|██████████████████████████████████████████▌                 | 152/214 [09:29<05:30,  5.34s/it]"
     ]
    },
    {
     "name": "stdout",
     "output_type": "stream",
     "text": [
      "Batch 147, Loss: 2.1574\n"
     ]
    },
    {
     "name": "stderr",
     "output_type": "stream",
     "text": [
      "Streaming tracklets:  73%|███████████████████████████████████████████▋                | 156/214 [09:32<05:07,  5.29s/it]"
     ]
    },
    {
     "name": "stdout",
     "output_type": "stream",
     "text": [
      "Batch 148, Loss: 2.1110\n"
     ]
    },
    {
     "name": "stderr",
     "output_type": "stream",
     "text": [
      "Streaming tracklets:  73%|███████████████████████████████████████████▋                | 156/214 [09:36<05:10,  5.35s/it]"
     ]
    },
    {
     "name": "stdout",
     "output_type": "stream",
     "text": [
      "Batch 149, Loss: 2.6410\n"
     ]
    },
    {
     "name": "stderr",
     "output_type": "stream",
     "text": [
      "Streaming tracklets:  73%|███████████████████████████████████████████▋                | 156/214 [09:40<05:07,  5.30s/it]"
     ]
    },
    {
     "name": "stdout",
     "output_type": "stream",
     "text": [
      "Batch 150, Loss: 2.6028\n"
     ]
    },
    {
     "name": "stderr",
     "output_type": "stream",
     "text": [
      "Streaming tracklets:  73%|███████████████████████████████████████████▋                | 156/214 [09:43<05:06,  5.28s/it]"
     ]
    },
    {
     "name": "stdout",
     "output_type": "stream",
     "text": [
      "Batch 151, Loss: 2.5597\n"
     ]
    },
    {
     "name": "stderr",
     "output_type": "stream",
     "text": [
      "Streaming tracklets:  75%|████████████████████████████████████████████▊               | 160/214 [09:47<04:50,  5.37s/it]"
     ]
    },
    {
     "name": "stdout",
     "output_type": "stream",
     "text": [
      "Batch 152, Loss: 2.5131\n"
     ]
    },
    {
     "name": "stderr",
     "output_type": "stream",
     "text": [
      "Streaming tracklets:  75%|████████████████████████████████████████████▊               | 160/214 [09:51<04:43,  5.25s/it]"
     ]
    },
    {
     "name": "stdout",
     "output_type": "stream",
     "text": [
      "Batch 153, Loss: 3.1823\n"
     ]
    },
    {
     "name": "stderr",
     "output_type": "stream",
     "text": [
      "Streaming tracklets:  75%|████████████████████████████████████████████▊               | 160/214 [09:54<04:47,  5.33s/it]"
     ]
    },
    {
     "name": "stdout",
     "output_type": "stream",
     "text": [
      "Batch 154, Loss: 3.1842\n"
     ]
    },
    {
     "name": "stderr",
     "output_type": "stream",
     "text": [
      "Streaming tracklets:  75%|████████████████████████████████████████████▊               | 160/214 [09:58<04:46,  5.31s/it]"
     ]
    },
    {
     "name": "stdout",
     "output_type": "stream",
     "text": [
      "Batch 155, Loss: 3.1730\n"
     ]
    },
    {
     "name": "stderr",
     "output_type": "stream",
     "text": [
      "Streaming tracklets:  77%|█████████████████████████████████████████████▉              | 164/214 [10:02<04:24,  5.30s/it]"
     ]
    },
    {
     "name": "stdout",
     "output_type": "stream",
     "text": [
      "Batch 156, Loss: 3.1525\n"
     ]
    },
    {
     "name": "stderr",
     "output_type": "stream",
     "text": [
      "Streaming tracklets:  77%|██████████████████████████████████████████████▎             | 165/214 [10:06<03:05,  3.79s/it]"
     ]
    },
    {
     "name": "stdout",
     "output_type": "stream",
     "text": [
      "Batch 157, Loss: 2.5531\n"
     ]
    },
    {
     "name": "stderr",
     "output_type": "stream",
     "text": [
      "Streaming tracklets:  77%|██████████████████████████████████████████████▎             | 165/214 [10:09<02:58,  3.65s/it]"
     ]
    },
    {
     "name": "stdout",
     "output_type": "stream",
     "text": [
      "Batch 158, Loss: 2.5419\n"
     ]
    },
    {
     "name": "stderr",
     "output_type": "stream",
     "text": [
      "Streaming tracklets:  77%|██████████████████████████████████████████████▎             | 165/214 [10:12<02:52,  3.52s/it]"
     ]
    },
    {
     "name": "stdout",
     "output_type": "stream",
     "text": [
      "Batch 159, Loss: 2.5241\n"
     ]
    },
    {
     "name": "stderr",
     "output_type": "stream",
     "text": [
      "Streaming tracklets:  79%|███████████████████████████████████████████████             | 168/214 [10:15<03:48,  4.97s/it]"
     ]
    },
    {
     "name": "stdout",
     "output_type": "stream",
     "text": [
      "Batch 160, Loss: 2.5005\n"
     ]
    },
    {
     "name": "stderr",
     "output_type": "stream",
     "text": [
      "Streaming tracklets:  79%|███████████████████████████████████████████████             | 168/214 [10:18<03:42,  4.85s/it]"
     ]
    },
    {
     "name": "stdout",
     "output_type": "stream",
     "text": [
      "Batch 161, Loss: 3.5898\n"
     ]
    },
    {
     "name": "stderr",
     "output_type": "stream",
     "text": [
      "Streaming tracklets:  79%|███████████████████████████████████████████████             | 168/214 [10:21<03:43,  4.85s/it]"
     ]
    },
    {
     "name": "stdout",
     "output_type": "stream",
     "text": [
      "Batch 162, Loss: 3.5769\n"
     ]
    },
    {
     "name": "stderr",
     "output_type": "stream",
     "text": [
      "Streaming tracklets:  79%|███████████████████████████████████████████████             | 168/214 [10:25<03:43,  4.85s/it]"
     ]
    },
    {
     "name": "stdout",
     "output_type": "stream",
     "text": [
      "Batch 163, Loss: 3.5423\n"
     ]
    },
    {
     "name": "stderr",
     "output_type": "stream",
     "text": [
      "Streaming tracklets:  80%|████████████████████████████████████████████████▏           | 172/214 [10:28<03:25,  4.88s/it]"
     ]
    },
    {
     "name": "stdout",
     "output_type": "stream",
     "text": [
      "Batch 164, Loss: 3.4885\n"
     ]
    },
    {
     "name": "stderr",
     "output_type": "stream",
     "text": [
      "Streaming tracklets:  80%|████████████████████████████████████████████████▏           | 172/214 [10:30<03:16,  4.67s/it]"
     ]
    },
    {
     "name": "stdout",
     "output_type": "stream",
     "text": [
      "Batch 165, Loss: 2.0940\n"
     ]
    },
    {
     "name": "stderr",
     "output_type": "stream",
     "text": [
      "Streaming tracklets:  80%|████████████████████████████████████████████████▏           | 172/214 [10:34<03:14,  4.62s/it]"
     ]
    },
    {
     "name": "stdout",
     "output_type": "stream",
     "text": [
      "Batch 166, Loss: 2.0856\n"
     ]
    },
    {
     "name": "stderr",
     "output_type": "stream",
     "text": [
      "Streaming tracklets:  80%|████████████████████████████████████████████████▏           | 172/214 [10:37<03:19,  4.75s/it]"
     ]
    },
    {
     "name": "stdout",
     "output_type": "stream",
     "text": [
      "Batch 167, Loss: 2.0523\n"
     ]
    },
    {
     "name": "stderr",
     "output_type": "stream",
     "text": [
      "Streaming tracklets:  82%|█████████████████████████████████████████████████▎          | 176/214 [10:41<02:53,  4.56s/it]"
     ]
    },
    {
     "name": "stdout",
     "output_type": "stream",
     "text": [
      "Batch 168, Loss: 2.0076\n"
     ]
    },
    {
     "name": "stderr",
     "output_type": "stream",
     "text": [
      "Streaming tracklets:  82%|█████████████████████████████████████████████████▎          | 176/214 [10:45<03:05,  4.88s/it]"
     ]
    },
    {
     "name": "stdout",
     "output_type": "stream",
     "text": [
      "Batch 169, Loss: 1.6648\n"
     ]
    },
    {
     "name": "stderr",
     "output_type": "stream",
     "text": [
      "Streaming tracklets:  82%|█████████████████████████████████████████████████▎          | 176/214 [10:48<02:58,  4.69s/it]"
     ]
    },
    {
     "name": "stdout",
     "output_type": "stream",
     "text": [
      "Batch 170, Loss: 1.6457\n"
     ]
    },
    {
     "name": "stderr",
     "output_type": "stream",
     "text": [
      "Streaming tracklets:  82%|█████████████████████████████████████████████████▎          | 176/214 [10:51<02:47,  4.41s/it]"
     ]
    },
    {
     "name": "stdout",
     "output_type": "stream",
     "text": [
      "Batch 171, Loss: 1.6190\n"
     ]
    },
    {
     "name": "stderr",
     "output_type": "stream",
     "text": [
      "Streaming tracklets:  85%|██████████████████████████████████████████████████▋         | 181/214 [10:53<01:45,  3.21s/it]"
     ]
    },
    {
     "name": "stdout",
     "output_type": "stream",
     "text": [
      "Batch 172, Loss: 1.5872\n"
     ]
    },
    {
     "name": "stderr",
     "output_type": "stream",
     "text": [
      "Streaming tracklets:  85%|██████████████████████████████████████████████████▋         | 181/214 [10:57<01:42,  3.11s/it]"
     ]
    },
    {
     "name": "stdout",
     "output_type": "stream",
     "text": [
      "Batch 173, Loss: 3.4757\n"
     ]
    },
    {
     "name": "stderr",
     "output_type": "stream",
     "text": [
      "Streaming tracklets:  85%|██████████████████████████████████████████████████▋         | 181/214 [11:00<01:45,  3.18s/it]"
     ]
    },
    {
     "name": "stdout",
     "output_type": "stream",
     "text": [
      "Batch 174, Loss: 3.4766\n"
     ]
    },
    {
     "name": "stderr",
     "output_type": "stream",
     "text": [
      "Streaming tracklets:  85%|██████████████████████████████████████████████████▋         | 181/214 [11:03<01:47,  3.27s/it]"
     ]
    },
    {
     "name": "stdout",
     "output_type": "stream",
     "text": [
      "Batch 175, Loss: 3.4634\n"
     ]
    },
    {
     "name": "stderr",
     "output_type": "stream",
     "text": [
      "Streaming tracklets:  86%|███████████████████████████████████████████████████▌        | 184/214 [11:07<02:26,  4.90s/it]"
     ]
    },
    {
     "name": "stdout",
     "output_type": "stream",
     "text": [
      "Batch 176, Loss: 3.4405\n"
     ]
    },
    {
     "name": "stderr",
     "output_type": "stream",
     "text": [
      "Streaming tracklets:  86%|███████████████████████████████████████████████████▌        | 184/214 [11:09<02:19,  4.64s/it]"
     ]
    },
    {
     "name": "stdout",
     "output_type": "stream",
     "text": [
      "Batch 177, Loss: 2.1451\n"
     ]
    },
    {
     "name": "stderr",
     "output_type": "stream",
     "text": [
      "Streaming tracklets:  86%|███████████████████████████████████████████████████▌        | 184/214 [11:12<02:11,  4.39s/it]"
     ]
    },
    {
     "name": "stdout",
     "output_type": "stream",
     "text": [
      "Batch 178, Loss: 2.1095\n"
     ]
    },
    {
     "name": "stderr",
     "output_type": "stream",
     "text": [
      "Streaming tracklets:  86%|███████████████████████████████████████████████████▌        | 184/214 [11:14<02:03,  4.13s/it]"
     ]
    },
    {
     "name": "stdout",
     "output_type": "stream",
     "text": [
      "Batch 179, Loss: 2.0658\n"
     ]
    },
    {
     "name": "stderr",
     "output_type": "stream",
     "text": [
      "Streaming tracklets:  88%|████████████████████████████████████████████████████▋       | 188/214 [11:16<01:29,  3.44s/it]"
     ]
    },
    {
     "name": "stdout",
     "output_type": "stream",
     "text": [
      "Batch 180, Loss: 2.0255\n"
     ]
    },
    {
     "name": "stderr",
     "output_type": "stream",
     "text": [
      "Streaming tracklets:  88%|████████████████████████████████████████████████████▋       | 188/214 [11:19<01:27,  3.38s/it]"
     ]
    },
    {
     "name": "stdout",
     "output_type": "stream",
     "text": [
      "Batch 181, Loss: 2.6546\n"
     ]
    },
    {
     "name": "stderr",
     "output_type": "stream",
     "text": [
      "Streaming tracklets:  88%|████████████████████████████████████████████████████▋       | 188/214 [11:22<01:29,  3.43s/it]"
     ]
    },
    {
     "name": "stdout",
     "output_type": "stream",
     "text": [
      "Batch 182, Loss: 2.6462\n"
     ]
    },
    {
     "name": "stderr",
     "output_type": "stream",
     "text": [
      "Streaming tracklets:  88%|████████████████████████████████████████████████████▋       | 188/214 [11:25<01:30,  3.47s/it]"
     ]
    },
    {
     "name": "stdout",
     "output_type": "stream",
     "text": [
      "Batch 183, Loss: 2.6223\n"
     ]
    },
    {
     "name": "stderr",
     "output_type": "stream",
     "text": [
      "Streaming tracklets:  90%|█████████████████████████████████████████████████████▊      | 192/214 [11:28<01:29,  4.05s/it]"
     ]
    },
    {
     "name": "stdout",
     "output_type": "stream",
     "text": [
      "Batch 184, Loss: 2.5852\n"
     ]
    },
    {
     "name": "stderr",
     "output_type": "stream",
     "text": [
      "Streaming tracklets:  90%|█████████████████████████████████████████████████████▊      | 192/214 [11:30<01:27,  3.97s/it]"
     ]
    },
    {
     "name": "stdout",
     "output_type": "stream",
     "text": [
      "Batch 185, Loss: 2.2357\n"
     ]
    },
    {
     "name": "stderr",
     "output_type": "stream",
     "text": [
      "Streaming tracklets:  90%|█████████████████████████████████████████████████████▊      | 192/214 [11:33<01:26,  3.92s/it]"
     ]
    },
    {
     "name": "stdout",
     "output_type": "stream",
     "text": [
      "Batch 186, Loss: 2.2385\n"
     ]
    },
    {
     "name": "stderr",
     "output_type": "stream",
     "text": [
      "Streaming tracklets:  90%|█████████████████████████████████████████████████████▊      | 192/214 [11:36<01:30,  4.13s/it]"
     ]
    },
    {
     "name": "stdout",
     "output_type": "stream",
     "text": [
      "Batch 187, Loss: 2.2336\n"
     ]
    },
    {
     "name": "stderr",
     "output_type": "stream",
     "text": [
      "Streaming tracklets:  92%|██████████████████████████████████████████████████████▉     | 196/214 [11:40<01:15,  4.20s/it]"
     ]
    },
    {
     "name": "stdout",
     "output_type": "stream",
     "text": [
      "Batch 188, Loss: 2.2219\n"
     ]
    },
    {
     "name": "stderr",
     "output_type": "stream",
     "text": [
      "Streaming tracklets:  92%|██████████████████████████████████████████████████████▉     | 196/214 [11:45<01:26,  4.80s/it]"
     ]
    },
    {
     "name": "stdout",
     "output_type": "stream",
     "text": [
      "Batch 189, Loss: 2.9037\n"
     ]
    },
    {
     "name": "stderr",
     "output_type": "stream",
     "text": [
      "Streaming tracklets:  92%|██████████████████████████████████████████████████████▉     | 196/214 [11:49<01:31,  5.09s/it]"
     ]
    },
    {
     "name": "stdout",
     "output_type": "stream",
     "text": [
      "Batch 190, Loss: 2.8955\n"
     ]
    },
    {
     "name": "stderr",
     "output_type": "stream",
     "text": [
      "Streaming tracklets:  92%|██████████████████████████████████████████████████████▉     | 196/214 [11:53<01:33,  5.22s/it]"
     ]
    },
    {
     "name": "stdout",
     "output_type": "stream",
     "text": [
      "Batch 191, Loss: 2.8789\n"
     ]
    },
    {
     "name": "stderr",
     "output_type": "stream",
     "text": [
      "Streaming tracklets:  93%|████████████████████████████████████████████████████████    | 200/214 [11:57<01:16,  5.49s/it]"
     ]
    },
    {
     "name": "stdout",
     "output_type": "stream",
     "text": [
      "Batch 192, Loss: 2.8546\n"
     ]
    },
    {
     "name": "stderr",
     "output_type": "stream",
     "text": [
      "Streaming tracklets:  94%|████████████████████████████████████████████████████████▎   | 201/214 [12:01<00:49,  3.79s/it]"
     ]
    },
    {
     "name": "stdout",
     "output_type": "stream",
     "text": [
      "Batch 193, Loss: 3.1869\n"
     ]
    },
    {
     "name": "stderr",
     "output_type": "stream",
     "text": [
      "Streaming tracklets:  94%|████████████████████████████████████████████████████████▎   | 201/214 [12:04<00:47,  3.66s/it]"
     ]
    },
    {
     "name": "stdout",
     "output_type": "stream",
     "text": [
      "Batch 194, Loss: 3.1698\n"
     ]
    },
    {
     "name": "stderr",
     "output_type": "stream",
     "text": [
      "Streaming tracklets:  94%|████████████████████████████████████████████████████████▎   | 201/214 [12:07<00:45,  3.48s/it]"
     ]
    },
    {
     "name": "stdout",
     "output_type": "stream",
     "text": [
      "Batch 195, Loss: 3.1315\n"
     ]
    },
    {
     "name": "stderr",
     "output_type": "stream",
     "text": [
      "Streaming tracklets:  95%|█████████████████████████████████████████████████████████▏  | 204/214 [12:10<00:50,  5.01s/it]"
     ]
    },
    {
     "name": "stdout",
     "output_type": "stream",
     "text": [
      "Batch 196, Loss: 3.0751\n"
     ]
    },
    {
     "name": "stderr",
     "output_type": "stream",
     "text": [
      "Streaming tracklets:  95%|█████████████████████████████████████████████████████████▏  | 204/214 [12:13<00:48,  4.85s/it]"
     ]
    },
    {
     "name": "stdout",
     "output_type": "stream",
     "text": [
      "Batch 197, Loss: 1.6032\n"
     ]
    },
    {
     "name": "stderr",
     "output_type": "stream",
     "text": [
      "Streaming tracklets:  95%|█████████████████████████████████████████████████████████▏  | 204/214 [12:17<00:49,  4.98s/it]"
     ]
    },
    {
     "name": "stdout",
     "output_type": "stream",
     "text": [
      "Batch 198, Loss: 1.6105\n"
     ]
    },
    {
     "name": "stderr",
     "output_type": "stream",
     "text": [
      "Streaming tracklets:  95%|█████████████████████████████████████████████████████████▏  | 204/214 [12:21<00:51,  5.15s/it]"
     ]
    },
    {
     "name": "stdout",
     "output_type": "stream",
     "text": [
      "Batch 199, Loss: 1.6088\n"
     ]
    },
    {
     "name": "stderr",
     "output_type": "stream",
     "text": [
      "Streaming tracklets:  97%|██████████████████████████████████████████████████████████▎ | 208/214 [12:25<00:31,  5.30s/it]"
     ]
    },
    {
     "name": "stdout",
     "output_type": "stream",
     "text": [
      "Batch 200, Loss: 1.5988\n"
     ]
    },
    {
     "name": "stderr",
     "output_type": "stream",
     "text": [
      "Streaming tracklets:  97%|██████████████████████████████████████████████████████████▎ | 208/214 [12:28<00:30,  5.04s/it]"
     ]
    },
    {
     "name": "stdout",
     "output_type": "stream",
     "text": [
      "Batch 201, Loss: 1.5345\n"
     ]
    },
    {
     "name": "stderr",
     "output_type": "stream",
     "text": [
      "Streaming tracklets:  97%|██████████████████████████████████████████████████████████▎ | 208/214 [12:31<00:29,  4.94s/it]"
     ]
    },
    {
     "name": "stdout",
     "output_type": "stream",
     "text": [
      "Batch 202, Loss: 1.5273\n"
     ]
    },
    {
     "name": "stderr",
     "output_type": "stream",
     "text": [
      "Streaming tracklets:  98%|██████████████████████████████████████████████████████████▉ | 210/214 [12:34<00:12,  3.19s/it]"
     ]
    },
    {
     "name": "stdout",
     "output_type": "stream",
     "text": [
      "Batch 203, Loss: 1.5139\n"
     ]
    },
    {
     "name": "stderr",
     "output_type": "stream",
     "text": [
      "Streaming tracklets:  99%|███████████████████████████████████████████████████████████▍| 212/214 [12:37<00:08,  4.39s/it]"
     ]
    },
    {
     "name": "stdout",
     "output_type": "stream",
     "text": [
      "Batch 204, Loss: 1.4955\n"
     ]
    },
    {
     "name": "stderr",
     "output_type": "stream",
     "text": [
      "Streaming tracklets: 100%|████████████████████████████████████████████████████████████| 214/214 [12:41<00:00,  3.56s/it]\n",
      "Streaming tracklets:  99%|███████████████████████████████████████████████████████████▍| 212/214 [12:41<00:09,  4.73s/it]"
     ]
    },
    {
     "name": "stdout",
     "output_type": "stream",
     "text": [
      "Batch 205, Loss: 3.3092\n"
     ]
    },
    {
     "name": "stderr",
     "output_type": "stream",
     "text": [
      "Streaming tracklets: 100%|████████████████████████████████████████████████████████████| 214/214 [12:44<00:00,  3.57s/it]\n",
      "Streaming tracklets:  99%|███████████████████████████████████████████████████████████▍| 212/214 [12:44<00:09,  4.57s/it]"
     ]
    },
    {
     "name": "stdout",
     "output_type": "stream",
     "text": [
      "Batch 206, Loss: 3.3012\n"
     ]
    },
    {
     "name": "stderr",
     "output_type": "stream",
     "text": [
      "Streaming tracklets: 100%|████████████████████████████████████████████████████████████| 214/214 [12:47<00:00,  3.58s/it]\n",
      "Streaming tracklets:  99%|███████████████████████████████████████████████████████████▍| 212/214 [12:47<00:08,  4.45s/it]"
     ]
    },
    {
     "name": "stdout",
     "output_type": "stream",
     "text": [
      "Batch 207, Loss: 3.2828\n"
     ]
    },
    {
     "name": "stderr",
     "output_type": "stream",
     "text": [
      "Streaming tracklets: 100%|████████████████████████████████████████████████████████████| 214/214 [12:49<00:00,  3.60s/it]\n"
     ]
    },
    {
     "name": "stdout",
     "output_type": "stream",
     "text": [
      "Batch 208, Loss: 3.2551\n",
      "Batch 209, Loss: 3.4354\n",
      "Batch 210, Loss: 3.4232\n",
      "Batch 211, Loss: 3.3978\n",
      "Batch 212, Loss: 3.3622\n",
      "Batch 213, Loss: 4.8708\n",
      "Batch 214, Loss: 4.8098\n",
      "Batch 215, Loss: 4.7212\n",
      "Batch 216, Loss: 4.6110\n",
      "Epoch 2/30, Loss: 2.9235, Accuracy: 33.18%\n"
     ]
    },
    {
     "name": "stderr",
     "output_type": "stream",
     "text": [
      "Streaming tracklets:   4%|██▎                                                           | 8/214 [00:21<09:37,  2.80s/it]"
     ]
    },
    {
     "name": "stdout",
     "output_type": "stream",
     "text": [
      "Batch 1, Loss: 2.7863\n"
     ]
    },
    {
     "name": "stderr",
     "output_type": "stream",
     "text": [
      "Streaming tracklets:   4%|██▎                                                           | 8/214 [00:27<16:21,  4.77s/it]"
     ]
    },
    {
     "name": "stdout",
     "output_type": "stream",
     "text": [
      "Batch 2, Loss: 2.7698\n"
     ]
    },
    {
     "name": "stderr",
     "output_type": "stream",
     "text": [
      "Streaming tracklets:   4%|██▎                                                           | 8/214 [00:31<21:37,  6.30s/it]"
     ]
    },
    {
     "name": "stdout",
     "output_type": "stream",
     "text": [
      "Batch 3, Loss: 2.7480\n"
     ]
    },
    {
     "name": "stderr",
     "output_type": "stream",
     "text": [
      "Streaming tracklets:   6%|███▍                                                         | 12/214 [00:35<13:58,  4.15s/it]"
     ]
    },
    {
     "name": "stdout",
     "output_type": "stream",
     "text": [
      "Batch 4, Loss: 2.7222\n"
     ]
    },
    {
     "name": "stderr",
     "output_type": "stream",
     "text": [
      "Streaming tracklets:   7%|████▎                                                        | 15/214 [00:39<07:08,  2.15s/it]"
     ]
    },
    {
     "name": "stdout",
     "output_type": "stream",
     "text": [
      "Batch 5, Loss: 2.6833\n"
     ]
    },
    {
     "name": "stderr",
     "output_type": "stream",
     "text": [
      "Streaming tracklets:   6%|███▍                                                         | 12/214 [00:43<18:25,  5.47s/it]"
     ]
    },
    {
     "name": "stdout",
     "output_type": "stream",
     "text": [
      "Batch 6, Loss: 2.6664\n"
     ]
    },
    {
     "name": "stderr",
     "output_type": "stream",
     "text": [
      "Streaming tracklets:   6%|███▍                                                         | 12/214 [00:48<20:13,  6.01s/it]"
     ]
    },
    {
     "name": "stdout",
     "output_type": "stream",
     "text": [
      "Batch 7, Loss: 2.6451\n"
     ]
    },
    {
     "name": "stderr",
     "output_type": "stream",
     "text": [
      "Streaming tracklets:   4%|██▎                                                           | 8/214 [00:19<09:07,  2.66s/it]"
     ]
    },
    {
     "name": "stdout",
     "output_type": "stream",
     "text": [
      "Batch 1, Loss: 2.4558\n"
     ]
    },
    {
     "name": "stderr",
     "output_type": "stream",
     "text": [
      "Streaming tracklets:   4%|██▎                                                           | 8/214 [00:26<16:16,  4.74s/it]"
     ]
    },
    {
     "name": "stdout",
     "output_type": "stream",
     "text": [
      "Batch 2, Loss: 2.4150\n"
     ]
    },
    {
     "name": "stderr",
     "output_type": "stream",
     "text": [
      "Streaming tracklets:   4%|██▎                                                           | 8/214 [00:30<21:08,  6.16s/it]"
     ]
    },
    {
     "name": "stdout",
     "output_type": "stream",
     "text": [
      "Batch 3, Loss: 2.3367\n"
     ]
    },
    {
     "name": "stderr",
     "output_type": "stream",
     "text": [
      "Streaming tracklets:   6%|███▍                                                         | 12/214 [00:34<13:54,  4.13s/it]"
     ]
    },
    {
     "name": "stdout",
     "output_type": "stream",
     "text": [
      "Batch 4, Loss: 2.2891\n"
     ]
    },
    {
     "name": "stderr",
     "output_type": "stream",
     "text": [
      "Streaming tracklets:   7%|████▎                                                        | 15/214 [00:38<06:58,  2.10s/it]"
     ]
    },
    {
     "name": "stdout",
     "output_type": "stream",
     "text": [
      "Batch 5, Loss: 2.2969\n"
     ]
    },
    {
     "name": "stderr",
     "output_type": "stream",
     "text": [
      "Streaming tracklets:   6%|███▍                                                         | 12/214 [00:42<18:11,  5.40s/it]"
     ]
    },
    {
     "name": "stdout",
     "output_type": "stream",
     "text": [
      "Batch 6, Loss: 2.2332\n"
     ]
    },
    {
     "name": "stderr",
     "output_type": "stream",
     "text": [
      "Streaming tracklets:   6%|███▍                                                         | 12/214 [00:46<19:50,  5.90s/it]"
     ]
    },
    {
     "name": "stdout",
     "output_type": "stream",
     "text": [
      "Batch 7, Loss: 2.1805\n"
     ]
    },
    {
     "name": "stderr",
     "output_type": "stream",
     "text": [
      "Streaming tracklets:   7%|████▌                                                        | 16/214 [00:51<17:40,  5.36s/it]"
     ]
    },
    {
     "name": "stdout",
     "output_type": "stream",
     "text": [
      "Batch 8, Loss: 2.1285\n"
     ]
    },
    {
     "name": "stderr",
     "output_type": "stream",
     "text": [
      "Streaming tracklets:   7%|████▌                                                        | 16/214 [00:55<18:45,  5.68s/it]"
     ]
    },
    {
     "name": "stdout",
     "output_type": "stream",
     "text": [
      "Batch 9, Loss: 3.3210\n"
     ]
    },
    {
     "name": "stderr",
     "output_type": "stream",
     "text": [
      "Streaming tracklets:   7%|████▌                                                        | 16/214 [00:58<18:23,  5.57s/it]"
     ]
    },
    {
     "name": "stdout",
     "output_type": "stream",
     "text": [
      "Batch 10, Loss: 3.2520\n"
     ]
    },
    {
     "name": "stderr",
     "output_type": "stream",
     "text": [
      "Streaming tracklets:   7%|████▌                                                        | 16/214 [01:02<17:36,  5.34s/it]"
     ]
    },
    {
     "name": "stdout",
     "output_type": "stream",
     "text": [
      "Batch 11, Loss: 3.1487\n"
     ]
    },
    {
     "name": "stderr",
     "output_type": "stream",
     "text": [
      "Streaming tracklets:   9%|█████▋                                                       | 20/214 [01:05<16:47,  5.19s/it]"
     ]
    },
    {
     "name": "stdout",
     "output_type": "stream",
     "text": [
      "Batch 12, Loss: 3.0428\n"
     ]
    },
    {
     "name": "stderr",
     "output_type": "stream",
     "text": [
      "Streaming tracklets:  11%|██████▌                                                      | 23/214 [01:10<08:59,  2.83s/it]"
     ]
    },
    {
     "name": "stdout",
     "output_type": "stream",
     "text": [
      "Batch 13, Loss: 2.7370\n"
     ]
    },
    {
     "name": "stderr",
     "output_type": "stream",
     "text": [
      "Streaming tracklets:   9%|█████▋                                                       | 20/214 [01:14<17:58,  5.56s/it]"
     ]
    },
    {
     "name": "stdout",
     "output_type": "stream",
     "text": [
      "Batch 14, Loss: 2.6960\n"
     ]
    },
    {
     "name": "stderr",
     "output_type": "stream",
     "text": [
      "Streaming tracklets:   9%|█████▋                                                       | 20/214 [01:18<18:33,  5.74s/it]"
     ]
    },
    {
     "name": "stdout",
     "output_type": "stream",
     "text": [
      "Batch 15, Loss: 2.6427\n"
     ]
    },
    {
     "name": "stderr",
     "output_type": "stream",
     "text": [
      "Streaming tracklets:  11%|██████▊                                                      | 24/214 [01:23<18:19,  5.79s/it]"
     ]
    },
    {
     "name": "stdout",
     "output_type": "stream",
     "text": [
      "Batch 16, Loss: 2.6077\n"
     ]
    },
    {
     "name": "stderr",
     "output_type": "stream",
     "text": [
      "Streaming tracklets:  11%|██████▊                                                      | 24/214 [01:27<18:16,  5.77s/it]"
     ]
    },
    {
     "name": "stdout",
     "output_type": "stream",
     "text": [
      "Batch 17, Loss: 3.4358\n"
     ]
    },
    {
     "name": "stderr",
     "output_type": "stream",
     "text": [
      "Streaming tracklets:  11%|██████▊                                                      | 24/214 [01:31<18:19,  5.79s/it]"
     ]
    },
    {
     "name": "stdout",
     "output_type": "stream",
     "text": [
      "Batch 18, Loss: 3.4162\n"
     ]
    },
    {
     "name": "stderr",
     "output_type": "stream",
     "text": [
      "Streaming tracklets:  11%|██████▊                                                      | 24/214 [01:35<17:49,  5.63s/it]"
     ]
    },
    {
     "name": "stdout",
     "output_type": "stream",
     "text": [
      "Batch 19, Loss: 3.3880\n"
     ]
    },
    {
     "name": "stderr",
     "output_type": "stream",
     "text": [
      "Streaming tracklets:  13%|███████▉                                                     | 28/214 [01:39<17:13,  5.56s/it]"
     ]
    },
    {
     "name": "stdout",
     "output_type": "stream",
     "text": [
      "Batch 20, Loss: 3.3309\n"
     ]
    },
    {
     "name": "stderr",
     "output_type": "stream",
     "text": [
      "Streaming tracklets:  13%|███████▉                                                     | 28/214 [01:43<16:42,  5.39s/it]"
     ]
    },
    {
     "name": "stdout",
     "output_type": "stream",
     "text": [
      "Batch 21, Loss: 3.2594\n"
     ]
    },
    {
     "name": "stderr",
     "output_type": "stream",
     "text": [
      "Streaming tracklets:  13%|███████▉                                                     | 28/214 [01:47<16:44,  5.40s/it]"
     ]
    },
    {
     "name": "stdout",
     "output_type": "stream",
     "text": [
      "Batch 22, Loss: 3.2339\n"
     ]
    },
    {
     "name": "stderr",
     "output_type": "stream",
     "text": [
      "Streaming tracklets:  13%|███████▉                                                     | 28/214 [01:50<16:36,  5.36s/it]"
     ]
    },
    {
     "name": "stdout",
     "output_type": "stream",
     "text": [
      "Batch 23, Loss: 3.1947\n"
     ]
    },
    {
     "name": "stderr",
     "output_type": "stream",
     "text": [
      "Streaming tracklets:  15%|█████████                                                    | 32/214 [01:54<16:25,  5.41s/it]"
     ]
    },
    {
     "name": "stdout",
     "output_type": "stream",
     "text": [
      "Batch 24, Loss: 3.1407\n"
     ]
    },
    {
     "name": "stderr",
     "output_type": "stream",
     "text": [
      "Streaming tracklets:  15%|█████████                                                    | 32/214 [01:58<16:20,  5.39s/it]"
     ]
    },
    {
     "name": "stdout",
     "output_type": "stream",
     "text": [
      "Batch 25, Loss: 1.7697\n"
     ]
    },
    {
     "name": "stderr",
     "output_type": "stream",
     "text": [
      "Streaming tracklets:  15%|█████████                                                    | 32/214 [02:02<16:18,  5.38s/it]"
     ]
    },
    {
     "name": "stdout",
     "output_type": "stream",
     "text": [
      "Batch 26, Loss: 1.7346\n"
     ]
    },
    {
     "name": "stderr",
     "output_type": "stream",
     "text": [
      "Streaming tracklets:  15%|█████████                                                    | 32/214 [02:06<16:39,  5.49s/it]"
     ]
    },
    {
     "name": "stdout",
     "output_type": "stream",
     "text": [
      "Batch 27, Loss: 1.6817\n"
     ]
    },
    {
     "name": "stderr",
     "output_type": "stream",
     "text": [
      "Streaming tracklets:  17%|██████████▎                                                  | 36/214 [02:10<16:07,  5.44s/it]"
     ]
    },
    {
     "name": "stdout",
     "output_type": "stream",
     "text": [
      "Batch 28, Loss: 1.5863\n"
     ]
    },
    {
     "name": "stderr",
     "output_type": "stream",
     "text": [
      "Streaming tracklets:  17%|██████████▎                                                  | 36/214 [02:14<16:21,  5.51s/it]"
     ]
    },
    {
     "name": "stdout",
     "output_type": "stream",
     "text": [
      "Batch 29, Loss: 2.7862\n"
     ]
    },
    {
     "name": "stderr",
     "output_type": "stream",
     "text": [
      "Streaming tracklets:  17%|██████████▎                                                  | 36/214 [02:18<16:03,  5.41s/it]"
     ]
    },
    {
     "name": "stdout",
     "output_type": "stream",
     "text": [
      "Batch 30, Loss: 2.7810\n"
     ]
    },
    {
     "name": "stderr",
     "output_type": "stream",
     "text": [
      "Streaming tracklets:  17%|██████████▎                                                  | 36/214 [02:21<15:54,  5.36s/it]"
     ]
    },
    {
     "name": "stdout",
     "output_type": "stream",
     "text": [
      "Batch 31, Loss: 2.7602\n"
     ]
    },
    {
     "name": "stderr",
     "output_type": "stream",
     "text": [
      "Streaming tracklets:  19%|███████████▍                                                 | 40/214 [02:25<15:38,  5.39s/it]"
     ]
    },
    {
     "name": "stdout",
     "output_type": "stream",
     "text": [
      "Batch 32, Loss: 2.7263\n"
     ]
    },
    {
     "name": "stderr",
     "output_type": "stream",
     "text": [
      "Streaming tracklets:  19%|███████████▍                                                 | 40/214 [02:29<15:18,  5.28s/it]"
     ]
    },
    {
     "name": "stdout",
     "output_type": "stream",
     "text": [
      "Batch 33, Loss: 1.1211\n"
     ]
    },
    {
     "name": "stderr",
     "output_type": "stream",
     "text": [
      "Streaming tracklets:  20%|████████████▎                                                | 43/214 [02:32<07:26,  2.61s/it]"
     ]
    },
    {
     "name": "stdout",
     "output_type": "stream",
     "text": [
      "Batch 34, Loss: 1.0944\n"
     ]
    },
    {
     "name": "stderr",
     "output_type": "stream",
     "text": [
      "Streaming tracklets:  19%|███████████▍                                                 | 40/214 [02:36<15:09,  5.23s/it]"
     ]
    },
    {
     "name": "stdout",
     "output_type": "stream",
     "text": [
      "Batch 35, Loss: 1.0764\n"
     ]
    },
    {
     "name": "stderr",
     "output_type": "stream",
     "text": [
      "Streaming tracklets:  21%|████████████▌                                                | 44/214 [02:40<14:37,  5.16s/it]"
     ]
    },
    {
     "name": "stdout",
     "output_type": "stream",
     "text": [
      "Batch 36, Loss: 1.0595\n"
     ]
    },
    {
     "name": "stderr",
     "output_type": "stream",
     "text": [
      "Streaming tracklets:  21%|████████████▌                                                | 44/214 [02:44<14:54,  5.26s/it]"
     ]
    },
    {
     "name": "stdout",
     "output_type": "stream",
     "text": [
      "Batch 37, Loss: 3.1041\n"
     ]
    },
    {
     "name": "stderr",
     "output_type": "stream",
     "text": [
      "Streaming tracklets:  21%|████████████▌                                                | 44/214 [02:48<15:03,  5.31s/it]"
     ]
    },
    {
     "name": "stdout",
     "output_type": "stream",
     "text": [
      "Batch 38, Loss: 3.0881\n"
     ]
    },
    {
     "name": "stderr",
     "output_type": "stream",
     "text": [
      "Streaming tracklets:  21%|████████████▌                                                | 44/214 [02:52<15:05,  5.33s/it]"
     ]
    },
    {
     "name": "stdout",
     "output_type": "stream",
     "text": [
      "Batch 39, Loss: 3.0537\n"
     ]
    },
    {
     "name": "stderr",
     "output_type": "stream",
     "text": [
      "Streaming tracklets:  22%|█████████████▋                                               | 48/214 [02:56<14:46,  5.34s/it]"
     ]
    },
    {
     "name": "stdout",
     "output_type": "stream",
     "text": [
      "Batch 40, Loss: 3.0083\n"
     ]
    },
    {
     "name": "stderr",
     "output_type": "stream",
     "text": [
      "Streaming tracklets:  22%|█████████████▋                                               | 48/214 [02:59<14:37,  5.28s/it]"
     ]
    },
    {
     "name": "stdout",
     "output_type": "stream",
     "text": [
      "Batch 41, Loss: 3.4171\n"
     ]
    },
    {
     "name": "stderr",
     "output_type": "stream",
     "text": [
      "Streaming tracklets:  22%|█████████████▋                                               | 48/214 [03:03<14:34,  5.27s/it]"
     ]
    },
    {
     "name": "stdout",
     "output_type": "stream",
     "text": [
      "Batch 42, Loss: 3.3886\n"
     ]
    },
    {
     "name": "stderr",
     "output_type": "stream",
     "text": [
      "Streaming tracklets:  22%|█████████████▋                                               | 48/214 [03:07<14:27,  5.22s/it]"
     ]
    },
    {
     "name": "stdout",
     "output_type": "stream",
     "text": [
      "Batch 43, Loss: 3.3454\n"
     ]
    },
    {
     "name": "stderr",
     "output_type": "stream",
     "text": [
      "Streaming tracklets:  24%|██████████████▊                                              | 52/214 [03:10<14:15,  5.28s/it]"
     ]
    },
    {
     "name": "stdout",
     "output_type": "stream",
     "text": [
      "Batch 44, Loss: 3.2930\n"
     ]
    },
    {
     "name": "stderr",
     "output_type": "stream",
     "text": [
      "Streaming tracklets:  24%|██████████████▊                                              | 52/214 [03:14<14:17,  5.29s/it]"
     ]
    },
    {
     "name": "stdout",
     "output_type": "stream",
     "text": [
      "Batch 45, Loss: 3.6427\n"
     ]
    },
    {
     "name": "stderr",
     "output_type": "stream",
     "text": [
      "Streaming tracklets:  24%|██████████████▊                                              | 52/214 [03:18<14:18,  5.30s/it]"
     ]
    },
    {
     "name": "stdout",
     "output_type": "stream",
     "text": [
      "Batch 46, Loss: 3.5906\n"
     ]
    },
    {
     "name": "stderr",
     "output_type": "stream",
     "text": [
      "Streaming tracklets:  24%|██████████████▊                                              | 52/214 [03:21<14:12,  5.26s/it]"
     ]
    },
    {
     "name": "stdout",
     "output_type": "stream",
     "text": [
      "Batch 47, Loss: 3.5171\n"
     ]
    },
    {
     "name": "stderr",
     "output_type": "stream",
     "text": [
      "Streaming tracklets:  26%|███████████████▉                                             | 56/214 [03:25<13:40,  5.19s/it]"
     ]
    },
    {
     "name": "stdout",
     "output_type": "stream",
     "text": [
      "Batch 48, Loss: 3.4296\n"
     ]
    },
    {
     "name": "stderr",
     "output_type": "stream",
     "text": [
      "Streaming tracklets:  26%|███████████████▉                                             | 56/214 [03:28<13:20,  5.07s/it]"
     ]
    },
    {
     "name": "stdout",
     "output_type": "stream",
     "text": [
      "Batch 49, Loss: 1.8168\n"
     ]
    },
    {
     "name": "stderr",
     "output_type": "stream",
     "text": [
      "Streaming tracklets:  26%|███████████████▉                                             | 56/214 [03:31<12:56,  4.91s/it]"
     ]
    },
    {
     "name": "stdout",
     "output_type": "stream",
     "text": [
      "Batch 50, Loss: 1.8011\n"
     ]
    },
    {
     "name": "stderr",
     "output_type": "stream",
     "text": [
      "Streaming tracklets:  26%|███████████████▉                                             | 56/214 [03:34<12:31,  4.76s/it]"
     ]
    },
    {
     "name": "stdout",
     "output_type": "stream",
     "text": [
      "Batch 51, Loss: 1.7748\n"
     ]
    },
    {
     "name": "stderr",
     "output_type": "stream",
     "text": [
      "Streaming tracklets:  28%|█████████████████                                            | 60/214 [03:37<11:41,  4.55s/it]"
     ]
    },
    {
     "name": "stdout",
     "output_type": "stream",
     "text": [
      "Batch 52, Loss: 1.7400\n"
     ]
    },
    {
     "name": "stderr",
     "output_type": "stream",
     "text": [
      "Streaming tracklets:  28%|█████████████████                                            | 60/214 [03:40<11:26,  4.46s/it]"
     ]
    },
    {
     "name": "stdout",
     "output_type": "stream",
     "text": [
      "Batch 53, Loss: 2.6846\n"
     ]
    },
    {
     "name": "stderr",
     "output_type": "stream",
     "text": [
      "Streaming tracklets:  28%|█████████████████                                            | 60/214 [03:44<11:46,  4.59s/it]"
     ]
    },
    {
     "name": "stdout",
     "output_type": "stream",
     "text": [
      "Batch 54, Loss: 2.6432\n"
     ]
    },
    {
     "name": "stderr",
     "output_type": "stream",
     "text": [
      "Streaming tracklets:  28%|█████████████████                                            | 60/214 [03:47<11:54,  4.64s/it]"
     ]
    },
    {
     "name": "stdout",
     "output_type": "stream",
     "text": [
      "Batch 55, Loss: 2.6030\n"
     ]
    },
    {
     "name": "stderr",
     "output_type": "stream",
     "text": [
      "Streaming tracklets:  30%|██████████████████▏                                          | 64/214 [03:51<11:56,  4.78s/it]"
     ]
    },
    {
     "name": "stdout",
     "output_type": "stream",
     "text": [
      "Batch 56, Loss: 2.5471\n"
     ]
    },
    {
     "name": "stderr",
     "output_type": "stream",
     "text": [
      "Streaming tracklets:  30%|██████████████████▏                                          | 64/214 [03:54<11:37,  4.65s/it]"
     ]
    },
    {
     "name": "stdout",
     "output_type": "stream",
     "text": [
      "Batch 57, Loss: 3.0931\n"
     ]
    },
    {
     "name": "stderr",
     "output_type": "stream",
     "text": [
      "Streaming tracklets:  30%|██████████████████▏                                          | 64/214 [03:57<11:12,  4.48s/it]"
     ]
    },
    {
     "name": "stdout",
     "output_type": "stream",
     "text": [
      "Batch 58, Loss: 3.0632\n"
     ]
    },
    {
     "name": "stderr",
     "output_type": "stream",
     "text": [
      "Streaming tracklets:  30%|██████████████████▏                                          | 64/214 [04:00<11:13,  4.49s/it]"
     ]
    },
    {
     "name": "stdout",
     "output_type": "stream",
     "text": [
      "Batch 59, Loss: 2.9966\n"
     ]
    },
    {
     "name": "stderr",
     "output_type": "stream",
     "text": [
      "Streaming tracklets:  32%|███████████████████▍                                         | 68/214 [04:03<10:57,  4.50s/it]"
     ]
    },
    {
     "name": "stdout",
     "output_type": "stream",
     "text": [
      "Batch 60, Loss: 2.9041\n"
     ]
    },
    {
     "name": "stderr",
     "output_type": "stream",
     "text": [
      "Streaming tracklets:  32%|███████████████████▍                                         | 68/214 [04:07<11:27,  4.71s/it]"
     ]
    },
    {
     "name": "stdout",
     "output_type": "stream",
     "text": [
      "Batch 61, Loss: 3.9906\n"
     ]
    },
    {
     "name": "stderr",
     "output_type": "stream",
     "text": [
      "Streaming tracklets:  32%|███████████████████▍                                         | 68/214 [04:11<12:31,  5.14s/it]"
     ]
    },
    {
     "name": "stdout",
     "output_type": "stream",
     "text": [
      "Batch 62, Loss: 3.9658\n"
     ]
    },
    {
     "name": "stderr",
     "output_type": "stream",
     "text": [
      "Streaming tracklets:  32%|███████████████████▍                                         | 68/214 [04:15<12:53,  5.29s/it]"
     ]
    },
    {
     "name": "stdout",
     "output_type": "stream",
     "text": [
      "Batch 63, Loss: 3.9184\n"
     ]
    },
    {
     "name": "stderr",
     "output_type": "stream",
     "text": [
      "Streaming tracklets:  34%|████████████████████▌                                        | 72/214 [04:19<12:35,  5.32s/it]"
     ]
    },
    {
     "name": "stdout",
     "output_type": "stream",
     "text": [
      "Batch 64, Loss: 3.8393\n"
     ]
    },
    {
     "name": "stderr",
     "output_type": "stream",
     "text": [
      "Streaming tracklets:  34%|████████████████████▌                                        | 72/214 [04:23<13:01,  5.50s/it]"
     ]
    },
    {
     "name": "stdout",
     "output_type": "stream",
     "text": [
      "Batch 65, Loss: 2.0153\n"
     ]
    },
    {
     "name": "stderr",
     "output_type": "stream",
     "text": [
      "Streaming tracklets:  34%|████████████████████▌                                        | 72/214 [04:27<12:33,  5.31s/it]"
     ]
    },
    {
     "name": "stdout",
     "output_type": "stream",
     "text": [
      "Batch 66, Loss: 1.9705\n"
     ]
    },
    {
     "name": "stderr",
     "output_type": "stream",
     "text": [
      "Streaming tracklets:  34%|████████████████████▌                                        | 72/214 [04:30<12:29,  5.28s/it]"
     ]
    },
    {
     "name": "stdout",
     "output_type": "stream",
     "text": [
      "Batch 67, Loss: 1.9331\n"
     ]
    },
    {
     "name": "stderr",
     "output_type": "stream",
     "text": [
      "Streaming tracklets:  36%|█████████████████████▋                                       | 76/214 [04:34<12:24,  5.39s/it]"
     ]
    },
    {
     "name": "stdout",
     "output_type": "stream",
     "text": [
      "Batch 68, Loss: 1.8896\n"
     ]
    },
    {
     "name": "stderr",
     "output_type": "stream",
     "text": [
      "Streaming tracklets:  36%|█████████████████████▋                                       | 76/214 [04:37<11:59,  5.21s/it]"
     ]
    },
    {
     "name": "stdout",
     "output_type": "stream",
     "text": [
      "Batch 69, Loss: 2.6336\n"
     ]
    },
    {
     "name": "stderr",
     "output_type": "stream",
     "text": [
      "Streaming tracklets:  36%|█████████████████████▋                                       | 76/214 [04:41<11:58,  5.21s/it]"
     ]
    },
    {
     "name": "stdout",
     "output_type": "stream",
     "text": [
      "Batch 70, Loss: 2.5984\n"
     ]
    },
    {
     "name": "stderr",
     "output_type": "stream",
     "text": [
      "Streaming tracklets:  36%|█████████████████████▋                                       | 76/214 [04:45<12:03,  5.24s/it]"
     ]
    },
    {
     "name": "stdout",
     "output_type": "stream",
     "text": [
      "Batch 71, Loss: 2.5474\n"
     ]
    },
    {
     "name": "stderr",
     "output_type": "stream",
     "text": [
      "Streaming tracklets:  37%|██████████████████████▊                                      | 80/214 [04:48<11:21,  5.09s/it]"
     ]
    },
    {
     "name": "stdout",
     "output_type": "stream",
     "text": [
      "Batch 72, Loss: 2.4725\n"
     ]
    },
    {
     "name": "stderr",
     "output_type": "stream",
     "text": [
      "Streaming tracklets:  37%|██████████████████████▊                                      | 80/214 [04:52<11:14,  5.03s/it]"
     ]
    },
    {
     "name": "stdout",
     "output_type": "stream",
     "text": [
      "Batch 73, Loss: 1.5645\n"
     ]
    },
    {
     "name": "stderr",
     "output_type": "stream",
     "text": [
      "Streaming tracklets:  37%|██████████████████████▊                                      | 80/214 [04:55<11:02,  4.94s/it]"
     ]
    },
    {
     "name": "stdout",
     "output_type": "stream",
     "text": [
      "Batch 74, Loss: 1.4914\n"
     ]
    },
    {
     "name": "stderr",
     "output_type": "stream",
     "text": [
      "Streaming tracklets:  37%|██████████████████████▊                                      | 80/214 [04:58<10:49,  4.85s/it]"
     ]
    },
    {
     "name": "stdout",
     "output_type": "stream",
     "text": [
      "Batch 75, Loss: 1.4231\n"
     ]
    },
    {
     "name": "stderr",
     "output_type": "stream",
     "text": [
      "Streaming tracklets:  39%|███████████████████████▉                                     | 84/214 [05:01<10:39,  4.92s/it]"
     ]
    },
    {
     "name": "stdout",
     "output_type": "stream",
     "text": [
      "Batch 76, Loss: 1.3465\n"
     ]
    },
    {
     "name": "stderr",
     "output_type": "stream",
     "text": [
      "Streaming tracklets:  39%|███████████████████████▉                                     | 84/214 [05:04<10:21,  4.78s/it]"
     ]
    },
    {
     "name": "stdout",
     "output_type": "stream",
     "text": [
      "Batch 77, Loss: 3.7884\n"
     ]
    },
    {
     "name": "stderr",
     "output_type": "stream",
     "text": [
      "Streaming tracklets:  41%|████████████████████████▊                                    | 87/214 [05:08<05:18,  2.51s/it]"
     ]
    },
    {
     "name": "stdout",
     "output_type": "stream",
     "text": [
      "Batch 78, Loss: 3.7746\n"
     ]
    },
    {
     "name": "stderr",
     "output_type": "stream",
     "text": [
      "Streaming tracklets:  39%|███████████████████████▉                                     | 84/214 [05:12<10:46,  4.97s/it]"
     ]
    },
    {
     "name": "stdout",
     "output_type": "stream",
     "text": [
      "Batch 79, Loss: 3.7147\n"
     ]
    },
    {
     "name": "stderr",
     "output_type": "stream",
     "text": [
      "Streaming tracklets:  41%|█████████████████████████                                    | 88/214 [05:15<10:25,  4.96s/it]"
     ]
    },
    {
     "name": "stdout",
     "output_type": "stream",
     "text": [
      "Batch 80, Loss: 3.6190\n"
     ]
    },
    {
     "name": "stderr",
     "output_type": "stream",
     "text": [
      "Streaming tracklets:  41%|█████████████████████████                                    | 88/214 [05:20<11:02,  5.26s/it]"
     ]
    },
    {
     "name": "stdout",
     "output_type": "stream",
     "text": [
      "Batch 81, Loss: 0.3532\n"
     ]
    },
    {
     "name": "stderr",
     "output_type": "stream",
     "text": [
      "Streaming tracklets:  41%|█████████████████████████                                    | 88/214 [05:24<11:16,  5.37s/it]"
     ]
    },
    {
     "name": "stdout",
     "output_type": "stream",
     "text": [
      "Batch 82, Loss: 0.3520\n"
     ]
    },
    {
     "name": "stderr",
     "output_type": "stream",
     "text": [
      "Streaming tracklets:  41%|█████████████████████████                                    | 88/214 [05:28<11:12,  5.34s/it]"
     ]
    },
    {
     "name": "stdout",
     "output_type": "stream",
     "text": [
      "Batch 83, Loss: 0.3317\n"
     ]
    },
    {
     "name": "stderr",
     "output_type": "stream",
     "text": [
      "Streaming tracklets:  43%|██████████████████████████▏                                  | 92/214 [05:32<11:09,  5.49s/it]"
     ]
    },
    {
     "name": "stdout",
     "output_type": "stream",
     "text": [
      "Batch 84, Loss: 0.3064\n"
     ]
    },
    {
     "name": "stderr",
     "output_type": "stream",
     "text": [
      "Streaming tracklets:  43%|██████████████████████████▏                                  | 92/214 [05:35<10:52,  5.34s/it]"
     ]
    },
    {
     "name": "stdout",
     "output_type": "stream",
     "text": [
      "Batch 85, Loss: 2.6477\n"
     ]
    },
    {
     "name": "stderr",
     "output_type": "stream",
     "text": [
      "Streaming tracklets:  43%|██████████████████████████▏                                  | 92/214 [05:38<10:32,  5.18s/it]"
     ]
    },
    {
     "name": "stdout",
     "output_type": "stream",
     "text": [
      "Batch 86, Loss: 2.6081\n"
     ]
    },
    {
     "name": "stderr",
     "output_type": "stream",
     "text": [
      "Streaming tracklets:  43%|██████████████████████████▏                                  | 92/214 [05:42<10:11,  5.02s/it]"
     ]
    },
    {
     "name": "stdout",
     "output_type": "stream",
     "text": [
      "Batch 87, Loss: 2.5384\n"
     ]
    },
    {
     "name": "stderr",
     "output_type": "stream",
     "text": [
      "Streaming tracklets:  45%|███████████████████████████▎                                 | 96/214 [05:45<09:55,  5.05s/it]"
     ]
    },
    {
     "name": "stdout",
     "output_type": "stream",
     "text": [
      "Batch 88, Loss: 2.4664\n"
     ]
    },
    {
     "name": "stderr",
     "output_type": "stream",
     "text": [
      "Streaming tracklets:  45%|███████████████████████████▎                                 | 96/214 [05:48<09:43,  4.95s/it]"
     ]
    },
    {
     "name": "stdout",
     "output_type": "stream",
     "text": [
      "Batch 89, Loss: 0.7138\n"
     ]
    },
    {
     "name": "stderr",
     "output_type": "stream",
     "text": [
      "Streaming tracklets:  45%|███████████████████████████▎                                 | 96/214 [05:52<09:54,  5.04s/it]"
     ]
    },
    {
     "name": "stdout",
     "output_type": "stream",
     "text": [
      "Batch 90, Loss: 0.7002\n"
     ]
    },
    {
     "name": "stderr",
     "output_type": "stream",
     "text": [
      "Streaming tracklets:  45%|███████████████████████████▎                                 | 96/214 [05:55<10:07,  5.15s/it]"
     ]
    },
    {
     "name": "stdout",
     "output_type": "stream",
     "text": [
      "Batch 91, Loss: 0.6894\n"
     ]
    },
    {
     "name": "stderr",
     "output_type": "stream",
     "text": [
      "Streaming tracklets:  47%|████████████████████████████                                | 100/214 [05:59<08:19,  4.38s/it]"
     ]
    },
    {
     "name": "stdout",
     "output_type": "stream",
     "text": [
      "Batch 92, Loss: 0.6821\n"
     ]
    },
    {
     "name": "stderr",
     "output_type": "stream",
     "text": [
      "Streaming tracklets:  47%|████████████████████████████                                | 100/214 [06:01<07:46,  4.09s/it]"
     ]
    },
    {
     "name": "stdout",
     "output_type": "stream",
     "text": [
      "Batch 93, Loss: 3.1726\n"
     ]
    },
    {
     "name": "stderr",
     "output_type": "stream",
     "text": [
      "Streaming tracklets:  47%|████████████████████████████                                | 100/214 [06:04<07:20,  3.86s/it]"
     ]
    },
    {
     "name": "stdout",
     "output_type": "stream",
     "text": [
      "Batch 94, Loss: 3.1507\n"
     ]
    },
    {
     "name": "stderr",
     "output_type": "stream",
     "text": [
      "Streaming tracklets:  47%|████████████████████████████                                | 100/214 [06:07<07:11,  3.79s/it]"
     ]
    },
    {
     "name": "stdout",
     "output_type": "stream",
     "text": [
      "Batch 95, Loss: 3.0805\n"
     ]
    },
    {
     "name": "stderr",
     "output_type": "stream",
     "text": [
      "Streaming tracklets:  49%|█████████████████████████████▏                              | 104/214 [06:10<07:15,  3.96s/it]"
     ]
    },
    {
     "name": "stdout",
     "output_type": "stream",
     "text": [
      "Batch 96, Loss: 3.0110\n"
     ]
    },
    {
     "name": "stderr",
     "output_type": "stream",
     "text": [
      "Streaming tracklets:  49%|█████████████████████████████▏                              | 104/214 [06:16<08:48,  4.81s/it]"
     ]
    },
    {
     "name": "stdout",
     "output_type": "stream",
     "text": [
      "Batch 97, Loss: 2.6768\n"
     ]
    },
    {
     "name": "stderr",
     "output_type": "stream",
     "text": [
      "Streaming tracklets:  49%|█████████████████████████████▏                              | 104/214 [06:21<09:13,  5.03s/it]"
     ]
    },
    {
     "name": "stdout",
     "output_type": "stream",
     "text": [
      "Batch 98, Loss: 2.6586\n"
     ]
    },
    {
     "name": "stderr",
     "output_type": "stream",
     "text": [
      "Streaming tracklets:  49%|█████████████████████████████▏                              | 104/214 [06:25<09:34,  5.22s/it]"
     ]
    },
    {
     "name": "stdout",
     "output_type": "stream",
     "text": [
      "Batch 99, Loss: 2.6174\n"
     ]
    },
    {
     "name": "stderr",
     "output_type": "stream",
     "text": [
      "Streaming tracklets:  50%|██████████████████████████████▎                             | 108/214 [06:28<09:43,  5.50s/it]"
     ]
    },
    {
     "name": "stdout",
     "output_type": "stream",
     "text": [
      "Batch 100, Loss: 2.5630\n"
     ]
    },
    {
     "name": "stderr",
     "output_type": "stream",
     "text": [
      "Streaming tracklets:  50%|██████████████████████████████▎                             | 108/214 [06:32<09:25,  5.33s/it]"
     ]
    },
    {
     "name": "stdout",
     "output_type": "stream",
     "text": [
      "Batch 101, Loss: 2.8411\n"
     ]
    },
    {
     "name": "stderr",
     "output_type": "stream",
     "text": [
      "Streaming tracklets:  50%|██████████████████████████████▎                             | 108/214 [06:36<09:33,  5.41s/it]"
     ]
    },
    {
     "name": "stdout",
     "output_type": "stream",
     "text": [
      "Batch 102, Loss: 2.7505\n"
     ]
    },
    {
     "name": "stderr",
     "output_type": "stream",
     "text": [
      "Streaming tracklets:  50%|██████████████████████████████▎                             | 108/214 [06:40<09:36,  5.44s/it]"
     ]
    },
    {
     "name": "stdout",
     "output_type": "stream",
     "text": [
      "Batch 103, Loss: 2.6074\n"
     ]
    },
    {
     "name": "stderr",
     "output_type": "stream",
     "text": [
      "Streaming tracklets:  52%|███████████████████████████████▍                            | 112/214 [06:44<09:28,  5.57s/it]"
     ]
    },
    {
     "name": "stdout",
     "output_type": "stream",
     "text": [
      "Batch 104, Loss: 2.4675\n"
     ]
    },
    {
     "name": "stderr",
     "output_type": "stream",
     "text": [
      "Streaming tracklets:  52%|███████████████████████████████▍                            | 112/214 [06:48<09:35,  5.64s/it]"
     ]
    },
    {
     "name": "stdout",
     "output_type": "stream",
     "text": [
      "Batch 105, Loss: 2.7970\n"
     ]
    },
    {
     "name": "stderr",
     "output_type": "stream",
     "text": [
      "Streaming tracklets:  54%|████████████████████████████████▏                           | 115/214 [06:53<04:43,  2.86s/it]"
     ]
    },
    {
     "name": "stdout",
     "output_type": "stream",
     "text": [
      "Batch 106, Loss: 2.7146\n"
     ]
    },
    {
     "name": "stderr",
     "output_type": "stream",
     "text": [
      "Streaming tracklets:  54%|████████████████████████████████▏                           | 115/214 [06:57<04:47,  2.90s/it]"
     ]
    },
    {
     "name": "stdout",
     "output_type": "stream",
     "text": [
      "Batch 107, Loss: 2.6210\n"
     ]
    },
    {
     "name": "stderr",
     "output_type": "stream",
     "text": [
      "Streaming tracklets:  54%|████████████████████████████████▌                           | 116/214 [07:01<09:32,  5.84s/it]"
     ]
    },
    {
     "name": "stdout",
     "output_type": "stream",
     "text": [
      "Batch 108, Loss: 2.5302\n"
     ]
    },
    {
     "name": "stderr",
     "output_type": "stream",
     "text": [
      "Streaming tracklets:  54%|████████████████████████████████▌                           | 116/214 [07:05<09:30,  5.82s/it]"
     ]
    },
    {
     "name": "stdout",
     "output_type": "stream",
     "text": [
      "Batch 109, Loss: 2.1473\n"
     ]
    },
    {
     "name": "stderr",
     "output_type": "stream",
     "text": [
      "Streaming tracklets:  54%|████████████████████████████████▌                           | 116/214 [07:10<09:33,  5.85s/it]"
     ]
    },
    {
     "name": "stdout",
     "output_type": "stream",
     "text": [
      "Batch 110, Loss: 2.1503\n"
     ]
    },
    {
     "name": "stderr",
     "output_type": "stream",
     "text": [
      "Streaming tracklets:  54%|████████████████████████████████▌                           | 116/214 [07:13<09:27,  5.79s/it]"
     ]
    },
    {
     "name": "stdout",
     "output_type": "stream",
     "text": [
      "Batch 111, Loss: 2.1393\n"
     ]
    },
    {
     "name": "stderr",
     "output_type": "stream",
     "text": [
      "Streaming tracklets:  56%|█████████████████████████████████▋                          | 120/214 [07:17<08:48,  5.63s/it]"
     ]
    },
    {
     "name": "stdout",
     "output_type": "stream",
     "text": [
      "Batch 112, Loss: 2.1450\n"
     ]
    },
    {
     "name": "stderr",
     "output_type": "stream",
     "text": [
      "Streaming tracklets:  56%|█████████████████████████████████▋                          | 120/214 [07:21<08:48,  5.62s/it]"
     ]
    },
    {
     "name": "stdout",
     "output_type": "stream",
     "text": [
      "Batch 113, Loss: 2.4102\n"
     ]
    },
    {
     "name": "stderr",
     "output_type": "stream",
     "text": [
      "Streaming tracklets:  56%|█████████████████████████████████▋                          | 120/214 [07:24<08:22,  5.34s/it]"
     ]
    },
    {
     "name": "stdout",
     "output_type": "stream",
     "text": [
      "Batch 114, Loss: 2.3604\n"
     ]
    },
    {
     "name": "stderr",
     "output_type": "stream",
     "text": [
      "Streaming tracklets:  56%|█████████████████████████████████▋                          | 120/214 [07:28<08:09,  5.21s/it]"
     ]
    },
    {
     "name": "stdout",
     "output_type": "stream",
     "text": [
      "Batch 115, Loss: 2.2843\n"
     ]
    },
    {
     "name": "stderr",
     "output_type": "stream",
     "text": [
      "Streaming tracklets:  58%|██████████████████████████████████▊                         | 124/214 [07:31<07:40,  5.11s/it]"
     ]
    },
    {
     "name": "stdout",
     "output_type": "stream",
     "text": [
      "Batch 116, Loss: 2.2056\n"
     ]
    },
    {
     "name": "stderr",
     "output_type": "stream",
     "text": [
      "Streaming tracklets:  58%|██████████████████████████████████▊                         | 124/214 [07:34<07:26,  4.97s/it]"
     ]
    },
    {
     "name": "stdout",
     "output_type": "stream",
     "text": [
      "Batch 117, Loss: 2.2254\n"
     ]
    },
    {
     "name": "stderr",
     "output_type": "stream",
     "text": [
      "Streaming tracklets:  58%|██████████████████████████████████▊                         | 124/214 [07:38<07:44,  5.16s/it]"
     ]
    },
    {
     "name": "stdout",
     "output_type": "stream",
     "text": [
      "Batch 118, Loss: 2.2139\n"
     ]
    },
    {
     "name": "stderr",
     "output_type": "stream",
     "text": [
      "Streaming tracklets:  59%|███████████████████████████████████▌                        | 127/214 [07:43<03:57,  2.72s/it]"
     ]
    },
    {
     "name": "stdout",
     "output_type": "stream",
     "text": [
      "Batch 119, Loss: 2.1913\n"
     ]
    },
    {
     "name": "stderr",
     "output_type": "stream",
     "text": [
      "Streaming tracklets:  60%|███████████████████████████████████▉                        | 128/214 [07:47<07:45,  5.42s/it]"
     ]
    },
    {
     "name": "stdout",
     "output_type": "stream",
     "text": [
      "Batch 120, Loss: 2.1620\n"
     ]
    },
    {
     "name": "stderr",
     "output_type": "stream",
     "text": [
      "Streaming tracklets:  60%|███████████████████████████████████▉                        | 128/214 [07:51<07:46,  5.43s/it]"
     ]
    },
    {
     "name": "stdout",
     "output_type": "stream",
     "text": [
      "Batch 121, Loss: 2.3624\n"
     ]
    },
    {
     "name": "stderr",
     "output_type": "stream",
     "text": [
      "Streaming tracklets:  60%|███████████████████████████████████▉                        | 128/214 [07:55<07:46,  5.43s/it]"
     ]
    },
    {
     "name": "stdout",
     "output_type": "stream",
     "text": [
      "Batch 122, Loss: 2.3203\n"
     ]
    },
    {
     "name": "stderr",
     "output_type": "stream",
     "text": [
      "Streaming tracklets:  60%|███████████████████████████████████▉                        | 128/214 [07:58<07:30,  5.24s/it]"
     ]
    },
    {
     "name": "stdout",
     "output_type": "stream",
     "text": [
      "Batch 123, Loss: 2.2620\n"
     ]
    },
    {
     "name": "stderr",
     "output_type": "stream",
     "text": [
      "Streaming tracklets:  62%|█████████████████████████████████████                       | 132/214 [08:02<07:07,  5.21s/it]"
     ]
    },
    {
     "name": "stdout",
     "output_type": "stream",
     "text": [
      "Batch 124, Loss: 2.1910\n"
     ]
    },
    {
     "name": "stderr",
     "output_type": "stream",
     "text": [
      "Streaming tracklets:  62%|█████████████████████████████████████                       | 132/214 [08:05<07:03,  5.17s/it]"
     ]
    },
    {
     "name": "stdout",
     "output_type": "stream",
     "text": [
      "Batch 125, Loss: 3.8305\n"
     ]
    },
    {
     "name": "stderr",
     "output_type": "stream",
     "text": [
      "Streaming tracklets:  62%|█████████████████████████████████████                       | 132/214 [08:09<07:12,  5.28s/it]"
     ]
    },
    {
     "name": "stdout",
     "output_type": "stream",
     "text": [
      "Batch 126, Loss: 3.7391\n"
     ]
    },
    {
     "name": "stderr",
     "output_type": "stream",
     "text": [
      "Streaming tracklets:  62%|█████████████████████████████████████                       | 132/214 [08:13<07:19,  5.36s/it]"
     ]
    },
    {
     "name": "stdout",
     "output_type": "stream",
     "text": [
      "Batch 127, Loss: 3.6072\n"
     ]
    },
    {
     "name": "stderr",
     "output_type": "stream",
     "text": [
      "Streaming tracklets:  64%|██████████████████████████████████████▏                     | 136/214 [08:17<07:01,  5.40s/it]"
     ]
    },
    {
     "name": "stdout",
     "output_type": "stream",
     "text": [
      "Batch 128, Loss: 3.4860\n"
     ]
    },
    {
     "name": "stderr",
     "output_type": "stream",
     "text": [
      "Streaming tracklets:  64%|██████████████████████████████████████▏                     | 136/214 [08:21<07:00,  5.40s/it]"
     ]
    },
    {
     "name": "stdout",
     "output_type": "stream",
     "text": [
      "Batch 129, Loss: 2.2335\n"
     ]
    },
    {
     "name": "stderr",
     "output_type": "stream",
     "text": [
      "Streaming tracklets:  64%|██████████████████████████████████████▏                     | 136/214 [08:25<06:56,  5.34s/it]"
     ]
    },
    {
     "name": "stdout",
     "output_type": "stream",
     "text": [
      "Batch 130, Loss: 2.1244\n"
     ]
    },
    {
     "name": "stderr",
     "output_type": "stream",
     "text": [
      "Streaming tracklets:  64%|██████████████████████████████████████▏                     | 136/214 [08:29<06:57,  5.35s/it]"
     ]
    },
    {
     "name": "stdout",
     "output_type": "stream",
     "text": [
      "Batch 131, Loss: 2.0430\n"
     ]
    },
    {
     "name": "stderr",
     "output_type": "stream",
     "text": [
      "Streaming tracklets:  65%|███████████████████████████████████████▎                    | 140/214 [08:32<06:44,  5.47s/it]"
     ]
    },
    {
     "name": "stdout",
     "output_type": "stream",
     "text": [
      "Batch 132, Loss: 1.9578\n"
     ]
    },
    {
     "name": "stderr",
     "output_type": "stream",
     "text": [
      "Streaming tracklets:  65%|███████████████████████████████████████▎                    | 140/214 [08:36<06:47,  5.50s/it]"
     ]
    },
    {
     "name": "stdout",
     "output_type": "stream",
     "text": [
      "Batch 133, Loss: 2.1677\n"
     ]
    },
    {
     "name": "stderr",
     "output_type": "stream",
     "text": [
      "Streaming tracklets:  65%|███████████████████████████████████████▎                    | 140/214 [08:40<06:43,  5.45s/it]"
     ]
    },
    {
     "name": "stdout",
     "output_type": "stream",
     "text": [
      "Batch 134, Loss: 2.1453\n"
     ]
    },
    {
     "name": "stderr",
     "output_type": "stream",
     "text": [
      "Streaming tracklets:  65%|███████████████████████████████████████▎                    | 140/214 [08:44<06:39,  5.39s/it]"
     ]
    },
    {
     "name": "stdout",
     "output_type": "stream",
     "text": [
      "Batch 135, Loss: 2.1289\n"
     ]
    },
    {
     "name": "stderr",
     "output_type": "stream",
     "text": [
      "Streaming tracklets:  67%|████████████████████████████████████████▎                   | 144/214 [08:47<06:12,  5.33s/it]"
     ]
    },
    {
     "name": "stdout",
     "output_type": "stream",
     "text": [
      "Batch 136, Loss: 2.1104\n"
     ]
    },
    {
     "name": "stderr",
     "output_type": "stream",
     "text": [
      "Streaming tracklets:  67%|████████████████████████████████████████▎                   | 144/214 [08:51<06:04,  5.20s/it]"
     ]
    },
    {
     "name": "stdout",
     "output_type": "stream",
     "text": [
      "Batch 137, Loss: 2.2889\n"
     ]
    },
    {
     "name": "stderr",
     "output_type": "stream",
     "text": [
      "Streaming tracklets:  67%|████████████████████████████████████████▎                   | 144/214 [08:54<05:58,  5.12s/it]"
     ]
    },
    {
     "name": "stdout",
     "output_type": "stream",
     "text": [
      "Batch 138, Loss: 2.2774\n"
     ]
    },
    {
     "name": "stderr",
     "output_type": "stream",
     "text": [
      "Streaming tracklets:  67%|████████████████████████████████████████▎                   | 144/214 [08:58<05:51,  5.03s/it]"
     ]
    },
    {
     "name": "stdout",
     "output_type": "stream",
     "text": [
      "Batch 139, Loss: 2.2474\n"
     ]
    },
    {
     "name": "stderr",
     "output_type": "stream",
     "text": [
      "Streaming tracklets:  69%|█████████████████████████████████████████▍                  | 148/214 [09:01<05:35,  5.08s/it]"
     ]
    },
    {
     "name": "stdout",
     "output_type": "stream",
     "text": [
      "Batch 140, Loss: 2.2080\n"
     ]
    },
    {
     "name": "stderr",
     "output_type": "stream",
     "text": [
      "Streaming tracklets:  69%|█████████████████████████████████████████▍                  | 148/214 [09:04<05:30,  5.01s/it]"
     ]
    },
    {
     "name": "stdout",
     "output_type": "stream",
     "text": [
      "Batch 141, Loss: 3.2833\n"
     ]
    },
    {
     "name": "stderr",
     "output_type": "stream",
     "text": [
      "Streaming tracklets:  69%|█████████████████████████████████████████▍                  | 148/214 [09:08<05:36,  5.09s/it]"
     ]
    },
    {
     "name": "stdout",
     "output_type": "stream",
     "text": [
      "Batch 142, Loss: 3.1615\n"
     ]
    },
    {
     "name": "stderr",
     "output_type": "stream",
     "text": [
      "Streaming tracklets:  69%|█████████████████████████████████████████▍                  | 148/214 [09:12<05:42,  5.19s/it]"
     ]
    },
    {
     "name": "stdout",
     "output_type": "stream",
     "text": [
      "Batch 143, Loss: 2.9999\n"
     ]
    },
    {
     "name": "stderr",
     "output_type": "stream",
     "text": [
      "Streaming tracklets:  71%|██████████████████████████████████████████▌                 | 152/214 [09:16<05:22,  5.20s/it]"
     ]
    },
    {
     "name": "stdout",
     "output_type": "stream",
     "text": [
      "Batch 144, Loss: 2.8548\n"
     ]
    },
    {
     "name": "stderr",
     "output_type": "stream",
     "text": [
      "Streaming tracklets:  71%|██████████████████████████████████████████▌                 | 152/214 [09:19<05:25,  5.25s/it]"
     ]
    },
    {
     "name": "stdout",
     "output_type": "stream",
     "text": [
      "Batch 145, Loss: 1.8139\n"
     ]
    },
    {
     "name": "stderr",
     "output_type": "stream",
     "text": [
      "Streaming tracklets:  71%|██████████████████████████████████████████▌                 | 152/214 [09:23<05:23,  5.22s/it]"
     ]
    },
    {
     "name": "stdout",
     "output_type": "stream",
     "text": [
      "Batch 146, Loss: 1.7801\n"
     ]
    },
    {
     "name": "stderr",
     "output_type": "stream",
     "text": [
      "Streaming tracklets:  71%|██████████████████████████████████████████▌                 | 152/214 [09:27<05:28,  5.30s/it]"
     ]
    },
    {
     "name": "stdout",
     "output_type": "stream",
     "text": [
      "Batch 147, Loss: 1.7137\n"
     ]
    },
    {
     "name": "stderr",
     "output_type": "stream",
     "text": [
      "Streaming tracklets:  73%|███████████████████████████████████████████▋                | 156/214 [09:30<05:05,  5.27s/it]"
     ]
    },
    {
     "name": "stdout",
     "output_type": "stream",
     "text": [
      "Batch 148, Loss: 1.6288\n"
     ]
    },
    {
     "name": "stderr",
     "output_type": "stream",
     "text": [
      "Streaming tracklets:  73%|███████████████████████████████████████████▋                | 156/214 [09:34<05:06,  5.28s/it]"
     ]
    },
    {
     "name": "stdout",
     "output_type": "stream",
     "text": [
      "Batch 149, Loss: 2.1058\n"
     ]
    },
    {
     "name": "stderr",
     "output_type": "stream",
     "text": [
      "Streaming tracklets:  73%|███████████████████████████████████████████▋                | 156/214 [09:38<05:06,  5.28s/it]"
     ]
    },
    {
     "name": "stdout",
     "output_type": "stream",
     "text": [
      "Batch 150, Loss: 2.0150\n"
     ]
    },
    {
     "name": "stderr",
     "output_type": "stream",
     "text": [
      "Streaming tracklets:  73%|███████████████████████████████████████████▋                | 156/214 [09:41<05:04,  5.25s/it]"
     ]
    },
    {
     "name": "stdout",
     "output_type": "stream",
     "text": [
      "Batch 151, Loss: 1.8712\n"
     ]
    },
    {
     "name": "stderr",
     "output_type": "stream",
     "text": [
      "Streaming tracklets:  75%|████████████████████████████████████████████▊               | 160/214 [09:45<04:43,  5.25s/it]"
     ]
    },
    {
     "name": "stdout",
     "output_type": "stream",
     "text": [
      "Batch 152, Loss: 1.7030\n"
     ]
    },
    {
     "name": "stderr",
     "output_type": "stream",
     "text": [
      "Streaming tracklets:  75%|████████████████████████████████████████████▊               | 160/214 [09:49<04:49,  5.35s/it]"
     ]
    },
    {
     "name": "stdout",
     "output_type": "stream",
     "text": [
      "Batch 153, Loss: 2.5679\n"
     ]
    },
    {
     "name": "stderr",
     "output_type": "stream",
     "text": [
      "Streaming tracklets:  75%|████████████████████████████████████████████▊               | 160/214 [09:53<04:52,  5.42s/it]"
     ]
    },
    {
     "name": "stdout",
     "output_type": "stream",
     "text": [
      "Batch 154, Loss: 2.5438\n"
     ]
    },
    {
     "name": "stderr",
     "output_type": "stream",
     "text": [
      "Streaming tracklets:  75%|████████████████████████████████████████████▊               | 160/214 [09:57<04:52,  5.41s/it]"
     ]
    },
    {
     "name": "stdout",
     "output_type": "stream",
     "text": [
      "Batch 155, Loss: 2.5068\n"
     ]
    },
    {
     "name": "stderr",
     "output_type": "stream",
     "text": [
      "Streaming tracklets:  77%|█████████████████████████████████████████████▉              | 164/214 [10:00<04:34,  5.49s/it]"
     ]
    },
    {
     "name": "stdout",
     "output_type": "stream",
     "text": [
      "Batch 156, Loss: 2.4570\n"
     ]
    },
    {
     "name": "stderr",
     "output_type": "stream",
     "text": [
      "Streaming tracklets:  77%|██████████████████████████████████████████████▎             | 165/214 [10:04<03:06,  3.81s/it]"
     ]
    },
    {
     "name": "stdout",
     "output_type": "stream",
     "text": [
      "Batch 157, Loss: 2.2983\n"
     ]
    },
    {
     "name": "stderr",
     "output_type": "stream",
     "text": [
      "Streaming tracklets:  77%|██████████████████████████████████████████████▎             | 165/214 [10:07<03:00,  3.68s/it]"
     ]
    },
    {
     "name": "stdout",
     "output_type": "stream",
     "text": [
      "Batch 158, Loss: 2.2313\n"
     ]
    },
    {
     "name": "stderr",
     "output_type": "stream",
     "text": [
      "Streaming tracklets:  77%|██████████████████████████████████████████████▎             | 165/214 [10:10<02:54,  3.55s/it]"
     ]
    },
    {
     "name": "stdout",
     "output_type": "stream",
     "text": [
      "Batch 159, Loss: 2.1689\n"
     ]
    },
    {
     "name": "stderr",
     "output_type": "stream",
     "text": [
      "Streaming tracklets:  79%|███████████████████████████████████████████████             | 168/214 [10:13<03:47,  4.95s/it]"
     ]
    },
    {
     "name": "stdout",
     "output_type": "stream",
     "text": [
      "Batch 160, Loss: 2.1083\n"
     ]
    },
    {
     "name": "stderr",
     "output_type": "stream",
     "text": [
      "Streaming tracklets:  79%|███████████████████████████████████████████████             | 168/214 [10:16<03:42,  4.84s/it]"
     ]
    },
    {
     "name": "stdout",
     "output_type": "stream",
     "text": [
      "Batch 161, Loss: 4.3222\n"
     ]
    },
    {
     "name": "stderr",
     "output_type": "stream",
     "text": [
      "Streaming tracklets:  79%|███████████████████████████████████████████████             | 168/214 [10:20<03:41,  4.81s/it]"
     ]
    },
    {
     "name": "stdout",
     "output_type": "stream",
     "text": [
      "Batch 162, Loss: 4.2791\n"
     ]
    },
    {
     "name": "stderr",
     "output_type": "stream",
     "text": [
      "Streaming tracklets:  79%|███████████████████████████████████████████████             | 168/214 [10:23<03:39,  4.77s/it]"
     ]
    },
    {
     "name": "stdout",
     "output_type": "stream",
     "text": [
      "Batch 163, Loss: 4.2052\n"
     ]
    },
    {
     "name": "stderr",
     "output_type": "stream",
     "text": [
      "Streaming tracklets:  80%|████████████████████████████████████████████████▏           | 172/214 [10:26<03:20,  4.78s/it]"
     ]
    },
    {
     "name": "stdout",
     "output_type": "stream",
     "text": [
      "Batch 164, Loss: 4.0920\n"
     ]
    },
    {
     "name": "stderr",
     "output_type": "stream",
     "text": [
      "Streaming tracklets:  80%|████████████████████████████████████████████████▏           | 172/214 [10:28<03:11,  4.56s/it]"
     ]
    },
    {
     "name": "stdout",
     "output_type": "stream",
     "text": [
      "Batch 165, Loss: 1.4526\n"
     ]
    },
    {
     "name": "stderr",
     "output_type": "stream",
     "text": [
      "Streaming tracklets:  80%|████████████████████████████████████████████████▏           | 172/214 [10:31<03:09,  4.51s/it]"
     ]
    },
    {
     "name": "stdout",
     "output_type": "stream",
     "text": [
      "Batch 166, Loss: 1.4440\n"
     ]
    },
    {
     "name": "stderr",
     "output_type": "stream",
     "text": [
      "Streaming tracklets:  80%|████████████████████████████████████████████████▏           | 172/214 [10:35<03:11,  4.56s/it]"
     ]
    },
    {
     "name": "stdout",
     "output_type": "stream",
     "text": [
      "Batch 167, Loss: 1.4208\n"
     ]
    },
    {
     "name": "stderr",
     "output_type": "stream",
     "text": [
      "Streaming tracklets:  82%|█████████████████████████████████████████████████▎          | 176/214 [10:39<02:51,  4.52s/it]"
     ]
    },
    {
     "name": "stdout",
     "output_type": "stream",
     "text": [
      "Batch 168, Loss: 1.3898\n"
     ]
    },
    {
     "name": "stderr",
     "output_type": "stream",
     "text": [
      "Streaming tracklets:  82%|█████████████████████████████████████████████████▎          | 176/214 [10:42<02:56,  4.63s/it]"
     ]
    },
    {
     "name": "stdout",
     "output_type": "stream",
     "text": [
      "Batch 169, Loss: 1.1134\n"
     ]
    },
    {
     "name": "stderr",
     "output_type": "stream",
     "text": [
      "Streaming tracklets:  82%|█████████████████████████████████████████████████▎          | 176/214 [10:45<02:54,  4.60s/it]"
     ]
    },
    {
     "name": "stdout",
     "output_type": "stream",
     "text": [
      "Batch 170, Loss: 1.0840\n"
     ]
    },
    {
     "name": "stderr",
     "output_type": "stream",
     "text": [
      "Streaming tracklets:  82%|█████████████████████████████████████████████████▎          | 176/214 [10:48<02:43,  4.31s/it]"
     ]
    },
    {
     "name": "stdout",
     "output_type": "stream",
     "text": [
      "Batch 171, Loss: 1.0419\n"
     ]
    },
    {
     "name": "stderr",
     "output_type": "stream",
     "text": [
      "Streaming tracklets:  85%|██████████████████████████████████████████████████▋         | 181/214 [10:51<01:42,  3.10s/it]"
     ]
    },
    {
     "name": "stdout",
     "output_type": "stream",
     "text": [
      "Batch 172, Loss: 1.0008\n"
     ]
    },
    {
     "name": "stderr",
     "output_type": "stream",
     "text": [
      "Streaming tracklets:  85%|██████████████████████████████████████████████████▋         | 181/214 [10:54<01:40,  3.04s/it]"
     ]
    },
    {
     "name": "stdout",
     "output_type": "stream",
     "text": [
      "Batch 173, Loss: 2.9409\n"
     ]
    },
    {
     "name": "stderr",
     "output_type": "stream",
     "text": [
      "Streaming tracklets:  84%|██████████████████████████████████████████████████▍         | 180/214 [10:57<02:30,  4.43s/it]"
     ]
    },
    {
     "name": "stdout",
     "output_type": "stream",
     "text": [
      "Batch 174, Loss: 2.9167\n"
     ]
    },
    {
     "name": "stderr",
     "output_type": "stream",
     "text": [
      "Streaming tracklets:  85%|██████████████████████████████████████████████████▋         | 181/214 [11:00<01:46,  3.23s/it]"
     ]
    },
    {
     "name": "stdout",
     "output_type": "stream",
     "text": [
      "Batch 175, Loss: 2.8655\n"
     ]
    },
    {
     "name": "stderr",
     "output_type": "stream",
     "text": [
      "Streaming tracklets:  86%|███████████████████████████████████████████████████▌        | 184/214 [11:04<02:23,  4.78s/it]"
     ]
    },
    {
     "name": "stdout",
     "output_type": "stream",
     "text": [
      "Batch 176, Loss: 2.7964\n"
     ]
    },
    {
     "name": "stderr",
     "output_type": "stream",
     "text": [
      "Streaming tracklets:  86%|███████████████████████████████████████████████████▌        | 184/214 [11:06<02:18,  4.61s/it]"
     ]
    },
    {
     "name": "stdout",
     "output_type": "stream",
     "text": [
      "Batch 177, Loss: 1.8785\n"
     ]
    },
    {
     "name": "stderr",
     "output_type": "stream",
     "text": [
      "Streaming tracklets:  86%|███████████████████████████████████████████████████▌        | 184/214 [11:09<02:12,  4.40s/it]"
     ]
    },
    {
     "name": "stdout",
     "output_type": "stream",
     "text": [
      "Batch 178, Loss: 1.8356\n"
     ]
    },
    {
     "name": "stderr",
     "output_type": "stream",
     "text": [
      "Streaming tracklets:  86%|███████████████████████████████████████████████████▌        | 184/214 [11:11<02:06,  4.20s/it]"
     ]
    },
    {
     "name": "stdout",
     "output_type": "stream",
     "text": [
      "Batch 179, Loss: 1.7797\n"
     ]
    },
    {
     "name": "stderr",
     "output_type": "stream",
     "text": [
      "Streaming tracklets:  88%|████████████████████████████████████████████████████▋       | 188/214 [11:14<01:31,  3.52s/it]"
     ]
    },
    {
     "name": "stdout",
     "output_type": "stream",
     "text": [
      "Batch 180, Loss: 1.7154\n"
     ]
    },
    {
     "name": "stderr",
     "output_type": "stream",
     "text": [
      "Streaming tracklets:  88%|████████████████████████████████████████████████████▋       | 188/214 [11:17<01:30,  3.48s/it]"
     ]
    },
    {
     "name": "stdout",
     "output_type": "stream",
     "text": [
      "Batch 181, Loss: 1.8875\n"
     ]
    },
    {
     "name": "stderr",
     "output_type": "stream",
     "text": [
      "Streaming tracklets:  88%|████████████████████████████████████████████████████▋       | 188/214 [11:19<01:31,  3.53s/it]"
     ]
    },
    {
     "name": "stdout",
     "output_type": "stream",
     "text": [
      "Batch 182, Loss: 1.8641\n"
     ]
    },
    {
     "name": "stderr",
     "output_type": "stream",
     "text": [
      "Streaming tracklets:  88%|████████████████████████████████████████████████████▋       | 188/214 [11:22<01:32,  3.56s/it]"
     ]
    },
    {
     "name": "stdout",
     "output_type": "stream",
     "text": [
      "Batch 183, Loss: 1.8196\n"
     ]
    },
    {
     "name": "stderr",
     "output_type": "stream",
     "text": [
      "Streaming tracklets:  90%|█████████████████████████████████████████████████████▊      | 192/214 [11:25<01:30,  4.13s/it]"
     ]
    },
    {
     "name": "stdout",
     "output_type": "stream",
     "text": [
      "Batch 184, Loss: 1.7786\n"
     ]
    },
    {
     "name": "stderr",
     "output_type": "stream",
     "text": [
      "Streaming tracklets:  90%|█████████████████████████████████████████████████████▊      | 192/214 [11:28<01:27,  4.00s/it]"
     ]
    },
    {
     "name": "stdout",
     "output_type": "stream",
     "text": [
      "Batch 185, Loss: 1.8255\n"
     ]
    },
    {
     "name": "stderr",
     "output_type": "stream",
     "text": [
      "Streaming tracklets:  90%|█████████████████████████████████████████████████████▊      | 192/214 [11:32<01:34,  4.29s/it]"
     ]
    },
    {
     "name": "stdout",
     "output_type": "stream",
     "text": [
      "Batch 186, Loss: 1.7778\n"
     ]
    },
    {
     "name": "stderr",
     "output_type": "stream",
     "text": [
      "Streaming tracklets:  91%|██████████████████████████████████████████████████████▍     | 194/214 [11:35<00:57,  2.89s/it]"
     ]
    },
    {
     "name": "stdout",
     "output_type": "stream",
     "text": [
      "Batch 187, Loss: 1.7009\n"
     ]
    },
    {
     "name": "stderr",
     "output_type": "stream",
     "text": [
      "Streaming tracklets:  92%|██████████████████████████████████████████████████████▉     | 196/214 [11:38<01:14,  4.15s/it]"
     ]
    },
    {
     "name": "stdout",
     "output_type": "stream",
     "text": [
      "Batch 188, Loss: 1.6250\n"
     ]
    },
    {
     "name": "stderr",
     "output_type": "stream",
     "text": [
      "Streaming tracklets:  93%|███████████████████████████████████████████████████████▊    | 199/214 [11:42<00:36,  2.42s/it]"
     ]
    },
    {
     "name": "stdout",
     "output_type": "stream",
     "text": [
      "Batch 189, Loss: 2.4345\n"
     ]
    },
    {
     "name": "stderr",
     "output_type": "stream",
     "text": [
      "Streaming tracklets:  92%|██████████████████████████████████████████████████████▉     | 196/214 [11:46<01:24,  4.67s/it]"
     ]
    },
    {
     "name": "stdout",
     "output_type": "stream",
     "text": [
      "Batch 190, Loss: 2.3704\n"
     ]
    },
    {
     "name": "stderr",
     "output_type": "stream",
     "text": [
      "Streaming tracklets:  92%|██████████████████████████████████████████████████████▉     | 196/214 [11:50<01:27,  4.88s/it]"
     ]
    },
    {
     "name": "stdout",
     "output_type": "stream",
     "text": [
      "Batch 191, Loss: 2.2982\n"
     ]
    },
    {
     "name": "stderr",
     "output_type": "stream",
     "text": [
      "Streaming tracklets:  93%|████████████████████████████████████████████████████████    | 200/214 [11:53<01:12,  5.18s/it]"
     ]
    },
    {
     "name": "stdout",
     "output_type": "stream",
     "text": [
      "Batch 192, Loss: 2.2126\n"
     ]
    },
    {
     "name": "stderr",
     "output_type": "stream",
     "text": [
      "Streaming tracklets:  93%|████████████████████████████████████████████████████████    | 200/214 [11:57<01:14,  5.29s/it]"
     ]
    },
    {
     "name": "stdout",
     "output_type": "stream",
     "text": [
      "Batch 193, Loss: 3.2258\n"
     ]
    },
    {
     "name": "stderr",
     "output_type": "stream",
     "text": [
      "Streaming tracklets:  94%|████████████████████████████████████████████████████████▎   | 201/214 [12:01<00:46,  3.60s/it]"
     ]
    },
    {
     "name": "stdout",
     "output_type": "stream",
     "text": [
      "Batch 194, Loss: 3.1961\n"
     ]
    },
    {
     "name": "stderr",
     "output_type": "stream",
     "text": [
      "Streaming tracklets:  93%|████████████████████████████████████████████████████████    | 200/214 [12:03<01:08,  4.86s/it]"
     ]
    },
    {
     "name": "stdout",
     "output_type": "stream",
     "text": [
      "Batch 195, Loss: 3.1357\n"
     ]
    },
    {
     "name": "stderr",
     "output_type": "stream",
     "text": [
      "Streaming tracklets:  95%|█████████████████████████████████████████████████████████▏  | 204/214 [12:07<00:49,  4.98s/it]"
     ]
    },
    {
     "name": "stdout",
     "output_type": "stream",
     "text": [
      "Batch 196, Loss: 3.0558\n"
     ]
    },
    {
     "name": "stderr",
     "output_type": "stream",
     "text": [
      "Streaming tracklets:  95%|█████████████████████████████████████████████████████████▏  | 204/214 [12:10<00:47,  4.77s/it]"
     ]
    },
    {
     "name": "stdout",
     "output_type": "stream",
     "text": [
      "Batch 197, Loss: 1.7258\n"
     ]
    },
    {
     "name": "stderr",
     "output_type": "stream",
     "text": [
      "Streaming tracklets:  95%|█████████████████████████████████████████████████████████▏  | 204/214 [12:13<00:49,  4.93s/it]"
     ]
    },
    {
     "name": "stdout",
     "output_type": "stream",
     "text": [
      "Batch 198, Loss: 1.6418\n"
     ]
    },
    {
     "name": "stderr",
     "output_type": "stream",
     "text": [
      "Streaming tracklets:  95%|█████████████████████████████████████████████████████████▏  | 204/214 [12:17<00:50,  5.02s/it]"
     ]
    },
    {
     "name": "stdout",
     "output_type": "stream",
     "text": [
      "Batch 199, Loss: 1.5263\n"
     ]
    },
    {
     "name": "stderr",
     "output_type": "stream",
     "text": [
      "Streaming tracklets:  97%|██████████████████████████████████████████████████████████▎ | 208/214 [12:21<00:31,  5.17s/it]"
     ]
    },
    {
     "name": "stdout",
     "output_type": "stream",
     "text": [
      "Batch 200, Loss: 1.4246\n"
     ]
    },
    {
     "name": "stderr",
     "output_type": "stream",
     "text": [
      "Streaming tracklets:  98%|██████████████████████████████████████████████████████████▉ | 210/214 [12:23<00:12,  3.18s/it]"
     ]
    },
    {
     "name": "stdout",
     "output_type": "stream",
     "text": [
      "Batch 201, Loss: 1.0713\n"
     ]
    },
    {
     "name": "stderr",
     "output_type": "stream",
     "text": [
      "Streaming tracklets:  98%|██████████████████████████████████████████████████████████▉ | 210/214 [12:26<00:12,  3.09s/it]"
     ]
    },
    {
     "name": "stdout",
     "output_type": "stream",
     "text": [
      "Batch 202, Loss: 1.0477\n"
     ]
    },
    {
     "name": "stderr",
     "output_type": "stream",
     "text": [
      "Streaming tracklets:  97%|██████████████████████████████████████████████████████████▎ | 208/214 [12:30<00:27,  4.63s/it]"
     ]
    },
    {
     "name": "stdout",
     "output_type": "stream",
     "text": [
      "Batch 203, Loss: 1.0346\n"
     ]
    },
    {
     "name": "stderr",
     "output_type": "stream",
     "text": [
      "Streaming tracklets:  99%|███████████████████████████████████████████████████████████▍| 212/214 [12:33<00:08,  4.28s/it]"
     ]
    },
    {
     "name": "stdout",
     "output_type": "stream",
     "text": [
      "Batch 204, Loss: 1.0158\n"
     ]
    },
    {
     "name": "stderr",
     "output_type": "stream",
     "text": [
      "Streaming tracklets: 100%|████████████████████████████████████████████████████████████| 214/214 [12:37<00:00,  3.54s/it]\n",
      "Streaming tracklets:  99%|███████████████████████████████████████████████████████████▍| 212/214 [12:37<00:09,  4.72s/it]"
     ]
    },
    {
     "name": "stdout",
     "output_type": "stream",
     "text": [
      "Batch 205, Loss: 2.8640\n"
     ]
    },
    {
     "name": "stderr",
     "output_type": "stream",
     "text": [
      "Streaming tracklets: 100%|████████████████████████████████████████████████████████████| 214/214 [12:40<00:00,  3.55s/it]\n",
      "Streaming tracklets:  99%|███████████████████████████████████████████████████████████▍| 212/214 [12:41<00:09,  4.64s/it]"
     ]
    },
    {
     "name": "stdout",
     "output_type": "stream",
     "text": [
      "Batch 206, Loss: 2.8671\n"
     ]
    },
    {
     "name": "stderr",
     "output_type": "stream",
     "text": [
      "Streaming tracklets: 100%|████████████████████████████████████████████████████████████| 214/214 [12:43<00:00,  3.57s/it]\n",
      "Streaming tracklets:  99%|███████████████████████████████████████████████████████████▍| 212/214 [12:43<00:08,  4.45s/it]"
     ]
    },
    {
     "name": "stdout",
     "output_type": "stream",
     "text": [
      "Batch 207, Loss: 2.8314\n"
     ]
    },
    {
     "name": "stderr",
     "output_type": "stream",
     "text": [
      "Streaming tracklets: 100%|████████████████████████████████████████████████████████████| 214/214 [12:46<00:00,  3.58s/it]\n"
     ]
    },
    {
     "name": "stdout",
     "output_type": "stream",
     "text": [
      "Batch 208, Loss: 2.7696\n",
      "Batch 209, Loss: 3.0441\n",
      "Batch 210, Loss: 2.9896\n",
      "Batch 211, Loss: 2.9199\n",
      "Batch 212, Loss: 2.8080\n",
      "Batch 213, Loss: 3.3123\n",
      "Batch 214, Loss: 3.1495\n",
      "Batch 215, Loss: 2.9181\n",
      "Batch 216, Loss: 2.7083\n",
      "Epoch 6/30, Loss: 2.4198, Accuracy: 37.73%\n"
     ]
    },
    {
     "name": "stderr",
     "output_type": "stream",
     "text": [
      "Streaming tracklets:   3%|██                                                            | 7/214 [00:18<09:43,  2.82s/it]"
     ]
    },
    {
     "name": "stdout",
     "output_type": "stream",
     "text": [
      "Batch 1, Loss: 2.2307\n"
     ]
    },
    {
     "name": "stderr",
     "output_type": "stream",
     "text": [
      "Streaming tracklets:   4%|██▎                                                           | 8/214 [00:27<16:29,  4.80s/it]"
     ]
    },
    {
     "name": "stdout",
     "output_type": "stream",
     "text": [
      "Batch 2, Loss: 2.2114\n"
     ]
    },
    {
     "name": "stderr",
     "output_type": "stream",
     "text": [
      "Streaming tracklets:   4%|██▎                                                           | 8/214 [00:31<21:12,  6.18s/it]"
     ]
    },
    {
     "name": "stdout",
     "output_type": "stream",
     "text": [
      "Batch 3, Loss: 2.1893\n"
     ]
    },
    {
     "name": "stderr",
     "output_type": "stream",
     "text": [
      "Streaming tracklets:   6%|███▍                                                         | 12/214 [00:35<13:40,  4.06s/it]"
     ]
    },
    {
     "name": "stdout",
     "output_type": "stream",
     "text": [
      "Batch 4, Loss: 2.1545\n"
     ]
    },
    {
     "name": "stderr",
     "output_type": "stream",
     "text": [
      "Streaming tracklets:   6%|███▍                                                         | 12/214 [00:39<17:03,  5.07s/it]"
     ]
    },
    {
     "name": "stdout",
     "output_type": "stream",
     "text": [
      "Batch 5, Loss: 2.2933\n"
     ]
    },
    {
     "name": "stderr",
     "output_type": "stream",
     "text": [
      "Streaming tracklets:   6%|███▍                                                         | 12/214 [00:43<17:54,  5.32s/it]"
     ]
    },
    {
     "name": "stdout",
     "output_type": "stream",
     "text": [
      "Batch 6, Loss: 2.2514\n"
     ]
    },
    {
     "name": "stderr",
     "output_type": "stream",
     "text": [
      "Streaming tracklets:   6%|███▍                                                         | 12/214 [00:47<19:02,  5.65s/it]"
     ]
    },
    {
     "name": "stdout",
     "output_type": "stream",
     "text": [
      "Batch 7, Loss: 2.2042\n"
     ]
    },
    {
     "name": "stderr",
     "output_type": "stream",
     "text": [
      "Streaming tracklets:   7%|████▌                                                        | 16/214 [00:51<17:27,  5.29s/it]"
     ]
    },
    {
     "name": "stdout",
     "output_type": "stream",
     "text": [
      "Batch 8, Loss: 2.1604\n"
     ]
    },
    {
     "name": "stderr",
     "output_type": "stream",
     "text": [
      "Streaming tracklets:   7%|████▌                                                        | 16/214 [00:54<17:44,  5.38s/it]"
     ]
    },
    {
     "name": "stdout",
     "output_type": "stream",
     "text": [
      "Batch 9, Loss: 3.2217\n"
     ]
    },
    {
     "name": "stderr",
     "output_type": "stream",
     "text": [
      "Streaming tracklets:   7%|████▌                                                        | 16/214 [00:58<17:29,  5.30s/it]"
     ]
    },
    {
     "name": "stdout",
     "output_type": "stream",
     "text": [
      "Batch 10, Loss: 3.1877\n"
     ]
    },
    {
     "name": "stderr",
     "output_type": "stream",
     "text": [
      "Streaming tracklets:   7%|████▌                                                        | 16/214 [01:03<17:52,  5.42s/it]"
     ]
    },
    {
     "name": "stdout",
     "output_type": "stream",
     "text": [
      "Batch 11, Loss: 3.1248\n"
     ]
    },
    {
     "name": "stderr",
     "output_type": "stream",
     "text": [
      "Streaming tracklets:   9%|█████▋                                                       | 20/214 [01:07<17:25,  5.39s/it]"
     ]
    },
    {
     "name": "stdout",
     "output_type": "stream",
     "text": [
      "Batch 12, Loss: 3.0291\n"
     ]
    },
    {
     "name": "stderr",
     "output_type": "stream",
     "text": [
      "Streaming tracklets:  11%|██████▌                                                      | 23/214 [01:11<08:35,  2.70s/it]"
     ]
    },
    {
     "name": "stdout",
     "output_type": "stream",
     "text": [
      "Batch 13, Loss: 2.8111\n"
     ]
    },
    {
     "name": "stderr",
     "output_type": "stream",
     "text": [
      "Streaming tracklets:   9%|█████▋                                                       | 20/214 [01:15<18:41,  5.78s/it]"
     ]
    },
    {
     "name": "stdout",
     "output_type": "stream",
     "text": [
      "Batch 14, Loss: 2.7979\n"
     ]
    },
    {
     "name": "stderr",
     "output_type": "stream",
     "text": [
      "Streaming tracklets:   9%|█████▋                                                       | 20/214 [01:19<18:56,  5.86s/it]"
     ]
    },
    {
     "name": "stdout",
     "output_type": "stream",
     "text": [
      "Batch 15, Loss: 2.7723\n"
     ]
    },
    {
     "name": "stderr",
     "output_type": "stream",
     "text": [
      "Streaming tracklets:  11%|██████▊                                                      | 24/214 [01:23<17:54,  5.65s/it]"
     ]
    },
    {
     "name": "stdout",
     "output_type": "stream",
     "text": [
      "Batch 16, Loss: 2.7364\n"
     ]
    },
    {
     "name": "stderr",
     "output_type": "stream",
     "text": [
      "Streaming tracklets:  11%|██████▊                                                      | 24/214 [01:28<18:29,  5.84s/it]"
     ]
    },
    {
     "name": "stdout",
     "output_type": "stream",
     "text": [
      "Batch 17, Loss: 3.2437\n"
     ]
    },
    {
     "name": "stderr",
     "output_type": "stream",
     "text": [
      "Streaming tracklets:  11%|██████▊                                                      | 24/214 [01:32<17:47,  5.62s/it]"
     ]
    },
    {
     "name": "stdout",
     "output_type": "stream",
     "text": [
      "Batch 18, Loss: 3.2142\n"
     ]
    },
    {
     "name": "stderr",
     "output_type": "stream",
     "text": [
      "Streaming tracklets:  11%|██████▊                                                      | 24/214 [01:35<17:02,  5.38s/it]"
     ]
    },
    {
     "name": "stdout",
     "output_type": "stream",
     "text": [
      "Batch 19, Loss: 3.1552\n"
     ]
    },
    {
     "name": "stderr",
     "output_type": "stream",
     "text": [
      "Streaming tracklets:  13%|███████▉                                                     | 28/214 [01:39<16:58,  5.48s/it]"
     ]
    },
    {
     "name": "stdout",
     "output_type": "stream",
     "text": [
      "Batch 20, Loss: 3.0961\n"
     ]
    },
    {
     "name": "stderr",
     "output_type": "stream",
     "text": [
      "Streaming tracklets:  13%|███████▉                                                     | 28/214 [01:43<16:28,  5.31s/it]"
     ]
    },
    {
     "name": "stdout",
     "output_type": "stream",
     "text": [
      "Batch 21, Loss: 3.0851\n"
     ]
    },
    {
     "name": "stderr",
     "output_type": "stream",
     "text": [
      "Streaming tracklets:  13%|███████▉                                                     | 28/214 [01:47<16:38,  5.37s/it]"
     ]
    },
    {
     "name": "stdout",
     "output_type": "stream",
     "text": [
      "Batch 22, Loss: 3.0443\n"
     ]
    },
    {
     "name": "stderr",
     "output_type": "stream",
     "text": [
      "Streaming tracklets:  13%|███████▉                                                     | 28/214 [01:50<16:23,  5.29s/it]"
     ]
    },
    {
     "name": "stdout",
     "output_type": "stream",
     "text": [
      "Batch 23, Loss: 2.9989\n"
     ]
    },
    {
     "name": "stderr",
     "output_type": "stream",
     "text": [
      "Streaming tracklets:  15%|█████████                                                    | 32/214 [01:55<16:54,  5.57s/it]"
     ]
    },
    {
     "name": "stdout",
     "output_type": "stream",
     "text": [
      "Batch 24, Loss: 2.9530\n"
     ]
    },
    {
     "name": "stderr",
     "output_type": "stream",
     "text": [
      "Streaming tracklets:  15%|█████████                                                    | 32/214 [01:59<16:44,  5.52s/it]"
     ]
    },
    {
     "name": "stdout",
     "output_type": "stream",
     "text": [
      "Batch 25, Loss: 1.4009\n"
     ]
    },
    {
     "name": "stderr",
     "output_type": "stream",
     "text": [
      "Streaming tracklets:  16%|█████████▉                                                   | 35/214 [02:03<08:22,  2.81s/it]"
     ]
    },
    {
     "name": "stdout",
     "output_type": "stream",
     "text": [
      "Batch 26, Loss: 1.3688\n"
     ]
    },
    {
     "name": "stderr",
     "output_type": "stream",
     "text": [
      "Streaming tracklets:  15%|█████████                                                    | 32/214 [02:07<17:16,  5.69s/it]"
     ]
    },
    {
     "name": "stdout",
     "output_type": "stream",
     "text": [
      "Batch 27, Loss: 1.3239\n"
     ]
    },
    {
     "name": "stderr",
     "output_type": "stream",
     "text": [
      "Streaming tracklets:  17%|██████████▎                                                  | 36/214 [02:11<16:37,  5.61s/it]"
     ]
    },
    {
     "name": "stdout",
     "output_type": "stream",
     "text": [
      "Batch 28, Loss: 1.2508\n"
     ]
    },
    {
     "name": "stderr",
     "output_type": "stream",
     "text": [
      "Streaming tracklets:  17%|██████████▎                                                  | 36/214 [02:15<16:41,  5.63s/it]"
     ]
    },
    {
     "name": "stdout",
     "output_type": "stream",
     "text": [
      "Batch 29, Loss: 2.7594\n"
     ]
    },
    {
     "name": "stderr",
     "output_type": "stream",
     "text": [
      "Streaming tracklets:  17%|██████████▎                                                  | 36/214 [02:19<16:48,  5.67s/it]"
     ]
    },
    {
     "name": "stdout",
     "output_type": "stream",
     "text": [
      "Batch 30, Loss: 2.7457\n"
     ]
    },
    {
     "name": "stderr",
     "output_type": "stream",
     "text": [
      "Streaming tracklets:  17%|██████████▎                                                  | 36/214 [02:23<16:28,  5.55s/it]"
     ]
    },
    {
     "name": "stdout",
     "output_type": "stream",
     "text": [
      "Batch 31, Loss: 2.7136\n"
     ]
    },
    {
     "name": "stderr",
     "output_type": "stream",
     "text": [
      "Streaming tracklets:  19%|███████████▍                                                 | 40/214 [02:26<16:15,  5.60s/it]"
     ]
    },
    {
     "name": "stdout",
     "output_type": "stream",
     "text": [
      "Batch 32, Loss: 2.6683\n"
     ]
    },
    {
     "name": "stderr",
     "output_type": "stream",
     "text": [
      "Streaming tracklets:  19%|███████████▍                                                 | 40/214 [02:30<15:44,  5.43s/it]"
     ]
    },
    {
     "name": "stdout",
     "output_type": "stream",
     "text": [
      "Batch 33, Loss: 1.0764\n"
     ]
    },
    {
     "name": "stderr",
     "output_type": "stream",
     "text": [
      "Streaming tracklets:  20%|████████████▎                                                | 43/214 [02:34<07:51,  2.76s/it]"
     ]
    },
    {
     "name": "stdout",
     "output_type": "stream",
     "text": [
      "Batch 34, Loss: 1.0688\n"
     ]
    },
    {
     "name": "stderr",
     "output_type": "stream",
     "text": [
      "Streaming tracklets:  20%|████████████▎                                                | 43/214 [02:38<07:46,  2.73s/it]"
     ]
    },
    {
     "name": "stdout",
     "output_type": "stream",
     "text": [
      "Batch 35, Loss: 1.0533\n"
     ]
    },
    {
     "name": "stderr",
     "output_type": "stream",
     "text": [
      "Streaming tracklets:  20%|████████████▎                                                | 43/214 [02:42<07:44,  2.71s/it]"
     ]
    },
    {
     "name": "stdout",
     "output_type": "stream",
     "text": [
      "Batch 36, Loss: 1.0308\n"
     ]
    },
    {
     "name": "stderr",
     "output_type": "stream",
     "text": [
      "Streaming tracklets:  21%|████████████▌                                                | 44/214 [02:46<15:21,  5.42s/it]"
     ]
    },
    {
     "name": "stdout",
     "output_type": "stream",
     "text": [
      "Batch 37, Loss: 2.9238\n"
     ]
    },
    {
     "name": "stderr",
     "output_type": "stream",
     "text": [
      "Streaming tracklets:  22%|█████████████▍                                               | 47/214 [02:50<07:19,  2.63s/it]"
     ]
    },
    {
     "name": "stdout",
     "output_type": "stream",
     "text": [
      "Batch 38, Loss: 2.9062\n"
     ]
    },
    {
     "name": "stderr",
     "output_type": "stream",
     "text": [
      "Streaming tracklets:  21%|████████████▌                                                | 44/214 [02:54<15:20,  5.41s/it]"
     ]
    },
    {
     "name": "stdout",
     "output_type": "stream",
     "text": [
      "Batch 39, Loss: 2.8706\n"
     ]
    },
    {
     "name": "stderr",
     "output_type": "stream",
     "text": [
      "Streaming tracklets:  22%|█████████████▋                                               | 48/214 [02:57<14:45,  5.34s/it]"
     ]
    },
    {
     "name": "stdout",
     "output_type": "stream",
     "text": [
      "Batch 40, Loss: 2.8192\n"
     ]
    },
    {
     "name": "stderr",
     "output_type": "stream",
     "text": [
      "Streaming tracklets:  22%|█████████████▋                                               | 48/214 [03:02<15:00,  5.42s/it]"
     ]
    },
    {
     "name": "stdout",
     "output_type": "stream",
     "text": [
      "Batch 41, Loss: 3.4594\n"
     ]
    },
    {
     "name": "stderr",
     "output_type": "stream",
     "text": [
      "Streaming tracklets:  22%|█████████████▋                                               | 48/214 [03:05<14:51,  5.37s/it]"
     ]
    },
    {
     "name": "stdout",
     "output_type": "stream",
     "text": [
      "Batch 42, Loss: 3.4283\n"
     ]
    },
    {
     "name": "stderr",
     "output_type": "stream",
     "text": [
      "Streaming tracklets:  22%|█████████████▋                                               | 48/214 [03:09<14:40,  5.30s/it]"
     ]
    },
    {
     "name": "stdout",
     "output_type": "stream",
     "text": [
      "Batch 43, Loss: 3.3786\n"
     ]
    },
    {
     "name": "stderr",
     "output_type": "stream",
     "text": [
      "Streaming tracklets:  24%|██████████████▊                                              | 52/214 [03:13<14:33,  5.39s/it]"
     ]
    },
    {
     "name": "stdout",
     "output_type": "stream",
     "text": [
      "Batch 44, Loss: 3.3315\n"
     ]
    },
    {
     "name": "stderr",
     "output_type": "stream",
     "text": [
      "Streaming tracklets:  24%|██████████████▊                                              | 52/214 [03:17<14:40,  5.43s/it]"
     ]
    },
    {
     "name": "stdout",
     "output_type": "stream",
     "text": [
      "Batch 45, Loss: 3.2900\n"
     ]
    },
    {
     "name": "stderr",
     "output_type": "stream",
     "text": [
      "Streaming tracklets:  24%|██████████████▊                                              | 52/214 [03:20<14:29,  5.37s/it]"
     ]
    },
    {
     "name": "stdout",
     "output_type": "stream",
     "text": [
      "Batch 46, Loss: 3.2579\n"
     ]
    },
    {
     "name": "stderr",
     "output_type": "stream",
     "text": [
      "Streaming tracklets:  24%|██████████████▊                                              | 52/214 [03:24<14:20,  5.31s/it]"
     ]
    },
    {
     "name": "stdout",
     "output_type": "stream",
     "text": [
      "Batch 47, Loss: 3.2053\n"
     ]
    },
    {
     "name": "stderr",
     "output_type": "stream",
     "text": [
      "Streaming tracklets:  26%|███████████████▉                                             | 56/214 [03:28<14:04,  5.35s/it]"
     ]
    },
    {
     "name": "stdout",
     "output_type": "stream",
     "text": [
      "Batch 48, Loss: 3.1354\n"
     ]
    },
    {
     "name": "stderr",
     "output_type": "stream",
     "text": [
      "Streaming tracklets:  26%|███████████████▉                                             | 56/214 [03:31<13:28,  5.12s/it]"
     ]
    },
    {
     "name": "stdout",
     "output_type": "stream",
     "text": [
      "Batch 49, Loss: 1.6204\n"
     ]
    },
    {
     "name": "stderr",
     "output_type": "stream",
     "text": [
      "Streaming tracklets:  26%|███████████████▉                                             | 56/214 [03:34<12:55,  4.91s/it]"
     ]
    },
    {
     "name": "stdout",
     "output_type": "stream",
     "text": [
      "Batch 50, Loss: 1.6076\n"
     ]
    },
    {
     "name": "stderr",
     "output_type": "stream",
     "text": [
      "Streaming tracklets:  26%|███████████████▉                                             | 56/214 [03:37<12:37,  4.79s/it]"
     ]
    },
    {
     "name": "stdout",
     "output_type": "stream",
     "text": [
      "Batch 51, Loss: 1.5869\n"
     ]
    },
    {
     "name": "stderr",
     "output_type": "stream",
     "text": [
      "Streaming tracklets:  28%|█████████████████                                            | 60/214 [03:40<11:49,  4.61s/it]"
     ]
    },
    {
     "name": "stdout",
     "output_type": "stream",
     "text": [
      "Batch 52, Loss: 1.5591\n"
     ]
    },
    {
     "name": "stderr",
     "output_type": "stream",
     "text": [
      "Streaming tracklets:  28%|█████████████████                                            | 60/214 [03:43<11:31,  4.49s/it]"
     ]
    },
    {
     "name": "stdout",
     "output_type": "stream",
     "text": [
      "Batch 53, Loss: 2.6906\n"
     ]
    },
    {
     "name": "stderr",
     "output_type": "stream",
     "text": [
      "Streaming tracklets:  28%|█████████████████                                            | 60/214 [03:46<11:51,  4.62s/it]"
     ]
    },
    {
     "name": "stdout",
     "output_type": "stream",
     "text": [
      "Batch 54, Loss: 2.6612\n"
     ]
    },
    {
     "name": "stderr",
     "output_type": "stream",
     "text": [
      "Streaming tracklets:  28%|█████████████████                                            | 60/214 [03:50<12:03,  4.70s/it]"
     ]
    },
    {
     "name": "stdout",
     "output_type": "stream",
     "text": [
      "Batch 55, Loss: 2.6171\n"
     ]
    },
    {
     "name": "stderr",
     "output_type": "stream",
     "text": [
      "Streaming tracklets:  30%|██████████████████▌                                          | 65/214 [03:53<08:20,  3.36s/it]"
     ]
    },
    {
     "name": "stdout",
     "output_type": "stream",
     "text": [
      "Batch 56, Loss: 2.5624\n"
     ]
    },
    {
     "name": "stderr",
     "output_type": "stream",
     "text": [
      "Streaming tracklets:  30%|██████████████████▏                                          | 64/214 [03:56<11:29,  4.60s/it]"
     ]
    },
    {
     "name": "stdout",
     "output_type": "stream",
     "text": [
      "Batch 57, Loss: 2.6482\n"
     ]
    },
    {
     "name": "stderr",
     "output_type": "stream",
     "text": [
      "Streaming tracklets:  30%|██████████████████▏                                          | 64/214 [03:59<11:10,  4.47s/it]"
     ]
    },
    {
     "name": "stdout",
     "output_type": "stream",
     "text": [
      "Batch 58, Loss: 2.6350\n"
     ]
    },
    {
     "name": "stderr",
     "output_type": "stream",
     "text": [
      "Streaming tracklets:  30%|██████████████████▏                                          | 64/214 [04:02<10:52,  4.35s/it]"
     ]
    },
    {
     "name": "stdout",
     "output_type": "stream",
     "text": [
      "Batch 59, Loss: 2.5992\n"
     ]
    },
    {
     "name": "stderr",
     "output_type": "stream",
     "text": [
      "Streaming tracklets:  32%|███████████████████▍                                         | 68/214 [04:05<10:39,  4.38s/it]"
     ]
    },
    {
     "name": "stdout",
     "output_type": "stream",
     "text": [
      "Batch 60, Loss: 2.5465\n"
     ]
    },
    {
     "name": "stderr",
     "output_type": "stream",
     "text": [
      "Streaming tracklets:  32%|███████████████████▍                                         | 68/214 [04:09<11:20,  4.66s/it]"
     ]
    },
    {
     "name": "stdout",
     "output_type": "stream",
     "text": [
      "Batch 61, Loss: 3.7856\n"
     ]
    },
    {
     "name": "stderr",
     "output_type": "stream",
     "text": [
      "Streaming tracklets:  32%|███████████████████▍                                         | 68/214 [04:13<12:06,  4.98s/it]"
     ]
    },
    {
     "name": "stdout",
     "output_type": "stream",
     "text": [
      "Batch 62, Loss: 3.7602\n"
     ]
    },
    {
     "name": "stderr",
     "output_type": "stream",
     "text": [
      "Streaming tracklets:  32%|███████████████████▍                                         | 68/214 [04:18<13:11,  5.42s/it]"
     ]
    },
    {
     "name": "stdout",
     "output_type": "stream",
     "text": [
      "Batch 63, Loss: 3.7096\n"
     ]
    },
    {
     "name": "stderr",
     "output_type": "stream",
     "text": [
      "Streaming tracklets:  34%|████████████████████▌                                        | 72/214 [04:22<12:55,  5.46s/it]"
     ]
    },
    {
     "name": "stdout",
     "output_type": "stream",
     "text": [
      "Batch 64, Loss: 3.6359\n"
     ]
    },
    {
     "name": "stderr",
     "output_type": "stream",
     "text": [
      "Streaming tracklets:  34%|████████████████████▌                                        | 72/214 [04:26<13:05,  5.53s/it]"
     ]
    },
    {
     "name": "stdout",
     "output_type": "stream",
     "text": [
      "Batch 65, Loss: 1.8635\n"
     ]
    },
    {
     "name": "stderr",
     "output_type": "stream",
     "text": [
      "Streaming tracklets:  34%|████████████████████▌                                        | 72/214 [04:30<12:57,  5.47s/it]"
     ]
    },
    {
     "name": "stdout",
     "output_type": "stream",
     "text": [
      "Batch 66, Loss: 1.8495\n"
     ]
    },
    {
     "name": "stderr",
     "output_type": "stream",
     "text": [
      "Streaming tracklets:  34%|████████████████████▌                                        | 72/214 [04:34<12:47,  5.41s/it]"
     ]
    },
    {
     "name": "stdout",
     "output_type": "stream",
     "text": [
      "Batch 67, Loss: 1.8180\n"
     ]
    },
    {
     "name": "stderr",
     "output_type": "stream",
     "text": [
      "Streaming tracklets:  36%|█████████████████████▋                                       | 76/214 [04:37<12:40,  5.51s/it]"
     ]
    },
    {
     "name": "stdout",
     "output_type": "stream",
     "text": [
      "Batch 68, Loss: 1.7786\n"
     ]
    },
    {
     "name": "stderr",
     "output_type": "stream",
     "text": [
      "Streaming tracklets:  36%|█████████████████████▋                                       | 76/214 [04:41<12:20,  5.37s/it]"
     ]
    },
    {
     "name": "stdout",
     "output_type": "stream",
     "text": [
      "Batch 69, Loss: 2.4964\n"
     ]
    },
    {
     "name": "stderr",
     "output_type": "stream",
     "text": [
      "Streaming tracklets:  36%|█████████████████████▋                                       | 76/214 [04:44<12:17,  5.34s/it]"
     ]
    },
    {
     "name": "stdout",
     "output_type": "stream",
     "text": [
      "Batch 70, Loss: 2.4595\n"
     ]
    },
    {
     "name": "stderr",
     "output_type": "stream",
     "text": [
      "Streaming tracklets:  36%|█████████████████████▋                                       | 76/214 [04:48<12:04,  5.25s/it]"
     ]
    },
    {
     "name": "stdout",
     "output_type": "stream",
     "text": [
      "Batch 71, Loss: 2.3953\n"
     ]
    },
    {
     "name": "stderr",
     "output_type": "stream",
     "text": [
      "Streaming tracklets:  37%|██████████████████████▊                                      | 80/214 [04:51<11:29,  5.15s/it]"
     ]
    },
    {
     "name": "stdout",
     "output_type": "stream",
     "text": [
      "Batch 72, Loss: 2.3200\n"
     ]
    },
    {
     "name": "stderr",
     "output_type": "stream",
     "text": [
      "Streaming tracklets:  37%|██████████████████████▊                                      | 80/214 [04:55<11:20,  5.08s/it]"
     ]
    },
    {
     "name": "stdout",
     "output_type": "stream",
     "text": [
      "Batch 73, Loss: 1.4196\n"
     ]
    },
    {
     "name": "stderr",
     "output_type": "stream",
     "text": [
      "Streaming tracklets:  37%|██████████████████████▊                                      | 80/214 [04:58<11:04,  4.96s/it]"
     ]
    },
    {
     "name": "stdout",
     "output_type": "stream",
     "text": [
      "Batch 74, Loss: 1.3659\n"
     ]
    },
    {
     "name": "stderr",
     "output_type": "stream",
     "text": [
      "Streaming tracklets:  37%|██████████████████████▊                                      | 80/214 [05:01<10:51,  4.86s/it]"
     ]
    },
    {
     "name": "stdout",
     "output_type": "stream",
     "text": [
      "Batch 75, Loss: 1.2958\n"
     ]
    },
    {
     "name": "stderr",
     "output_type": "stream",
     "text": [
      "Streaming tracklets:  39%|███████████████████████▉                                     | 84/214 [05:05<10:49,  5.00s/it]"
     ]
    },
    {
     "name": "stdout",
     "output_type": "stream",
     "text": [
      "Batch 76, Loss: 1.2276\n"
     ]
    },
    {
     "name": "stderr",
     "output_type": "stream",
     "text": [
      "Streaming tracklets:  39%|███████████████████████▉                                     | 84/214 [05:08<10:27,  4.83s/it]"
     ]
    },
    {
     "name": "stdout",
     "output_type": "stream",
     "text": [
      "Batch 77, Loss: 3.1181\n"
     ]
    },
    {
     "name": "stderr",
     "output_type": "stream",
     "text": [
      "Streaming tracklets:  39%|███████████████████████▉                                     | 84/214 [05:11<10:43,  4.95s/it]"
     ]
    },
    {
     "name": "stdout",
     "output_type": "stream",
     "text": [
      "Batch 78, Loss: 3.0877\n"
     ]
    },
    {
     "name": "stderr",
     "output_type": "stream",
     "text": [
      "Streaming tracklets:  39%|███████████████████████▉                                     | 84/214 [05:15<10:57,  5.06s/it]"
     ]
    },
    {
     "name": "stdout",
     "output_type": "stream",
     "text": [
      "Batch 79, Loss: 3.0297\n"
     ]
    },
    {
     "name": "stderr",
     "output_type": "stream",
     "text": [
      "Streaming tracklets:  41%|█████████████████████████                                    | 88/214 [05:19<10:29,  5.00s/it]"
     ]
    },
    {
     "name": "stdout",
     "output_type": "stream",
     "text": [
      "Batch 80, Loss: 2.9326\n"
     ]
    },
    {
     "name": "stderr",
     "output_type": "stream",
     "text": [
      "Streaming tracklets:  41%|█████████████████████████                                    | 88/214 [05:23<11:05,  5.28s/it]"
     ]
    },
    {
     "name": "stdout",
     "output_type": "stream",
     "text": [
      "Batch 81, Loss: 0.4082\n"
     ]
    },
    {
     "name": "stderr",
     "output_type": "stream",
     "text": [
      "Streaming tracklets:  41%|█████████████████████████                                    | 88/214 [05:27<11:12,  5.34s/it]"
     ]
    },
    {
     "name": "stdout",
     "output_type": "stream",
     "text": [
      "Batch 82, Loss: 0.3874\n"
     ]
    },
    {
     "name": "stderr",
     "output_type": "stream",
     "text": [
      "Streaming tracklets:  41%|█████████████████████████                                    | 88/214 [05:30<10:51,  5.17s/it]"
     ]
    },
    {
     "name": "stdout",
     "output_type": "stream",
     "text": [
      "Batch 83, Loss: 0.3579\n"
     ]
    },
    {
     "name": "stderr",
     "output_type": "stream",
     "text": [
      "Streaming tracklets:  43%|██████████████████████████▏                                  | 92/214 [05:34<10:51,  5.34s/it]"
     ]
    },
    {
     "name": "stdout",
     "output_type": "stream",
     "text": [
      "Batch 84, Loss: 0.3184\n"
     ]
    },
    {
     "name": "stderr",
     "output_type": "stream",
     "text": [
      "Streaming tracklets:  43%|██████████████████████████▏                                  | 92/214 [05:38<10:30,  5.17s/it]"
     ]
    },
    {
     "name": "stdout",
     "output_type": "stream",
     "text": [
      "Batch 85, Loss: 2.3765\n"
     ]
    },
    {
     "name": "stderr",
     "output_type": "stream",
     "text": [
      "Streaming tracklets:  43%|██████████████████████████▏                                  | 92/214 [05:41<10:14,  5.04s/it]"
     ]
    },
    {
     "name": "stdout",
     "output_type": "stream",
     "text": [
      "Batch 86, Loss: 2.3563\n"
     ]
    },
    {
     "name": "stderr",
     "output_type": "stream",
     "text": [
      "Streaming tracklets:  43%|██████████████████████████▏                                  | 92/214 [05:44<10:00,  4.92s/it]"
     ]
    },
    {
     "name": "stdout",
     "output_type": "stream",
     "text": [
      "Batch 87, Loss: 2.2944\n"
     ]
    },
    {
     "name": "stderr",
     "output_type": "stream",
     "text": [
      "Streaming tracklets:  45%|███████████████████████████▎                                 | 96/214 [05:47<09:42,  4.94s/it]"
     ]
    },
    {
     "name": "stdout",
     "output_type": "stream",
     "text": [
      "Batch 88, Loss: 2.2172\n"
     ]
    },
    {
     "name": "stderr",
     "output_type": "stream",
     "text": [
      "Streaming tracklets:  45%|███████████████████████████▎                                 | 96/214 [05:50<09:31,  4.84s/it]"
     ]
    },
    {
     "name": "stdout",
     "output_type": "stream",
     "text": [
      "Batch 89, Loss: 0.6349\n"
     ]
    },
    {
     "name": "stderr",
     "output_type": "stream",
     "text": [
      "Streaming tracklets:  45%|███████████████████████████▎                                 | 96/214 [05:54<09:44,  4.95s/it]"
     ]
    },
    {
     "name": "stdout",
     "output_type": "stream",
     "text": [
      "Batch 90, Loss: 0.6312\n"
     ]
    },
    {
     "name": "stderr",
     "output_type": "stream",
     "text": [
      "Streaming tracklets:  45%|███████████████████████████▎                                 | 96/214 [05:58<10:03,  5.11s/it]"
     ]
    },
    {
     "name": "stdout",
     "output_type": "stream",
     "text": [
      "Batch 91, Loss: 0.6226\n"
     ]
    },
    {
     "name": "stderr",
     "output_type": "stream",
     "text": [
      "Streaming tracklets:  47%|████████████████████████████                                | 100/214 [06:01<08:20,  4.39s/it]"
     ]
    },
    {
     "name": "stdout",
     "output_type": "stream",
     "text": [
      "Batch 92, Loss: 0.6104\n"
     ]
    },
    {
     "name": "stderr",
     "output_type": "stream",
     "text": [
      "Streaming tracklets:  47%|████████████████████████████                                | 100/214 [06:04<07:49,  4.12s/it]"
     ]
    },
    {
     "name": "stdout",
     "output_type": "stream",
     "text": [
      "Batch 93, Loss: 3.0509\n"
     ]
    },
    {
     "name": "stderr",
     "output_type": "stream",
     "text": [
      "Streaming tracklets:  47%|████████████████████████████                                | 100/214 [06:06<07:13,  3.80s/it]"
     ]
    },
    {
     "name": "stdout",
     "output_type": "stream",
     "text": [
      "Batch 94, Loss: 3.0020\n"
     ]
    },
    {
     "name": "stderr",
     "output_type": "stream",
     "text": [
      "Streaming tracklets:  47%|████████████████████████████                                | 100/214 [06:09<07:05,  3.73s/it]"
     ]
    },
    {
     "name": "stdout",
     "output_type": "stream",
     "text": [
      "Batch 95, Loss: 2.9457\n"
     ]
    },
    {
     "name": "stderr",
     "output_type": "stream",
     "text": [
      "Streaming tracklets:  49%|█████████████████████████████▏                              | 104/214 [06:12<07:08,  3.90s/it]"
     ]
    },
    {
     "name": "stdout",
     "output_type": "stream",
     "text": [
      "Batch 96, Loss: 2.8916\n"
     ]
    },
    {
     "name": "stderr",
     "output_type": "stream",
     "text": [
      "Streaming tracklets:  49%|█████████████████████████████▏                              | 104/214 [06:18<08:23,  4.57s/it]"
     ]
    },
    {
     "name": "stdout",
     "output_type": "stream",
     "text": [
      "Batch 97, Loss: 2.5384\n"
     ]
    },
    {
     "name": "stderr",
     "output_type": "stream",
     "text": [
      "Streaming tracklets:  49%|█████████████████████████████▏                              | 104/214 [06:22<09:00,  4.91s/it]"
     ]
    },
    {
     "name": "stdout",
     "output_type": "stream",
     "text": [
      "Batch 98, Loss: 2.4955\n"
     ]
    },
    {
     "name": "stderr",
     "output_type": "stream",
     "text": [
      "Streaming tracklets:  49%|█████████████████████████████▏                              | 104/214 [06:26<09:05,  4.96s/it]"
     ]
    },
    {
     "name": "stdout",
     "output_type": "stream",
     "text": [
      "Batch 99, Loss: 2.4459\n"
     ]
    },
    {
     "name": "stderr",
     "output_type": "stream",
     "text": [
      "Streaming tracklets:  50%|██████████████████████████████▎                             | 108/214 [06:30<09:23,  5.32s/it]"
     ]
    },
    {
     "name": "stdout",
     "output_type": "stream",
     "text": [
      "Batch 100, Loss: 2.3833\n"
     ]
    },
    {
     "name": "stderr",
     "output_type": "stream",
     "text": [
      "Streaming tracklets:  50%|██████████████████████████████▎                             | 108/214 [06:33<08:54,  5.04s/it]"
     ]
    },
    {
     "name": "stdout",
     "output_type": "stream",
     "text": [
      "Batch 101, Loss: 2.5916\n"
     ]
    },
    {
     "name": "stderr",
     "output_type": "stream",
     "text": [
      "Streaming tracklets:  50%|██████████████████████████████▎                             | 108/214 [06:37<09:10,  5.20s/it]"
     ]
    },
    {
     "name": "stdout",
     "output_type": "stream",
     "text": [
      "Batch 102, Loss: 2.5351\n"
     ]
    },
    {
     "name": "stderr",
     "output_type": "stream",
     "text": [
      "Streaming tracklets:  52%|███████████████████████████████                             | 111/214 [06:41<04:41,  2.74s/it]"
     ]
    },
    {
     "name": "stdout",
     "output_type": "stream",
     "text": [
      "Batch 103, Loss: 2.4841\n"
     ]
    },
    {
     "name": "stderr",
     "output_type": "stream",
     "text": [
      "Streaming tracklets:  52%|███████████████████████████████▍                            | 112/214 [06:46<09:38,  5.67s/it]"
     ]
    },
    {
     "name": "stdout",
     "output_type": "stream",
     "text": [
      "Batch 104, Loss: 2.4155\n"
     ]
    },
    {
     "name": "stderr",
     "output_type": "stream",
     "text": [
      "Streaming tracklets:  52%|███████████████████████████████▍                            | 112/214 [06:50<09:47,  5.76s/it]"
     ]
    },
    {
     "name": "stdout",
     "output_type": "stream",
     "text": [
      "Batch 105, Loss: 2.5789\n"
     ]
    },
    {
     "name": "stderr",
     "output_type": "stream",
     "text": [
      "Streaming tracklets:  52%|███████████████████████████████▍                            | 112/214 [06:54<09:54,  5.83s/it]"
     ]
    },
    {
     "name": "stdout",
     "output_type": "stream",
     "text": [
      "Batch 106, Loss: 2.4912\n"
     ]
    },
    {
     "name": "stderr",
     "output_type": "stream",
     "text": [
      "Streaming tracklets:  54%|████████████████████████████████▏                           | 115/214 [06:59<05:00,  3.03s/it]"
     ]
    },
    {
     "name": "stdout",
     "output_type": "stream",
     "text": [
      "Batch 107, Loss: 2.3896\n"
     ]
    },
    {
     "name": "stderr",
     "output_type": "stream",
     "text": [
      "Streaming tracklets:  54%|████████████████████████████████▌                           | 116/214 [07:03<09:51,  6.03s/it]"
     ]
    },
    {
     "name": "stdout",
     "output_type": "stream",
     "text": [
      "Batch 108, Loss: 2.2723\n"
     ]
    },
    {
     "name": "stderr",
     "output_type": "stream",
     "text": [
      "Streaming tracklets:  56%|█████████████████████████████████▎                          | 119/214 [07:08<04:46,  3.02s/it]"
     ]
    },
    {
     "name": "stdout",
     "output_type": "stream",
     "text": [
      "Batch 109, Loss: 2.1433\n"
     ]
    },
    {
     "name": "stderr",
     "output_type": "stream",
     "text": [
      "Streaming tracklets:  54%|████████████████████████████████▌                           | 116/214 [07:12<09:44,  5.97s/it]"
     ]
    },
    {
     "name": "stdout",
     "output_type": "stream",
     "text": [
      "Batch 110, Loss: 2.0983\n"
     ]
    },
    {
     "name": "stderr",
     "output_type": "stream",
     "text": [
      "Streaming tracklets:  54%|████████████████████████████████▌                           | 116/214 [07:16<09:34,  5.86s/it]"
     ]
    },
    {
     "name": "stdout",
     "output_type": "stream",
     "text": [
      "Batch 111, Loss: 2.0441\n"
     ]
    },
    {
     "name": "stderr",
     "output_type": "stream",
     "text": [
      "Streaming tracklets:  56%|█████████████████████████████████▋                          | 120/214 [07:20<08:57,  5.72s/it]"
     ]
    },
    {
     "name": "stdout",
     "output_type": "stream",
     "text": [
      "Batch 112, Loss: 1.9977\n"
     ]
    },
    {
     "name": "stderr",
     "output_type": "stream",
     "text": [
      "Streaming tracklets:  56%|█████████████████████████████████▋                          | 120/214 [07:24<08:56,  5.71s/it]"
     ]
    },
    {
     "name": "stdout",
     "output_type": "stream",
     "text": [
      "Batch 113, Loss: 2.0044\n"
     ]
    },
    {
     "name": "stderr",
     "output_type": "stream",
     "text": [
      "Streaming tracklets:  56%|█████████████████████████████████▋                          | 120/214 [07:27<08:41,  5.55s/it]"
     ]
    },
    {
     "name": "stdout",
     "output_type": "stream",
     "text": [
      "Batch 114, Loss: 1.9778\n"
     ]
    },
    {
     "name": "stderr",
     "output_type": "stream",
     "text": [
      "Streaming tracklets:  56%|█████████████████████████████████▋                          | 120/214 [07:31<08:24,  5.37s/it]"
     ]
    },
    {
     "name": "stdout",
     "output_type": "stream",
     "text": [
      "Batch 115, Loss: 1.9402\n"
     ]
    },
    {
     "name": "stderr",
     "output_type": "stream",
     "text": [
      "Streaming tracklets:  58%|██████████████████████████████████▊                         | 124/214 [07:34<07:47,  5.19s/it]"
     ]
    },
    {
     "name": "stdout",
     "output_type": "stream",
     "text": [
      "Batch 116, Loss: 1.8899\n"
     ]
    },
    {
     "name": "stderr",
     "output_type": "stream",
     "text": [
      "Streaming tracklets:  58%|██████████████████████████████████▊                         | 124/214 [07:37<07:36,  5.08s/it]"
     ]
    },
    {
     "name": "stdout",
     "output_type": "stream",
     "text": [
      "Batch 117, Loss: 2.1537\n"
     ]
    },
    {
     "name": "stderr",
     "output_type": "stream",
     "text": [
      "Streaming tracklets:  58%|██████████████████████████████████▊                         | 124/214 [07:42<07:59,  5.33s/it]"
     ]
    },
    {
     "name": "stdout",
     "output_type": "stream",
     "text": [
      "Batch 118, Loss: 2.1363\n"
     ]
    },
    {
     "name": "stderr",
     "output_type": "stream",
     "text": [
      "Streaming tracklets:  58%|██████████████████████████████████▊                         | 124/214 [07:46<08:22,  5.58s/it]"
     ]
    },
    {
     "name": "stdout",
     "output_type": "stream",
     "text": [
      "Batch 119, Loss: 2.1151\n"
     ]
    },
    {
     "name": "stderr",
     "output_type": "stream",
     "text": [
      "Streaming tracklets:  60%|███████████████████████████████████▉                        | 128/214 [07:50<08:03,  5.62s/it]"
     ]
    },
    {
     "name": "stdout",
     "output_type": "stream",
     "text": [
      "Batch 120, Loss: 2.0892\n"
     ]
    },
    {
     "name": "stderr",
     "output_type": "stream",
     "text": [
      "Streaming tracklets:  60%|███████████████████████████████████▉                        | 128/214 [07:54<08:05,  5.64s/it]"
     ]
    },
    {
     "name": "stdout",
     "output_type": "stream",
     "text": [
      "Batch 121, Loss: 2.2548\n"
     ]
    },
    {
     "name": "stderr",
     "output_type": "stream",
     "text": [
      "Streaming tracklets:  60%|███████████████████████████████████▉                        | 128/214 [07:59<08:06,  5.66s/it]"
     ]
    },
    {
     "name": "stdout",
     "output_type": "stream",
     "text": [
      "Batch 122, Loss: 2.1957\n"
     ]
    },
    {
     "name": "stderr",
     "output_type": "stream",
     "text": [
      "Streaming tracklets:  60%|███████████████████████████████████▉                        | 128/214 [08:02<07:32,  5.27s/it]"
     ]
    },
    {
     "name": "stdout",
     "output_type": "stream",
     "text": [
      "Batch 123, Loss: 2.1251\n"
     ]
    },
    {
     "name": "stderr",
     "output_type": "stream",
     "text": [
      "Streaming tracklets:  62%|█████████████████████████████████████                       | 132/214 [08:06<07:28,  5.47s/it]"
     ]
    },
    {
     "name": "stdout",
     "output_type": "stream",
     "text": [
      "Batch 124, Loss: 2.0469\n"
     ]
    },
    {
     "name": "stderr",
     "output_type": "stream",
     "text": [
      "Streaming tracklets:  62%|█████████████████████████████████████                       | 132/214 [08:10<07:18,  5.35s/it]"
     ]
    },
    {
     "name": "stdout",
     "output_type": "stream",
     "text": [
      "Batch 125, Loss: 3.8112\n"
     ]
    },
    {
     "name": "stderr",
     "output_type": "stream",
     "text": [
      "Streaming tracklets:  62%|█████████████████████████████████████                       | 132/214 [08:13<07:16,  5.33s/it]"
     ]
    },
    {
     "name": "stdout",
     "output_type": "stream",
     "text": [
      "Batch 126, Loss: 3.6936\n"
     ]
    },
    {
     "name": "stderr",
     "output_type": "stream",
     "text": [
      "Streaming tracklets:  62%|█████████████████████████████████████                       | 132/214 [08:17<07:28,  5.47s/it]"
     ]
    },
    {
     "name": "stdout",
     "output_type": "stream",
     "text": [
      "Batch 127, Loss: 3.5268\n"
     ]
    },
    {
     "name": "stderr",
     "output_type": "stream",
     "text": [
      "Streaming tracklets:  63%|█████████████████████████████████████▊                      | 135/214 [08:22<03:37,  2.76s/it]"
     ]
    },
    {
     "name": "stdout",
     "output_type": "stream",
     "text": [
      "Batch 128, Loss: 3.3707\n"
     ]
    },
    {
     "name": "stderr",
     "output_type": "stream",
     "text": [
      "Streaming tracklets:  64%|██████████████████████████████████████▏                     | 136/214 [08:26<07:11,  5.53s/it]"
     ]
    },
    {
     "name": "stdout",
     "output_type": "stream",
     "text": [
      "Batch 129, Loss: 2.3057\n"
     ]
    },
    {
     "name": "stderr",
     "output_type": "stream",
     "text": [
      "Streaming tracklets:  64%|██████████████████████████████████████▏                     | 136/214 [08:30<07:08,  5.50s/it]"
     ]
    },
    {
     "name": "stdout",
     "output_type": "stream",
     "text": [
      "Batch 130, Loss: 2.1443\n"
     ]
    },
    {
     "name": "stderr",
     "output_type": "stream",
     "text": [
      "Streaming tracklets:  64%|██████████████████████████████████████▏                     | 136/214 [08:33<07:03,  5.43s/it]"
     ]
    },
    {
     "name": "stdout",
     "output_type": "stream",
     "text": [
      "Batch 131, Loss: 1.9868\n"
     ]
    },
    {
     "name": "stderr",
     "output_type": "stream",
     "text": [
      "Streaming tracklets:  65%|███████████████████████████████████████▎                    | 140/214 [08:37<06:52,  5.57s/it]"
     ]
    },
    {
     "name": "stdout",
     "output_type": "stream",
     "text": [
      "Batch 132, Loss: 1.8653\n"
     ]
    },
    {
     "name": "stderr",
     "output_type": "stream",
     "text": [
      "Streaming tracklets:  65%|███████████████████████████████████████▎                    | 140/214 [08:41<06:49,  5.53s/it]"
     ]
    },
    {
     "name": "stdout",
     "output_type": "stream",
     "text": [
      "Batch 133, Loss: 2.1116\n"
     ]
    },
    {
     "name": "stderr",
     "output_type": "stream",
     "text": [
      "Streaming tracklets:  65%|███████████████████████████████████████▎                    | 140/214 [08:45<06:48,  5.53s/it]"
     ]
    },
    {
     "name": "stdout",
     "output_type": "stream",
     "text": [
      "Batch 134, Loss: 2.1001\n"
     ]
    },
    {
     "name": "stderr",
     "output_type": "stream",
     "text": [
      "Streaming tracklets:  65%|███████████████████████████████████████▎                    | 140/214 [08:49<06:43,  5.45s/it]"
     ]
    },
    {
     "name": "stdout",
     "output_type": "stream",
     "text": [
      "Batch 135, Loss: 2.0907\n"
     ]
    },
    {
     "name": "stderr",
     "output_type": "stream",
     "text": [
      "Streaming tracklets:  67%|████████████████████████████████████████▎                   | 144/214 [08:52<06:16,  5.38s/it]"
     ]
    },
    {
     "name": "stdout",
     "output_type": "stream",
     "text": [
      "Batch 136, Loss: 2.0621\n"
     ]
    },
    {
     "name": "stderr",
     "output_type": "stream",
     "text": [
      "Streaming tracklets:  67%|████████████████████████████████████████▎                   | 144/214 [08:56<06:09,  5.28s/it]"
     ]
    },
    {
     "name": "stdout",
     "output_type": "stream",
     "text": [
      "Batch 137, Loss: 2.1588\n"
     ]
    },
    {
     "name": "stderr",
     "output_type": "stream",
     "text": [
      "Streaming tracklets:  67%|████████████████████████████████████████▎                   | 144/214 [09:00<06:05,  5.21s/it]"
     ]
    },
    {
     "name": "stdout",
     "output_type": "stream",
     "text": [
      "Batch 138, Loss: 2.1206\n"
     ]
    },
    {
     "name": "stderr",
     "output_type": "stream",
     "text": [
      "Streaming tracklets:  67%|████████████████████████████████████████▎                   | 144/214 [09:03<06:06,  5.24s/it]"
     ]
    },
    {
     "name": "stdout",
     "output_type": "stream",
     "text": [
      "Batch 139, Loss: 2.0660\n"
     ]
    },
    {
     "name": "stderr",
     "output_type": "stream",
     "text": [
      "Streaming tracklets:  69%|█████████████████████████████████████████▍                  | 148/214 [09:07<05:51,  5.32s/it]"
     ]
    },
    {
     "name": "stdout",
     "output_type": "stream",
     "text": [
      "Batch 140, Loss: 2.0016\n"
     ]
    },
    {
     "name": "stderr",
     "output_type": "stream",
     "text": [
      "Streaming tracklets:  69%|█████████████████████████████████████████▍                  | 148/214 [09:11<05:51,  5.32s/it]"
     ]
    },
    {
     "name": "stdout",
     "output_type": "stream",
     "text": [
      "Batch 141, Loss: 2.9050\n"
     ]
    },
    {
     "name": "stderr",
     "output_type": "stream",
     "text": [
      "Streaming tracklets:  69%|█████████████████████████████████████████▍                  | 148/214 [09:14<05:53,  5.36s/it]"
     ]
    },
    {
     "name": "stdout",
     "output_type": "stream",
     "text": [
      "Batch 142, Loss: 2.8509\n"
     ]
    },
    {
     "name": "stderr",
     "output_type": "stream",
     "text": [
      "Streaming tracklets:  69%|█████████████████████████████████████████▍                  | 148/214 [09:18<05:51,  5.32s/it]"
     ]
    },
    {
     "name": "stdout",
     "output_type": "stream",
     "text": [
      "Batch 143, Loss: 2.7562\n"
     ]
    },
    {
     "name": "stderr",
     "output_type": "stream",
     "text": [
      "Streaming tracklets:  71%|██████████████████████████████████████████▌                 | 152/214 [09:22<05:32,  5.36s/it]"
     ]
    },
    {
     "name": "stdout",
     "output_type": "stream",
     "text": [
      "Batch 144, Loss: 2.6505\n"
     ]
    },
    {
     "name": "stderr",
     "output_type": "stream",
     "text": [
      "Streaming tracklets:  71%|██████████████████████████████████████████▌                 | 152/214 [09:26<05:34,  5.39s/it]"
     ]
    },
    {
     "name": "stdout",
     "output_type": "stream",
     "text": [
      "Batch 145, Loss: 1.4457\n"
     ]
    },
    {
     "name": "stderr",
     "output_type": "stream",
     "text": [
      "Streaming tracklets:  71%|██████████████████████████████████████████▌                 | 152/214 [09:30<05:35,  5.41s/it]"
     ]
    },
    {
     "name": "stdout",
     "output_type": "stream",
     "text": [
      "Batch 146, Loss: 1.4020\n"
     ]
    },
    {
     "name": "stderr",
     "output_type": "stream",
     "text": [
      "Streaming tracklets:  71%|██████████████████████████████████████████▌                 | 152/214 [09:34<05:41,  5.51s/it]"
     ]
    },
    {
     "name": "stdout",
     "output_type": "stream",
     "text": [
      "Batch 147, Loss: 1.2899\n"
     ]
    },
    {
     "name": "stderr",
     "output_type": "stream",
     "text": [
      "Streaming tracklets:  73%|███████████████████████████████████████████▋                | 156/214 [09:37<05:15,  5.44s/it]"
     ]
    },
    {
     "name": "stdout",
     "output_type": "stream",
     "text": [
      "Batch 148, Loss: 1.1975\n"
     ]
    },
    {
     "name": "stderr",
     "output_type": "stream",
     "text": [
      "Streaming tracklets:  73%|███████████████████████████████████████████▋                | 156/214 [09:41<05:15,  5.44s/it]"
     ]
    },
    {
     "name": "stdout",
     "output_type": "stream",
     "text": [
      "Batch 149, Loss: 1.6711\n"
     ]
    },
    {
     "name": "stderr",
     "output_type": "stream",
     "text": [
      "Streaming tracklets:  73%|███████████████████████████████████████████▋                | 156/214 [09:44<05:09,  5.33s/it]"
     ]
    },
    {
     "name": "stdout",
     "output_type": "stream",
     "text": [
      "Batch 150, Loss: 1.5609\n"
     ]
    },
    {
     "name": "stderr",
     "output_type": "stream",
     "text": [
      "Streaming tracklets:  73%|███████████████████████████████████████████▋                | 156/214 [09:48<05:06,  5.29s/it]"
     ]
    },
    {
     "name": "stdout",
     "output_type": "stream",
     "text": [
      "Batch 151, Loss: 1.4115\n"
     ]
    },
    {
     "name": "stderr",
     "output_type": "stream",
     "text": [
      "Streaming tracklets:  75%|████████████████████████████████████████████▊               | 160/214 [09:52<04:45,  5.29s/it]"
     ]
    },
    {
     "name": "stdout",
     "output_type": "stream",
     "text": [
      "Batch 152, Loss: 1.2409\n"
     ]
    },
    {
     "name": "stderr",
     "output_type": "stream",
     "text": [
      "Streaming tracklets:  75%|████████████████████████████████████████████▊               | 160/214 [09:56<04:47,  5.32s/it]"
     ]
    },
    {
     "name": "stdout",
     "output_type": "stream",
     "text": [
      "Batch 153, Loss: 2.3278\n"
     ]
    },
    {
     "name": "stderr",
     "output_type": "stream",
     "text": [
      "Streaming tracklets:  75%|████████████████████████████████████████████▊               | 160/214 [09:59<04:50,  5.38s/it]"
     ]
    },
    {
     "name": "stdout",
     "output_type": "stream",
     "text": [
      "Batch 154, Loss: 2.2852\n"
     ]
    },
    {
     "name": "stderr",
     "output_type": "stream",
     "text": [
      "Streaming tracklets:  75%|████████████████████████████████████████████▊               | 160/214 [10:03<04:50,  5.39s/it]"
     ]
    },
    {
     "name": "stdout",
     "output_type": "stream",
     "text": [
      "Batch 155, Loss: 2.2421\n"
     ]
    },
    {
     "name": "stderr",
     "output_type": "stream",
     "text": [
      "Streaming tracklets:  77%|██████████████████████████████████████████████▎             | 165/214 [10:07<03:09,  3.87s/it]"
     ]
    },
    {
     "name": "stdout",
     "output_type": "stream",
     "text": [
      "Batch 156, Loss: 2.1634\n"
     ]
    },
    {
     "name": "stderr",
     "output_type": "stream",
     "text": [
      "Streaming tracklets:  77%|██████████████████████████████████████████████▎             | 165/214 [10:11<03:08,  3.84s/it]"
     ]
    },
    {
     "name": "stdout",
     "output_type": "stream",
     "text": [
      "Batch 157, Loss: 2.3377\n"
     ]
    },
    {
     "name": "stderr",
     "output_type": "stream",
     "text": [
      "Streaming tracklets:  77%|██████████████████████████████████████████████▎             | 165/214 [10:14<03:01,  3.71s/it]"
     ]
    },
    {
     "name": "stdout",
     "output_type": "stream",
     "text": [
      "Batch 158, Loss: 2.2160\n"
     ]
    },
    {
     "name": "stderr",
     "output_type": "stream",
     "text": [
      "Streaming tracklets:  77%|██████████████████████████████████████████████▎             | 165/214 [10:17<02:57,  3.63s/it]"
     ]
    },
    {
     "name": "stdout",
     "output_type": "stream",
     "text": [
      "Batch 159, Loss: 2.1328\n"
     ]
    },
    {
     "name": "stderr",
     "output_type": "stream",
     "text": [
      "Streaming tracklets:  79%|███████████████████████████████████████████████             | 168/214 [10:20<03:55,  5.11s/it]"
     ]
    },
    {
     "name": "stdout",
     "output_type": "stream",
     "text": [
      "Batch 160, Loss: 2.0706\n"
     ]
    },
    {
     "name": "stderr",
     "output_type": "stream",
     "text": [
      "Streaming tracklets:  79%|███████████████████████████████████████████████             | 168/214 [10:24<03:48,  4.97s/it]"
     ]
    },
    {
     "name": "stdout",
     "output_type": "stream",
     "text": [
      "Batch 161, Loss: 4.3204\n"
     ]
    },
    {
     "name": "stderr",
     "output_type": "stream",
     "text": [
      "Streaming tracklets:  79%|███████████████████████████████████████████████             | 168/214 [10:27<03:53,  5.07s/it]"
     ]
    },
    {
     "name": "stdout",
     "output_type": "stream",
     "text": [
      "Batch 162, Loss: 4.2762\n"
     ]
    },
    {
     "name": "stderr",
     "output_type": "stream",
     "text": [
      "Streaming tracklets:  79%|███████████████████████████████████████████████             | 168/214 [10:31<03:52,  5.04s/it]"
     ]
    },
    {
     "name": "stdout",
     "output_type": "stream",
     "text": [
      "Batch 163, Loss: 4.1937\n"
     ]
    },
    {
     "name": "stderr",
     "output_type": "stream",
     "text": [
      "Streaming tracklets:  80%|████████████████████████████████████████████████▏           | 172/214 [10:34<03:34,  5.11s/it]"
     ]
    },
    {
     "name": "stdout",
     "output_type": "stream",
     "text": [
      "Batch 164, Loss: 4.0805\n"
     ]
    },
    {
     "name": "stderr",
     "output_type": "stream",
     "text": [
      "Streaming tracklets:  80%|████████████████████████████████████████████████▏           | 172/214 [10:37<03:26,  4.92s/it]"
     ]
    },
    {
     "name": "stdout",
     "output_type": "stream",
     "text": [
      "Batch 165, Loss: 1.2246\n"
     ]
    },
    {
     "name": "stderr",
     "output_type": "stream",
     "text": [
      "Streaming tracklets:  80%|████████████████████████████████████████████████▏           | 172/214 [10:40<03:22,  4.82s/it]"
     ]
    },
    {
     "name": "stdout",
     "output_type": "stream",
     "text": [
      "Batch 166, Loss: 1.2135\n"
     ]
    },
    {
     "name": "stderr",
     "output_type": "stream",
     "text": [
      "Streaming tracklets:  80%|████████████████████████████████████████████████▏           | 172/214 [10:43<03:21,  4.79s/it]"
     ]
    },
    {
     "name": "stdout",
     "output_type": "stream",
     "text": [
      "Batch 167, Loss: 1.1902\n"
     ]
    },
    {
     "name": "stderr",
     "output_type": "stream",
     "text": [
      "Streaming tracklets:  82%|█████████████████████████████████████████████████▎          | 176/214 [10:47<02:59,  4.72s/it]"
     ]
    },
    {
     "name": "stdout",
     "output_type": "stream",
     "text": [
      "Batch 168, Loss: 1.1600\n"
     ]
    },
    {
     "name": "stderr",
     "output_type": "stream",
     "text": [
      "Streaming tracklets:  82%|█████████████████████████████████████████████████▎          | 176/214 [10:51<03:03,  4.84s/it]"
     ]
    },
    {
     "name": "stdout",
     "output_type": "stream",
     "text": [
      "Batch 169, Loss: 1.0510\n"
     ]
    },
    {
     "name": "stderr",
     "output_type": "stream",
     "text": [
      "Streaming tracklets:  82%|█████████████████████████████████████████████████▎          | 176/214 [10:55<03:04,  4.86s/it]"
     ]
    },
    {
     "name": "stdout",
     "output_type": "stream",
     "text": [
      "Batch 170, Loss: 1.0223\n"
     ]
    },
    {
     "name": "stderr",
     "output_type": "stream",
     "text": [
      "Streaming tracklets:  82%|█████████████████████████████████████████████████▎          | 176/214 [10:57<02:53,  4.57s/it]"
     ]
    },
    {
     "name": "stdout",
     "output_type": "stream",
     "text": [
      "Batch 171, Loss: 0.9685\n"
     ]
    },
    {
     "name": "stderr",
     "output_type": "stream",
     "text": [
      "Streaming tracklets:  84%|██████████████████████████████████████████████████▍         | 180/214 [11:00<02:37,  4.63s/it]"
     ]
    },
    {
     "name": "stdout",
     "output_type": "stream",
     "text": [
      "Batch 172, Loss: 0.9037\n"
     ]
    },
    {
     "name": "stderr",
     "output_type": "stream",
     "text": [
      "Streaming tracklets:  84%|██████████████████████████████████████████████████▍         | 180/214 [11:03<02:33,  4.50s/it]"
     ]
    },
    {
     "name": "stdout",
     "output_type": "stream",
     "text": [
      "Batch 173, Loss: 2.7954\n"
     ]
    },
    {
     "name": "stderr",
     "output_type": "stream",
     "text": [
      "Streaming tracklets:  84%|██████████████████████████████████████████████████▍         | 180/214 [11:07<02:36,  4.59s/it]"
     ]
    },
    {
     "name": "stdout",
     "output_type": "stream",
     "text": [
      "Batch 174, Loss: 2.7438\n"
     ]
    },
    {
     "name": "stderr",
     "output_type": "stream",
     "text": [
      "Streaming tracklets:  84%|██████████████████████████████████████████████████▍         | 180/214 [11:10<02:40,  4.73s/it]"
     ]
    },
    {
     "name": "stdout",
     "output_type": "stream",
     "text": [
      "Batch 175, Loss: 2.6700\n"
     ]
    },
    {
     "name": "stderr",
     "output_type": "stream",
     "text": [
      "Streaming tracklets:  86%|███████████████████████████████████████████████████▌        | 184/214 [11:13<02:25,  4.86s/it]"
     ]
    },
    {
     "name": "stdout",
     "output_type": "stream",
     "text": [
      "Batch 176, Loss: 2.5841\n"
     ]
    },
    {
     "name": "stderr",
     "output_type": "stream",
     "text": [
      "Streaming tracklets:  86%|███████████████████████████████████████████████████▌        | 184/214 [11:16<02:20,  4.68s/it]"
     ]
    },
    {
     "name": "stdout",
     "output_type": "stream",
     "text": [
      "Batch 177, Loss: 2.0775\n"
     ]
    },
    {
     "name": "stderr",
     "output_type": "stream",
     "text": [
      "Streaming tracklets:  86%|███████████████████████████████████████████████████▌        | 184/214 [11:19<02:13,  4.44s/it]"
     ]
    },
    {
     "name": "stdout",
     "output_type": "stream",
     "text": [
      "Batch 178, Loss: 1.9737\n"
     ]
    },
    {
     "name": "stderr",
     "output_type": "stream",
     "text": [
      "Streaming tracklets:  86%|███████████████████████████████████████████████████▌        | 184/214 [11:21<02:06,  4.23s/it]"
     ]
    },
    {
     "name": "stdout",
     "output_type": "stream",
     "text": [
      "Batch 179, Loss: 1.8865\n"
     ]
    },
    {
     "name": "stderr",
     "output_type": "stream",
     "text": [
      "Streaming tracklets:  88%|████████████████████████████████████████████████████▋       | 188/214 [11:24<01:32,  3.56s/it]"
     ]
    },
    {
     "name": "stdout",
     "output_type": "stream",
     "text": [
      "Batch 180, Loss: 1.8036\n"
     ]
    },
    {
     "name": "stderr",
     "output_type": "stream",
     "text": [
      "Streaming tracklets:  88%|████████████████████████████████████████████████████▋       | 188/214 [11:26<01:31,  3.50s/it]"
     ]
    },
    {
     "name": "stdout",
     "output_type": "stream",
     "text": [
      "Batch 181, Loss: 1.8177\n"
     ]
    },
    {
     "name": "stderr",
     "output_type": "stream",
     "text": [
      "Streaming tracklets:  88%|████████████████████████████████████████████████████▋       | 188/214 [11:29<01:32,  3.54s/it]"
     ]
    },
    {
     "name": "stdout",
     "output_type": "stream",
     "text": [
      "Batch 182, Loss: 1.7929\n"
     ]
    },
    {
     "name": "stderr",
     "output_type": "stream",
     "text": [
      "Streaming tracklets:  88%|████████████████████████████████████████████████████▋       | 188/214 [11:32<01:32,  3.54s/it]"
     ]
    },
    {
     "name": "stdout",
     "output_type": "stream",
     "text": [
      "Batch 183, Loss: 1.7349\n"
     ]
    },
    {
     "name": "stderr",
     "output_type": "stream",
     "text": [
      "Streaming tracklets:  90%|█████████████████████████████████████████████████████▊      | 192/214 [11:35<01:28,  4.03s/it]"
     ]
    },
    {
     "name": "stdout",
     "output_type": "stream",
     "text": [
      "Batch 184, Loss: 1.6798\n"
     ]
    },
    {
     "name": "stderr",
     "output_type": "stream",
     "text": [
      "Streaming tracklets:  90%|█████████████████████████████████████████████████████▊      | 192/214 [11:37<01:25,  3.91s/it]"
     ]
    },
    {
     "name": "stdout",
     "output_type": "stream",
     "text": [
      "Batch 185, Loss: 1.7044\n"
     ]
    },
    {
     "name": "stderr",
     "output_type": "stream",
     "text": [
      "Streaming tracklets:  91%|██████████████████████████████████████████████████████▍     | 194/214 [11:40<00:53,  2.66s/it]"
     ]
    },
    {
     "name": "stdout",
     "output_type": "stream",
     "text": [
      "Batch 186, Loss: 1.6004\n"
     ]
    },
    {
     "name": "stderr",
     "output_type": "stream",
     "text": [
      "Streaming tracklets:  90%|█████████████████████████████████████████████████████▊      | 192/214 [11:44<01:29,  4.09s/it]"
     ]
    },
    {
     "name": "stdout",
     "output_type": "stream",
     "text": [
      "Batch 187, Loss: 1.4819\n"
     ]
    },
    {
     "name": "stderr",
     "output_type": "stream",
     "text": [
      "Streaming tracklets:  91%|██████████████████████████████████████████████████████▍     | 194/214 [11:47<00:57,  2.89s/it]"
     ]
    },
    {
     "name": "stdout",
     "output_type": "stream",
     "text": [
      "Batch 188, Loss: 1.3693\n"
     ]
    },
    {
     "name": "stderr",
     "output_type": "stream",
     "text": [
      "Streaming tracklets:  92%|██████████████████████████████████████████████████████▉     | 196/214 [11:52<01:23,  4.66s/it]"
     ]
    },
    {
     "name": "stdout",
     "output_type": "stream",
     "text": [
      "Batch 189, Loss: 2.2376\n"
     ]
    },
    {
     "name": "stderr",
     "output_type": "stream",
     "text": [
      "Streaming tracklets:  92%|██████████████████████████████████████████████████████▉     | 196/214 [11:55<01:26,  4.79s/it]"
     ]
    },
    {
     "name": "stdout",
     "output_type": "stream",
     "text": [
      "Batch 190, Loss: 2.1916\n"
     ]
    },
    {
     "name": "stderr",
     "output_type": "stream",
     "text": [
      "Streaming tracklets:  92%|██████████████████████████████████████████████████████▉     | 196/214 [11:59<01:29,  4.98s/it]"
     ]
    },
    {
     "name": "stdout",
     "output_type": "stream",
     "text": [
      "Batch 191, Loss: 2.1370\n"
     ]
    },
    {
     "name": "stderr",
     "output_type": "stream",
     "text": [
      "Streaming tracklets:  93%|████████████████████████████████████████████████████████    | 200/214 [12:03<01:13,  5.22s/it]"
     ]
    },
    {
     "name": "stdout",
     "output_type": "stream",
     "text": [
      "Batch 192, Loss: 2.0715\n"
     ]
    },
    {
     "name": "stderr",
     "output_type": "stream",
     "text": [
      "Streaming tracklets:  94%|████████████████████████████████████████████████████████▎   | 201/214 [12:07<00:48,  3.76s/it]"
     ]
    },
    {
     "name": "stdout",
     "output_type": "stream",
     "text": [
      "Batch 193, Loss: 3.1678\n"
     ]
    },
    {
     "name": "stderr",
     "output_type": "stream",
     "text": [
      "Streaming tracklets:  94%|████████████████████████████████████████████████████████▎   | 201/214 [12:10<00:46,  3.59s/it]"
     ]
    },
    {
     "name": "stdout",
     "output_type": "stream",
     "text": [
      "Batch 194, Loss: 3.1108\n"
     ]
    },
    {
     "name": "stderr",
     "output_type": "stream",
     "text": [
      "Streaming tracklets:  94%|████████████████████████████████████████████████████████▎   | 201/214 [12:13<00:45,  3.52s/it]"
     ]
    },
    {
     "name": "stdout",
     "output_type": "stream",
     "text": [
      "Batch 195, Loss: 3.0201\n"
     ]
    },
    {
     "name": "stderr",
     "output_type": "stream",
     "text": [
      "Streaming tracklets:  95%|█████████████████████████████████████████████████████████▏  | 204/214 [12:16<00:49,  4.96s/it]"
     ]
    },
    {
     "name": "stdout",
     "output_type": "stream",
     "text": [
      "Batch 196, Loss: 2.8992\n"
     ]
    },
    {
     "name": "stderr",
     "output_type": "stream",
     "text": [
      "Streaming tracklets:  95%|█████████████████████████████████████████████████████████▏  | 204/214 [12:19<00:47,  4.80s/it]"
     ]
    },
    {
     "name": "stdout",
     "output_type": "stream",
     "text": [
      "Batch 197, Loss: 1.8308\n"
     ]
    },
    {
     "name": "stderr",
     "output_type": "stream",
     "text": [
      "Streaming tracklets:  95%|█████████████████████████████████████████████████████████▏  | 204/214 [12:23<00:49,  4.97s/it]"
     ]
    },
    {
     "name": "stdout",
     "output_type": "stream",
     "text": [
      "Batch 198, Loss: 1.7796\n"
     ]
    },
    {
     "name": "stderr",
     "output_type": "stream",
     "text": [
      "Streaming tracklets:  95%|█████████████████████████████████████████████████████████▏  | 204/214 [12:27<00:51,  5.12s/it]"
     ]
    },
    {
     "name": "stdout",
     "output_type": "stream",
     "text": [
      "Batch 199, Loss: 1.7092\n"
     ]
    },
    {
     "name": "stderr",
     "output_type": "stream",
     "text": [
      "Streaming tracklets:  97%|██████████████████████████████████████████████████████████▎ | 208/214 [12:31<00:30,  5.16s/it]"
     ]
    },
    {
     "name": "stdout",
     "output_type": "stream",
     "text": [
      "Batch 200, Loss: 1.6225\n"
     ]
    },
    {
     "name": "stderr",
     "output_type": "stream",
     "text": [
      "Streaming tracklets:  98%|██████████████████████████████████████████████████████████▉ | 210/214 [12:33<00:12,  3.24s/it]"
     ]
    },
    {
     "name": "stdout",
     "output_type": "stream",
     "text": [
      "Batch 201, Loss: 1.2128\n"
     ]
    },
    {
     "name": "stderr",
     "output_type": "stream",
     "text": [
      "Streaming tracklets:  97%|██████████████████████████████████████████████████████████▎ | 208/214 [12:36<00:27,  4.60s/it]"
     ]
    },
    {
     "name": "stdout",
     "output_type": "stream",
     "text": [
      "Batch 202, Loss: 1.1913\n"
     ]
    },
    {
     "name": "stderr",
     "output_type": "stream",
     "text": [
      "Streaming tracklets:  98%|██████████████████████████████████████████████████████████▉ | 210/214 [12:39<00:12,  3.08s/it]"
     ]
    },
    {
     "name": "stdout",
     "output_type": "stream",
     "text": [
      "Batch 203, Loss: 1.1598\n"
     ]
    },
    {
     "name": "stderr",
     "output_type": "stream",
     "text": [
      "Streaming tracklets:  99%|███████████████████████████████████████████████████████████▍| 212/214 [12:42<00:08,  4.17s/it]"
     ]
    },
    {
     "name": "stdout",
     "output_type": "stream",
     "text": [
      "Batch 204, Loss: 1.1232\n"
     ]
    },
    {
     "name": "stderr",
     "output_type": "stream",
     "text": [
      "Streaming tracklets: 100%|████████████████████████████████████████████████████████████| 214/214 [12:46<00:00,  3.58s/it]\n",
      "Streaming tracklets:  99%|███████████████████████████████████████████████████████████▍| 212/214 [12:46<00:08,  4.50s/it]"
     ]
    },
    {
     "name": "stdout",
     "output_type": "stream",
     "text": [
      "Batch 205, Loss: 2.8932\n"
     ]
    },
    {
     "name": "stderr",
     "output_type": "stream",
     "text": [
      "Streaming tracklets: 100%|████████████████████████████████████████████████████████████| 214/214 [12:49<00:00,  3.60s/it]\n",
      "Streaming tracklets:  99%|███████████████████████████████████████████████████████████▍| 212/214 [12:50<00:08,  4.49s/it]"
     ]
    },
    {
     "name": "stdout",
     "output_type": "stream",
     "text": [
      "Batch 206, Loss: 2.8612\n"
     ]
    },
    {
     "name": "stderr",
     "output_type": "stream",
     "text": [
      "Streaming tracklets: 100%|████████████████████████████████████████████████████████████| 214/214 [12:52<00:00,  3.61s/it]\n",
      "Streaming tracklets:  99%|███████████████████████████████████████████████████████████▍| 212/214 [12:52<00:08,  4.25s/it]"
     ]
    },
    {
     "name": "stdout",
     "output_type": "stream",
     "text": [
      "Batch 207, Loss: 2.8020\n"
     ]
    },
    {
     "name": "stderr",
     "output_type": "stream",
     "text": [
      "Streaming tracklets: 100%|████████████████████████████████████████████████████████████| 214/214 [12:54<00:00,  3.62s/it]\n"
     ]
    },
    {
     "name": "stdout",
     "output_type": "stream",
     "text": [
      "Batch 208, Loss: 2.7188\n",
      "Batch 209, Loss: 2.9987\n",
      "Batch 210, Loss: 2.9715\n",
      "Batch 211, Loss: 2.9219\n",
      "Batch 212, Loss: 2.8563\n",
      "Batch 213, Loss: 2.6431\n",
      "Batch 214, Loss: 2.5431\n",
      "Batch 215, Loss: 2.4040\n",
      "Batch 216, Loss: 2.2145\n",
      "Epoch 7/30, Loss: 2.2752, Accuracy: 42.76%\n"
     ]
    },
    {
     "name": "stderr",
     "output_type": "stream",
     "text": [
      "Streaming tracklets:   3%|██                                                            | 7/214 [00:16<08:44,  2.53s/it]"
     ]
    },
    {
     "name": "stdout",
     "output_type": "stream",
     "text": [
      "Batch 1, Loss: 2.2748\n"
     ]
    },
    {
     "name": "stderr",
     "output_type": "stream",
     "text": [
      "Streaming tracklets:   4%|██▎                                                           | 8/214 [00:26<16:15,  4.74s/it]"
     ]
    },
    {
     "name": "stdout",
     "output_type": "stream",
     "text": [
      "Batch 2, Loss: 2.2000\n"
     ]
    },
    {
     "name": "stderr",
     "output_type": "stream",
     "text": [
      "Streaming tracklets:   4%|██▎                                                           | 8/214 [00:30<21:07,  6.15s/it]"
     ]
    },
    {
     "name": "stdout",
     "output_type": "stream",
     "text": [
      "Batch 3, Loss: 2.1339\n"
     ]
    },
    {
     "name": "stderr",
     "output_type": "stream",
     "text": [
      "Streaming tracklets:   6%|███▍                                                         | 12/214 [00:34<13:49,  4.11s/it]"
     ]
    },
    {
     "name": "stdout",
     "output_type": "stream",
     "text": [
      "Batch 4, Loss: 2.0584\n"
     ]
    },
    {
     "name": "stderr",
     "output_type": "stream",
     "text": [
      "Streaming tracklets:   6%|███▍                                                         | 12/214 [00:37<17:32,  5.21s/it]"
     ]
    },
    {
     "name": "stdout",
     "output_type": "stream",
     "text": [
      "Batch 5, Loss: 2.2733\n"
     ]
    },
    {
     "name": "stderr",
     "output_type": "stream",
     "text": [
      "Streaming tracklets:   6%|███▍                                                         | 12/214 [00:42<17:56,  5.33s/it]"
     ]
    },
    {
     "name": "stdout",
     "output_type": "stream",
     "text": [
      "Batch 6, Loss: 2.2244\n"
     ]
    },
    {
     "name": "stderr",
     "output_type": "stream",
     "text": [
      "Streaming tracklets:   6%|███▍                                                         | 12/214 [00:46<19:23,  5.76s/it]"
     ]
    },
    {
     "name": "stdout",
     "output_type": "stream",
     "text": [
      "Batch 7, Loss: 2.1571\n"
     ]
    },
    {
     "name": "stderr",
     "output_type": "stream",
     "text": [
      "Streaming tracklets:   7%|████▌                                                        | 16/214 [00:50<17:17,  5.24s/it]"
     ]
    },
    {
     "name": "stdout",
     "output_type": "stream",
     "text": [
      "Batch 8, Loss: 2.0877\n"
     ]
    },
    {
     "name": "stderr",
     "output_type": "stream",
     "text": [
      "Streaming tracklets:   7%|████▌                                                        | 16/214 [00:54<17:56,  5.44s/it]"
     ]
    },
    {
     "name": "stdout",
     "output_type": "stream",
     "text": [
      "Batch 9, Loss: 3.0608\n"
     ]
    },
    {
     "name": "stderr",
     "output_type": "stream",
     "text": [
      "Streaming tracklets:   7%|████▌                                                        | 16/214 [00:57<17:36,  5.34s/it]"
     ]
    },
    {
     "name": "stdout",
     "output_type": "stream",
     "text": [
      "Batch 10, Loss: 2.9875\n"
     ]
    },
    {
     "name": "stderr",
     "output_type": "stream",
     "text": [
      "Streaming tracklets:   7%|████▌                                                        | 16/214 [01:01<17:32,  5.32s/it]"
     ]
    },
    {
     "name": "stdout",
     "output_type": "stream",
     "text": [
      "Batch 11, Loss: 2.9176\n"
     ]
    },
    {
     "name": "stderr",
     "output_type": "stream",
     "text": [
      "Streaming tracklets:   9%|█████▍                                                       | 19/214 [01:05<08:58,  2.76s/it]"
     ]
    },
    {
     "name": "stdout",
     "output_type": "stream",
     "text": [
      "Batch 12, Loss: 2.8232\n"
     ]
    },
    {
     "name": "stderr",
     "output_type": "stream",
     "text": [
      "Streaming tracklets:   9%|█████▋                                                       | 20/214 [01:10<18:18,  5.66s/it]"
     ]
    },
    {
     "name": "stdout",
     "output_type": "stream",
     "text": [
      "Batch 13, Loss: 2.8035\n"
     ]
    },
    {
     "name": "stderr",
     "output_type": "stream",
     "text": [
      "Streaming tracklets:  11%|██████▌                                                      | 23/214 [01:15<09:23,  2.95s/it]"
     ]
    },
    {
     "name": "stdout",
     "output_type": "stream",
     "text": [
      "Batch 14, Loss: 2.7795\n"
     ]
    },
    {
     "name": "stderr",
     "output_type": "stream",
     "text": [
      "Streaming tracklets:  11%|██████▌                                                      | 23/214 [01:19<09:43,  3.05s/it]"
     ]
    },
    {
     "name": "stdout",
     "output_type": "stream",
     "text": [
      "Batch 15, Loss: 2.7457\n"
     ]
    },
    {
     "name": "stderr",
     "output_type": "stream",
     "text": [
      "Streaming tracklets:  11%|██████▌                                                      | 23/214 [01:24<09:49,  3.09s/it]"
     ]
    },
    {
     "name": "stdout",
     "output_type": "stream",
     "text": [
      "Batch 16, Loss: 2.6979\n"
     ]
    },
    {
     "name": "stderr",
     "output_type": "stream",
     "text": [
      "Streaming tracklets:  11%|██████▊                                                      | 24/214 [01:28<19:18,  6.10s/it]"
     ]
    },
    {
     "name": "stdout",
     "output_type": "stream",
     "text": [
      "Batch 17, Loss: 3.0163\n"
     ]
    },
    {
     "name": "stderr",
     "output_type": "stream",
     "text": [
      "Streaming tracklets:  11%|██████▊                                                      | 24/214 [01:32<19:06,  6.03s/it]"
     ]
    },
    {
     "name": "stdout",
     "output_type": "stream",
     "text": [
      "Batch 18, Loss: 2.9879\n"
     ]
    },
    {
     "name": "stderr",
     "output_type": "stream",
     "text": [
      "Streaming tracklets:  11%|██████▊                                                      | 24/214 [01:36<18:20,  5.79s/it]"
     ]
    },
    {
     "name": "stdout",
     "output_type": "stream",
     "text": [
      "Batch 19, Loss: 2.9396\n"
     ]
    },
    {
     "name": "stderr",
     "output_type": "stream",
     "text": [
      "Streaming tracklets:  13%|███████▉                                                     | 28/214 [01:40<17:41,  5.71s/it]"
     ]
    },
    {
     "name": "stdout",
     "output_type": "stream",
     "text": [
      "Batch 20, Loss: 2.8744\n"
     ]
    },
    {
     "name": "stderr",
     "output_type": "stream",
     "text": [
      "Streaming tracklets:  13%|███████▉                                                     | 28/214 [01:44<17:04,  5.51s/it]"
     ]
    },
    {
     "name": "stdout",
     "output_type": "stream",
     "text": [
      "Batch 21, Loss: 3.3928\n"
     ]
    },
    {
     "name": "stderr",
     "output_type": "stream",
     "text": [
      "Streaming tracklets:  13%|███████▉                                                     | 28/214 [01:47<16:57,  5.47s/it]"
     ]
    },
    {
     "name": "stdout",
     "output_type": "stream",
     "text": [
      "Batch 22, Loss: 3.3073\n"
     ]
    },
    {
     "name": "stderr",
     "output_type": "stream",
     "text": [
      "Streaming tracklets:  13%|███████▉                                                     | 28/214 [01:51<16:54,  5.45s/it]"
     ]
    },
    {
     "name": "stdout",
     "output_type": "stream",
     "text": [
      "Batch 23, Loss: 3.1749\n"
     ]
    },
    {
     "name": "stderr",
     "output_type": "stream",
     "text": [
      "Streaming tracklets:  15%|█████████                                                    | 32/214 [01:55<16:49,  5.55s/it]"
     ]
    },
    {
     "name": "stdout",
     "output_type": "stream",
     "text": [
      "Batch 24, Loss: 3.0380\n"
     ]
    },
    {
     "name": "stderr",
     "output_type": "stream",
     "text": [
      "Streaming tracklets:  15%|█████████                                                    | 32/214 [01:59<16:33,  5.46s/it]"
     ]
    },
    {
     "name": "stdout",
     "output_type": "stream",
     "text": [
      "Batch 25, Loss: 1.2201\n"
     ]
    },
    {
     "name": "stderr",
     "output_type": "stream",
     "text": [
      "Streaming tracklets:  15%|█████████                                                    | 32/214 [02:03<16:45,  5.53s/it]"
     ]
    },
    {
     "name": "stdout",
     "output_type": "stream",
     "text": [
      "Batch 26, Loss: 1.2033\n"
     ]
    },
    {
     "name": "stderr",
     "output_type": "stream",
     "text": [
      "Streaming tracklets:  15%|█████████                                                    | 32/214 [02:08<17:19,  5.71s/it]"
     ]
    },
    {
     "name": "stdout",
     "output_type": "stream",
     "text": [
      "Batch 27, Loss: 1.1783\n"
     ]
    },
    {
     "name": "stderr",
     "output_type": "stream",
     "text": [
      "Streaming tracklets:  17%|██████████▎                                                  | 36/214 [02:12<16:47,  5.66s/it]"
     ]
    },
    {
     "name": "stdout",
     "output_type": "stream",
     "text": [
      "Batch 28, Loss: 1.1421\n"
     ]
    },
    {
     "name": "stderr",
     "output_type": "stream",
     "text": [
      "Streaming tracklets:  17%|██████████▎                                                  | 36/214 [02:16<16:49,  5.67s/it]"
     ]
    },
    {
     "name": "stdout",
     "output_type": "stream",
     "text": [
      "Batch 29, Loss: 2.8647\n"
     ]
    },
    {
     "name": "stderr",
     "output_type": "stream",
     "text": [
      "Streaming tracklets:  17%|██████████▎                                                  | 36/214 [02:20<16:44,  5.64s/it]"
     ]
    },
    {
     "name": "stdout",
     "output_type": "stream",
     "text": [
      "Batch 30, Loss: 2.8267\n"
     ]
    },
    {
     "name": "stderr",
     "output_type": "stream",
     "text": [
      "Streaming tracklets:  17%|██████████▎                                                  | 36/214 [02:23<16:16,  5.49s/it]"
     ]
    },
    {
     "name": "stdout",
     "output_type": "stream",
     "text": [
      "Batch 31, Loss: 2.7683\n"
     ]
    },
    {
     "name": "stderr",
     "output_type": "stream",
     "text": [
      "Streaming tracklets:  19%|███████████▍                                                 | 40/214 [02:27<15:58,  5.51s/it]"
     ]
    },
    {
     "name": "stdout",
     "output_type": "stream",
     "text": [
      "Batch 32, Loss: 2.6997\n"
     ]
    },
    {
     "name": "stderr",
     "output_type": "stream",
     "text": [
      "Streaming tracklets:  19%|███████████▍                                                 | 40/214 [02:31<15:48,  5.45s/it]"
     ]
    },
    {
     "name": "stdout",
     "output_type": "stream",
     "text": [
      "Batch 33, Loss: 1.5836\n"
     ]
    },
    {
     "name": "stderr",
     "output_type": "stream",
     "text": [
      "Streaming tracklets:  20%|████████████▎                                                | 43/214 [02:35<07:38,  2.68s/it]"
     ]
    },
    {
     "name": "stdout",
     "output_type": "stream",
     "text": [
      "Batch 34, Loss: 1.2486\n"
     ]
    },
    {
     "name": "stderr",
     "output_type": "stream",
     "text": [
      "Streaming tracklets:  19%|███████████▍                                                 | 40/214 [02:38<15:26,  5.32s/it]"
     ]
    },
    {
     "name": "stdout",
     "output_type": "stream",
     "text": [
      "Batch 35, Loss: 1.0652\n"
     ]
    },
    {
     "name": "stderr",
     "output_type": "stream",
     "text": [
      "Streaming tracklets:  21%|████████████▌                                                | 44/214 [02:42<14:50,  5.24s/it]"
     ]
    },
    {
     "name": "stdout",
     "output_type": "stream",
     "text": [
      "Batch 36, Loss: 1.0324\n"
     ]
    },
    {
     "name": "stderr",
     "output_type": "stream",
     "text": [
      "Streaming tracklets:  21%|████████████▌                                                | 44/214 [02:46<15:04,  5.32s/it]"
     ]
    },
    {
     "name": "stdout",
     "output_type": "stream",
     "text": [
      "Batch 37, Loss: 2.8342\n"
     ]
    },
    {
     "name": "stderr",
     "output_type": "stream",
     "text": [
      "Streaming tracklets:  21%|████████████▌                                                | 44/214 [02:50<15:06,  5.33s/it]"
     ]
    },
    {
     "name": "stdout",
     "output_type": "stream",
     "text": [
      "Batch 38, Loss: 2.7836\n"
     ]
    },
    {
     "name": "stderr",
     "output_type": "stream",
     "text": [
      "Streaming tracklets:  21%|████████████▌                                                | 44/214 [02:54<15:15,  5.38s/it]"
     ]
    },
    {
     "name": "stdout",
     "output_type": "stream",
     "text": [
      "Batch 39, Loss: 2.7234\n"
     ]
    },
    {
     "name": "stderr",
     "output_type": "stream",
     "text": [
      "Streaming tracklets:  22%|█████████████▋                                               | 48/214 [02:58<14:44,  5.33s/it]"
     ]
    },
    {
     "name": "stdout",
     "output_type": "stream",
     "text": [
      "Batch 40, Loss: 2.6471\n"
     ]
    },
    {
     "name": "stderr",
     "output_type": "stream",
     "text": [
      "Streaming tracklets:  22%|█████████████▋                                               | 48/214 [03:02<14:45,  5.34s/it]"
     ]
    },
    {
     "name": "stdout",
     "output_type": "stream",
     "text": [
      "Batch 41, Loss: 3.4422\n"
     ]
    },
    {
     "name": "stderr",
     "output_type": "stream",
     "text": [
      "Streaming tracklets:  22%|█████████████▋                                               | 48/214 [03:05<14:30,  5.25s/it]"
     ]
    },
    {
     "name": "stdout",
     "output_type": "stream",
     "text": [
      "Batch 42, Loss: 3.4169\n"
     ]
    },
    {
     "name": "stderr",
     "output_type": "stream",
     "text": [
      "Streaming tracklets:  22%|█████████████▋                                               | 48/214 [03:09<14:41,  5.31s/it]"
     ]
    },
    {
     "name": "stdout",
     "output_type": "stream",
     "text": [
      "Batch 43, Loss: 3.3659\n"
     ]
    },
    {
     "name": "stderr",
     "output_type": "stream",
     "text": [
      "Streaming tracklets:  24%|██████████████▊                                              | 52/214 [03:13<14:38,  5.42s/it]"
     ]
    },
    {
     "name": "stdout",
     "output_type": "stream",
     "text": [
      "Batch 44, Loss: 3.2919\n"
     ]
    },
    {
     "name": "stderr",
     "output_type": "stream",
     "text": [
      "Streaming tracklets:  24%|██████████████▊                                              | 52/214 [03:17<14:36,  5.41s/it]"
     ]
    },
    {
     "name": "stdout",
     "output_type": "stream",
     "text": [
      "Batch 45, Loss: 3.3410\n"
     ]
    },
    {
     "name": "stderr",
     "output_type": "stream",
     "text": [
      "Streaming tracklets:  24%|██████████████▊                                              | 52/214 [03:20<14:38,  5.43s/it]"
     ]
    },
    {
     "name": "stdout",
     "output_type": "stream",
     "text": [
      "Batch 46, Loss: 3.2847\n"
     ]
    },
    {
     "name": "stderr",
     "output_type": "stream",
     "text": [
      "Streaming tracklets:  24%|██████████████▊                                              | 52/214 [03:24<14:26,  5.35s/it]"
     ]
    },
    {
     "name": "stdout",
     "output_type": "stream",
     "text": [
      "Batch 47, Loss: 3.2066\n"
     ]
    },
    {
     "name": "stderr",
     "output_type": "stream",
     "text": [
      "Streaming tracklets:  26%|███████████████▉                                             | 56/214 [03:28<13:59,  5.31s/it]"
     ]
    },
    {
     "name": "stdout",
     "output_type": "stream",
     "text": [
      "Batch 48, Loss: 3.1047\n"
     ]
    },
    {
     "name": "stderr",
     "output_type": "stream",
     "text": [
      "Streaming tracklets:  26%|███████████████▉                                             | 56/214 [03:31<13:51,  5.26s/it]"
     ]
    },
    {
     "name": "stdout",
     "output_type": "stream",
     "text": [
      "Batch 49, Loss: 1.6651\n"
     ]
    },
    {
     "name": "stderr",
     "output_type": "stream",
     "text": [
      "Streaming tracklets:  26%|███████████████▉                                             | 56/214 [03:34<13:23,  5.08s/it]"
     ]
    },
    {
     "name": "stdout",
     "output_type": "stream",
     "text": [
      "Batch 50, Loss: 1.6418\n"
     ]
    },
    {
     "name": "stderr",
     "output_type": "stream",
     "text": [
      "Streaming tracklets:  26%|███████████████▉                                             | 56/214 [03:37<12:46,  4.85s/it]"
     ]
    },
    {
     "name": "stdout",
     "output_type": "stream",
     "text": [
      "Batch 51, Loss: 1.6058\n"
     ]
    },
    {
     "name": "stderr",
     "output_type": "stream",
     "text": [
      "Streaming tracklets:  28%|█████████████████                                            | 60/214 [03:41<12:00,  4.68s/it]"
     ]
    },
    {
     "name": "stdout",
     "output_type": "stream",
     "text": [
      "Batch 52, Loss: 1.5601\n"
     ]
    },
    {
     "name": "stderr",
     "output_type": "stream",
     "text": [
      "Streaming tracklets:  28%|█████████████████                                            | 60/214 [03:44<11:54,  4.64s/it]"
     ]
    },
    {
     "name": "stdout",
     "output_type": "stream",
     "text": [
      "Batch 53, Loss: 2.7199\n"
     ]
    },
    {
     "name": "stderr",
     "output_type": "stream",
     "text": [
      "Streaming tracklets:  28%|█████████████████                                            | 60/214 [03:47<12:07,  4.72s/it]"
     ]
    },
    {
     "name": "stdout",
     "output_type": "stream",
     "text": [
      "Batch 54, Loss: 2.6392\n"
     ]
    },
    {
     "name": "stderr",
     "output_type": "stream",
     "text": [
      "Streaming tracklets:  28%|█████████████████                                            | 60/214 [03:51<12:32,  4.89s/it]"
     ]
    },
    {
     "name": "stdout",
     "output_type": "stream",
     "text": [
      "Batch 55, Loss: 2.5400\n"
     ]
    },
    {
     "name": "stderr",
     "output_type": "stream",
     "text": [
      "Streaming tracklets:  30%|██████████████████▏                                          | 64/214 [03:55<12:17,  4.92s/it]"
     ]
    },
    {
     "name": "stdout",
     "output_type": "stream",
     "text": [
      "Batch 56, Loss: 2.4458\n"
     ]
    },
    {
     "name": "stderr",
     "output_type": "stream",
     "text": [
      "Streaming tracklets:  30%|██████████████████▏                                          | 64/214 [03:58<12:10,  4.87s/it]"
     ]
    },
    {
     "name": "stdout",
     "output_type": "stream",
     "text": [
      "Batch 57, Loss: 2.8959\n"
     ]
    },
    {
     "name": "stderr",
     "output_type": "stream",
     "text": [
      "Streaming tracklets:  30%|██████████████████▏                                          | 64/214 [04:01<11:59,  4.80s/it]"
     ]
    },
    {
     "name": "stdout",
     "output_type": "stream",
     "text": [
      "Batch 58, Loss: 2.6904\n"
     ]
    },
    {
     "name": "stderr",
     "output_type": "stream",
     "text": [
      "Streaming tracklets:  30%|██████████████████▏                                          | 64/214 [04:04<11:36,  4.64s/it]"
     ]
    },
    {
     "name": "stdout",
     "output_type": "stream",
     "text": [
      "Batch 59, Loss: 2.5905\n"
     ]
    },
    {
     "name": "stderr",
     "output_type": "stream",
     "text": [
      "Streaming tracklets:  32%|███████████████████▍                                         | 68/214 [04:08<11:30,  4.73s/it]"
     ]
    },
    {
     "name": "stdout",
     "output_type": "stream",
     "text": [
      "Batch 60, Loss: 2.5197\n"
     ]
    },
    {
     "name": "stderr",
     "output_type": "stream",
     "text": [
      "Streaming tracklets:  32%|███████████████████▍                                         | 68/214 [04:12<12:02,  4.95s/it]"
     ]
    },
    {
     "name": "stdout",
     "output_type": "stream",
     "text": [
      "Batch 61, Loss: 3.7541\n"
     ]
    },
    {
     "name": "stderr",
     "output_type": "stream",
     "text": [
      "Streaming tracklets:  32%|███████████████████▍                                         | 68/214 [04:16<12:47,  5.26s/it]"
     ]
    },
    {
     "name": "stdout",
     "output_type": "stream",
     "text": [
      "Batch 62, Loss: 3.7115\n"
     ]
    },
    {
     "name": "stderr",
     "output_type": "stream",
     "text": [
      "Streaming tracklets:  33%|████████████████████▏                                        | 71/214 [04:20<06:09,  2.59s/it]"
     ]
    },
    {
     "name": "stdout",
     "output_type": "stream",
     "text": [
      "Batch 63, Loss: 3.6383\n"
     ]
    },
    {
     "name": "stderr",
     "output_type": "stream",
     "text": [
      "Streaming tracklets:  34%|████████████████████▌                                        | 72/214 [04:24<13:02,  5.51s/it]"
     ]
    },
    {
     "name": "stdout",
     "output_type": "stream",
     "text": [
      "Batch 64, Loss: 3.5465\n"
     ]
    },
    {
     "name": "stderr",
     "output_type": "stream",
     "text": [
      "Streaming tracklets:  34%|████████████████████▌                                        | 72/214 [04:28<13:21,  5.65s/it]"
     ]
    },
    {
     "name": "stdout",
     "output_type": "stream",
     "text": [
      "Batch 65, Loss: 1.7392\n"
     ]
    },
    {
     "name": "stderr",
     "output_type": "stream",
     "text": [
      "Streaming tracklets:  34%|████████████████████▌                                        | 72/214 [04:32<12:52,  5.44s/it]"
     ]
    },
    {
     "name": "stdout",
     "output_type": "stream",
     "text": [
      "Batch 66, Loss: 1.7100\n"
     ]
    },
    {
     "name": "stderr",
     "output_type": "stream",
     "text": [
      "Streaming tracklets:  34%|████████████████████▌                                        | 72/214 [04:35<12:45,  5.39s/it]"
     ]
    },
    {
     "name": "stdout",
     "output_type": "stream",
     "text": [
      "Batch 67, Loss: 1.6704\n"
     ]
    },
    {
     "name": "stderr",
     "output_type": "stream",
     "text": [
      "Streaming tracklets:  36%|█████████████████████▋                                       | 76/214 [04:39<12:29,  5.43s/it]"
     ]
    },
    {
     "name": "stdout",
     "output_type": "stream",
     "text": [
      "Batch 68, Loss: 1.6144\n"
     ]
    },
    {
     "name": "stderr",
     "output_type": "stream",
     "text": [
      "Streaming tracklets:  36%|█████████████████████▋                                       | 76/214 [04:43<12:16,  5.34s/it]"
     ]
    },
    {
     "name": "stdout",
     "output_type": "stream",
     "text": [
      "Batch 69, Loss: 2.4068\n"
     ]
    },
    {
     "name": "stderr",
     "output_type": "stream",
     "text": [
      "Streaming tracklets:  36%|█████████████████████▋                                       | 76/214 [04:46<12:12,  5.31s/it]"
     ]
    },
    {
     "name": "stdout",
     "output_type": "stream",
     "text": [
      "Batch 70, Loss: 2.3198\n"
     ]
    },
    {
     "name": "stderr",
     "output_type": "stream",
     "text": [
      "Streaming tracklets:  36%|█████████████████████▋                                       | 76/214 [04:50<12:25,  5.40s/it]"
     ]
    },
    {
     "name": "stdout",
     "output_type": "stream",
     "text": [
      "Batch 71, Loss: 2.2372\n"
     ]
    },
    {
     "name": "stderr",
     "output_type": "stream",
     "text": [
      "Streaming tracklets:  37%|██████████████████████▊                                      | 80/214 [04:54<11:53,  5.32s/it]"
     ]
    },
    {
     "name": "stdout",
     "output_type": "stream",
     "text": [
      "Batch 72, Loss: 2.1686\n"
     ]
    },
    {
     "name": "stderr",
     "output_type": "stream",
     "text": [
      "Streaming tracklets:  37%|██████████████████████▊                                      | 80/214 [04:58<11:34,  5.19s/it]"
     ]
    },
    {
     "name": "stdout",
     "output_type": "stream",
     "text": [
      "Batch 73, Loss: 1.0810\n"
     ]
    },
    {
     "name": "stderr",
     "output_type": "stream",
     "text": [
      "Streaming tracklets:  37%|██████████████████████▊                                      | 80/214 [05:01<11:34,  5.19s/it]"
     ]
    },
    {
     "name": "stdout",
     "output_type": "stream",
     "text": [
      "Batch 74, Loss: 1.0539\n"
     ]
    },
    {
     "name": "stderr",
     "output_type": "stream",
     "text": [
      "Streaming tracklets:  37%|██████████████████████▊                                      | 80/214 [05:05<11:25,  5.12s/it]"
     ]
    },
    {
     "name": "stdout",
     "output_type": "stream",
     "text": [
      "Batch 75, Loss: 1.0015\n"
     ]
    },
    {
     "name": "stderr",
     "output_type": "stream",
     "text": [
      "Streaming tracklets:  39%|███████████████████████▉                                     | 84/214 [05:08<11:08,  5.14s/it]"
     ]
    },
    {
     "name": "stdout",
     "output_type": "stream",
     "text": [
      "Batch 76, Loss: 0.9353\n"
     ]
    },
    {
     "name": "stderr",
     "output_type": "stream",
     "text": [
      "Streaming tracklets:  39%|███████████████████████▉                                     | 84/214 [05:11<10:51,  5.01s/it]"
     ]
    },
    {
     "name": "stdout",
     "output_type": "stream",
     "text": [
      "Batch 77, Loss: 3.1046\n"
     ]
    },
    {
     "name": "stderr",
     "output_type": "stream",
     "text": [
      "Streaming tracklets:  39%|███████████████████████▉                                     | 84/214 [05:15<11:02,  5.10s/it]"
     ]
    },
    {
     "name": "stdout",
     "output_type": "stream",
     "text": [
      "Batch 78, Loss: 3.0391\n"
     ]
    },
    {
     "name": "stderr",
     "output_type": "stream",
     "text": [
      "Streaming tracklets:  41%|████████████████████████▊                                    | 87/214 [05:19<05:43,  2.71s/it]"
     ]
    },
    {
     "name": "stdout",
     "output_type": "stream",
     "text": [
      "Batch 79, Loss: 2.9177\n"
     ]
    },
    {
     "name": "stderr",
     "output_type": "stream",
     "text": [
      "Streaming tracklets:  41%|█████████████████████████                                    | 88/214 [05:22<10:46,  5.13s/it]"
     ]
    },
    {
     "name": "stdout",
     "output_type": "stream",
     "text": [
      "Batch 80, Loss: 2.8359\n"
     ]
    },
    {
     "name": "stderr",
     "output_type": "stream",
     "text": [
      "Streaming tracklets:  41%|█████████████████████████                                    | 88/214 [05:27<11:14,  5.35s/it]"
     ]
    },
    {
     "name": "stdout",
     "output_type": "stream",
     "text": [
      "Batch 81, Loss: 0.4631\n"
     ]
    },
    {
     "name": "stderr",
     "output_type": "stream",
     "text": [
      "Streaming tracklets:  41%|█████████████████████████                                    | 88/214 [05:31<11:31,  5.49s/it]"
     ]
    },
    {
     "name": "stdout",
     "output_type": "stream",
     "text": [
      "Batch 82, Loss: 0.4138\n"
     ]
    },
    {
     "name": "stderr",
     "output_type": "stream",
     "text": [
      "Streaming tracklets:  41%|█████████████████████████                                    | 88/214 [05:35<11:12,  5.34s/it]"
     ]
    },
    {
     "name": "stdout",
     "output_type": "stream",
     "text": [
      "Batch 83, Loss: 0.3582\n"
     ]
    },
    {
     "name": "stderr",
     "output_type": "stream",
     "text": [
      "Streaming tracklets:  43%|██████████████████████████▏                                  | 92/214 [05:38<11:05,  5.46s/it]"
     ]
    },
    {
     "name": "stdout",
     "output_type": "stream",
     "text": [
      "Batch 84, Loss: 0.3065\n"
     ]
    },
    {
     "name": "stderr",
     "output_type": "stream",
     "text": [
      "Streaming tracklets:  43%|██████████████████████████▏                                  | 92/214 [05:42<10:45,  5.29s/it]"
     ]
    },
    {
     "name": "stdout",
     "output_type": "stream",
     "text": [
      "Batch 85, Loss: 2.1373\n"
     ]
    },
    {
     "name": "stderr",
     "output_type": "stream",
     "text": [
      "Streaming tracklets:  43%|██████████████████████████▏                                  | 92/214 [05:45<10:26,  5.14s/it]"
     ]
    },
    {
     "name": "stdout",
     "output_type": "stream",
     "text": [
      "Batch 86, Loss: 2.1241\n"
     ]
    },
    {
     "name": "stderr",
     "output_type": "stream",
     "text": [
      "Streaming tracklets:  43%|██████████████████████████▏                                  | 92/214 [05:48<10:05,  4.97s/it]"
     ]
    },
    {
     "name": "stdout",
     "output_type": "stream",
     "text": [
      "Batch 87, Loss: 2.0816\n"
     ]
    },
    {
     "name": "stderr",
     "output_type": "stream",
     "text": [
      "Streaming tracklets:  45%|███████████████████████████▎                                 | 96/214 [05:51<09:58,  5.07s/it]"
     ]
    },
    {
     "name": "stdout",
     "output_type": "stream",
     "text": [
      "Batch 88, Loss: 2.0251\n"
     ]
    },
    {
     "name": "stderr",
     "output_type": "stream",
     "text": [
      "Streaming tracklets:  45%|███████████████████████████▎                                 | 96/214 [05:55<09:43,  4.94s/it]"
     ]
    },
    {
     "name": "stdout",
     "output_type": "stream",
     "text": [
      "Batch 89, Loss: 0.6390\n"
     ]
    },
    {
     "name": "stderr",
     "output_type": "stream",
     "text": [
      "Streaming tracklets:  45%|███████████████████████████▎                                 | 96/214 [05:58<09:53,  5.03s/it]"
     ]
    },
    {
     "name": "stdout",
     "output_type": "stream",
     "text": [
      "Batch 90, Loss: 0.6243\n"
     ]
    },
    {
     "name": "stderr",
     "output_type": "stream",
     "text": [
      "Streaming tracklets:  45%|███████████████████████████▎                                 | 96/214 [06:02<10:06,  5.14s/it]"
     ]
    },
    {
     "name": "stdout",
     "output_type": "stream",
     "text": [
      "Batch 91, Loss: 0.6012\n"
     ]
    },
    {
     "name": "stderr",
     "output_type": "stream",
     "text": [
      "Streaming tracklets:  47%|████████████████████████████                                | 100/214 [06:06<08:28,  4.46s/it]"
     ]
    },
    {
     "name": "stdout",
     "output_type": "stream",
     "text": [
      "Batch 92, Loss: 0.5791\n"
     ]
    },
    {
     "name": "stderr",
     "output_type": "stream",
     "text": [
      "Streaming tracklets:  47%|████████████████████████████                                | 100/214 [06:08<07:53,  4.15s/it]"
     ]
    },
    {
     "name": "stdout",
     "output_type": "stream",
     "text": [
      "Batch 93, Loss: 3.2443\n"
     ]
    },
    {
     "name": "stderr",
     "output_type": "stream",
     "text": [
      "Streaming tracklets:  47%|████████████████████████████                                | 100/214 [06:10<07:19,  3.85s/it]"
     ]
    },
    {
     "name": "stdout",
     "output_type": "stream",
     "text": [
      "Batch 94, Loss: 3.2081\n"
     ]
    },
    {
     "name": "stderr",
     "output_type": "stream",
     "text": [
      "Streaming tracklets:  47%|████████████████████████████                                | 100/214 [06:13<07:13,  3.80s/it]"
     ]
    },
    {
     "name": "stdout",
     "output_type": "stream",
     "text": [
      "Batch 95, Loss: 3.1454\n"
     ]
    },
    {
     "name": "stderr",
     "output_type": "stream",
     "text": [
      "Streaming tracklets:  49%|█████████████████████████████▏                              | 104/214 [06:17<07:16,  3.97s/it]"
     ]
    },
    {
     "name": "stdout",
     "output_type": "stream",
     "text": [
      "Batch 96, Loss: 3.0689\n"
     ]
    },
    {
     "name": "stderr",
     "output_type": "stream",
     "text": [
      "Streaming tracklets:  49%|█████████████████████████████▏                              | 104/214 [06:22<08:19,  4.54s/it]"
     ]
    },
    {
     "name": "stdout",
     "output_type": "stream",
     "text": [
      "Batch 97, Loss: 2.4374\n"
     ]
    },
    {
     "name": "stderr",
     "output_type": "stream",
     "text": [
      "Streaming tracklets:  49%|█████████████████████████████▏                              | 104/214 [06:26<08:49,  4.81s/it]"
     ]
    },
    {
     "name": "stdout",
     "output_type": "stream",
     "text": [
      "Batch 98, Loss: 2.3948\n"
     ]
    },
    {
     "name": "stderr",
     "output_type": "stream",
     "text": [
      "Streaming tracklets:  49%|█████████████████████████████▏                              | 104/214 [06:30<08:58,  4.89s/it]"
     ]
    },
    {
     "name": "stdout",
     "output_type": "stream",
     "text": [
      "Batch 99, Loss: 2.3370\n"
     ]
    },
    {
     "name": "stderr",
     "output_type": "stream",
     "text": [
      "Streaming tracklets:  50%|██████████████████████████████▎                             | 108/214 [06:34<09:13,  5.23s/it]"
     ]
    },
    {
     "name": "stdout",
     "output_type": "stream",
     "text": [
      "Batch 100, Loss: 2.2716\n"
     ]
    },
    {
     "name": "stderr",
     "output_type": "stream",
     "text": [
      "Streaming tracklets:  50%|██████████████████████████████▎                             | 108/214 [06:37<08:57,  5.08s/it]"
     ]
    },
    {
     "name": "stdout",
     "output_type": "stream",
     "text": [
      "Batch 101, Loss: 2.3477\n"
     ]
    },
    {
     "name": "stderr",
     "output_type": "stream",
     "text": [
      "Streaming tracklets:  50%|██████████████████████████████▎                             | 108/214 [06:41<09:10,  5.20s/it]"
     ]
    },
    {
     "name": "stdout",
     "output_type": "stream",
     "text": [
      "Batch 102, Loss: 2.3006\n"
     ]
    },
    {
     "name": "stderr",
     "output_type": "stream",
     "text": [
      "Streaming tracklets:  50%|██████████████████████████████▎                             | 108/214 [06:46<09:41,  5.49s/it]"
     ]
    },
    {
     "name": "stdout",
     "output_type": "stream",
     "text": [
      "Batch 103, Loss: 2.2286\n"
     ]
    },
    {
     "name": "stderr",
     "output_type": "stream",
     "text": [
      "Streaming tracklets:  52%|███████████████████████████████▍                            | 112/214 [06:50<09:38,  5.68s/it]"
     ]
    },
    {
     "name": "stdout",
     "output_type": "stream",
     "text": [
      "Batch 104, Loss: 2.1227\n"
     ]
    },
    {
     "name": "stderr",
     "output_type": "stream",
     "text": [
      "Streaming tracklets:  52%|███████████████████████████████▍                            | 112/214 [06:54<09:41,  5.70s/it]"
     ]
    },
    {
     "name": "stdout",
     "output_type": "stream",
     "text": [
      "Batch 105, Loss: 2.3059\n"
     ]
    },
    {
     "name": "stderr",
     "output_type": "stream",
     "text": [
      "Streaming tracklets:  52%|███████████████████████████████▍                            | 112/214 [06:58<09:56,  5.85s/it]"
     ]
    },
    {
     "name": "stdout",
     "output_type": "stream",
     "text": [
      "Batch 106, Loss: 2.1836\n"
     ]
    },
    {
     "name": "stderr",
     "output_type": "stream",
     "text": [
      "Streaming tracklets:  52%|███████████████████████████████▍                            | 112/214 [07:03<10:02,  5.90s/it]"
     ]
    },
    {
     "name": "stdout",
     "output_type": "stream",
     "text": [
      "Batch 107, Loss: 2.0449\n"
     ]
    },
    {
     "name": "stderr",
     "output_type": "stream",
     "text": [
      "Streaming tracklets:  54%|████████████████████████████████▌                           | 116/214 [07:07<09:41,  5.94s/it]"
     ]
    },
    {
     "name": "stdout",
     "output_type": "stream",
     "text": [
      "Batch 108, Loss: 1.9462\n"
     ]
    },
    {
     "name": "stderr",
     "output_type": "stream",
     "text": [
      "Streaming tracklets:  54%|████████████████████████████████▌                           | 116/214 [07:11<09:44,  5.97s/it]"
     ]
    },
    {
     "name": "stdout",
     "output_type": "stream",
     "text": [
      "Batch 109, Loss: 1.9556\n"
     ]
    },
    {
     "name": "stderr",
     "output_type": "stream",
     "text": [
      "Streaming tracklets:  54%|████████████████████████████████▌                           | 116/214 [07:15<09:41,  5.93s/it]"
     ]
    },
    {
     "name": "stdout",
     "output_type": "stream",
     "text": [
      "Batch 110, Loss: 1.9012\n"
     ]
    },
    {
     "name": "stderr",
     "output_type": "stream",
     "text": [
      "Streaming tracklets:  54%|████████████████████████████████▌                           | 116/214 [07:19<09:22,  5.73s/it]"
     ]
    },
    {
     "name": "stdout",
     "output_type": "stream",
     "text": [
      "Batch 111, Loss: 1.8450\n"
     ]
    },
    {
     "name": "stderr",
     "output_type": "stream",
     "text": [
      "Streaming tracklets:  56%|█████████████████████████████████▎                          | 119/214 [07:23<04:18,  2.72s/it]"
     ]
    },
    {
     "name": "stdout",
     "output_type": "stream",
     "text": [
      "Batch 112, Loss: 1.7950\n"
     ]
    },
    {
     "name": "stderr",
     "output_type": "stream",
     "text": [
      "Streaming tracklets:  56%|█████████████████████████████████▋                          | 120/214 [07:27<08:39,  5.53s/it]"
     ]
    },
    {
     "name": "stdout",
     "output_type": "stream",
     "text": [
      "Batch 113, Loss: 2.3476\n"
     ]
    },
    {
     "name": "stderr",
     "output_type": "stream",
     "text": [
      "Streaming tracklets:  56%|█████████████████████████████████▋                          | 120/214 [07:30<08:20,  5.32s/it]"
     ]
    },
    {
     "name": "stdout",
     "output_type": "stream",
     "text": [
      "Batch 114, Loss: 2.2548\n"
     ]
    },
    {
     "name": "stderr",
     "output_type": "stream",
     "text": [
      "Streaming tracklets:  56%|█████████████████████████████████▋                          | 120/214 [07:33<07:56,  5.06s/it]"
     ]
    },
    {
     "name": "stdout",
     "output_type": "stream",
     "text": [
      "Batch 115, Loss: 2.0886\n"
     ]
    },
    {
     "name": "stderr",
     "output_type": "stream",
     "text": [
      "Streaming tracklets:  58%|██████████████████████████████████▊                         | 124/214 [07:37<07:34,  5.05s/it]"
     ]
    },
    {
     "name": "stdout",
     "output_type": "stream",
     "text": [
      "Batch 116, Loss: 1.9610\n"
     ]
    },
    {
     "name": "stderr",
     "output_type": "stream",
     "text": [
      "Streaming tracklets:  59%|███████████████████████████████████▌                        | 127/214 [07:40<03:31,  2.43s/it]"
     ]
    },
    {
     "name": "stdout",
     "output_type": "stream",
     "text": [
      "Batch 117, Loss: 2.1206\n"
     ]
    },
    {
     "name": "stderr",
     "output_type": "stream",
     "text": [
      "Streaming tracklets:  58%|██████████████████████████████████▊                         | 124/214 [07:44<07:38,  5.09s/it]"
     ]
    },
    {
     "name": "stdout",
     "output_type": "stream",
     "text": [
      "Batch 118, Loss: 2.1108\n"
     ]
    },
    {
     "name": "stderr",
     "output_type": "stream",
     "text": [
      "Streaming tracklets:  58%|██████████████████████████████████▊                         | 124/214 [07:49<08:07,  5.42s/it]"
     ]
    },
    {
     "name": "stdout",
     "output_type": "stream",
     "text": [
      "Batch 119, Loss: 2.0876\n"
     ]
    },
    {
     "name": "stderr",
     "output_type": "stream",
     "text": [
      "Streaming tracklets:  60%|███████████████████████████████████▉                        | 128/214 [07:53<07:53,  5.51s/it]"
     ]
    },
    {
     "name": "stdout",
     "output_type": "stream",
     "text": [
      "Batch 120, Loss: 2.0527\n"
     ]
    },
    {
     "name": "stderr",
     "output_type": "stream",
     "text": [
      "Streaming tracklets:  60%|███████████████████████████████████▉                        | 128/214 [07:57<08:06,  5.66s/it]"
     ]
    },
    {
     "name": "stdout",
     "output_type": "stream",
     "text": [
      "Batch 121, Loss: 2.2516\n"
     ]
    },
    {
     "name": "stderr",
     "output_type": "stream",
     "text": [
      "Streaming tracklets:  60%|███████████████████████████████████▉                        | 128/214 [08:01<07:58,  5.57s/it]"
     ]
    },
    {
     "name": "stdout",
     "output_type": "stream",
     "text": [
      "Batch 122, Loss: 2.1839\n"
     ]
    },
    {
     "name": "stderr",
     "output_type": "stream",
     "text": [
      "Streaming tracklets:  60%|███████████████████████████████████▉                        | 128/214 [08:05<07:38,  5.33s/it]"
     ]
    },
    {
     "name": "stdout",
     "output_type": "stream",
     "text": [
      "Batch 123, Loss: 2.0650\n"
     ]
    },
    {
     "name": "stderr",
     "output_type": "stream",
     "text": [
      "Streaming tracklets:  62%|█████████████████████████████████████                       | 132/214 [08:08<07:21,  5.38s/it]"
     ]
    },
    {
     "name": "stdout",
     "output_type": "stream",
     "text": [
      "Batch 124, Loss: 1.9484\n"
     ]
    },
    {
     "name": "stderr",
     "output_type": "stream",
     "text": [
      "Streaming tracklets:  63%|█████████████████████████████████████▊                      | 135/214 [08:12<03:27,  2.62s/it]"
     ]
    },
    {
     "name": "stdout",
     "output_type": "stream",
     "text": [
      "Batch 125, Loss: 3.5013\n"
     ]
    },
    {
     "name": "stderr",
     "output_type": "stream",
     "text": [
      "Streaming tracklets:  63%|█████████████████████████████████████▊                      | 135/214 [08:16<03:26,  2.61s/it]"
     ]
    },
    {
     "name": "stdout",
     "output_type": "stream",
     "text": [
      "Batch 126, Loss: 3.4195\n"
     ]
    },
    {
     "name": "stderr",
     "output_type": "stream",
     "text": [
      "Streaming tracklets:  63%|█████████████████████████████████████▊                      | 135/214 [08:20<03:29,  2.65s/it]"
     ]
    },
    {
     "name": "stdout",
     "output_type": "stream",
     "text": [
      "Batch 127, Loss: 3.2972\n"
     ]
    },
    {
     "name": "stderr",
     "output_type": "stream",
     "text": [
      "Streaming tracklets:  64%|██████████████████████████████████████▏                     | 136/214 [08:23<06:51,  5.28s/it]"
     ]
    },
    {
     "name": "stdout",
     "output_type": "stream",
     "text": [
      "Batch 128, Loss: 3.1709\n"
     ]
    },
    {
     "name": "stderr",
     "output_type": "stream",
     "text": [
      "Streaming tracklets:  64%|██████████████████████████████████████▏                     | 136/214 [08:27<06:54,  5.31s/it]"
     ]
    },
    {
     "name": "stdout",
     "output_type": "stream",
     "text": [
      "Batch 129, Loss: 2.5145\n"
     ]
    },
    {
     "name": "stderr",
     "output_type": "stream",
     "text": [
      "Streaming tracklets:  64%|██████████████████████████████████████▏                     | 136/214 [08:31<06:49,  5.25s/it]"
     ]
    },
    {
     "name": "stdout",
     "output_type": "stream",
     "text": [
      "Batch 130, Loss: 2.4328\n"
     ]
    },
    {
     "name": "stderr",
     "output_type": "stream",
     "text": [
      "Streaming tracklets:  64%|██████████████████████████████████████▏                     | 136/214 [08:35<06:50,  5.26s/it]"
     ]
    },
    {
     "name": "stdout",
     "output_type": "stream",
     "text": [
      "Batch 131, Loss: 2.3177\n"
     ]
    },
    {
     "name": "stderr",
     "output_type": "stream",
     "text": [
      "Streaming tracklets:  65%|███████████████████████████████████████▎                    | 140/214 [08:39<06:42,  5.44s/it]"
     ]
    },
    {
     "name": "stdout",
     "output_type": "stream",
     "text": [
      "Batch 132, Loss: 2.1736\n"
     ]
    },
    {
     "name": "stderr",
     "output_type": "stream",
     "text": [
      "Streaming tracklets:  65%|███████████████████████████████████████▎                    | 140/214 [08:43<06:46,  5.50s/it]"
     ]
    },
    {
     "name": "stdout",
     "output_type": "stream",
     "text": [
      "Batch 133, Loss: 2.1540\n"
     ]
    },
    {
     "name": "stderr",
     "output_type": "stream",
     "text": [
      "Streaming tracklets:  65%|███████████████████████████████████████▎                    | 140/214 [08:46<06:39,  5.39s/it]"
     ]
    },
    {
     "name": "stdout",
     "output_type": "stream",
     "text": [
      "Batch 134, Loss: 2.1286\n"
     ]
    },
    {
     "name": "stderr",
     "output_type": "stream",
     "text": [
      "Streaming tracklets:  65%|███████████████████████████████████████▎                    | 140/214 [08:50<06:33,  5.31s/it]"
     ]
    },
    {
     "name": "stdout",
     "output_type": "stream",
     "text": [
      "Batch 135, Loss: 2.0879\n"
     ]
    },
    {
     "name": "stderr",
     "output_type": "stream",
     "text": [
      "Streaming tracklets:  67%|████████████████████████████████████████▎                   | 144/214 [08:54<06:04,  5.21s/it]"
     ]
    },
    {
     "name": "stdout",
     "output_type": "stream",
     "text": [
      "Batch 136, Loss: 2.0346\n"
     ]
    },
    {
     "name": "stderr",
     "output_type": "stream",
     "text": [
      "Streaming tracklets:  67%|████████████████████████████████████████▎                   | 144/214 [08:57<06:05,  5.22s/it]"
     ]
    },
    {
     "name": "stdout",
     "output_type": "stream",
     "text": [
      "Batch 137, Loss: 1.9880\n"
     ]
    },
    {
     "name": "stderr",
     "output_type": "stream",
     "text": [
      "Streaming tracklets:  67%|████████████████████████████████████████▎                   | 144/214 [09:01<05:57,  5.11s/it]"
     ]
    },
    {
     "name": "stdout",
     "output_type": "stream",
     "text": [
      "Batch 138, Loss: 1.9480\n"
     ]
    },
    {
     "name": "stderr",
     "output_type": "stream",
     "text": [
      "Streaming tracklets:  67%|████████████████████████████████████████▎                   | 144/214 [09:04<05:57,  5.10s/it]"
     ]
    },
    {
     "name": "stdout",
     "output_type": "stream",
     "text": [
      "Batch 139, Loss: 1.8852\n"
     ]
    },
    {
     "name": "stderr",
     "output_type": "stream",
     "text": [
      "Streaming tracklets:  69%|█████████████████████████████████████████▍                  | 148/214 [09:08<05:43,  5.21s/it]"
     ]
    },
    {
     "name": "stdout",
     "output_type": "stream",
     "text": [
      "Batch 140, Loss: 1.8062\n"
     ]
    },
    {
     "name": "stderr",
     "output_type": "stream",
     "text": [
      "Streaming tracklets:  69%|█████████████████████████████████████████▍                  | 148/214 [09:11<05:39,  5.15s/it]"
     ]
    },
    {
     "name": "stdout",
     "output_type": "stream",
     "text": [
      "Batch 141, Loss: 3.0629\n"
     ]
    },
    {
     "name": "stderr",
     "output_type": "stream",
     "text": [
      "Streaming tracklets:  69%|█████████████████████████████████████████▍                  | 148/214 [09:15<05:48,  5.28s/it]"
     ]
    },
    {
     "name": "stdout",
     "output_type": "stream",
     "text": [
      "Batch 142, Loss: 3.0156\n"
     ]
    },
    {
     "name": "stderr",
     "output_type": "stream",
     "text": [
      "Streaming tracklets:  69%|█████████████████████████████████████████▍                  | 148/214 [09:19<05:56,  5.40s/it]"
     ]
    },
    {
     "name": "stdout",
     "output_type": "stream",
     "text": [
      "Batch 143, Loss: 2.9395\n"
     ]
    },
    {
     "name": "stderr",
     "output_type": "stream",
     "text": [
      "Streaming tracklets:  71%|██████████████████████████████████████████▌                 | 152/214 [09:23<05:39,  5.47s/it]"
     ]
    },
    {
     "name": "stdout",
     "output_type": "stream",
     "text": [
      "Batch 144, Loss: 2.8405\n"
     ]
    },
    {
     "name": "stderr",
     "output_type": "stream",
     "text": [
      "Streaming tracklets:  71%|██████████████████████████████████████████▌                 | 152/214 [09:27<05:40,  5.49s/it]"
     ]
    },
    {
     "name": "stdout",
     "output_type": "stream",
     "text": [
      "Batch 145, Loss: 1.4315\n"
     ]
    },
    {
     "name": "stderr",
     "output_type": "stream",
     "text": [
      "Streaming tracklets:  71%|██████████████████████████████████████████▌                 | 152/214 [09:31<05:42,  5.52s/it]"
     ]
    },
    {
     "name": "stdout",
     "output_type": "stream",
     "text": [
      "Batch 146, Loss: 1.3337\n"
     ]
    },
    {
     "name": "stderr",
     "output_type": "stream",
     "text": [
      "Streaming tracklets:  71%|██████████████████████████████████████████▌                 | 152/214 [09:35<05:45,  5.58s/it]"
     ]
    },
    {
     "name": "stdout",
     "output_type": "stream",
     "text": [
      "Batch 147, Loss: 1.2556\n"
     ]
    },
    {
     "name": "stderr",
     "output_type": "stream",
     "text": [
      "Streaming tracklets:  73%|███████████████████████████████████████████▋                | 156/214 [09:39<05:22,  5.56s/it]"
     ]
    },
    {
     "name": "stdout",
     "output_type": "stream",
     "text": [
      "Batch 148, Loss: 1.1830\n"
     ]
    },
    {
     "name": "stderr",
     "output_type": "stream",
     "text": [
      "Streaming tracklets:  73%|███████████████████████████████████████████▋                | 156/214 [09:43<05:21,  5.55s/it]"
     ]
    },
    {
     "name": "stdout",
     "output_type": "stream",
     "text": [
      "Batch 149, Loss: 1.7523\n"
     ]
    },
    {
     "name": "stderr",
     "output_type": "stream",
     "text": [
      "Streaming tracklets:  73%|███████████████████████████████████████████▋                | 156/214 [09:46<05:25,  5.61s/it]"
     ]
    },
    {
     "name": "stdout",
     "output_type": "stream",
     "text": [
      "Batch 150, Loss: 1.6579\n"
     ]
    },
    {
     "name": "stderr",
     "output_type": "stream",
     "text": [
      "Streaming tracklets:  73%|███████████████████████████████████████████▋                | 156/214 [09:50<05:14,  5.43s/it]"
     ]
    },
    {
     "name": "stdout",
     "output_type": "stream",
     "text": [
      "Batch 151, Loss: 1.4869\n"
     ]
    },
    {
     "name": "stderr",
     "output_type": "stream",
     "text": [
      "Streaming tracklets:  75%|████████████████████████████████████████████▊               | 160/214 [09:54<04:52,  5.42s/it]"
     ]
    },
    {
     "name": "stdout",
     "output_type": "stream",
     "text": [
      "Batch 152, Loss: 1.2969\n"
     ]
    },
    {
     "name": "stderr",
     "output_type": "stream",
     "text": [
      "Streaming tracklets:  75%|████████████████████████████████████████████▊               | 160/214 [09:57<04:50,  5.37s/it]"
     ]
    },
    {
     "name": "stdout",
     "output_type": "stream",
     "text": [
      "Batch 153, Loss: 2.0849\n"
     ]
    },
    {
     "name": "stderr",
     "output_type": "stream",
     "text": [
      "Streaming tracklets:  75%|████████████████████████████████████████████▊               | 160/214 [10:01<04:50,  5.37s/it]"
     ]
    },
    {
     "name": "stdout",
     "output_type": "stream",
     "text": [
      "Batch 154, Loss: 2.0486\n"
     ]
    },
    {
     "name": "stderr",
     "output_type": "stream",
     "text": [
      "Streaming tracklets:  75%|████████████████████████████████████████████▊               | 160/214 [10:05<04:52,  5.42s/it]"
     ]
    },
    {
     "name": "stdout",
     "output_type": "stream",
     "text": [
      "Batch 155, Loss: 1.9862\n"
     ]
    },
    {
     "name": "stderr",
     "output_type": "stream",
     "text": [
      "Streaming tracklets:  77%|█████████████████████████████████████████████▉              | 164/214 [10:09<04:30,  5.41s/it]"
     ]
    },
    {
     "name": "stdout",
     "output_type": "stream",
     "text": [
      "Batch 156, Loss: 1.9016\n"
     ]
    },
    {
     "name": "stderr",
     "output_type": "stream",
     "text": [
      "Streaming tracklets:  77%|██████████████████████████████████████████████▎             | 165/214 [10:12<03:05,  3.79s/it]"
     ]
    },
    {
     "name": "stdout",
     "output_type": "stream",
     "text": [
      "Batch 157, Loss: 2.1849\n"
     ]
    },
    {
     "name": "stderr",
     "output_type": "stream",
     "text": [
      "Streaming tracklets:  77%|██████████████████████████████████████████████▎             | 165/214 [10:15<02:59,  3.67s/it]"
     ]
    },
    {
     "name": "stdout",
     "output_type": "stream",
     "text": [
      "Batch 158, Loss: 1.9166\n"
     ]
    },
    {
     "name": "stderr",
     "output_type": "stream",
     "text": [
      "Streaming tracklets:  77%|██████████████████████████████████████████████▎             | 165/214 [10:19<02:54,  3.55s/it]"
     ]
    },
    {
     "name": "stdout",
     "output_type": "stream",
     "text": [
      "Batch 159, Loss: 1.8620\n"
     ]
    },
    {
     "name": "stderr",
     "output_type": "stream",
     "text": [
      "Streaming tracklets:  79%|███████████████████████████████████████████████             | 168/214 [10:22<03:46,  4.91s/it]"
     ]
    },
    {
     "name": "stdout",
     "output_type": "stream",
     "text": [
      "Batch 160, Loss: 1.8498\n"
     ]
    },
    {
     "name": "stderr",
     "output_type": "stream",
     "text": [
      "Streaming tracklets:  79%|███████████████████████████████████████████████             | 168/214 [10:25<03:43,  4.85s/it]"
     ]
    },
    {
     "name": "stdout",
     "output_type": "stream",
     "text": [
      "Batch 161, Loss: 4.2148\n"
     ]
    },
    {
     "name": "stderr",
     "output_type": "stream",
     "text": [
      "Streaming tracklets:  79%|███████████████████████████████████████████████             | 168/214 [10:28<03:41,  4.82s/it]"
     ]
    },
    {
     "name": "stdout",
     "output_type": "stream",
     "text": [
      "Batch 162, Loss: 4.1851\n"
     ]
    },
    {
     "name": "stderr",
     "output_type": "stream",
     "text": [
      "Streaming tracklets:  79%|███████████████████████████████████████████████             | 168/214 [10:31<03:40,  4.79s/it]"
     ]
    },
    {
     "name": "stdout",
     "output_type": "stream",
     "text": [
      "Batch 163, Loss: 4.0931\n"
     ]
    },
    {
     "name": "stderr",
     "output_type": "stream",
     "text": [
      "Streaming tracklets:  80%|████████████████████████████████████████████████▏           | 172/214 [10:34<03:22,  4.83s/it]"
     ]
    },
    {
     "name": "stdout",
     "output_type": "stream",
     "text": [
      "Batch 164, Loss: 3.9913\n"
     ]
    },
    {
     "name": "stderr",
     "output_type": "stream",
     "text": [
      "Streaming tracklets:  80%|████████████████████████████████████████████████▏           | 172/214 [10:37<03:12,  4.58s/it]"
     ]
    },
    {
     "name": "stdout",
     "output_type": "stream",
     "text": [
      "Batch 165, Loss: 1.3322\n"
     ]
    },
    {
     "name": "stderr",
     "output_type": "stream",
     "text": [
      "Streaming tracklets:  81%|████████████████████████████████████████████████▊           | 174/214 [10:40<02:02,  3.07s/it]"
     ]
    },
    {
     "name": "stdout",
     "output_type": "stream",
     "text": [
      "Batch 166, Loss: 1.2995\n"
     ]
    },
    {
     "name": "stderr",
     "output_type": "stream",
     "text": [
      "Streaming tracklets:  80%|████████████████████████████████████████████████▏           | 172/214 [10:44<03:19,  4.75s/it]"
     ]
    },
    {
     "name": "stdout",
     "output_type": "stream",
     "text": [
      "Batch 167, Loss: 1.2542\n"
     ]
    },
    {
     "name": "stderr",
     "output_type": "stream",
     "text": [
      "Streaming tracklets:  82%|█████████████████████████████████████████████████▎          | 176/214 [10:47<02:55,  4.62s/it]IOPub message rate exceeded.\n",
      "The notebook server will temporarily stop sending output\n",
      "to the client in order to avoid crashing it.\n",
      "To change this limit, set the config variable\n",
      "`--NotebookApp.iopub_msg_rate_limit`.\n",
      "\n",
      "Current values:\n",
      "NotebookApp.iopub_msg_rate_limit=1000.0 (msgs/sec)\n",
      "NotebookApp.rate_limit_window=3.0 (secs)\n",
      "\n"
     ]
    },
    {
     "name": "stdout",
     "output_type": "stream",
     "text": [
      "Batch 88, Loss: 1.8048\n"
     ]
    },
    {
     "name": "stderr",
     "output_type": "stream",
     "text": [
      "Streaming tracklets:  45%|███████████████████████████▎                                 | 96/214 [05:53<10:07,  5.15s/it]"
     ]
    },
    {
     "name": "stdout",
     "output_type": "stream",
     "text": [
      "Batch 89, Loss: 0.7280\n"
     ]
    },
    {
     "name": "stderr",
     "output_type": "stream",
     "text": [
      "Streaming tracklets:  45%|███████████████████████████▎                                 | 96/214 [05:57<10:25,  5.30s/it]"
     ]
    },
    {
     "name": "stdout",
     "output_type": "stream",
     "text": [
      "Batch 90, Loss: 0.6911\n"
     ]
    },
    {
     "name": "stderr",
     "output_type": "stream",
     "text": [
      "Streaming tracklets:  45%|███████████████████████████▎                                 | 96/214 [06:01<10:34,  5.37s/it]"
     ]
    },
    {
     "name": "stdout",
     "output_type": "stream",
     "text": [
      "Batch 91, Loss: 0.6457\n"
     ]
    },
    {
     "name": "stderr",
     "output_type": "stream",
     "text": [
      "Streaming tracklets:  47%|████████████████████████████                                | 100/214 [06:04<08:31,  4.48s/it]"
     ]
    },
    {
     "name": "stdout",
     "output_type": "stream",
     "text": [
      "Batch 92, Loss: 0.5971\n"
     ]
    },
    {
     "name": "stderr",
     "output_type": "stream",
     "text": [
      "Streaming tracklets:  47%|████████████████████████████                                | 100/214 [06:07<07:57,  4.19s/it]"
     ]
    },
    {
     "name": "stdout",
     "output_type": "stream",
     "text": [
      "Batch 93, Loss: 2.4938\n"
     ]
    },
    {
     "name": "stderr",
     "output_type": "stream",
     "text": [
      "Streaming tracklets:  47%|████████████████████████████                                | 100/214 [06:09<07:29,  3.95s/it]"
     ]
    },
    {
     "name": "stdout",
     "output_type": "stream",
     "text": [
      "Batch 94, Loss: 2.4372\n"
     ]
    },
    {
     "name": "stderr",
     "output_type": "stream",
     "text": [
      "Streaming tracklets:  47%|████████████████████████████                                | 100/214 [06:12<07:24,  3.90s/it]"
     ]
    },
    {
     "name": "stdout",
     "output_type": "stream",
     "text": [
      "Batch 95, Loss: 2.3279\n"
     ]
    },
    {
     "name": "stderr",
     "output_type": "stream",
     "text": [
      "Streaming tracklets:  49%|█████████████████████████████▏                              | 104/214 [06:16<07:13,  3.94s/it]"
     ]
    },
    {
     "name": "stdout",
     "output_type": "stream",
     "text": [
      "Batch 96, Loss: 2.2189\n"
     ]
    },
    {
     "name": "stderr",
     "output_type": "stream",
     "text": [
      "Streaming tracklets:  49%|█████████████████████████████▏                              | 104/214 [06:21<08:27,  4.61s/it]"
     ]
    },
    {
     "name": "stdout",
     "output_type": "stream",
     "text": [
      "Batch 97, Loss: 2.7060\n"
     ]
    },
    {
     "name": "stderr",
     "output_type": "stream",
     "text": [
      "Streaming tracklets:  49%|█████████████████████████████▏                              | 104/214 [06:25<08:55,  4.86s/it]"
     ]
    },
    {
     "name": "stdout",
     "output_type": "stream",
     "text": [
      "Batch 98, Loss: 2.5275\n"
     ]
    },
    {
     "name": "stderr",
     "output_type": "stream",
     "text": [
      "Streaming tracklets:  49%|█████████████████████████████▏                              | 104/214 [06:29<09:00,  4.91s/it]"
     ]
    },
    {
     "name": "stdout",
     "output_type": "stream",
     "text": [
      "Batch 99, Loss: 2.3552\n"
     ]
    },
    {
     "name": "stderr",
     "output_type": "stream",
     "text": [
      "Streaming tracklets:  50%|██████████████████████████████▎                             | 108/214 [06:32<09:17,  5.25s/it]"
     ]
    },
    {
     "name": "stdout",
     "output_type": "stream",
     "text": [
      "Batch 100, Loss: 2.2094\n"
     ]
    },
    {
     "name": "stderr",
     "output_type": "stream",
     "text": [
      "Streaming tracklets:  50%|██████████████████████████████▎                             | 108/214 [06:36<08:55,  5.05s/it]"
     ]
    },
    {
     "name": "stdout",
     "output_type": "stream",
     "text": [
      "Batch 101, Loss: 2.1693\n"
     ]
    },
    {
     "name": "stderr",
     "output_type": "stream",
     "text": [
      "Streaming tracklets:  50%|██████████████████████████████▎                             | 108/214 [06:40<09:09,  5.18s/it]"
     ]
    },
    {
     "name": "stdout",
     "output_type": "stream",
     "text": [
      "Batch 102, Loss: 2.1029\n"
     ]
    },
    {
     "name": "stderr",
     "output_type": "stream",
     "text": [
      "Streaming tracklets:  50%|██████████████████████████████▎                             | 108/214 [06:44<09:18,  5.27s/it]"
     ]
    },
    {
     "name": "stdout",
     "output_type": "stream",
     "text": [
      "Batch 103, Loss: 2.0143\n"
     ]
    },
    {
     "name": "stderr",
     "output_type": "stream",
     "text": [
      "Streaming tracklets:  52%|███████████████████████████████▍                            | 112/214 [06:48<09:09,  5.38s/it]"
     ]
    },
    {
     "name": "stdout",
     "output_type": "stream",
     "text": [
      "Batch 104, Loss: 1.9267\n"
     ]
    },
    {
     "name": "stderr",
     "output_type": "stream",
     "text": [
      "Streaming tracklets:  52%|███████████████████████████████▍                            | 112/214 [06:52<09:16,  5.46s/it]"
     ]
    },
    {
     "name": "stdout",
     "output_type": "stream",
     "text": [
      "Batch 105, Loss: 1.7905\n"
     ]
    },
    {
     "name": "stderr",
     "output_type": "stream",
     "text": [
      "Streaming tracklets:  54%|████████████████████████████████▏                           | 115/214 [06:56<04:36,  2.79s/it]"
     ]
    },
    {
     "name": "stdout",
     "output_type": "stream",
     "text": [
      "Batch 106, Loss: 1.7226\n"
     ]
    },
    {
     "name": "stderr",
     "output_type": "stream",
     "text": [
      "Streaming tracklets:  52%|███████████████████████████████▍                            | 112/214 [07:00<09:26,  5.55s/it]"
     ]
    },
    {
     "name": "stdout",
     "output_type": "stream",
     "text": [
      "Batch 107, Loss: 1.6351\n"
     ]
    },
    {
     "name": "stderr",
     "output_type": "stream",
     "text": [
      "Streaming tracklets:  54%|████████████████████████████████▌                           | 116/214 [07:04<09:15,  5.67s/it]"
     ]
    },
    {
     "name": "stdout",
     "output_type": "stream",
     "text": [
      "Batch 108, Loss: 1.5454\n"
     ]
    },
    {
     "name": "stderr",
     "output_type": "stream",
     "text": [
      "Streaming tracklets:  54%|████████████████████████████████▌                           | 116/214 [07:08<09:14,  5.66s/it]"
     ]
    },
    {
     "name": "stdout",
     "output_type": "stream",
     "text": [
      "Batch 109, Loss: 1.8450\n"
     ]
    },
    {
     "name": "stderr",
     "output_type": "stream",
     "text": [
      "Streaming tracklets:  54%|████████████████████████████████▌                           | 116/214 [07:12<09:10,  5.62s/it]"
     ]
    },
    {
     "name": "stdout",
     "output_type": "stream",
     "text": [
      "Batch 110, Loss: 1.6794\n"
     ]
    },
    {
     "name": "stderr",
     "output_type": "stream",
     "text": [
      "Streaming tracklets:  54%|████████████████████████████████▌                           | 116/214 [07:16<08:59,  5.50s/it]"
     ]
    },
    {
     "name": "stdout",
     "output_type": "stream",
     "text": [
      "Batch 111, Loss: 1.6188\n"
     ]
    },
    {
     "name": "stderr",
     "output_type": "stream",
     "text": [
      "Streaming tracklets:  56%|█████████████████████████████████▋                          | 120/214 [07:20<08:32,  5.45s/it]"
     ]
    },
    {
     "name": "stdout",
     "output_type": "stream",
     "text": [
      "Batch 112, Loss: 1.5393\n"
     ]
    },
    {
     "name": "stderr",
     "output_type": "stream",
     "text": [
      "Streaming tracklets:  56%|█████████████████████████████████▋                          | 120/214 [07:23<08:23,  5.36s/it]"
     ]
    },
    {
     "name": "stdout",
     "output_type": "stream",
     "text": [
      "Batch 113, Loss: 2.1084\n"
     ]
    },
    {
     "name": "stderr",
     "output_type": "stream",
     "text": [
      "Streaming tracklets:  56%|█████████████████████████████████▋                          | 120/214 [07:27<08:11,  5.23s/it]"
     ]
    },
    {
     "name": "stdout",
     "output_type": "stream",
     "text": [
      "Batch 114, Loss: 2.0003\n"
     ]
    },
    {
     "name": "stderr",
     "output_type": "stream",
     "text": [
      "Streaming tracklets:  56%|█████████████████████████████████▋                          | 120/214 [07:30<07:56,  5.07s/it]"
     ]
    },
    {
     "name": "stdout",
     "output_type": "stream",
     "text": [
      "Batch 115, Loss: 1.8806\n"
     ]
    },
    {
     "name": "stderr",
     "output_type": "stream",
     "text": [
      "Streaming tracklets:  58%|██████████████████████████████████▊                         | 124/214 [07:33<07:26,  4.96s/it]"
     ]
    },
    {
     "name": "stdout",
     "output_type": "stream",
     "text": [
      "Batch 116, Loss: 1.7671\n"
     ]
    },
    {
     "name": "stderr",
     "output_type": "stream",
     "text": [
      "Streaming tracklets:  58%|██████████████████████████████████▊                         | 124/214 [07:37<07:15,  4.84s/it]"
     ]
    },
    {
     "name": "stdout",
     "output_type": "stream",
     "text": [
      "Batch 117, Loss: 2.0024\n"
     ]
    },
    {
     "name": "stderr",
     "output_type": "stream",
     "text": [
      "Streaming tracklets:  58%|██████████████████████████████████▊                         | 124/214 [07:41<07:36,  5.07s/it]"
     ]
    },
    {
     "name": "stdout",
     "output_type": "stream",
     "text": [
      "Batch 118, Loss: 1.9786\n"
     ]
    },
    {
     "name": "stderr",
     "output_type": "stream",
     "text": [
      "Streaming tracklets:  58%|██████████████████████████████████▊                         | 124/214 [07:45<08:14,  5.50s/it]"
     ]
    },
    {
     "name": "stdout",
     "output_type": "stream",
     "text": [
      "Batch 119, Loss: 1.9369\n"
     ]
    },
    {
     "name": "stderr",
     "output_type": "stream",
     "text": [
      "Streaming tracklets:  60%|███████████████████████████████████▉                        | 128/214 [07:50<08:01,  5.59s/it]"
     ]
    },
    {
     "name": "stdout",
     "output_type": "stream",
     "text": [
      "Batch 120, Loss: 1.8879\n"
     ]
    },
    {
     "name": "stderr",
     "output_type": "stream",
     "text": [
      "\r\n",
      "Streaming tracklets:  59%|███████████████████████████████████▌                        | 127/214 [07:50<04:18,  2.97s/it]"
     ]
    }
   ],
   "source": [
    "num_epochs = 30\n",
    "losses = []\n",
    "\n",
    "for epoch in range(num_epochs):\n",
    "    model.train()  # Set the model to training mode\n",
    "    running_loss = 0.0\n",
    "    correct_predictions = 0\n",
    "    total_predictions = 0\n",
    "    batch_count = 0  # Keep track of the number of batches in each epoch\n",
    "    \n",
    "    for batch_idx, (tracklets, seq_lengths_cpu, labels) in enumerate(subset_dataloader):\n",
    "#         print(tracklets.shape, labels.shape)\n",
    "        tracklets, labels = tracklets.to(DEVICE), labels.to(DEVICE)\n",
    "        seq_lengths_gpu = seq_lengths_cpu.to(DEVICE)\n",
    "    \n",
    "        optimizer.zero_grad()\n",
    "        outputs = model(tracklets, seq_lengths_cpu)\n",
    "        loss = criterion(outputs, labels)\n",
    "        loss.backward()\n",
    "        optimizer.step()\n",
    "\n",
    "        # Track statistics\n",
    "        running_loss += loss.item()\n",
    "        \n",
    "        print(f\"Batch {batch_idx + 1}, Loss: {loss.item():.4f}\")\n",
    "        \n",
    "        # Get predictions\n",
    "        _, predicted = torch.max(outputs, 1)\n",
    "        correct_predictions += (predicted == labels).sum().item()\n",
    "        total_predictions += labels.size(0)\n",
    "        \n",
    "        batch_count += 1\n",
    "\n",
    "    epoch_loss = running_loss / batch_count\n",
    "    losses.append(epoch_loss)\n",
    "    accuracy = correct_predictions / total_predictions * 100\n",
    "    print(f\"Epoch {epoch + 1}/{num_epochs}, Loss: {epoch_loss:.4f}, Accuracy: {accuracy:.2f}%\")"
   ]
  },
  {
   "cell_type": "code",
   "execution_count": 23,
   "metadata": {},
   "outputs": [
    {
     "data": {
      "image/png": "[encoded data removed]",
      "text/plain": [
       "<Figure size 640x480 with 1 Axes>"
      ]
     },
     "metadata": {},
     "output_type": "display_data"
    }
   ],
   "source": [
    "import matplotlib.pyplot as plt \n",
    "\n",
    "plt.plot(losses)\n",
    "plt.xlabel(\"Epochs\")\n",
    "plt.ylabel(\"Loss\")\n",
    "plt.title(\"Training Loss Over Epochs\")\n",
    "plt.show()"
   ]
  },
  {
   "cell_type": "code",
   "execution_count": 30,
   "metadata": {},
   "outputs": [
    {
     "name": "stdout",
     "output_type": "stream",
     "text": [
      "Final loss after 30 epochs: 0.06\n",
      "Final training accuracy: 0.98\n"
     ]
    }
   ],
   "source": [
    "print(\"Final loss after 30 epochs:\", round(losses[-1],2))\n",
    "print(\"Final training accuracy:\", round(correct_predictions/total_predictions,2))"
   ]
  },
  {
   "cell_type": "code",
   "execution_count": 24,
   "metadata": {},
   "outputs": [
    {
     "name": "stdout",
     "output_type": "stream",
     "text": [
      "ImageRNN(\n",
      "  (cnn): CNNFeatureExtractor(\n",
      "    (features): Sequential(\n",
      "      (0): Sequential(\n",
      "        (0): Conv2d(3, 64, kernel_size=(3, 3), stride=(1, 1), padding=(1, 1))\n",
      "        (1): ReLU()\n",
      "        (2): Conv2d(64, 64, kernel_size=(3, 3), stride=(1, 1), padding=(1, 1))\n",
      "        (3): ReLU()\n",
      "        (4): MaxPool2d(kernel_size=2, stride=2, padding=0, dilation=1, ceil_mode=False)\n",
      "      )\n",
      "      (1): Sequential(\n",
      "        (0): Conv2d(64, 128, kernel_size=(3, 3), stride=(1, 1), padding=(1, 1))\n",
      "        (1): ReLU()\n",
      "        (2): Conv2d(128, 128, kernel_size=(3, 3), stride=(1, 1), padding=(1, 1))\n",
      "        (3): ReLU()\n",
      "        (4): MaxPool2d(kernel_size=2, stride=2, padding=0, dilation=1, ceil_mode=False)\n",
      "      )\n",
      "      (2): Sequential(\n",
      "        (0): Conv2d(128, 256, kernel_size=(3, 3), stride=(1, 1), padding=(1, 1))\n",
      "        (1): ReLU()\n",
      "        (2): Conv2d(256, 256, kernel_size=(3, 3), stride=(1, 1), padding=(1, 1))\n",
      "        (3): ReLU()\n",
      "        (4): MaxPool2d(kernel_size=2, stride=2, padding=0, dilation=1, ceil_mode=False)\n",
      "      )\n",
      "      (3): Sequential(\n",
      "        (0): Conv2d(256, 512, kernel_size=(3, 3), stride=(1, 1), padding=(1, 1))\n",
      "        (1): ReLU()\n",
      "        (2): Conv2d(512, 512, kernel_size=(3, 3), stride=(1, 1), padding=(1, 1))\n",
      "        (3): ReLU()\n",
      "        (4): MaxPool2d(kernel_size=2, stride=2, padding=0, dilation=1, ceil_mode=False)\n",
      "      )\n",
      "      (4): Sequential(\n",
      "        (0): Conv2d(512, 512, kernel_size=(3, 3), stride=(1, 1), padding=(1, 1))\n",
      "        (1): ReLU()\n",
      "        (2): Conv2d(512, 512, kernel_size=(3, 3), stride=(1, 1), padding=(1, 1))\n",
      "        (3): ReLU()\n",
      "        (4): MaxPool2d(kernel_size=2, stride=2, padding=0, dilation=1, ceil_mode=False)\n",
      "      )\n",
      "      (5): Sequential(\n",
      "        (0): Conv2d(512, 1024, kernel_size=(3, 3), stride=(1, 1), padding=(1, 1))\n",
      "        (1): ReLU()\n",
      "        (2): Conv2d(1024, 1024, kernel_size=(3, 3), stride=(1, 1), padding=(1, 1))\n",
      "        (3): ReLU()\n",
      "        (4): MaxPool2d(kernel_size=2, stride=2, padding=0, dilation=1, ceil_mode=False)\n",
      "      )\n",
      "    )\n",
      "  )\n",
      "  (cnn_project): Linear(in_features=4096, out_features=512, bias=True)\n",
      "  (rnn): LSTM(512, 512, num_layers=2, batch_first=True)\n",
      "  (fc): Linear(in_features=512, out_features=100, bias=True)\n",
      ")\n"
     ]
    }
   ],
   "source": [
    "print(model)"
   ]
  },
  {
   "cell_type": "code",
   "execution_count": 25,
   "metadata": {},
   "outputs": [],
   "source": [
    "torch.save(model, \"rnn_overfit.pth\")"
   ]
  },
  {
   "cell_type": "markdown",
   "metadata": {},
   "source": [
    "### Evaluating after overfitting to small portion of dataset"
   ]
  },
  {
   "cell_type": "code",
   "execution_count": 10,
   "metadata": {},
   "outputs": [],
   "source": [
    "# Need to first create a new Dataset and Dataloader that also return tracklet ID's\n",
    "\n",
    "class TrackletTestDataset(IterableDataset):\n",
    "    def __init__(self, img_dir, gt_file, transform=None, tracklet_ids=None):\n",
    "        super().__init__()\n",
    "        self.img_dir = img_dir\n",
    "        self.gt_file = gt_file\n",
    "        self.transform = transform\n",
    "        with open(gt_file, \"r\") as f:\n",
    "            self.gt_data = json.load(f)\n",
    "        if tracklet_ids == None:\n",
    "            self.tracklet_ids = [d for d in os.listdir(img_dir) if os.path.isdir(os.path.join(img_dir, d))]\n",
    "        else:\n",
    "            self.tracklet_ids = tracklet_ids\n",
    "\n",
    "    def __iter__(self):\n",
    "        \"\"\"\n",
    "        Generator function for streaming the dataset.\n",
    "        Yields: (tracklet_tensor, label)\n",
    "        \"\"\"\n",
    "        for tracklet_id in tqdm(self.tracklet_ids, desc=\"Streaming tracklets\"):\n",
    "            tracklet_path = os.path.join(self.img_dir, tracklet_id)\n",
    "            label = self.gt_data[tracklet_id]\n",
    "\n",
    "            # Load images one by one\n",
    "            images = []\n",
    "            for filename in sorted(os.listdir(tracklet_path)):\n",
    "                if filename.endswith(\".jpg\"):\n",
    "                    img_path = os.path.join(tracklet_path, filename)\n",
    "                    try:\n",
    "                        img = Image.open(img_path).convert(\"RGB\")\n",
    "                        if self.transform:\n",
    "                            img = self.transform(img)\n",
    "                        images.append(img)\n",
    "                    except Exception as e:\n",
    "                        print(f\"Error loading image {img_path}: {e}\")\n",
    "                        continue\n",
    "\n",
    "            if len(images) == 0:\n",
    "                continue\n",
    "\n",
    "            tracklet_tensor = torch.stack(images)\n",
    "\n",
    "            # Use 0 for the illegible class (CrossEntropyLoss requires labels starting at 0)\n",
    "            label_tensor = torch.tensor(0 if label == -1 else label)\n",
    "\n",
    "            yield tracklet_tensor, label_tensor, str(tracklet_id)\n",
    "\n",
    "def test_collate_fn(batch):\n",
    "    \"\"\"\n",
    "    Since some tracklets are longer than others, we need a custom collate function to divide them into batches.\n",
    "    Our approach pads each sequence to the length of the longest sequence so it may be passed to nn.utils.rnn.pack_padded_sequence().\n",
    "    Each element in the batch is a tuple (tracklet_tensor, label), where each tracklet_tensor has shape (max_seq_len, C, H, W).\n",
    "    \"\"\"\n",
    "    tracklets, labels, tracklet_ids = zip(*batch)\n",
    "    seq_lengths = [t.shape[0] for t in tracklets]\n",
    "\n",
    "    # Sort the batch in descending order of sequence lengths\n",
    "    sorted_indices = sorted(range(len(seq_lengths)), key=lambda i: seq_lengths[i], reverse=True)\n",
    "    sorted_tracklets = [tracklets[i] for i in sorted_indices]\n",
    "    sorted_labels = [labels[i] for i in sorted_indices]\n",
    "    sorted_seq_lengths = [seq_lengths[i] for i in sorted_indices]\n",
    "    sorted_tracklet_ids = [tracklet_ids[i] for i in sorted_indices]\n",
    "\n",
    "    # Pad the tracklet sequences to the maximum sequence length in the batch\n",
    "    padded_tracklets = pad_sequence(sorted_tracklets, batch_first=True)\n",
    "\n",
    "    return padded_tracklets, torch.tensor(sorted_seq_lengths), torch.tensor(sorted_labels), sorted_tracklet_ids"
   ]
  },
  {
   "cell_type": "code",
   "execution_count": 11,
   "metadata": {},
   "outputs": [],
   "source": [
    "IMG_DIR_TEST = r\"/home/user/jersey-number-recognition/replicating_results/jersey-number-pipeline/data/SoccerNet/test/images/\"\n",
    "GT_FILE_TEST = r\"/home/user/jersey-number-recognition/replicating_results/jersey-number-pipeline/data/SoccerNet/test/test_gt.json\"\n",
    "\n",
    "BATCH_SIZE = 4\n",
    "\n",
    "test_dataset = TrackletTestDataset(IMG_DIR_TEST, GT_FILE_TEST, transform=frame_transform)\n",
    "test_dataloader = DataLoader(test_dataset, batch_size=BATCH_SIZE, num_workers=2, collate_fn=test_collate_fn)"
   ]
  },
  {
   "cell_type": "code",
   "execution_count": 35,
   "metadata": {},
   "outputs": [
    {
     "name": "stdout",
     "output_type": "stream",
     "text": [
      "odict_keys(['cnn.features.0.0.weight', 'cnn.features.0.0.bias', 'cnn.features.0.2.weight', 'cnn.features.0.2.bias', 'cnn.features.1.0.weight', 'cnn.features.1.0.bias', 'cnn.features.1.2.weight', 'cnn.features.1.2.bias', 'cnn.features.2.0.weight', 'cnn.features.2.0.bias', 'cnn.features.2.2.weight', 'cnn.features.2.2.bias', 'cnn.features.3.0.weight', 'cnn.features.3.0.bias', 'cnn.features.3.2.weight', 'cnn.features.3.2.bias', 'cnn.features.4.0.weight', 'cnn.features.4.0.bias', 'cnn.features.4.2.weight', 'cnn.features.4.2.bias', 'cnn.features.5.0.weight', 'cnn.features.5.0.bias', 'cnn.features.5.2.weight', 'cnn.features.5.2.bias', 'cnn_project.weight', 'cnn_project.bias', 'rnn.weight_ih_l0', 'rnn.weight_hh_l0', 'rnn.bias_ih_l0', 'rnn.bias_hh_l0', 'rnn.weight_ih_l1', 'rnn.weight_hh_l1', 'rnn.bias_ih_l1', 'rnn.bias_hh_l1', 'fc.weight', 'fc.bias'])\n"
     ]
    }
   ],
   "source": [
    "full_training_model = torch.load(\"rnn_overfit.pth\")\n",
    "print(full_training_model.state_dict().keys())"
   ]
  },
  {
   "cell_type": "code",
   "execution_count": 37,
   "metadata": {},
   "outputs": [
    {
     "name": "stderr",
     "output_type": "stream",
     "text": [
      "Streaming tracklets: 100%|██████████████████████████████████████████████████████████| 1211/1211 [35:26<00:00,  1.76s/it]\n",
      "Streaming tracklets: 100%|██████████████████████████████████████████████████████████| 1211/1211 [35:27<00:00,  1.76s/it]\n"
     ]
    },
    {
     "name": "stdout",
     "output_type": "stream",
     "text": [
      "Test Loss: 5.6081, Test Accuracy: 19.98%\n"
     ]
    }
   ],
   "source": [
    "full_training_model.eval()\n",
    "test_loss = 0.0\n",
    "correct_predictions = 0\n",
    "total_predictions = 0\n",
    "batch_count = 0\n",
    "\n",
    "# Dictionary to store predictions in format expected by EvalAI: key = tracklet_id (string), value = predicted number (int)\n",
    "predictions = {}\n",
    "\n",
    "with torch.no_grad():\n",
    "    for batch_idx, (tracklets, seq_lengths_cpu, labels, tracklet_ids) in enumerate(test_dataloader):\n",
    "        tracklets, labels = tracklets.to(DEVICE), labels.to(DEVICE)\n",
    "        seq_lengths = seq_lengths_cpu.to(DEVICE)\n",
    "    \n",
    "        outputs = full_training_model(tracklets, seq_lengths_cpu)\n",
    "        loss = criterion(outputs, labels)\n",
    "        test_loss += loss.item()\n",
    "        \n",
    "        batch_count += 1\n",
    "        _, predicted = torch.max(outputs, 1)\n",
    "        correct_predictions += (predicted == labels).sum().item()\n",
    "        total_predictions += labels.size(0)\n",
    "        \n",
    "        # Store each prediction, replacing 0 with -1\n",
    "        for i, t_id in enumerate(tracklet_ids):\n",
    "            pred_value = predicted[i].item()\n",
    "            if pred_value == 0:\n",
    "                pred_value = -1\n",
    "            predictions[str(t_id)] = pred_value\n",
    "\n",
    "average_loss = test_loss / batch_count\n",
    "accuracy = (correct_predictions / total_predictions) * 100\n",
    "\n",
    "print(f\"Test Loss: {average_loss:.4f}, Test Accuracy: {accuracy:.2f}%\")\n",
    "with open(\"overfit_test_preds.json\", \"w\") as f:\n",
    "    json.dump(predictions, f)"
   ]
  },
  {
   "cell_type": "code",
   "execution_count": 39,
   "metadata": {},
   "outputs": [
    {
     "name": "stdout",
     "output_type": "stream",
     "text": [
      "{1, 3, 4, 5, 6, 7, 8, 9, 10, 11, 14, 15, 16, 17, 18, 19, 20, 22, 23, 24, 25, 26, 27, 29, 30, 31, 33, 34, 36, 40, 44, 50, -1}\n"
     ]
    }
   ],
   "source": [
    "print(set(predictions.values()))"
   ]
  },
  {
   "cell_type": "markdown",
   "metadata": {},
   "source": [
    "### Full training"
   ]
  },
  {
   "cell_type": "code",
   "execution_count": 13,
   "metadata": {},
   "outputs": [],
   "source": [
    "# Creating a new class with the same layers but this time the CNN is also trainable.\n",
    "\n",
    "class FinalImageRNN(nn.Module):\n",
    "    \n",
    "    # Init remains the same\n",
    "    def __init__(self, cnn_model, hidden_dim=512, num_layers=2, rnn_output_dim=100, rnn_type=\"LSTM\", cnn_feature_dim=256):\n",
    "        super(FinalImageRNN, self).__init__()\n",
    "        # CNN feature extractor without the fc block\n",
    "        self.cnn = CNNFeatureExtractor(cnn_model)\n",
    "        # CNN output dimension is 1024 * 2 * 2 = 4096\n",
    "        self.cnn_out_dim = 1024 * 2 * 2  \n",
    "        # Projection layer: from 4096 to 256\n",
    "        self.cnn_project = nn.Linear(self.cnn_out_dim, cnn_feature_dim)\n",
    "        # RNN layer: input dimension is cnn_feature_dim\n",
    "        rnn_cls = nn.LSTM if rnn_type == 'LSTM' else nn.GRU\n",
    "        self.rnn = rnn_cls(input_size=cnn_feature_dim, hidden_size=hidden_dim, \n",
    "                           num_layers=num_layers, batch_first=True)\n",
    "        # Final output layer\n",
    "        self.fc = nn.Linear(hidden_dim, rnn_output_dim)\n",
    "\n",
    "    def forward(self, x, seq_lengths):\n",
    "        \"\"\"\n",
    "        x: Tensor of shape (batch_size, seq_len, C, H, W)\n",
    "        seq_lengths: Tensor or list of actual sequence lengths for each tracklet.\n",
    "        \"\"\"\n",
    "        batch_size, seq_len, C, H, W = x.shape\n",
    "        cnn_features = []\n",
    "#         print(seq_len)\n",
    "        # Process each frame in the sequence\n",
    "        for i in range(seq_len):\n",
    "            img_batch = x[:, i]  # Shape: (batch_size, C, H, W)\n",
    "            \n",
    "            # NO LONGER with torch.no_grad()\n",
    "            features = self.cnn(img_batch)  # Shape: (batch_size, 1024, 2, 2)\n",
    "            \n",
    "            features = features.view(batch_size, -1)  # Flatten to (batch_size, 4096)\n",
    "            features = self.cnn_project(features)       # Project to (batch_size, cnn_feature_dim)\n",
    "            cnn_features.append(features)\n",
    "        # Stack along the time dimension: (batch_size, seq_len, cnn_feature_dim)\n",
    "        cnn_features = torch.stack(cnn_features, dim=1)\n",
    "        # Pack the padded sequence\n",
    "        packed_seq = pack_padded_sequence(cnn_features, lengths=seq_lengths, batch_first=True, enforce_sorted=True)\n",
    "        packed_out, _ = self.rnn(packed_seq)\n",
    "        # Unpack the sequence\n",
    "        padded_out, _ = pad_packed_sequence(packed_out, batch_first=True)\n",
    "        # For each sample, select the output at the last valid time step\n",
    "        last_outputs = []\n",
    "        for i, length in enumerate(seq_lengths):\n",
    "            last_outputs.append(padded_out[i, length - 1, :])\n",
    "        last_outputs = torch.stack(last_outputs, dim=0)\n",
    "        output = self.fc(last_outputs)  # Final prediction: (batch_size, rnn_output_dim)\n",
    "        return output"
   ]
  },
  {
   "cell_type": "code",
   "execution_count": 12,
   "metadata": {},
   "outputs": [],
   "source": [
    "def evaluate_model(model, eval_dataloader, criterion, device, json_filename):\n",
    "    \"\"\"\n",
    "    Encapsulates the code run a few cells ago, so that we can evaluate the model on the test set every couple of epochs.\n",
    "    \"\"\"\n",
    "    model.eval()\n",
    "    eval_loss = 0.0\n",
    "    correct_predictions = 0\n",
    "    total_predictions = 0\n",
    "    batch_count = 0\n",
    "    predictions = {}  # To store predictions for each tracklet\n",
    "\n",
    "    with torch.no_grad():\n",
    "        for batch_idx, (tracklets, seq_lengths_cpu, labels, tracklet_ids) in enumerate(eval_dataloader):\n",
    "            tracklets, labels = tracklets.to(device), labels.to(device)\n",
    "            seq_lengths = seq_lengths_cpu.to(device)\n",
    "            \n",
    "            outputs = model(tracklets, seq_lengths_cpu)\n",
    "            loss = criterion(outputs, labels)\n",
    "            eval_loss += loss.item()\n",
    "            \n",
    "            batch_count += 1\n",
    "            _, predicted = torch.max(outputs, 1)\n",
    "            correct_predictions += (predicted == labels).sum().item()\n",
    "            total_predictions += labels.size(0)\n",
    "            \n",
    "            for i, t_id in enumerate(tracklet_ids):\n",
    "                pred_value = predicted[i].item()\n",
    "                if pred_value == 0:\n",
    "                    pred_value = -1\n",
    "                predictions[str(t_id)] = pred_value\n",
    "\n",
    "    average_loss = eval_loss / batch_count\n",
    "    accuracy = (correct_predictions / total_predictions) * 100\n",
    "    print(f\"Evaluation - Loss: {average_loss:.4f}, Accuracy: {accuracy:.2f}%\")\n",
    "    \n",
    "    with open(json_filename, \"w\") as f:\n",
    "        json.dump(predictions, f)\n",
    "    \n",
    "    return average_loss, accuracy"
   ]
  },
  {
   "cell_type": "code",
   "execution_count": 13,
   "metadata": {},
   "outputs": [],
   "source": [
    "BATCH_SIZE = 6\n",
    "CNN_LEARNING_RATE = 1e-5 # Lower LR for CNN, since we don't want the features to change faster than the RNN can learn \n",
    "RNN_LEARNING_RATE = 1e-4\n",
    "FC_LEARNING_RATE = 1e-4 \n",
    "EPOCHS = 6\n",
    "DEVICE = torch.device('cuda' if torch.cuda.is_available() else 'cpu')"
   ]
  },
  {
   "cell_type": "code",
   "execution_count": 14,
   "metadata": {},
   "outputs": [],
   "source": [
    "dataset = TrackletDataset(os.path.join(IMG_DIR), os.path.join(GT_FILE), transform=frame_transform)\n",
    "dataloader = DataLoader(dataset, batch_size=BATCH_SIZE, num_workers=2, collate_fn=collate_fn)"
   ]
  },
  {
   "cell_type": "code",
   "execution_count": 19,
   "metadata": {},
   "outputs": [],
   "source": [
    "torch.cuda.empty_cache()"
   ]
  },
  {
   "cell_type": "code",
   "execution_count": 20,
   "metadata": {},
   "outputs": [],
   "source": [
    "trainable_cnn_model = torch.load(\"test_cnn.pth\", weights_only=False)"
   ]
  },
  {
   "cell_type": "code",
   "execution_count": 21,
   "metadata": {},
   "outputs": [],
   "source": [
    "overfit_state_dict = torch.load(\"rnn_overfit.pth\", map_location=DEVICE).state_dict()\n",
    "\n",
    "full_training_model = ImageRNN(cnn_model=trainable_cnn_model, hidden_dim=512, num_layers=2, cnn_feature_dim=512)\n",
    "full_training_model.to(DEVICE)\n",
    "\n",
    "# Load state dict from the previously trained (overfitted on 15% of dataset) RNN \n",
    "full_training_model.load_state_dict(overfit_state_dict, strict=True) \n",
    "\n",
    "criterion = nn.CrossEntropyLoss()  \n",
    "full_training_optimizer = optim.Adam(full_training_model.parameters(), lr=LEARNING_RATE)"
   ]
  },
  {
   "cell_type": "code",
   "execution_count": null,
   "metadata": {},
   "outputs": [],
   "source": [
    "# For per-epoch graph\n",
    "full_training_losses = []\n",
    "full_training_acc = []\n",
    "# For per-batch graph\n",
    "batch_losses = []\n",
    "batch_accuracies = []"
   ]
  },
  {
   "cell_type": "code",
   "execution_count": null,
   "metadata": {},
   "outputs": [],
   "source": [
    "log_file = \"full_training_logs.txt\"\n",
    "\n",
    "# Write everything being printed to a text file to monitor performance.\n",
    "with open(log_file, \"a\") as f:\n",
    "    for epoch in range(1,EPOCHS):\n",
    "        full_training_model.train()  # \n",
    "        running_loss = 0.0\n",
    "        correct_predictions = 0\n",
    "        total_predictions = 0\n",
    "        batch_count = 0  # Keeps track of the number of batches in each epoch\n",
    "\n",
    "        for batch_idx, (tracklets, seq_lengths_cpu, labels) in enumerate(dataloader):\n",
    "            tracklets, labels = tracklets.to(DEVICE), labels.to(DEVICE)\n",
    "            seq_lengths_gpu = seq_lengths_cpu.to(DEVICE)\n",
    "\n",
    "            full_training_optimizer.zero_grad()\n",
    "            outputs = full_training_model(tracklets, seq_lengths_cpu)\n",
    "            loss = criterion(outputs, labels)\n",
    "            loss.backward()\n",
    "            full_training_optimizer.step()\n",
    "\n",
    "            # Batch statistics\n",
    "            batch_loss = loss.item()\n",
    "            _, predicted = torch.max(outputs, 1)\n",
    "            batch_correct = (predicted == labels).sum().item()\n",
    "            batch_accuracy = (batch_correct / labels.size(0)) * 100\n",
    "            batch_losses.append(batch_loss)\n",
    "            batch_accuracies.append(batch_accuracy)\n",
    "\n",
    "            # Track per-epoch stats\n",
    "            running_loss += batch_loss\n",
    "            correct_predictions += batch_correct\n",
    "            total_predictions += labels.size(0)\n",
    "            batch_count += 1\n",
    "\n",
    "            # Print batch info every 10 batches\n",
    "            if (batch_idx + 1) % 10 == 0:\n",
    "                batch_log_msg = (\n",
    "                    f\"Epoch {epoch + 1}/{EPOCHS}, Batch {batch_idx + 1}, Loss: {batch_loss:.4f}, Accuracy: {batch_accuracy:.2f}%\"\n",
    "                )\n",
    "                print(batch_log_msg)\n",
    "                f.write(batch_log_msg + \"\\n\")\n",
    "\n",
    "        epoch_loss = running_loss / batch_count\n",
    "        accuracy = correct_predictions / total_predictions * 100\n",
    "\n",
    "        full_training_losses.append(epoch_loss)\n",
    "        full_training_acc.append(accuracy)\n",
    "\n",
    "        epoch_log_msg = (\n",
    "            f\"\\nEpoch {epoch + 1}/{EPOCHS}, Loss: {epoch_loss:.4f}, Accuracy: {accuracy:.2f}%\\n\"\n",
    "        )\n",
    "        print(epoch_log_msg)\n",
    "        f.write(epoch_log_msg)\n",
    "\n",
    "        # Evaluate on test set every other epoch so we can keep track of learning. Also a good idea to save the weights\n",
    "        if (epoch + 1) % 2 == 0:\n",
    "            eval_json_filename = f\"evaluation_epoch_{epoch+1}.json\"\n",
    "            avg_test_loss, test_accuracy = evaluate_model(full_training_model, test_dataloader, criterion, DEVICE, eval_json_filename)\n",
    "            eval_log_msg = (\n",
    "                f\"Evaluation after epoch {epoch+1}: \\nTest Loss: {avg_test_loss:.4f}, Test Accuracy: {test_accuracy:.2f}%\"\n",
    "            )\n",
    "            print(eval_log_msg)\n",
    "            f.write(eval_log_msg + \"\\n\")\n",
    "            \n",
    "            weights_filename = f\"model_weights_epoch_{epoch+1}.pt\"\n",
    "            torch.save(full_training_model.state_dict(), weights_filename)\n",
    "            save_log_msg = f\"Saved model weights at: {weights_filename}\\n\"\n",
    "            print(save_log_msg)\n",
    "            f.write(save_log_msg)\n",
    "            "
   ]
  },
  {
   "cell_type": "code",
   "execution_count": null,
   "metadata": {},
   "outputs": [],
   "source": [
    "with open(log_file, \"a\") as f:\n",
    "    for epoch in range(6,12):\n",
    "        full_training_model.train()  # \n",
    "        running_loss = 0.0\n",
    "        correct_predictions = 0\n",
    "        total_predictions = 0\n",
    "        batch_count = 0  # Keeps track of the number of batches in each epoch\n",
    "\n",
    "        for batch_idx, (tracklets, seq_lengths_cpu, labels) in enumerate(dataloader):\n",
    "            tracklets, labels = tracklets.to(DEVICE), labels.to(DEVICE)\n",
    "            seq_lengths_gpu = seq_lengths_cpu.to(DEVICE)\n",
    "\n",
    "            full_training_optimizer.zero_grad()\n",
    "            outputs = full_training_model(tracklets, seq_lengths_cpu)\n",
    "            loss = criterion(outputs, labels)\n",
    "            loss.backward()\n",
    "            full_training_optimizer.step()\n",
    "\n",
    "            # Batch statistics\n",
    "            batch_loss = loss.item()\n",
    "            _, predicted = torch.max(outputs, 1)\n",
    "            batch_correct = (predicted == labels).sum().item()\n",
    "            batch_accuracy = (batch_correct / labels.size(0)) * 100\n",
    "            batch_losses.append(batch_loss)\n",
    "            batch_accuracies.append(batch_accuracy)\n",
    "\n",
    "            # Track per-epoch stats\n",
    "            running_loss += batch_loss\n",
    "            correct_predictions += batch_correct\n",
    "            total_predictions += labels.size(0)\n",
    "            batch_count += 1\n",
    "\n",
    "            # Print batch info every 10 batches\n",
    "            if (batch_idx + 1) % 10 == 0:\n",
    "                batch_log_msg = (\n",
    "                    f\"Epoch {epoch + 1}/{EPOCHS}, Batch {batch_idx + 1}, Loss: {batch_loss:.4f}, Accuracy: {batch_accuracy:.2f}%\"\n",
    "                )\n",
    "                print(batch_log_msg)\n",
    "                f.write(batch_log_msg + \"\\n\")\n",
    "\n",
    "        epoch_loss = running_loss / batch_count\n",
    "        accuracy = correct_predictions / total_predictions * 100\n",
    "\n",
    "        full_training_losses.append(epoch_loss)\n",
    "        full_training_acc.append(accuracy)\n",
    "\n",
    "        epoch_log_msg = (\n",
    "            f\"\\nEpoch {epoch + 1}/{EPOCHS}, Loss: {epoch_loss:.4f}, Accuracy: {accuracy:.2f}%\\n\"\n",
    "        )\n",
    "        print(epoch_log_msg)\n",
    "        f.write(epoch_log_msg)\n",
    "\n",
    "        # Evaluate on test set every other epoch so we can keep track of learning. Also a good idea to save the weights\n",
    "        if (epoch + 1) % 2 == 0:\n",
    "            eval_json_filename = f\"evaluation_epoch_{epoch+1}.json\"\n",
    "            avg_test_loss, test_accuracy = evaluate_model(full_training_model, test_dataloader, criterion, DEVICE, eval_json_filename)\n",
    "            eval_log_msg = (\n",
    "                f\"Evaluation after epoch {epoch+1}: \\nTest Loss: {avg_test_loss:.4f}, Test Accuracy: {test_accuracy:.2f}%\"\n",
    "            )\n",
    "            print(eval_log_msg)\n",
    "            f.write(eval_log_msg + \"\\n\")\n",
    "            \n",
    "            weights_filename = f\"model_weights_epoch_{epoch+1}.pt\"\n",
    "            torch.save(full_training_model.state_dict(), weights_filename)\n",
    "            save_log_msg = f\"Saved model weights at: {weights_filename}\\n\"\n",
    "            print(save_log_msg)\n",
    "            f.write(save_log_msg)\n",
    "            "
   ]
  },
  {
   "cell_type": "code",
   "execution_count": null,
   "metadata": {},
   "outputs": [],
   "source": [
    "import matplotlib.pyplot as plt\n",
    "\n",
    "plt.plot(full_training_losses)\n",
    "plt.xlabel(\"Epochs\")\n",
    "plt.ylabel(\"Loss\")\n",
    "plt.show()"
   ]
  },
  {
   "cell_type": "code",
   "execution_count": null,
   "metadata": {},
   "outputs": [],
   "source": []
  }
 ],
 "metadata": {
  "kernelspec": {
   "display_name": "DL",
   "language": "python",
   "name": "python3"
  },
  "language_info": {
   "codemirror_mode": {
    "name": "ipython",
    "version": 3
   },
   "file_extension": ".py",
   "mimetype": "text/x-python",
   "name": "python",
   "nbconvert_exporter": "python",
   "pygments_lexer": "ipython3",
   "version": "3.10.16"
  }
 },
 "nbformat": 4,
 "nbformat_minor": 4
}
